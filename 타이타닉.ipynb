{
  "nbformat": 4,
  "nbformat_minor": 0,
  "metadata": {
    "colab": {
      "name": "타이타닉 조져버리기",
      "provenance": [],
      "collapsed_sections": [],
      "toc_visible": true,
      "include_colab_link": true
    },
    "kernelspec": {
      "name": "python3",
      "display_name": "Python 3"
    }
  },
  "cells": [
    {
      "cell_type": "markdown",
      "metadata": {
        "id": "view-in-github",
        "colab_type": "text"
      },
      "source": [
        "<a href=\"https://colab.research.google.com/github/park-cheonho/titanic/blob/master/%ED%83%80%EC%9D%B4%ED%83%80%EB%8B%89.ipynb\" target=\"_parent\"><img src=\"https://colab.research.google.com/assets/colab-badge.svg\" alt=\"Open In Colab\"/></a>"
      ]
    },
    {
      "cell_type": "markdown",
      "metadata": {
        "id": "67fCMGKJJMs-",
        "colab_type": "text"
      },
      "source": [
        "#EDA 10개의 데이터로 1개 Survived인지 아닌지 파악하는 것이 목표!! "
      ]
    },
    {
      "cell_type": "code",
      "metadata": {
        "id": "b8P3dw5FLX0V",
        "colab_type": "code",
        "colab": {}
      },
      "source": [
        "import numpy as np\n",
        "import pandas as pd\n",
        "import matplotlib.pyplot as plt\n",
        "import seaborn as sns"
      ],
      "execution_count": 0,
      "outputs": []
    },
    {
      "cell_type": "code",
      "metadata": {
        "id": "UJH3byD_MxAM",
        "colab_type": "code",
        "colab": {}
      },
      "source": [
        "from google.colab import files"
      ],
      "execution_count": 0,
      "outputs": []
    },
    {
      "cell_type": "code",
      "metadata": {
        "id": "ec_kgWMwNCGE",
        "colab_type": "code",
        "outputId": "af5219a9-20bd-4923-bc8c-db282a968a39",
        "colab": {
          "resources": {
            "http://localhost:8080/nbextensions/google.colab/files.js": {
              "data": "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",
              "ok": true,
              "headers": [
                [
                  "content-type",
                  "application/javascript"
                ]
              ],
              "status": 200,
              "status_text": ""
            }
          },
          "base_uri": "https://localhost:8080/",
          "height": 222
        }
      },
      "source": [
        "files.upload()"
      ],
      "execution_count": 5,
      "outputs": [
        {
          "output_type": "display_data",
          "data": {
            "text/html": [
              "\n",
              "     <input type=\"file\" id=\"files-63946233-7a48-4751-bec3-b7d9976e97bb\" name=\"files[]\" multiple disabled />\n",
              "     <output id=\"result-63946233-7a48-4751-bec3-b7d9976e97bb\">\n",
              "      Upload widget is only available when the cell has been executed in the\n",
              "      current browser session. Please rerun this cell to enable.\n",
              "      </output>\n",
              "      <script src=\"/nbextensions/google.colab/files.js\"></script> "
            ],
            "text/plain": [
              "<IPython.core.display.HTML object>"
            ]
          },
          "metadata": {
            "tags": []
          }
        },
        {
          "output_type": "stream",
          "text": [
            "Saving gender_submission.csv to gender_submission.csv\n",
            "Saving test.csv to test.csv\n",
            "Saving train.csv to train.csv\n"
          ],
          "name": "stdout"
        },
        {
          "output_type": "execute_result",
          "data": {
            "text/plain": [
              "{'gender_submission.csv': b'PassengerId,Survived\\r\\n892,0\\r\\n893,1\\r\\n894,0\\r\\n895,0\\r\\n896,1\\r\\n897,0\\r\\n898,1\\r\\n899,0\\r\\n900,1\\r\\n901,0\\r\\n902,0\\r\\n903,0\\r\\n904,1\\r\\n905,0\\r\\n906,1\\r\\n907,1\\r\\n908,0\\r\\n909,0\\r\\n910,1\\r\\n911,1\\r\\n912,0\\r\\n913,0\\r\\n914,1\\r\\n915,0\\r\\n916,1\\r\\n917,0\\r\\n918,1\\r\\n919,0\\r\\n920,0\\r\\n921,0\\r\\n922,0\\r\\n923,0\\r\\n924,1\\r\\n925,1\\r\\n926,0\\r\\n927,0\\r\\n928,1\\r\\n929,1\\r\\n930,0\\r\\n931,0\\r\\n932,0\\r\\n933,0\\r\\n934,0\\r\\n935,1\\r\\n936,1\\r\\n937,0\\r\\n938,0\\r\\n939,0\\r\\n940,1\\r\\n941,1\\r\\n942,0\\r\\n943,0\\r\\n944,1\\r\\n945,1\\r\\n946,0\\r\\n947,0\\r\\n948,0\\r\\n949,0\\r\\n950,0\\r\\n951,1\\r\\n952,0\\r\\n953,0\\r\\n954,0\\r\\n955,1\\r\\n956,0\\r\\n957,1\\r\\n958,1\\r\\n959,0\\r\\n960,0\\r\\n961,1\\r\\n962,1\\r\\n963,0\\r\\n964,1\\r\\n965,0\\r\\n966,1\\r\\n967,0\\r\\n968,0\\r\\n969,1\\r\\n970,0\\r\\n971,1\\r\\n972,0\\r\\n973,0\\r\\n974,0\\r\\n975,0\\r\\n976,0\\r\\n977,0\\r\\n978,1\\r\\n979,1\\r\\n980,1\\r\\n981,0\\r\\n982,1\\r\\n983,0\\r\\n984,1\\r\\n985,0\\r\\n986,0\\r\\n987,0\\r\\n988,1\\r\\n989,0\\r\\n990,1\\r\\n991,0\\r\\n992,1\\r\\n993,0\\r\\n994,0\\r\\n995,0\\r\\n996,1\\r\\n997,0\\r\\n998,0\\r\\n999,0\\r\\n1000,0\\r\\n1001,0\\r\\n1002,0\\r\\n1003,1\\r\\n1004,1\\r\\n1005,1\\r\\n1006,1\\r\\n1007,0\\r\\n1008,0\\r\\n1009,1\\r\\n1010,0\\r\\n1011,1\\r\\n1012,1\\r\\n1013,0\\r\\n1014,1\\r\\n1015,0\\r\\n1016,0\\r\\n1017,1\\r\\n1018,0\\r\\n1019,1\\r\\n1020,0\\r\\n1021,0\\r\\n1022,0\\r\\n1023,0\\r\\n1024,1\\r\\n1025,0\\r\\n1026,0\\r\\n1027,0\\r\\n1028,0\\r\\n1029,0\\r\\n1030,1\\r\\n1031,0\\r\\n1032,1\\r\\n1033,1\\r\\n1034,0\\r\\n1035,0\\r\\n1036,0\\r\\n1037,0\\r\\n1038,0\\r\\n1039,0\\r\\n1040,0\\r\\n1041,0\\r\\n1042,1\\r\\n1043,0\\r\\n1044,0\\r\\n1045,1\\r\\n1046,0\\r\\n1047,0\\r\\n1048,1\\r\\n1049,1\\r\\n1050,0\\r\\n1051,1\\r\\n1052,1\\r\\n1053,0\\r\\n1054,1\\r\\n1055,0\\r\\n1056,0\\r\\n1057,1\\r\\n1058,0\\r\\n1059,0\\r\\n1060,1\\r\\n1061,1\\r\\n1062,0\\r\\n1063,0\\r\\n1064,0\\r\\n1065,0\\r\\n1066,0\\r\\n1067,1\\r\\n1068,1\\r\\n1069,0\\r\\n1070,1\\r\\n1071,1\\r\\n1072,0\\r\\n1073,0\\r\\n1074,1\\r\\n1075,0\\r\\n1076,1\\r\\n1077,0\\r\\n1078,1\\r\\n1079,0\\r\\n1080,1\\r\\n1081,0\\r\\n1082,0\\r\\n1083,0\\r\\n1084,0\\r\\n1085,0\\r\\n1086,0\\r\\n1087,0\\r\\n1088,0\\r\\n1089,1\\r\\n1090,0\\r\\n1091,1\\r\\n1092,1\\r\\n1093,0\\r\\n1094,0\\r\\n1095,1\\r\\n1096,0\\r\\n1097,0\\r\\n1098,1\\r\\n1099,0\\r\\n1100,1\\r\\n1101,0\\r\\n1102,0\\r\\n1103,0\\r\\n1104,0\\r\\n1105,1\\r\\n1106,1\\r\\n1107,0\\r\\n1108,1\\r\\n1109,0\\r\\n1110,1\\r\\n1111,0\\r\\n1112,1\\r\\n1113,0\\r\\n1114,1\\r\\n1115,0\\r\\n1116,1\\r\\n1117,1\\r\\n1118,0\\r\\n1119,1\\r\\n1120,0\\r\\n1121,0\\r\\n1122,0\\r\\n1123,1\\r\\n1124,0\\r\\n1125,0\\r\\n1126,0\\r\\n1127,0\\r\\n1128,0\\r\\n1129,0\\r\\n1130,1\\r\\n1131,1\\r\\n1132,1\\r\\n1133,1\\r\\n1134,0\\r\\n1135,0\\r\\n1136,0\\r\\n1137,0\\r\\n1138,1\\r\\n1139,0\\r\\n1140,1\\r\\n1141,1\\r\\n1142,1\\r\\n1143,0\\r\\n1144,0\\r\\n1145,0\\r\\n1146,0\\r\\n1147,0\\r\\n1148,0\\r\\n1149,0\\r\\n1150,1\\r\\n1151,0\\r\\n1152,0\\r\\n1153,0\\r\\n1154,1\\r\\n1155,1\\r\\n1156,0\\r\\n1157,0\\r\\n1158,0\\r\\n1159,0\\r\\n1160,1\\r\\n1161,0\\r\\n1162,0\\r\\n1163,0\\r\\n1164,1\\r\\n1165,1\\r\\n1166,0\\r\\n1167,1\\r\\n1168,0\\r\\n1169,0\\r\\n1170,0\\r\\n1171,0\\r\\n1172,1\\r\\n1173,0\\r\\n1174,1\\r\\n1175,1\\r\\n1176,1\\r\\n1177,0\\r\\n1178,0\\r\\n1179,0\\r\\n1180,0\\r\\n1181,0\\r\\n1182,0\\r\\n1183,1\\r\\n1184,0\\r\\n1185,0\\r\\n1186,0\\r\\n1187,0\\r\\n1188,1\\r\\n1189,0\\r\\n1190,0\\r\\n1191,0\\r\\n1192,0\\r\\n1193,0\\r\\n1194,0\\r\\n1195,0\\r\\n1196,1\\r\\n1197,1\\r\\n1198,0\\r\\n1199,0\\r\\n1200,0\\r\\n1201,1\\r\\n1202,0\\r\\n1203,0\\r\\n1204,0\\r\\n1205,1\\r\\n1206,1\\r\\n1207,1\\r\\n1208,0\\r\\n1209,0\\r\\n1210,0\\r\\n1211,0\\r\\n1212,0\\r\\n1213,0\\r\\n1214,0\\r\\n1215,0\\r\\n1216,1\\r\\n1217,0\\r\\n1218,1\\r\\n1219,0\\r\\n1220,0\\r\\n1221,0\\r\\n1222,1\\r\\n1223,0\\r\\n1224,0\\r\\n1225,1\\r\\n1226,0\\r\\n1227,0\\r\\n1228,0\\r\\n1229,0\\r\\n1230,0\\r\\n1231,0\\r\\n1232,0\\r\\n1233,0\\r\\n1234,0\\r\\n1235,1\\r\\n1236,0\\r\\n1237,1\\r\\n1238,0\\r\\n1239,1\\r\\n1240,0\\r\\n1241,1\\r\\n1242,1\\r\\n1243,0\\r\\n1244,0\\r\\n1245,0\\r\\n1246,1\\r\\n1247,0\\r\\n1248,1\\r\\n1249,0\\r\\n1250,0\\r\\n1251,1\\r\\n1252,0\\r\\n1253,1\\r\\n1254,1\\r\\n1255,0\\r\\n1256,1\\r\\n1257,1\\r\\n1258,0\\r\\n1259,1\\r\\n1260,1\\r\\n1261,0\\r\\n1262,0\\r\\n1263,1\\r\\n1264,0\\r\\n1265,0\\r\\n1266,1\\r\\n1267,1\\r\\n1268,1\\r\\n1269,0\\r\\n1270,0\\r\\n1271,0\\r\\n1272,0\\r\\n1273,0\\r\\n1274,1\\r\\n1275,1\\r\\n1276,0\\r\\n1277,1\\r\\n1278,0\\r\\n1279,0\\r\\n1280,0\\r\\n1281,0\\r\\n1282,0\\r\\n1283,1\\r\\n1284,0\\r\\n1285,0\\r\\n1286,0\\r\\n1287,1\\r\\n1288,0\\r\\n1289,1\\r\\n1290,0\\r\\n1291,0\\r\\n1292,1\\r\\n1293,0\\r\\n1294,1\\r\\n1295,0\\r\\n1296,0\\r\\n1297,0\\r\\n1298,0\\r\\n1299,0\\r\\n1300,1\\r\\n1301,1\\r\\n1302,1\\r\\n1303,1\\r\\n1304,1\\r\\n1305,0\\r\\n1306,1\\r\\n1307,0\\r\\n1308,0\\r\\n1309,0\\r\\n',\n",
              " 'test.csv': b'PassengerId,Pclass,Name,Sex,Age,SibSp,Parch,Ticket,Fare,Cabin,Embarked\\r\\n892,3,\"Kelly, Mr. James\",male,34.5,0,0,330911,7.8292,,Q\\r\\n893,3,\"Wilkes, Mrs. James (Ellen Needs)\",female,47,1,0,363272,7,,S\\r\\n894,2,\"Myles, Mr. Thomas Francis\",male,62,0,0,240276,9.6875,,Q\\r\\n895,3,\"Wirz, Mr. Albert\",male,27,0,0,315154,8.6625,,S\\r\\n896,3,\"Hirvonen, Mrs. Alexander (Helga E Lindqvist)\",female,22,1,1,3101298,12.2875,,S\\r\\n897,3,\"Svensson, Mr. Johan Cervin\",male,14,0,0,7538,9.225,,S\\r\\n898,3,\"Connolly, Miss. Kate\",female,30,0,0,330972,7.6292,,Q\\r\\n899,2,\"Caldwell, Mr. Albert Francis\",male,26,1,1,248738,29,,S\\r\\n900,3,\"Abrahim, Mrs. Joseph (Sophie Halaut Easu)\",female,18,0,0,2657,7.2292,,C\\r\\n901,3,\"Davies, Mr. John Samuel\",male,21,2,0,A/4 48871,24.15,,S\\r\\n902,3,\"Ilieff, Mr. Ylio\",male,,0,0,349220,7.8958,,S\\r\\n903,1,\"Jones, Mr. Charles Cresson\",male,46,0,0,694,26,,S\\r\\n904,1,\"Snyder, Mrs. John Pillsbury (Nelle Stevenson)\",female,23,1,0,21228,82.2667,B45,S\\r\\n905,2,\"Howard, Mr. Benjamin\",male,63,1,0,24065,26,,S\\r\\n906,1,\"Chaffee, Mrs. Herbert Fuller (Carrie Constance Toogood)\",female,47,1,0,W.E.P. 5734,61.175,E31,S\\r\\n907,2,\"del Carlo, Mrs. Sebastiano (Argenia Genovesi)\",female,24,1,0,SC/PARIS 2167,27.7208,,C\\r\\n908,2,\"Keane, Mr. Daniel\",male,35,0,0,233734,12.35,,Q\\r\\n909,3,\"Assaf, Mr. Gerios\",male,21,0,0,2692,7.225,,C\\r\\n910,3,\"Ilmakangas, Miss. Ida Livija\",female,27,1,0,STON/O2. 3101270,7.925,,S\\r\\n911,3,\"Assaf Khalil, Mrs. Mariana (Miriam\"\")\"\"\",female,45,0,0,2696,7.225,,C\\r\\n912,1,\"Rothschild, Mr. Martin\",male,55,1,0,PC 17603,59.4,,C\\r\\n913,3,\"Olsen, Master. Artur Karl\",male,9,0,1,C 17368,3.1708,,S\\r\\n914,1,\"Flegenheim, Mrs. Alfred (Antoinette)\",female,,0,0,PC 17598,31.6833,,S\\r\\n915,1,\"Williams, Mr. Richard Norris II\",male,21,0,1,PC 17597,61.3792,,C\\r\\n916,1,\"Ryerson, Mrs. Arthur Larned (Emily Maria Borie)\",female,48,1,3,PC 17608,262.375,B57 B59 B63 B66,C\\r\\n917,3,\"Robins, Mr. Alexander A\",male,50,1,0,A/5. 3337,14.5,,S\\r\\n918,1,\"Ostby, Miss. Helene Ragnhild\",female,22,0,1,113509,61.9792,B36,C\\r\\n919,3,\"Daher, Mr. Shedid\",male,22.5,0,0,2698,7.225,,C\\r\\n920,1,\"Brady, Mr. John Bertram\",male,41,0,0,113054,30.5,A21,S\\r\\n921,3,\"Samaan, Mr. Elias\",male,,2,0,2662,21.6792,,C\\r\\n922,2,\"Louch, Mr. Charles Alexander\",male,50,1,0,SC/AH 3085,26,,S\\r\\n923,2,\"Jefferys, Mr. Clifford Thomas\",male,24,2,0,C.A. 31029,31.5,,S\\r\\n924,3,\"Dean, Mrs. Bertram (Eva Georgetta Light)\",female,33,1,2,C.A. 2315,20.575,,S\\r\\n925,3,\"Johnston, Mrs. Andrew G (Elizabeth Lily\"\" Watson)\"\"\",female,,1,2,W./C. 6607,23.45,,S\\r\\n926,1,\"Mock, Mr. Philipp Edmund\",male,30,1,0,13236,57.75,C78,C\\r\\n927,3,\"Katavelas, Mr. Vassilios (Catavelas Vassilios\"\")\"\"\",male,18.5,0,0,2682,7.2292,,C\\r\\n928,3,\"Roth, Miss. Sarah A\",female,,0,0,342712,8.05,,S\\r\\n929,3,\"Cacic, Miss. Manda\",female,21,0,0,315087,8.6625,,S\\r\\n930,3,\"Sap, Mr. Julius\",male,25,0,0,345768,9.5,,S\\r\\n931,3,\"Hee, Mr. Ling\",male,,0,0,1601,56.4958,,S\\r\\n932,3,\"Karun, Mr. Franz\",male,39,0,1,349256,13.4167,,C\\r\\n933,1,\"Franklin, Mr. Thomas Parham\",male,,0,0,113778,26.55,D34,S\\r\\n934,3,\"Goldsmith, Mr. Nathan\",male,41,0,0,SOTON/O.Q. 3101263,7.85,,S\\r\\n935,2,\"Corbett, Mrs. Walter H (Irene Colvin)\",female,30,0,0,237249,13,,S\\r\\n936,1,\"Kimball, Mrs. Edwin Nelson Jr (Gertrude Parsons)\",female,45,1,0,11753,52.5542,D19,S\\r\\n937,3,\"Peltomaki, Mr. Nikolai Johannes\",male,25,0,0,STON/O 2. 3101291,7.925,,S\\r\\n938,1,\"Chevre, Mr. Paul Romaine\",male,45,0,0,PC 17594,29.7,A9,C\\r\\n939,3,\"Shaughnessy, Mr. Patrick\",male,,0,0,370374,7.75,,Q\\r\\n940,1,\"Bucknell, Mrs. William Robert (Emma Eliza Ward)\",female,60,0,0,11813,76.2917,D15,C\\r\\n941,3,\"Coutts, Mrs. William (Winnie Minnie\"\" Treanor)\"\"\",female,36,0,2,C.A. 37671,15.9,,S\\r\\n942,1,\"Smith, Mr. Lucien Philip\",male,24,1,0,13695,60,C31,S\\r\\n943,2,\"Pulbaum, Mr. Franz\",male,27,0,0,SC/PARIS 2168,15.0333,,C\\r\\n944,2,\"Hocking, Miss. Ellen Nellie\"\"\"\"\",female,20,2,1,29105,23,,S\\r\\n945,1,\"Fortune, Miss. Ethel Flora\",female,28,3,2,19950,263,C23 C25 C27,S\\r\\n946,2,\"Mangiavacchi, Mr. Serafino Emilio\",male,,0,0,SC/A.3 2861,15.5792,,C\\r\\n947,3,\"Rice, Master. Albert\",male,10,4,1,382652,29.125,,Q\\r\\n948,3,\"Cor, Mr. Bartol\",male,35,0,0,349230,7.8958,,S\\r\\n949,3,\"Abelseth, Mr. Olaus Jorgensen\",male,25,0,0,348122,7.65,F G63,S\\r\\n950,3,\"Davison, Mr. Thomas Henry\",male,,1,0,386525,16.1,,S\\r\\n951,1,\"Chaudanson, Miss. Victorine\",female,36,0,0,PC 17608,262.375,B61,C\\r\\n952,3,\"Dika, Mr. Mirko\",male,17,0,0,349232,7.8958,,S\\r\\n953,2,\"McCrae, Mr. Arthur Gordon\",male,32,0,0,237216,13.5,,S\\r\\n954,3,\"Bjorklund, Mr. Ernst Herbert\",male,18,0,0,347090,7.75,,S\\r\\n955,3,\"Bradley, Miss. Bridget Delia\",female,22,0,0,334914,7.725,,Q\\r\\n956,1,\"Ryerson, Master. John Borie\",male,13,2,2,PC 17608,262.375,B57 B59 B63 B66,C\\r\\n957,2,\"Corey, Mrs. Percy C (Mary Phyllis Elizabeth Miller)\",female,,0,0,F.C.C. 13534,21,,S\\r\\n958,3,\"Burns, Miss. Mary Delia\",female,18,0,0,330963,7.8792,,Q\\r\\n959,1,\"Moore, Mr. Clarence Bloomfield\",male,47,0,0,113796,42.4,,S\\r\\n960,1,\"Tucker, Mr. Gilbert Milligan Jr\",male,31,0,0,2543,28.5375,C53,C\\r\\n961,1,\"Fortune, Mrs. Mark (Mary McDougald)\",female,60,1,4,19950,263,C23 C25 C27,S\\r\\n962,3,\"Mulvihill, Miss. Bertha E\",female,24,0,0,382653,7.75,,Q\\r\\n963,3,\"Minkoff, Mr. Lazar\",male,21,0,0,349211,7.8958,,S\\r\\n964,3,\"Nieminen, Miss. Manta Josefina\",female,29,0,0,3101297,7.925,,S\\r\\n965,1,\"Ovies y Rodriguez, Mr. Servando\",male,28.5,0,0,PC 17562,27.7208,D43,C\\r\\n966,1,\"Geiger, Miss. Amalie\",female,35,0,0,113503,211.5,C130,C\\r\\n967,1,\"Keeping, Mr. Edwin\",male,32.5,0,0,113503,211.5,C132,C\\r\\n968,3,\"Miles, Mr. Frank\",male,,0,0,359306,8.05,,S\\r\\n969,1,\"Cornell, Mrs. Robert Clifford (Malvina Helen Lamson)\",female,55,2,0,11770,25.7,C101,S\\r\\n970,2,\"Aldworth, Mr. Charles Augustus\",male,30,0,0,248744,13,,S\\r\\n971,3,\"Doyle, Miss. Elizabeth\",female,24,0,0,368702,7.75,,Q\\r\\n972,3,\"Boulos, Master. Akar\",male,6,1,1,2678,15.2458,,C\\r\\n973,1,\"Straus, Mr. Isidor\",male,67,1,0,PC 17483,221.7792,C55 C57,S\\r\\n974,1,\"Case, Mr. Howard Brown\",male,49,0,0,19924,26,,S\\r\\n975,3,\"Demetri, Mr. Marinko\",male,,0,0,349238,7.8958,,S\\r\\n976,2,\"Lamb, Mr. John Joseph\",male,,0,0,240261,10.7083,,Q\\r\\n977,3,\"Khalil, Mr. Betros\",male,,1,0,2660,14.4542,,C\\r\\n978,3,\"Barry, Miss. Julia\",female,27,0,0,330844,7.8792,,Q\\r\\n979,3,\"Badman, Miss. Emily Louisa\",female,18,0,0,A/4 31416,8.05,,S\\r\\n980,3,\"O\\'Donoghue, Ms. Bridget\",female,,0,0,364856,7.75,,Q\\r\\n981,2,\"Wells, Master. Ralph Lester\",male,2,1,1,29103,23,,S\\r\\n982,3,\"Dyker, Mrs. Adolf Fredrik (Anna Elisabeth Judith Andersson)\",female,22,1,0,347072,13.9,,S\\r\\n983,3,\"Pedersen, Mr. Olaf\",male,,0,0,345498,7.775,,S\\r\\n984,1,\"Davidson, Mrs. Thornton (Orian Hays)\",female,27,1,2,F.C. 12750,52,B71,S\\r\\n985,3,\"Guest, Mr. Robert\",male,,0,0,376563,8.05,,S\\r\\n986,1,\"Birnbaum, Mr. Jakob\",male,25,0,0,13905,26,,C\\r\\n987,3,\"Tenglin, Mr. Gunnar Isidor\",male,25,0,0,350033,7.7958,,S\\r\\n988,1,\"Cavendish, Mrs. Tyrell William (Julia Florence Siegel)\",female,76,1,0,19877,78.85,C46,S\\r\\n989,3,\"Makinen, Mr. Kalle Edvard\",male,29,0,0,STON/O 2. 3101268,7.925,,S\\r\\n990,3,\"Braf, Miss. Elin Ester Maria\",female,20,0,0,347471,7.8542,,S\\r\\n991,3,\"Nancarrow, Mr. William Henry\",male,33,0,0,A./5. 3338,8.05,,S\\r\\n992,1,\"Stengel, Mrs. Charles Emil Henry (Annie May Morris)\",female,43,1,0,11778,55.4417,C116,C\\r\\n993,2,\"Weisz, Mr. Leopold\",male,27,1,0,228414,26,,S\\r\\n994,3,\"Foley, Mr. William\",male,,0,0,365235,7.75,,Q\\r\\n995,3,\"Johansson Palmquist, Mr. Oskar Leander\",male,26,0,0,347070,7.775,,S\\r\\n996,3,\"Thomas, Mrs. Alexander (Thamine Thelma\"\")\"\"\",female,16,1,1,2625,8.5167,,C\\r\\n997,3,\"Holthen, Mr. Johan Martin\",male,28,0,0,C 4001,22.525,,S\\r\\n998,3,\"Buckley, Mr. Daniel\",male,21,0,0,330920,7.8208,,Q\\r\\n999,3,\"Ryan, Mr. Edward\",male,,0,0,383162,7.75,,Q\\r\\n1000,3,\"Willer, Mr. Aaron (Abi Weller\"\")\"\"\",male,,0,0,3410,8.7125,,S\\r\\n1001,2,\"Swane, Mr. George\",male,18.5,0,0,248734,13,F,S\\r\\n1002,2,\"Stanton, Mr. Samuel Ward\",male,41,0,0,237734,15.0458,,C\\r\\n1003,3,\"Shine, Miss. Ellen Natalia\",female,,0,0,330968,7.7792,,Q\\r\\n1004,1,\"Evans, Miss. Edith Corse\",female,36,0,0,PC 17531,31.6792,A29,C\\r\\n1005,3,\"Buckley, Miss. Katherine\",female,18.5,0,0,329944,7.2833,,Q\\r\\n1006,1,\"Straus, Mrs. Isidor (Rosalie Ida Blun)\",female,63,1,0,PC 17483,221.7792,C55 C57,S\\r\\n1007,3,\"Chronopoulos, Mr. Demetrios\",male,18,1,0,2680,14.4542,,C\\r\\n1008,3,\"Thomas, Mr. John\",male,,0,0,2681,6.4375,,C\\r\\n1009,3,\"Sandstrom, Miss. Beatrice Irene\",female,1,1,1,PP 9549,16.7,G6,S\\r\\n1010,1,\"Beattie, Mr. Thomson\",male,36,0,0,13050,75.2417,C6,C\\r\\n1011,2,\"Chapman, Mrs. John Henry (Sara Elizabeth Lawry)\",female,29,1,0,SC/AH 29037,26,,S\\r\\n1012,2,\"Watt, Miss. Bertha J\",female,12,0,0,C.A. 33595,15.75,,S\\r\\n1013,3,\"Kiernan, Mr. John\",male,,1,0,367227,7.75,,Q\\r\\n1014,1,\"Schabert, Mrs. Paul (Emma Mock)\",female,35,1,0,13236,57.75,C28,C\\r\\n1015,3,\"Carver, Mr. Alfred John\",male,28,0,0,392095,7.25,,S\\r\\n1016,3,\"Kennedy, Mr. John\",male,,0,0,368783,7.75,,Q\\r\\n1017,3,\"Cribb, Miss. Laura Alice\",female,17,0,1,371362,16.1,,S\\r\\n1018,3,\"Brobeck, Mr. Karl Rudolf\",male,22,0,0,350045,7.7958,,S\\r\\n1019,3,\"McCoy, Miss. Alicia\",female,,2,0,367226,23.25,,Q\\r\\n1020,2,\"Bowenur, Mr. Solomon\",male,42,0,0,211535,13,,S\\r\\n1021,3,\"Petersen, Mr. Marius\",male,24,0,0,342441,8.05,,S\\r\\n1022,3,\"Spinner, Mr. Henry John\",male,32,0,0,STON/OQ. 369943,8.05,,S\\r\\n1023,1,\"Gracie, Col. Archibald IV\",male,53,0,0,113780,28.5,C51,C\\r\\n1024,3,\"Lefebre, Mrs. Frank (Frances)\",female,,0,4,4133,25.4667,,S\\r\\n1025,3,\"Thomas, Mr. Charles P\",male,,1,0,2621,6.4375,,C\\r\\n1026,3,\"Dintcheff, Mr. Valtcho\",male,43,0,0,349226,7.8958,,S\\r\\n1027,3,\"Carlsson, Mr. Carl Robert\",male,24,0,0,350409,7.8542,,S\\r\\n1028,3,\"Zakarian, Mr. Mapriededer\",male,26.5,0,0,2656,7.225,,C\\r\\n1029,2,\"Schmidt, Mr. August\",male,26,0,0,248659,13,,S\\r\\n1030,3,\"Drapkin, Miss. Jennie\",female,23,0,0,SOTON/OQ 392083,8.05,,S\\r\\n1031,3,\"Goodwin, Mr. Charles Frederick\",male,40,1,6,CA 2144,46.9,,S\\r\\n1032,3,\"Goodwin, Miss. Jessie Allis\",female,10,5,2,CA 2144,46.9,,S\\r\\n1033,1,\"Daniels, Miss. Sarah\",female,33,0,0,113781,151.55,,S\\r\\n1034,1,\"Ryerson, Mr. Arthur Larned\",male,61,1,3,PC 17608,262.375,B57 B59 B63 B66,C\\r\\n1035,2,\"Beauchamp, Mr. Henry James\",male,28,0,0,244358,26,,S\\r\\n1036,1,\"Lindeberg-Lind, Mr. Erik Gustaf (Mr Edward Lingrey\"\")\"\"\",male,42,0,0,17475,26.55,,S\\r\\n1037,3,\"Vander Planke, Mr. Julius\",male,31,3,0,345763,18,,S\\r\\n1038,1,\"Hilliard, Mr. Herbert Henry\",male,,0,0,17463,51.8625,E46,S\\r\\n1039,3,\"Davies, Mr. Evan\",male,22,0,0,SC/A4 23568,8.05,,S\\r\\n1040,1,\"Crafton, Mr. John Bertram\",male,,0,0,113791,26.55,,S\\r\\n1041,2,\"Lahtinen, Rev. William\",male,30,1,1,250651,26,,S\\r\\n1042,1,\"Earnshaw, Mrs. Boulton (Olive Potter)\",female,23,0,1,11767,83.1583,C54,C\\r\\n1043,3,\"Matinoff, Mr. Nicola\",male,,0,0,349255,7.8958,,C\\r\\n1044,3,\"Storey, Mr. Thomas\",male,60.5,0,0,3701,,,S\\r\\n1045,3,\"Klasen, Mrs. (Hulda Kristina Eugenia Lofqvist)\",female,36,0,2,350405,12.1833,,S\\r\\n1046,3,\"Asplund, Master. Filip Oscar\",male,13,4,2,347077,31.3875,,S\\r\\n1047,3,\"Duquemin, Mr. Joseph\",male,24,0,0,S.O./P.P. 752,7.55,,S\\r\\n1048,1,\"Bird, Miss. Ellen\",female,29,0,0,PC 17483,221.7792,C97,S\\r\\n1049,3,\"Lundin, Miss. Olga Elida\",female,23,0,0,347469,7.8542,,S\\r\\n1050,1,\"Borebank, Mr. John James\",male,42,0,0,110489,26.55,D22,S\\r\\n1051,3,\"Peacock, Mrs. Benjamin (Edith Nile)\",female,26,0,2,SOTON/O.Q. 3101315,13.775,,S\\r\\n1052,3,\"Smyth, Miss. Julia\",female,,0,0,335432,7.7333,,Q\\r\\n1053,3,\"Touma, Master. Georges Youssef\",male,7,1,1,2650,15.2458,,C\\r\\n1054,2,\"Wright, Miss. Marion\",female,26,0,0,220844,13.5,,S\\r\\n1055,3,\"Pearce, Mr. Ernest\",male,,0,0,343271,7,,S\\r\\n1056,2,\"Peruschitz, Rev. Joseph Maria\",male,41,0,0,237393,13,,S\\r\\n1057,3,\"Kink-Heilmann, Mrs. Anton (Luise Heilmann)\",female,26,1,1,315153,22.025,,S\\r\\n1058,1,\"Brandeis, Mr. Emil\",male,48,0,0,PC 17591,50.4958,B10,C\\r\\n1059,3,\"Ford, Mr. Edward Watson\",male,18,2,2,W./C. 6608,34.375,,S\\r\\n1060,1,\"Cassebeer, Mrs. Henry Arthur Jr (Eleanor Genevieve Fosdick)\",female,,0,0,17770,27.7208,,C\\r\\n1061,3,\"Hellstrom, Miss. Hilda Maria\",female,22,0,0,7548,8.9625,,S\\r\\n1062,3,\"Lithman, Mr. Simon\",male,,0,0,S.O./P.P. 251,7.55,,S\\r\\n1063,3,\"Zakarian, Mr. Ortin\",male,27,0,0,2670,7.225,,C\\r\\n1064,3,\"Dyker, Mr. Adolf Fredrik\",male,23,1,0,347072,13.9,,S\\r\\n1065,3,\"Torfa, Mr. Assad\",male,,0,0,2673,7.2292,,C\\r\\n1066,3,\"Asplund, Mr. Carl Oscar Vilhelm Gustafsson\",male,40,1,5,347077,31.3875,,S\\r\\n1067,2,\"Brown, Miss. Edith Eileen\",female,15,0,2,29750,39,,S\\r\\n1068,2,\"Sincock, Miss. Maude\",female,20,0,0,C.A. 33112,36.75,,S\\r\\n1069,1,\"Stengel, Mr. Charles Emil Henry\",male,54,1,0,11778,55.4417,C116,C\\r\\n1070,2,\"Becker, Mrs. Allen Oliver (Nellie E Baumgardner)\",female,36,0,3,230136,39,F4,S\\r\\n1071,1,\"Compton, Mrs. Alexander Taylor (Mary Eliza Ingersoll)\",female,64,0,2,PC 17756,83.1583,E45,C\\r\\n1072,2,\"McCrie, Mr. James Matthew\",male,30,0,0,233478,13,,S\\r\\n1073,1,\"Compton, Mr. Alexander Taylor Jr\",male,37,1,1,PC 17756,83.1583,E52,C\\r\\n1074,1,\"Marvin, Mrs. Daniel Warner (Mary Graham Carmichael Farquarson)\",female,18,1,0,113773,53.1,D30,S\\r\\n1075,3,\"Lane, Mr. Patrick\",male,,0,0,7935,7.75,,Q\\r\\n1076,1,\"Douglas, Mrs. Frederick Charles (Mary Helene Baxter)\",female,27,1,1,PC 17558,247.5208,B58 B60,C\\r\\n1077,2,\"Maybery, Mr. Frank Hubert\",male,40,0,0,239059,16,,S\\r\\n1078,2,\"Phillips, Miss. Alice Frances Louisa\",female,21,0,1,S.O./P.P. 2,21,,S\\r\\n1079,3,\"Davies, Mr. Joseph\",male,17,2,0,A/4 48873,8.05,,S\\r\\n1080,3,\"Sage, Miss. Ada\",female,,8,2,CA. 2343,69.55,,S\\r\\n1081,2,\"Veal, Mr. James\",male,40,0,0,28221,13,,S\\r\\n1082,2,\"Angle, Mr. William A\",male,34,1,0,226875,26,,S\\r\\n1083,1,\"Salomon, Mr. Abraham L\",male,,0,0,111163,26,,S\\r\\n1084,3,\"van Billiard, Master. Walter John\",male,11.5,1,1,A/5. 851,14.5,,S\\r\\n1085,2,\"Lingane, Mr. John\",male,61,0,0,235509,12.35,,Q\\r\\n1086,2,\"Drew, Master. Marshall Brines\",male,8,0,2,28220,32.5,,S\\r\\n1087,3,\"Karlsson, Mr. Julius Konrad Eugen\",male,33,0,0,347465,7.8542,,S\\r\\n1088,1,\"Spedden, Master. Robert Douglas\",male,6,0,2,16966,134.5,E34,C\\r\\n1089,3,\"Nilsson, Miss. Berta Olivia\",female,18,0,0,347066,7.775,,S\\r\\n1090,2,\"Baimbrigge, Mr. Charles Robert\",male,23,0,0,C.A. 31030,10.5,,S\\r\\n1091,3,\"Rasmussen, Mrs. (Lena Jacobsen Solvang)\",female,,0,0,65305,8.1125,,S\\r\\n1092,3,\"Murphy, Miss. Nora\",female,,0,0,36568,15.5,,Q\\r\\n1093,3,\"Danbom, Master. Gilbert Sigvard Emanuel\",male,0.33,0,2,347080,14.4,,S\\r\\n1094,1,\"Astor, Col. John Jacob\",male,47,1,0,PC 17757,227.525,C62 C64,C\\r\\n1095,2,\"Quick, Miss. Winifred Vera\",female,8,1,1,26360,26,,S\\r\\n1096,2,\"Andrew, Mr. Frank Thomas\",male,25,0,0,C.A. 34050,10.5,,S\\r\\n1097,1,\"Omont, Mr. Alfred Fernand\",male,,0,0,F.C. 12998,25.7417,,C\\r\\n1098,3,\"McGowan, Miss. Katherine\",female,35,0,0,9232,7.75,,Q\\r\\n1099,2,\"Collett, Mr. Sidney C Stuart\",male,24,0,0,28034,10.5,,S\\r\\n1100,1,\"Rosenbaum, Miss. Edith Louise\",female,33,0,0,PC 17613,27.7208,A11,C\\r\\n1101,3,\"Delalic, Mr. Redjo\",male,25,0,0,349250,7.8958,,S\\r\\n1102,3,\"Andersen, Mr. Albert Karvin\",male,32,0,0,C 4001,22.525,,S\\r\\n1103,3,\"Finoli, Mr. Luigi\",male,,0,0,SOTON/O.Q. 3101308,7.05,,S\\r\\n1104,2,\"Deacon, Mr. Percy William\",male,17,0,0,S.O.C. 14879,73.5,,S\\r\\n1105,2,\"Howard, Mrs. Benjamin (Ellen Truelove Arman)\",female,60,1,0,24065,26,,S\\r\\n1106,3,\"Andersson, Miss. Ida Augusta Margareta\",female,38,4,2,347091,7.775,,S\\r\\n1107,1,\"Head, Mr. Christopher\",male,42,0,0,113038,42.5,B11,S\\r\\n1108,3,\"Mahon, Miss. Bridget Delia\",female,,0,0,330924,7.8792,,Q\\r\\n1109,1,\"Wick, Mr. George Dennick\",male,57,1,1,36928,164.8667,,S\\r\\n1110,1,\"Widener, Mrs. George Dunton (Eleanor Elkins)\",female,50,1,1,113503,211.5,C80,C\\r\\n1111,3,\"Thomson, Mr. Alexander Morrison\",male,,0,0,32302,8.05,,S\\r\\n1112,2,\"Duran y More, Miss. Florentina\",female,30,1,0,SC/PARIS 2148,13.8583,,C\\r\\n1113,3,\"Reynolds, Mr. Harold J\",male,21,0,0,342684,8.05,,S\\r\\n1114,2,\"Cook, Mrs. (Selena Rogers)\",female,22,0,0,W./C. 14266,10.5,F33,S\\r\\n1115,3,\"Karlsson, Mr. Einar Gervasius\",male,21,0,0,350053,7.7958,,S\\r\\n1116,1,\"Candee, Mrs. Edward (Helen Churchill Hungerford)\",female,53,0,0,PC 17606,27.4458,,C\\r\\n1117,3,\"Moubarek, Mrs. George (Omine Amenia\"\" Alexander)\"\"\",female,,0,2,2661,15.2458,,C\\r\\n1118,3,\"Asplund, Mr. Johan Charles\",male,23,0,0,350054,7.7958,,S\\r\\n1119,3,\"McNeill, Miss. Bridget\",female,,0,0,370368,7.75,,Q\\r\\n1120,3,\"Everett, Mr. Thomas James\",male,40.5,0,0,C.A. 6212,15.1,,S\\r\\n1121,2,\"Hocking, Mr. Samuel James Metcalfe\",male,36,0,0,242963,13,,S\\r\\n1122,2,\"Sweet, Mr. George Frederick\",male,14,0,0,220845,65,,S\\r\\n1123,1,\"Willard, Miss. Constance\",female,21,0,0,113795,26.55,,S\\r\\n1124,3,\"Wiklund, Mr. Karl Johan\",male,21,1,0,3101266,6.4958,,S\\r\\n1125,3,\"Linehan, Mr. Michael\",male,,0,0,330971,7.8792,,Q\\r\\n1126,1,\"Cumings, Mr. John Bradley\",male,39,1,0,PC 17599,71.2833,C85,C\\r\\n1127,3,\"Vendel, Mr. Olof Edvin\",male,20,0,0,350416,7.8542,,S\\r\\n1128,1,\"Warren, Mr. Frank Manley\",male,64,1,0,110813,75.25,D37,C\\r\\n1129,3,\"Baccos, Mr. Raffull\",male,20,0,0,2679,7.225,,C\\r\\n1130,2,\"Hiltunen, Miss. Marta\",female,18,1,1,250650,13,,S\\r\\n1131,1,\"Douglas, Mrs. Walter Donald (Mahala Dutton)\",female,48,1,0,PC 17761,106.425,C86,C\\r\\n1132,1,\"Lindstrom, Mrs. Carl Johan (Sigrid Posse)\",female,55,0,0,112377,27.7208,,C\\r\\n1133,2,\"Christy, Mrs. (Alice Frances)\",female,45,0,2,237789,30,,S\\r\\n1134,1,\"Spedden, Mr. Frederic Oakley\",male,45,1,1,16966,134.5,E34,C\\r\\n1135,3,\"Hyman, Mr. Abraham\",male,,0,0,3470,7.8875,,S\\r\\n1136,3,\"Johnston, Master. William Arthur Willie\"\"\"\"\",male,,1,2,W./C. 6607,23.45,,S\\r\\n1137,1,\"Kenyon, Mr. Frederick R\",male,41,1,0,17464,51.8625,D21,S\\r\\n1138,2,\"Karnes, Mrs. J Frank (Claire Bennett)\",female,22,0,0,F.C.C. 13534,21,,S\\r\\n1139,2,\"Drew, Mr. James Vivian\",male,42,1,1,28220,32.5,,S\\r\\n1140,2,\"Hold, Mrs. Stephen (Annie Margaret Hill)\",female,29,1,0,26707,26,,S\\r\\n1141,3,\"Khalil, Mrs. Betros (Zahie Maria\"\" Elias)\"\"\",female,,1,0,2660,14.4542,,C\\r\\n1142,2,\"West, Miss. Barbara J\",female,0.92,1,2,C.A. 34651,27.75,,S\\r\\n1143,3,\"Abrahamsson, Mr. Abraham August Johannes\",male,20,0,0,SOTON/O2 3101284,7.925,,S\\r\\n1144,1,\"Clark, Mr. Walter Miller\",male,27,1,0,13508,136.7792,C89,C\\r\\n1145,3,\"Salander, Mr. Karl Johan\",male,24,0,0,7266,9.325,,S\\r\\n1146,3,\"Wenzel, Mr. Linhart\",male,32.5,0,0,345775,9.5,,S\\r\\n1147,3,\"MacKay, Mr. George William\",male,,0,0,C.A. 42795,7.55,,S\\r\\n1148,3,\"Mahon, Mr. John\",male,,0,0,AQ/4 3130,7.75,,Q\\r\\n1149,3,\"Niklasson, Mr. Samuel\",male,28,0,0,363611,8.05,,S\\r\\n1150,2,\"Bentham, Miss. Lilian W\",female,19,0,0,28404,13,,S\\r\\n1151,3,\"Midtsjo, Mr. Karl Albert\",male,21,0,0,345501,7.775,,S\\r\\n1152,3,\"de Messemaeker, Mr. Guillaume Joseph\",male,36.5,1,0,345572,17.4,,S\\r\\n1153,3,\"Nilsson, Mr. August Ferdinand\",male,21,0,0,350410,7.8542,,S\\r\\n1154,2,\"Wells, Mrs. Arthur Henry (Addie\"\" Dart Trevaskis)\"\"\",female,29,0,2,29103,23,,S\\r\\n1155,3,\"Klasen, Miss. Gertrud Emilia\",female,1,1,1,350405,12.1833,,S\\r\\n1156,2,\"Portaluppi, Mr. Emilio Ilario Giuseppe\",male,30,0,0,C.A. 34644,12.7375,,C\\r\\n1157,3,\"Lyntakoff, Mr. Stanko\",male,,0,0,349235,7.8958,,S\\r\\n1158,1,\"Chisholm, Mr. Roderick Robert Crispin\",male,,0,0,112051,0,,S\\r\\n1159,3,\"Warren, Mr. Charles William\",male,,0,0,C.A. 49867,7.55,,S\\r\\n1160,3,\"Howard, Miss. May Elizabeth\",female,,0,0,A. 2. 39186,8.05,,S\\r\\n1161,3,\"Pokrnic, Mr. Mate\",male,17,0,0,315095,8.6625,,S\\r\\n1162,1,\"McCaffry, Mr. Thomas Francis\",male,46,0,0,13050,75.2417,C6,C\\r\\n1163,3,\"Fox, Mr. Patrick\",male,,0,0,368573,7.75,,Q\\r\\n1164,1,\"Clark, Mrs. Walter Miller (Virginia McDowell)\",female,26,1,0,13508,136.7792,C89,C\\r\\n1165,3,\"Lennon, Miss. Mary\",female,,1,0,370371,15.5,,Q\\r\\n1166,3,\"Saade, Mr. Jean Nassr\",male,,0,0,2676,7.225,,C\\r\\n1167,2,\"Bryhl, Miss. Dagmar Jenny Ingeborg \",female,20,1,0,236853,26,,S\\r\\n1168,2,\"Parker, Mr. Clifford Richard\",male,28,0,0,SC 14888,10.5,,S\\r\\n1169,2,\"Faunthorpe, Mr. Harry\",male,40,1,0,2926,26,,S\\r\\n1170,2,\"Ware, Mr. John James\",male,30,1,0,CA 31352,21,,S\\r\\n1171,2,\"Oxenham, Mr. Percy Thomas\",male,22,0,0,W./C. 14260,10.5,,S\\r\\n1172,3,\"Oreskovic, Miss. Jelka\",female,23,0,0,315085,8.6625,,S\\r\\n1173,3,\"Peacock, Master. Alfred Edward\",male,0.75,1,1,SOTON/O.Q. 3101315,13.775,,S\\r\\n1174,3,\"Fleming, Miss. Honora\",female,,0,0,364859,7.75,,Q\\r\\n1175,3,\"Touma, Miss. Maria Youssef\",female,9,1,1,2650,15.2458,,C\\r\\n1176,3,\"Rosblom, Miss. Salli Helena\",female,2,1,1,370129,20.2125,,S\\r\\n1177,3,\"Dennis, Mr. William\",male,36,0,0,A/5 21175,7.25,,S\\r\\n1178,3,\"Franklin, Mr. Charles (Charles Fardon)\",male,,0,0,SOTON/O.Q. 3101314,7.25,,S\\r\\n1179,1,\"Snyder, Mr. John Pillsbury\",male,24,1,0,21228,82.2667,B45,S\\r\\n1180,3,\"Mardirosian, Mr. Sarkis\",male,,0,0,2655,7.2292,F E46,C\\r\\n1181,3,\"Ford, Mr. Arthur\",male,,0,0,A/5 1478,8.05,,S\\r\\n1182,1,\"Rheims, Mr. George Alexander Lucien\",male,,0,0,PC 17607,39.6,,S\\r\\n1183,3,\"Daly, Miss. Margaret Marcella Maggie\"\"\"\"\",female,30,0,0,382650,6.95,,Q\\r\\n1184,3,\"Nasr, Mr. Mustafa\",male,,0,0,2652,7.2292,,C\\r\\n1185,1,\"Dodge, Dr. Washington\",male,53,1,1,33638,81.8583,A34,S\\r\\n1186,3,\"Wittevrongel, Mr. Camille\",male,36,0,0,345771,9.5,,S\\r\\n1187,3,\"Angheloff, Mr. Minko\",male,26,0,0,349202,7.8958,,S\\r\\n1188,2,\"Laroche, Miss. Louise\",female,1,1,2,SC/Paris 2123,41.5792,,C\\r\\n1189,3,\"Samaan, Mr. Hanna\",male,,2,0,2662,21.6792,,C\\r\\n1190,1,\"Loring, Mr. Joseph Holland\",male,30,0,0,113801,45.5,,S\\r\\n1191,3,\"Johansson, Mr. Nils\",male,29,0,0,347467,7.8542,,S\\r\\n1192,3,\"Olsson, Mr. Oscar Wilhelm\",male,32,0,0,347079,7.775,,S\\r\\n1193,2,\"Malachard, Mr. Noel\",male,,0,0,237735,15.0458,D,C\\r\\n1194,2,\"Phillips, Mr. Escott Robert\",male,43,0,1,S.O./P.P. 2,21,,S\\r\\n1195,3,\"Pokrnic, Mr. Tome\",male,24,0,0,315092,8.6625,,S\\r\\n1196,3,\"McCarthy, Miss. Catherine Katie\"\"\"\"\",female,,0,0,383123,7.75,,Q\\r\\n1197,1,\"Crosby, Mrs. Edward Gifford (Catherine Elizabeth Halstead)\",female,64,1,1,112901,26.55,B26,S\\r\\n1198,1,\"Allison, Mr. Hudson Joshua Creighton\",male,30,1,2,113781,151.55,C22 C26,S\\r\\n1199,3,\"Aks, Master. Philip Frank\",male,0.83,0,1,392091,9.35,,S\\r\\n1200,1,\"Hays, Mr. Charles Melville\",male,55,1,1,12749,93.5,B69,S\\r\\n1201,3,\"Hansen, Mrs. Claus Peter (Jennie L Howard)\",female,45,1,0,350026,14.1083,,S\\r\\n1202,3,\"Cacic, Mr. Jego Grga\",male,18,0,0,315091,8.6625,,S\\r\\n1203,3,\"Vartanian, Mr. David\",male,22,0,0,2658,7.225,,C\\r\\n1204,3,\"Sadowitz, Mr. Harry\",male,,0,0,LP 1588,7.575,,S\\r\\n1205,3,\"Carr, Miss. Jeannie\",female,37,0,0,368364,7.75,,Q\\r\\n1206,1,\"White, Mrs. John Stuart (Ella Holmes)\",female,55,0,0,PC 17760,135.6333,C32,C\\r\\n1207,3,\"Hagardon, Miss. Kate\",female,17,0,0,AQ/3. 30631,7.7333,,Q\\r\\n1208,1,\"Spencer, Mr. William Augustus\",male,57,1,0,PC 17569,146.5208,B78,C\\r\\n1209,2,\"Rogers, Mr. Reginald Harry\",male,19,0,0,28004,10.5,,S\\r\\n1210,3,\"Jonsson, Mr. Nils Hilding\",male,27,0,0,350408,7.8542,,S\\r\\n1211,2,\"Jefferys, Mr. Ernest Wilfred\",male,22,2,0,C.A. 31029,31.5,,S\\r\\n1212,3,\"Andersson, Mr. Johan Samuel\",male,26,0,0,347075,7.775,,S\\r\\n1213,3,\"Krekorian, Mr. Neshan\",male,25,0,0,2654,7.2292,F E57,C\\r\\n1214,2,\"Nesson, Mr. Israel\",male,26,0,0,244368,13,F2,S\\r\\n1215,1,\"Rowe, Mr. Alfred G\",male,33,0,0,113790,26.55,,S\\r\\n1216,1,\"Kreuchen, Miss. Emilie\",female,39,0,0,24160,211.3375,,S\\r\\n1217,3,\"Assam, Mr. Ali\",male,23,0,0,SOTON/O.Q. 3101309,7.05,,S\\r\\n1218,2,\"Becker, Miss. Ruth Elizabeth\",female,12,2,1,230136,39,F4,S\\r\\n1219,1,\"Rosenshine, Mr. George (Mr George Thorne\"\")\"\"\",male,46,0,0,PC 17585,79.2,,C\\r\\n1220,2,\"Clarke, Mr. Charles Valentine\",male,29,1,0,2003,26,,S\\r\\n1221,2,\"Enander, Mr. Ingvar\",male,21,0,0,236854,13,,S\\r\\n1222,2,\"Davies, Mrs. John Morgan (Elizabeth Agnes Mary White) \",female,48,0,2,C.A. 33112,36.75,,S\\r\\n1223,1,\"Dulles, Mr. William Crothers\",male,39,0,0,PC 17580,29.7,A18,C\\r\\n1224,3,\"Thomas, Mr. Tannous\",male,,0,0,2684,7.225,,C\\r\\n1225,3,\"Nakid, Mrs. Said (Waika Mary\"\" Mowad)\"\"\",female,19,1,1,2653,15.7417,,C\\r\\n1226,3,\"Cor, Mr. Ivan\",male,27,0,0,349229,7.8958,,S\\r\\n1227,1,\"Maguire, Mr. John Edward\",male,30,0,0,110469,26,C106,S\\r\\n1228,2,\"de Brito, Mr. Jose Joaquim\",male,32,0,0,244360,13,,S\\r\\n1229,3,\"Elias, Mr. Joseph\",male,39,0,2,2675,7.2292,,C\\r\\n1230,2,\"Denbury, Mr. Herbert\",male,25,0,0,C.A. 31029,31.5,,S\\r\\n1231,3,\"Betros, Master. Seman\",male,,0,0,2622,7.2292,,C\\r\\n1232,2,\"Fillbrook, Mr. Joseph Charles\",male,18,0,0,C.A. 15185,10.5,,S\\r\\n1233,3,\"Lundstrom, Mr. Thure Edvin\",male,32,0,0,350403,7.5792,,S\\r\\n1234,3,\"Sage, Mr. John George\",male,,1,9,CA. 2343,69.55,,S\\r\\n1235,1,\"Cardeza, Mrs. James Warburton Martinez (Charlotte Wardle Drake)\",female,58,0,1,PC 17755,512.3292,B51 B53 B55,C\\r\\n1236,3,\"van Billiard, Master. James William\",male,,1,1,A/5. 851,14.5,,S\\r\\n1237,3,\"Abelseth, Miss. Karen Marie\",female,16,0,0,348125,7.65,,S\\r\\n1238,2,\"Botsford, Mr. William Hull\",male,26,0,0,237670,13,,S\\r\\n1239,3,\"Whabee, Mrs. George Joseph (Shawneene Abi-Saab)\",female,38,0,0,2688,7.2292,,C\\r\\n1240,2,\"Giles, Mr. Ralph\",male,24,0,0,248726,13.5,,S\\r\\n1241,2,\"Walcroft, Miss. Nellie\",female,31,0,0,F.C.C. 13528,21,,S\\r\\n1242,1,\"Greenfield, Mrs. Leo David (Blanche Strouse)\",female,45,0,1,PC 17759,63.3583,D10 D12,C\\r\\n1243,2,\"Stokes, Mr. Philip Joseph\",male,25,0,0,F.C.C. 13540,10.5,,S\\r\\n1244,2,\"Dibden, Mr. William\",male,18,0,0,S.O.C. 14879,73.5,,S\\r\\n1245,2,\"Herman, Mr. Samuel\",male,49,1,2,220845,65,,S\\r\\n1246,3,\"Dean, Miss. Elizabeth Gladys Millvina\"\"\"\"\",female,0.17,1,2,C.A. 2315,20.575,,S\\r\\n1247,1,\"Julian, Mr. Henry Forbes\",male,50,0,0,113044,26,E60,S\\r\\n1248,1,\"Brown, Mrs. John Murray (Caroline Lane Lamson)\",female,59,2,0,11769,51.4792,C101,S\\r\\n1249,3,\"Lockyer, Mr. Edward\",male,,0,0,1222,7.8792,,S\\r\\n1250,3,\"O\\'Keefe, Mr. Patrick\",male,,0,0,368402,7.75,,Q\\r\\n1251,3,\"Lindell, Mrs. Edvard Bengtsson (Elin Gerda Persson)\",female,30,1,0,349910,15.55,,S\\r\\n1252,3,\"Sage, Master. William Henry\",male,14.5,8,2,CA. 2343,69.55,,S\\r\\n1253,2,\"Mallet, Mrs. Albert (Antoinette Magnin)\",female,24,1,1,S.C./PARIS 2079,37.0042,,C\\r\\n1254,2,\"Ware, Mrs. John James (Florence Louise Long)\",female,31,0,0,CA 31352,21,,S\\r\\n1255,3,\"Strilic, Mr. Ivan\",male,27,0,0,315083,8.6625,,S\\r\\n1256,1,\"Harder, Mrs. George Achilles (Dorothy Annan)\",female,25,1,0,11765,55.4417,E50,C\\r\\n1257,3,\"Sage, Mrs. John (Annie Bullen)\",female,,1,9,CA. 2343,69.55,,S\\r\\n1258,3,\"Caram, Mr. Joseph\",male,,1,0,2689,14.4583,,C\\r\\n1259,3,\"Riihivouri, Miss. Susanna Juhantytar Sanni\"\"\"\"\",female,22,0,0,3101295,39.6875,,S\\r\\n1260,1,\"Gibson, Mrs. Leonard (Pauline C Boeson)\",female,45,0,1,112378,59.4,,C\\r\\n1261,2,\"Pallas y Castello, Mr. Emilio\",male,29,0,0,SC/PARIS 2147,13.8583,,C\\r\\n1262,2,\"Giles, Mr. Edgar\",male,21,1,0,28133,11.5,,S\\r\\n1263,1,\"Wilson, Miss. Helen Alice\",female,31,0,0,16966,134.5,E39 E41,C\\r\\n1264,1,\"Ismay, Mr. Joseph Bruce\",male,49,0,0,112058,0,B52 B54 B56,S\\r\\n1265,2,\"Harbeck, Mr. William H\",male,44,0,0,248746,13,,S\\r\\n1266,1,\"Dodge, Mrs. Washington (Ruth Vidaver)\",female,54,1,1,33638,81.8583,A34,S\\r\\n1267,1,\"Bowen, Miss. Grace Scott\",female,45,0,0,PC 17608,262.375,,C\\r\\n1268,3,\"Kink, Miss. Maria\",female,22,2,0,315152,8.6625,,S\\r\\n1269,2,\"Cotterill, Mr. Henry Harry\"\"\"\"\",male,21,0,0,29107,11.5,,S\\r\\n1270,1,\"Hipkins, Mr. William Edward\",male,55,0,0,680,50,C39,S\\r\\n1271,3,\"Asplund, Master. Carl Edgar\",male,5,4,2,347077,31.3875,,S\\r\\n1272,3,\"O\\'Connor, Mr. Patrick\",male,,0,0,366713,7.75,,Q\\r\\n1273,3,\"Foley, Mr. Joseph\",male,26,0,0,330910,7.8792,,Q\\r\\n1274,3,\"Risien, Mrs. Samuel (Emma)\",female,,0,0,364498,14.5,,S\\r\\n1275,3,\"McNamee, Mrs. Neal (Eileen O\\'Leary)\",female,19,1,0,376566,16.1,,S\\r\\n1276,2,\"Wheeler, Mr. Edwin Frederick\"\"\"\"\",male,,0,0,SC/PARIS 2159,12.875,,S\\r\\n1277,2,\"Herman, Miss. Kate\",female,24,1,2,220845,65,,S\\r\\n1278,3,\"Aronsson, Mr. Ernst Axel Algot\",male,24,0,0,349911,7.775,,S\\r\\n1279,2,\"Ashby, Mr. John\",male,57,0,0,244346,13,,S\\r\\n1280,3,\"Canavan, Mr. Patrick\",male,21,0,0,364858,7.75,,Q\\r\\n1281,3,\"Palsson, Master. Paul Folke\",male,6,3,1,349909,21.075,,S\\r\\n1282,1,\"Payne, Mr. Vivian Ponsonby\",male,23,0,0,12749,93.5,B24,S\\r\\n1283,1,\"Lines, Mrs. Ernest H (Elizabeth Lindsey James)\",female,51,0,1,PC 17592,39.4,D28,S\\r\\n1284,3,\"Abbott, Master. Eugene Joseph\",male,13,0,2,C.A. 2673,20.25,,S\\r\\n1285,2,\"Gilbert, Mr. William\",male,47,0,0,C.A. 30769,10.5,,S\\r\\n1286,3,\"Kink-Heilmann, Mr. Anton\",male,29,3,1,315153,22.025,,S\\r\\n1287,1,\"Smith, Mrs. Lucien Philip (Mary Eloise Hughes)\",female,18,1,0,13695,60,C31,S\\r\\n1288,3,\"Colbert, Mr. Patrick\",male,24,0,0,371109,7.25,,Q\\r\\n1289,1,\"Frolicher-Stehli, Mrs. Maxmillian (Margaretha Emerentia Stehli)\",female,48,1,1,13567,79.2,B41,C\\r\\n1290,3,\"Larsson-Rondberg, Mr. Edvard A\",male,22,0,0,347065,7.775,,S\\r\\n1291,3,\"Conlon, Mr. Thomas Henry\",male,31,0,0,21332,7.7333,,Q\\r\\n1292,1,\"Bonnell, Miss. Caroline\",female,30,0,0,36928,164.8667,C7,S\\r\\n1293,2,\"Gale, Mr. Harry\",male,38,1,0,28664,21,,S\\r\\n1294,1,\"Gibson, Miss. Dorothy Winifred\",female,22,0,1,112378,59.4,,C\\r\\n1295,1,\"Carrau, Mr. Jose Pedro\",male,17,0,0,113059,47.1,,S\\r\\n1296,1,\"Frauenthal, Mr. Isaac Gerald\",male,43,1,0,17765,27.7208,D40,C\\r\\n1297,2,\"Nourney, Mr. Alfred (Baron von Drachstedt\"\")\"\"\",male,20,0,0,SC/PARIS 2166,13.8625,D38,C\\r\\n1298,2,\"Ware, Mr. William Jeffery\",male,23,1,0,28666,10.5,,S\\r\\n1299,1,\"Widener, Mr. George Dunton\",male,50,1,1,113503,211.5,C80,C\\r\\n1300,3,\"Riordan, Miss. Johanna Hannah\"\"\"\"\",female,,0,0,334915,7.7208,,Q\\r\\n1301,3,\"Peacock, Miss. Treasteall\",female,3,1,1,SOTON/O.Q. 3101315,13.775,,S\\r\\n1302,3,\"Naughton, Miss. Hannah\",female,,0,0,365237,7.75,,Q\\r\\n1303,1,\"Minahan, Mrs. William Edward (Lillian E Thorpe)\",female,37,1,0,19928,90,C78,Q\\r\\n1304,3,\"Henriksson, Miss. Jenny Lovisa\",female,28,0,0,347086,7.775,,S\\r\\n1305,3,\"Spector, Mr. Woolf\",male,,0,0,A.5. 3236,8.05,,S\\r\\n1306,1,\"Oliva y Ocana, Dona. Fermina\",female,39,0,0,PC 17758,108.9,C105,C\\r\\n1307,3,\"Saether, Mr. Simon Sivertsen\",male,38.5,0,0,SOTON/O.Q. 3101262,7.25,,S\\r\\n1308,3,\"Ware, Mr. Frederick\",male,,0,0,359309,8.05,,S\\r\\n1309,3,\"Peter, Master. Michael J\",male,,1,1,2668,22.3583,,C\\r\\n',\n",
              " 'train.csv': b'PassengerId,Survived,Pclass,Name,Sex,Age,SibSp,Parch,Ticket,Fare,Cabin,Embarked\\r\\n1,0,3,\"Braund, Mr. Owen Harris\",male,22,1,0,A/5 21171,7.25,,S\\r\\n2,1,1,\"Cumings, Mrs. John Bradley (Florence Briggs Thayer)\",female,38,1,0,PC 17599,71.2833,C85,C\\r\\n3,1,3,\"Heikkinen, Miss. Laina\",female,26,0,0,STON/O2. 3101282,7.925,,S\\r\\n4,1,1,\"Futrelle, Mrs. Jacques Heath (Lily May Peel)\",female,35,1,0,113803,53.1,C123,S\\r\\n5,0,3,\"Allen, Mr. William Henry\",male,35,0,0,373450,8.05,,S\\r\\n6,0,3,\"Moran, Mr. James\",male,,0,0,330877,8.4583,,Q\\r\\n7,0,1,\"McCarthy, Mr. Timothy J\",male,54,0,0,17463,51.8625,E46,S\\r\\n8,0,3,\"Palsson, Master. Gosta Leonard\",male,2,3,1,349909,21.075,,S\\r\\n9,1,3,\"Johnson, Mrs. Oscar W (Elisabeth Vilhelmina Berg)\",female,27,0,2,347742,11.1333,,S\\r\\n10,1,2,\"Nasser, Mrs. Nicholas (Adele Achem)\",female,14,1,0,237736,30.0708,,C\\r\\n11,1,3,\"Sandstrom, Miss. Marguerite Rut\",female,4,1,1,PP 9549,16.7,G6,S\\r\\n12,1,1,\"Bonnell, Miss. Elizabeth\",female,58,0,0,113783,26.55,C103,S\\r\\n13,0,3,\"Saundercock, Mr. William Henry\",male,20,0,0,A/5. 2151,8.05,,S\\r\\n14,0,3,\"Andersson, Mr. Anders Johan\",male,39,1,5,347082,31.275,,S\\r\\n15,0,3,\"Vestrom, Miss. Hulda Amanda Adolfina\",female,14,0,0,350406,7.8542,,S\\r\\n16,1,2,\"Hewlett, Mrs. (Mary D Kingcome) \",female,55,0,0,248706,16,,S\\r\\n17,0,3,\"Rice, Master. Eugene\",male,2,4,1,382652,29.125,,Q\\r\\n18,1,2,\"Williams, Mr. Charles Eugene\",male,,0,0,244373,13,,S\\r\\n19,0,3,\"Vander Planke, Mrs. Julius (Emelia Maria Vandemoortele)\",female,31,1,0,345763,18,,S\\r\\n20,1,3,\"Masselmani, Mrs. Fatima\",female,,0,0,2649,7.225,,C\\r\\n21,0,2,\"Fynney, Mr. Joseph J\",male,35,0,0,239865,26,,S\\r\\n22,1,2,\"Beesley, Mr. Lawrence\",male,34,0,0,248698,13,D56,S\\r\\n23,1,3,\"McGowan, Miss. Anna \"\"Annie\"\"\",female,15,0,0,330923,8.0292,,Q\\r\\n24,1,1,\"Sloper, Mr. William Thompson\",male,28,0,0,113788,35.5,A6,S\\r\\n25,0,3,\"Palsson, Miss. Torborg Danira\",female,8,3,1,349909,21.075,,S\\r\\n26,1,3,\"Asplund, Mrs. Carl Oscar (Selma Augusta Emilia Johansson)\",female,38,1,5,347077,31.3875,,S\\r\\n27,0,3,\"Emir, Mr. Farred Chehab\",male,,0,0,2631,7.225,,C\\r\\n28,0,1,\"Fortune, Mr. Charles Alexander\",male,19,3,2,19950,263,C23 C25 C27,S\\r\\n29,1,3,\"O\\'Dwyer, Miss. Ellen \"\"Nellie\"\"\",female,,0,0,330959,7.8792,,Q\\r\\n30,0,3,\"Todoroff, Mr. Lalio\",male,,0,0,349216,7.8958,,S\\r\\n31,0,1,\"Uruchurtu, Don. Manuel E\",male,40,0,0,PC 17601,27.7208,,C\\r\\n32,1,1,\"Spencer, Mrs. William Augustus (Marie Eugenie)\",female,,1,0,PC 17569,146.5208,B78,C\\r\\n33,1,3,\"Glynn, Miss. Mary Agatha\",female,,0,0,335677,7.75,,Q\\r\\n34,0,2,\"Wheadon, Mr. Edward H\",male,66,0,0,C.A. 24579,10.5,,S\\r\\n35,0,1,\"Meyer, Mr. Edgar Joseph\",male,28,1,0,PC 17604,82.1708,,C\\r\\n36,0,1,\"Holverson, Mr. Alexander Oskar\",male,42,1,0,113789,52,,S\\r\\n37,1,3,\"Mamee, Mr. Hanna\",male,,0,0,2677,7.2292,,C\\r\\n38,0,3,\"Cann, Mr. Ernest Charles\",male,21,0,0,A./5. 2152,8.05,,S\\r\\n39,0,3,\"Vander Planke, Miss. Augusta Maria\",female,18,2,0,345764,18,,S\\r\\n40,1,3,\"Nicola-Yarred, Miss. Jamila\",female,14,1,0,2651,11.2417,,C\\r\\n41,0,3,\"Ahlin, Mrs. Johan (Johanna Persdotter Larsson)\",female,40,1,0,7546,9.475,,S\\r\\n42,0,2,\"Turpin, Mrs. William John Robert (Dorothy Ann Wonnacott)\",female,27,1,0,11668,21,,S\\r\\n43,0,3,\"Kraeff, Mr. Theodor\",male,,0,0,349253,7.8958,,C\\r\\n44,1,2,\"Laroche, Miss. Simonne Marie Anne Andree\",female,3,1,2,SC/Paris 2123,41.5792,,C\\r\\n45,1,3,\"Devaney, Miss. Margaret Delia\",female,19,0,0,330958,7.8792,,Q\\r\\n46,0,3,\"Rogers, Mr. William John\",male,,0,0,S.C./A.4. 23567,8.05,,S\\r\\n47,0,3,\"Lennon, Mr. Denis\",male,,1,0,370371,15.5,,Q\\r\\n48,1,3,\"O\\'Driscoll, Miss. Bridget\",female,,0,0,14311,7.75,,Q\\r\\n49,0,3,\"Samaan, Mr. Youssef\",male,,2,0,2662,21.6792,,C\\r\\n50,0,3,\"Arnold-Franchi, Mrs. Josef (Josefine Franchi)\",female,18,1,0,349237,17.8,,S\\r\\n51,0,3,\"Panula, Master. Juha Niilo\",male,7,4,1,3101295,39.6875,,S\\r\\n52,0,3,\"Nosworthy, Mr. Richard Cater\",male,21,0,0,A/4. 39886,7.8,,S\\r\\n53,1,1,\"Harper, Mrs. Henry Sleeper (Myna Haxtun)\",female,49,1,0,PC 17572,76.7292,D33,C\\r\\n54,1,2,\"Faunthorpe, Mrs. Lizzie (Elizabeth Anne Wilkinson)\",female,29,1,0,2926,26,,S\\r\\n55,0,1,\"Ostby, Mr. Engelhart Cornelius\",male,65,0,1,113509,61.9792,B30,C\\r\\n56,1,1,\"Woolner, Mr. Hugh\",male,,0,0,19947,35.5,C52,S\\r\\n57,1,2,\"Rugg, Miss. Emily\",female,21,0,0,C.A. 31026,10.5,,S\\r\\n58,0,3,\"Novel, Mr. Mansouer\",male,28.5,0,0,2697,7.2292,,C\\r\\n59,1,2,\"West, Miss. Constance Mirium\",female,5,1,2,C.A. 34651,27.75,,S\\r\\n60,0,3,\"Goodwin, Master. William Frederick\",male,11,5,2,CA 2144,46.9,,S\\r\\n61,0,3,\"Sirayanian, Mr. Orsen\",male,22,0,0,2669,7.2292,,C\\r\\n62,1,1,\"Icard, Miss. Amelie\",female,38,0,0,113572,80,B28,\\r\\n63,0,1,\"Harris, Mr. Henry Birkhardt\",male,45,1,0,36973,83.475,C83,S\\r\\n64,0,3,\"Skoog, Master. Harald\",male,4,3,2,347088,27.9,,S\\r\\n65,0,1,\"Stewart, Mr. Albert A\",male,,0,0,PC 17605,27.7208,,C\\r\\n66,1,3,\"Moubarek, Master. Gerios\",male,,1,1,2661,15.2458,,C\\r\\n67,1,2,\"Nye, Mrs. (Elizabeth Ramell)\",female,29,0,0,C.A. 29395,10.5,F33,S\\r\\n68,0,3,\"Crease, Mr. Ernest James\",male,19,0,0,S.P. 3464,8.1583,,S\\r\\n69,1,3,\"Andersson, Miss. Erna Alexandra\",female,17,4,2,3101281,7.925,,S\\r\\n70,0,3,\"Kink, Mr. Vincenz\",male,26,2,0,315151,8.6625,,S\\r\\n71,0,2,\"Jenkin, Mr. Stephen Curnow\",male,32,0,0,C.A. 33111,10.5,,S\\r\\n72,0,3,\"Goodwin, Miss. Lillian Amy\",female,16,5,2,CA 2144,46.9,,S\\r\\n73,0,2,\"Hood, Mr. Ambrose Jr\",male,21,0,0,S.O.C. 14879,73.5,,S\\r\\n74,0,3,\"Chronopoulos, Mr. Apostolos\",male,26,1,0,2680,14.4542,,C\\r\\n75,1,3,\"Bing, Mr. Lee\",male,32,0,0,1601,56.4958,,S\\r\\n76,0,3,\"Moen, Mr. Sigurd Hansen\",male,25,0,0,348123,7.65,F G73,S\\r\\n77,0,3,\"Staneff, Mr. Ivan\",male,,0,0,349208,7.8958,,S\\r\\n78,0,3,\"Moutal, Mr. Rahamin Haim\",male,,0,0,374746,8.05,,S\\r\\n79,1,2,\"Caldwell, Master. Alden Gates\",male,0.83,0,2,248738,29,,S\\r\\n80,1,3,\"Dowdell, Miss. Elizabeth\",female,30,0,0,364516,12.475,,S\\r\\n81,0,3,\"Waelens, Mr. Achille\",male,22,0,0,345767,9,,S\\r\\n82,1,3,\"Sheerlinck, Mr. Jan Baptist\",male,29,0,0,345779,9.5,,S\\r\\n83,1,3,\"McDermott, Miss. Brigdet Delia\",female,,0,0,330932,7.7875,,Q\\r\\n84,0,1,\"Carrau, Mr. Francisco M\",male,28,0,0,113059,47.1,,S\\r\\n85,1,2,\"Ilett, Miss. Bertha\",female,17,0,0,SO/C 14885,10.5,,S\\r\\n86,1,3,\"Backstrom, Mrs. Karl Alfred (Maria Mathilda Gustafsson)\",female,33,3,0,3101278,15.85,,S\\r\\n87,0,3,\"Ford, Mr. William Neal\",male,16,1,3,W./C. 6608,34.375,,S\\r\\n88,0,3,\"Slocovski, Mr. Selman Francis\",male,,0,0,SOTON/OQ 392086,8.05,,S\\r\\n89,1,1,\"Fortune, Miss. Mabel Helen\",female,23,3,2,19950,263,C23 C25 C27,S\\r\\n90,0,3,\"Celotti, Mr. Francesco\",male,24,0,0,343275,8.05,,S\\r\\n91,0,3,\"Christmann, Mr. Emil\",male,29,0,0,343276,8.05,,S\\r\\n92,0,3,\"Andreasson, Mr. Paul Edvin\",male,20,0,0,347466,7.8542,,S\\r\\n93,0,1,\"Chaffee, Mr. Herbert Fuller\",male,46,1,0,W.E.P. 5734,61.175,E31,S\\r\\n94,0,3,\"Dean, Mr. Bertram Frank\",male,26,1,2,C.A. 2315,20.575,,S\\r\\n95,0,3,\"Coxon, Mr. Daniel\",male,59,0,0,364500,7.25,,S\\r\\n96,0,3,\"Shorney, Mr. Charles Joseph\",male,,0,0,374910,8.05,,S\\r\\n97,0,1,\"Goldschmidt, Mr. George B\",male,71,0,0,PC 17754,34.6542,A5,C\\r\\n98,1,1,\"Greenfield, Mr. William Bertram\",male,23,0,1,PC 17759,63.3583,D10 D12,C\\r\\n99,1,2,\"Doling, Mrs. John T (Ada Julia Bone)\",female,34,0,1,231919,23,,S\\r\\n100,0,2,\"Kantor, Mr. Sinai\",male,34,1,0,244367,26,,S\\r\\n101,0,3,\"Petranec, Miss. Matilda\",female,28,0,0,349245,7.8958,,S\\r\\n102,0,3,\"Petroff, Mr. Pastcho (\"\"Pentcho\"\")\",male,,0,0,349215,7.8958,,S\\r\\n103,0,1,\"White, Mr. Richard Frasar\",male,21,0,1,35281,77.2875,D26,S\\r\\n104,0,3,\"Johansson, Mr. Gustaf Joel\",male,33,0,0,7540,8.6542,,S\\r\\n105,0,3,\"Gustafsson, Mr. Anders Vilhelm\",male,37,2,0,3101276,7.925,,S\\r\\n106,0,3,\"Mionoff, Mr. Stoytcho\",male,28,0,0,349207,7.8958,,S\\r\\n107,1,3,\"Salkjelsvik, Miss. Anna Kristine\",female,21,0,0,343120,7.65,,S\\r\\n108,1,3,\"Moss, Mr. Albert Johan\",male,,0,0,312991,7.775,,S\\r\\n109,0,3,\"Rekic, Mr. Tido\",male,38,0,0,349249,7.8958,,S\\r\\n110,1,3,\"Moran, Miss. Bertha\",female,,1,0,371110,24.15,,Q\\r\\n111,0,1,\"Porter, Mr. Walter Chamberlain\",male,47,0,0,110465,52,C110,S\\r\\n112,0,3,\"Zabour, Miss. Hileni\",female,14.5,1,0,2665,14.4542,,C\\r\\n113,0,3,\"Barton, Mr. David John\",male,22,0,0,324669,8.05,,S\\r\\n114,0,3,\"Jussila, Miss. Katriina\",female,20,1,0,4136,9.825,,S\\r\\n115,0,3,\"Attalah, Miss. Malake\",female,17,0,0,2627,14.4583,,C\\r\\n116,0,3,\"Pekoniemi, Mr. Edvard\",male,21,0,0,STON/O 2. 3101294,7.925,,S\\r\\n117,0,3,\"Connors, Mr. Patrick\",male,70.5,0,0,370369,7.75,,Q\\r\\n118,0,2,\"Turpin, Mr. William John Robert\",male,29,1,0,11668,21,,S\\r\\n119,0,1,\"Baxter, Mr. Quigg Edmond\",male,24,0,1,PC 17558,247.5208,B58 B60,C\\r\\n120,0,3,\"Andersson, Miss. Ellis Anna Maria\",female,2,4,2,347082,31.275,,S\\r\\n121,0,2,\"Hickman, Mr. Stanley George\",male,21,2,0,S.O.C. 14879,73.5,,S\\r\\n122,0,3,\"Moore, Mr. Leonard Charles\",male,,0,0,A4. 54510,8.05,,S\\r\\n123,0,2,\"Nasser, Mr. Nicholas\",male,32.5,1,0,237736,30.0708,,C\\r\\n124,1,2,\"Webber, Miss. Susan\",female,32.5,0,0,27267,13,E101,S\\r\\n125,0,1,\"White, Mr. Percival Wayland\",male,54,0,1,35281,77.2875,D26,S\\r\\n126,1,3,\"Nicola-Yarred, Master. Elias\",male,12,1,0,2651,11.2417,,C\\r\\n127,0,3,\"McMahon, Mr. Martin\",male,,0,0,370372,7.75,,Q\\r\\n128,1,3,\"Madsen, Mr. Fridtjof Arne\",male,24,0,0,C 17369,7.1417,,S\\r\\n129,1,3,\"Peter, Miss. Anna\",female,,1,1,2668,22.3583,F E69,C\\r\\n130,0,3,\"Ekstrom, Mr. Johan\",male,45,0,0,347061,6.975,,S\\r\\n131,0,3,\"Drazenoic, Mr. Jozef\",male,33,0,0,349241,7.8958,,C\\r\\n132,0,3,\"Coelho, Mr. Domingos Fernandeo\",male,20,0,0,SOTON/O.Q. 3101307,7.05,,S\\r\\n133,0,3,\"Robins, Mrs. Alexander A (Grace Charity Laury)\",female,47,1,0,A/5. 3337,14.5,,S\\r\\n134,1,2,\"Weisz, Mrs. Leopold (Mathilde Francoise Pede)\",female,29,1,0,228414,26,,S\\r\\n135,0,2,\"Sobey, Mr. Samuel James Hayden\",male,25,0,0,C.A. 29178,13,,S\\r\\n136,0,2,\"Richard, Mr. Emile\",male,23,0,0,SC/PARIS 2133,15.0458,,C\\r\\n137,1,1,\"Newsom, Miss. Helen Monypeny\",female,19,0,2,11752,26.2833,D47,S\\r\\n138,0,1,\"Futrelle, Mr. Jacques Heath\",male,37,1,0,113803,53.1,C123,S\\r\\n139,0,3,\"Osen, Mr. Olaf Elon\",male,16,0,0,7534,9.2167,,S\\r\\n140,0,1,\"Giglio, Mr. Victor\",male,24,0,0,PC 17593,79.2,B86,C\\r\\n141,0,3,\"Boulos, Mrs. Joseph (Sultana)\",female,,0,2,2678,15.2458,,C\\r\\n142,1,3,\"Nysten, Miss. Anna Sofia\",female,22,0,0,347081,7.75,,S\\r\\n143,1,3,\"Hakkarainen, Mrs. Pekka Pietari (Elin Matilda Dolck)\",female,24,1,0,STON/O2. 3101279,15.85,,S\\r\\n144,0,3,\"Burke, Mr. Jeremiah\",male,19,0,0,365222,6.75,,Q\\r\\n145,0,2,\"Andrew, Mr. Edgardo Samuel\",male,18,0,0,231945,11.5,,S\\r\\n146,0,2,\"Nicholls, Mr. Joseph Charles\",male,19,1,1,C.A. 33112,36.75,,S\\r\\n147,1,3,\"Andersson, Mr. August Edvard (\"\"Wennerstrom\"\")\",male,27,0,0,350043,7.7958,,S\\r\\n148,0,3,\"Ford, Miss. Robina Maggie \"\"Ruby\"\"\",female,9,2,2,W./C. 6608,34.375,,S\\r\\n149,0,2,\"Navratil, Mr. Michel (\"\"Louis M Hoffman\"\")\",male,36.5,0,2,230080,26,F2,S\\r\\n150,0,2,\"Byles, Rev. Thomas Roussel Davids\",male,42,0,0,244310,13,,S\\r\\n151,0,2,\"Bateman, Rev. Robert James\",male,51,0,0,S.O.P. 1166,12.525,,S\\r\\n152,1,1,\"Pears, Mrs. Thomas (Edith Wearne)\",female,22,1,0,113776,66.6,C2,S\\r\\n153,0,3,\"Meo, Mr. Alfonzo\",male,55.5,0,0,A.5. 11206,8.05,,S\\r\\n154,0,3,\"van Billiard, Mr. Austin Blyler\",male,40.5,0,2,A/5. 851,14.5,,S\\r\\n155,0,3,\"Olsen, Mr. Ole Martin\",male,,0,0,Fa 265302,7.3125,,S\\r\\n156,0,1,\"Williams, Mr. Charles Duane\",male,51,0,1,PC 17597,61.3792,,C\\r\\n157,1,3,\"Gilnagh, Miss. Katherine \"\"Katie\"\"\",female,16,0,0,35851,7.7333,,Q\\r\\n158,0,3,\"Corn, Mr. Harry\",male,30,0,0,SOTON/OQ 392090,8.05,,S\\r\\n159,0,3,\"Smiljanic, Mr. Mile\",male,,0,0,315037,8.6625,,S\\r\\n160,0,3,\"Sage, Master. Thomas Henry\",male,,8,2,CA. 2343,69.55,,S\\r\\n161,0,3,\"Cribb, Mr. John Hatfield\",male,44,0,1,371362,16.1,,S\\r\\n162,1,2,\"Watt, Mrs. James (Elizabeth \"\"Bessie\"\" Inglis Milne)\",female,40,0,0,C.A. 33595,15.75,,S\\r\\n163,0,3,\"Bengtsson, Mr. John Viktor\",male,26,0,0,347068,7.775,,S\\r\\n164,0,3,\"Calic, Mr. Jovo\",male,17,0,0,315093,8.6625,,S\\r\\n165,0,3,\"Panula, Master. Eino Viljami\",male,1,4,1,3101295,39.6875,,S\\r\\n166,1,3,\"Goldsmith, Master. Frank John William \"\"Frankie\"\"\",male,9,0,2,363291,20.525,,S\\r\\n167,1,1,\"Chibnall, Mrs. (Edith Martha Bowerman)\",female,,0,1,113505,55,E33,S\\r\\n168,0,3,\"Skoog, Mrs. William (Anna Bernhardina Karlsson)\",female,45,1,4,347088,27.9,,S\\r\\n169,0,1,\"Baumann, Mr. John D\",male,,0,0,PC 17318,25.925,,S\\r\\n170,0,3,\"Ling, Mr. Lee\",male,28,0,0,1601,56.4958,,S\\r\\n171,0,1,\"Van der hoef, Mr. Wyckoff\",male,61,0,0,111240,33.5,B19,S\\r\\n172,0,3,\"Rice, Master. Arthur\",male,4,4,1,382652,29.125,,Q\\r\\n173,1,3,\"Johnson, Miss. Eleanor Ileen\",female,1,1,1,347742,11.1333,,S\\r\\n174,0,3,\"Sivola, Mr. Antti Wilhelm\",male,21,0,0,STON/O 2. 3101280,7.925,,S\\r\\n175,0,1,\"Smith, Mr. James Clinch\",male,56,0,0,17764,30.6958,A7,C\\r\\n176,0,3,\"Klasen, Mr. Klas Albin\",male,18,1,1,350404,7.8542,,S\\r\\n177,0,3,\"Lefebre, Master. Henry Forbes\",male,,3,1,4133,25.4667,,S\\r\\n178,0,1,\"Isham, Miss. Ann Elizabeth\",female,50,0,0,PC 17595,28.7125,C49,C\\r\\n179,0,2,\"Hale, Mr. Reginald\",male,30,0,0,250653,13,,S\\r\\n180,0,3,\"Leonard, Mr. Lionel\",male,36,0,0,LINE,0,,S\\r\\n181,0,3,\"Sage, Miss. Constance Gladys\",female,,8,2,CA. 2343,69.55,,S\\r\\n182,0,2,\"Pernot, Mr. Rene\",male,,0,0,SC/PARIS 2131,15.05,,C\\r\\n183,0,3,\"Asplund, Master. Clarence Gustaf Hugo\",male,9,4,2,347077,31.3875,,S\\r\\n184,1,2,\"Becker, Master. Richard F\",male,1,2,1,230136,39,F4,S\\r\\n185,1,3,\"Kink-Heilmann, Miss. Luise Gretchen\",female,4,0,2,315153,22.025,,S\\r\\n186,0,1,\"Rood, Mr. Hugh Roscoe\",male,,0,0,113767,50,A32,S\\r\\n187,1,3,\"O\\'Brien, Mrs. Thomas (Johanna \"\"Hannah\"\" Godfrey)\",female,,1,0,370365,15.5,,Q\\r\\n188,1,1,\"Romaine, Mr. Charles Hallace (\"\"Mr C Rolmane\"\")\",male,45,0,0,111428,26.55,,S\\r\\n189,0,3,\"Bourke, Mr. John\",male,40,1,1,364849,15.5,,Q\\r\\n190,0,3,\"Turcin, Mr. Stjepan\",male,36,0,0,349247,7.8958,,S\\r\\n191,1,2,\"Pinsky, Mrs. (Rosa)\",female,32,0,0,234604,13,,S\\r\\n192,0,2,\"Carbines, Mr. William\",male,19,0,0,28424,13,,S\\r\\n193,1,3,\"Andersen-Jensen, Miss. Carla Christine Nielsine\",female,19,1,0,350046,7.8542,,S\\r\\n194,1,2,\"Navratil, Master. Michel M\",male,3,1,1,230080,26,F2,S\\r\\n195,1,1,\"Brown, Mrs. James Joseph (Margaret Tobin)\",female,44,0,0,PC 17610,27.7208,B4,C\\r\\n196,1,1,\"Lurette, Miss. Elise\",female,58,0,0,PC 17569,146.5208,B80,C\\r\\n197,0,3,\"Mernagh, Mr. Robert\",male,,0,0,368703,7.75,,Q\\r\\n198,0,3,\"Olsen, Mr. Karl Siegwart Andreas\",male,42,0,1,4579,8.4042,,S\\r\\n199,1,3,\"Madigan, Miss. Margaret \"\"Maggie\"\"\",female,,0,0,370370,7.75,,Q\\r\\n200,0,2,\"Yrois, Miss. Henriette (\"\"Mrs Harbeck\"\")\",female,24,0,0,248747,13,,S\\r\\n201,0,3,\"Vande Walle, Mr. Nestor Cyriel\",male,28,0,0,345770,9.5,,S\\r\\n202,0,3,\"Sage, Mr. Frederick\",male,,8,2,CA. 2343,69.55,,S\\r\\n203,0,3,\"Johanson, Mr. Jakob Alfred\",male,34,0,0,3101264,6.4958,,S\\r\\n204,0,3,\"Youseff, Mr. Gerious\",male,45.5,0,0,2628,7.225,,C\\r\\n205,1,3,\"Cohen, Mr. Gurshon \"\"Gus\"\"\",male,18,0,0,A/5 3540,8.05,,S\\r\\n206,0,3,\"Strom, Miss. Telma Matilda\",female,2,0,1,347054,10.4625,G6,S\\r\\n207,0,3,\"Backstrom, Mr. Karl Alfred\",male,32,1,0,3101278,15.85,,S\\r\\n208,1,3,\"Albimona, Mr. Nassef Cassem\",male,26,0,0,2699,18.7875,,C\\r\\n209,1,3,\"Carr, Miss. Helen \"\"Ellen\"\"\",female,16,0,0,367231,7.75,,Q\\r\\n210,1,1,\"Blank, Mr. Henry\",male,40,0,0,112277,31,A31,C\\r\\n211,0,3,\"Ali, Mr. Ahmed\",male,24,0,0,SOTON/O.Q. 3101311,7.05,,S\\r\\n212,1,2,\"Cameron, Miss. Clear Annie\",female,35,0,0,F.C.C. 13528,21,,S\\r\\n213,0,3,\"Perkin, Mr. John Henry\",male,22,0,0,A/5 21174,7.25,,S\\r\\n214,0,2,\"Givard, Mr. Hans Kristensen\",male,30,0,0,250646,13,,S\\r\\n215,0,3,\"Kiernan, Mr. Philip\",male,,1,0,367229,7.75,,Q\\r\\n216,1,1,\"Newell, Miss. Madeleine\",female,31,1,0,35273,113.275,D36,C\\r\\n217,1,3,\"Honkanen, Miss. Eliina\",female,27,0,0,STON/O2. 3101283,7.925,,S\\r\\n218,0,2,\"Jacobsohn, Mr. Sidney Samuel\",male,42,1,0,243847,27,,S\\r\\n219,1,1,\"Bazzani, Miss. Albina\",female,32,0,0,11813,76.2917,D15,C\\r\\n220,0,2,\"Harris, Mr. Walter\",male,30,0,0,W/C 14208,10.5,,S\\r\\n221,1,3,\"Sunderland, Mr. Victor Francis\",male,16,0,0,SOTON/OQ 392089,8.05,,S\\r\\n222,0,2,\"Bracken, Mr. James H\",male,27,0,0,220367,13,,S\\r\\n223,0,3,\"Green, Mr. George Henry\",male,51,0,0,21440,8.05,,S\\r\\n224,0,3,\"Nenkoff, Mr. Christo\",male,,0,0,349234,7.8958,,S\\r\\n225,1,1,\"Hoyt, Mr. Frederick Maxfield\",male,38,1,0,19943,90,C93,S\\r\\n226,0,3,\"Berglund, Mr. Karl Ivar Sven\",male,22,0,0,PP 4348,9.35,,S\\r\\n227,1,2,\"Mellors, Mr. William John\",male,19,0,0,SW/PP 751,10.5,,S\\r\\n228,0,3,\"Lovell, Mr. John Hall (\"\"Henry\"\")\",male,20.5,0,0,A/5 21173,7.25,,S\\r\\n229,0,2,\"Fahlstrom, Mr. Arne Jonas\",male,18,0,0,236171,13,,S\\r\\n230,0,3,\"Lefebre, Miss. Mathilde\",female,,3,1,4133,25.4667,,S\\r\\n231,1,1,\"Harris, Mrs. Henry Birkhardt (Irene Wallach)\",female,35,1,0,36973,83.475,C83,S\\r\\n232,0,3,\"Larsson, Mr. Bengt Edvin\",male,29,0,0,347067,7.775,,S\\r\\n233,0,2,\"Sjostedt, Mr. Ernst Adolf\",male,59,0,0,237442,13.5,,S\\r\\n234,1,3,\"Asplund, Miss. Lillian Gertrud\",female,5,4,2,347077,31.3875,,S\\r\\n235,0,2,\"Leyson, Mr. Robert William Norman\",male,24,0,0,C.A. 29566,10.5,,S\\r\\n236,0,3,\"Harknett, Miss. Alice Phoebe\",female,,0,0,W./C. 6609,7.55,,S\\r\\n237,0,2,\"Hold, Mr. Stephen\",male,44,1,0,26707,26,,S\\r\\n238,1,2,\"Collyer, Miss. Marjorie \"\"Lottie\"\"\",female,8,0,2,C.A. 31921,26.25,,S\\r\\n239,0,2,\"Pengelly, Mr. Frederick William\",male,19,0,0,28665,10.5,,S\\r\\n240,0,2,\"Hunt, Mr. George Henry\",male,33,0,0,SCO/W 1585,12.275,,S\\r\\n241,0,3,\"Zabour, Miss. Thamine\",female,,1,0,2665,14.4542,,C\\r\\n242,1,3,\"Murphy, Miss. Katherine \"\"Kate\"\"\",female,,1,0,367230,15.5,,Q\\r\\n243,0,2,\"Coleridge, Mr. Reginald Charles\",male,29,0,0,W./C. 14263,10.5,,S\\r\\n244,0,3,\"Maenpaa, Mr. Matti Alexanteri\",male,22,0,0,STON/O 2. 3101275,7.125,,S\\r\\n245,0,3,\"Attalah, Mr. Sleiman\",male,30,0,0,2694,7.225,,C\\r\\n246,0,1,\"Minahan, Dr. William Edward\",male,44,2,0,19928,90,C78,Q\\r\\n247,0,3,\"Lindahl, Miss. Agda Thorilda Viktoria\",female,25,0,0,347071,7.775,,S\\r\\n248,1,2,\"Hamalainen, Mrs. William (Anna)\",female,24,0,2,250649,14.5,,S\\r\\n249,1,1,\"Beckwith, Mr. Richard Leonard\",male,37,1,1,11751,52.5542,D35,S\\r\\n250,0,2,\"Carter, Rev. Ernest Courtenay\",male,54,1,0,244252,26,,S\\r\\n251,0,3,\"Reed, Mr. James George\",male,,0,0,362316,7.25,,S\\r\\n252,0,3,\"Strom, Mrs. Wilhelm (Elna Matilda Persson)\",female,29,1,1,347054,10.4625,G6,S\\r\\n253,0,1,\"Stead, Mr. William Thomas\",male,62,0,0,113514,26.55,C87,S\\r\\n254,0,3,\"Lobb, Mr. William Arthur\",male,30,1,0,A/5. 3336,16.1,,S\\r\\n255,0,3,\"Rosblom, Mrs. Viktor (Helena Wilhelmina)\",female,41,0,2,370129,20.2125,,S\\r\\n256,1,3,\"Touma, Mrs. Darwis (Hanne Youssef Razi)\",female,29,0,2,2650,15.2458,,C\\r\\n257,1,1,\"Thorne, Mrs. Gertrude Maybelle\",female,,0,0,PC 17585,79.2,,C\\r\\n258,1,1,\"Cherry, Miss. Gladys\",female,30,0,0,110152,86.5,B77,S\\r\\n259,1,1,\"Ward, Miss. Anna\",female,35,0,0,PC 17755,512.3292,,C\\r\\n260,1,2,\"Parrish, Mrs. (Lutie Davis)\",female,50,0,1,230433,26,,S\\r\\n261,0,3,\"Smith, Mr. Thomas\",male,,0,0,384461,7.75,,Q\\r\\n262,1,3,\"Asplund, Master. Edvin Rojj Felix\",male,3,4,2,347077,31.3875,,S\\r\\n263,0,1,\"Taussig, Mr. Emil\",male,52,1,1,110413,79.65,E67,S\\r\\n264,0,1,\"Harrison, Mr. William\",male,40,0,0,112059,0,B94,S\\r\\n265,0,3,\"Henry, Miss. Delia\",female,,0,0,382649,7.75,,Q\\r\\n266,0,2,\"Reeves, Mr. David\",male,36,0,0,C.A. 17248,10.5,,S\\r\\n267,0,3,\"Panula, Mr. Ernesti Arvid\",male,16,4,1,3101295,39.6875,,S\\r\\n268,1,3,\"Persson, Mr. Ernst Ulrik\",male,25,1,0,347083,7.775,,S\\r\\n269,1,1,\"Graham, Mrs. William Thompson (Edith Junkins)\",female,58,0,1,PC 17582,153.4625,C125,S\\r\\n270,1,1,\"Bissette, Miss. Amelia\",female,35,0,0,PC 17760,135.6333,C99,S\\r\\n271,0,1,\"Cairns, Mr. Alexander\",male,,0,0,113798,31,,S\\r\\n272,1,3,\"Tornquist, Mr. William Henry\",male,25,0,0,LINE,0,,S\\r\\n273,1,2,\"Mellinger, Mrs. (Elizabeth Anne Maidment)\",female,41,0,1,250644,19.5,,S\\r\\n274,0,1,\"Natsch, Mr. Charles H\",male,37,0,1,PC 17596,29.7,C118,C\\r\\n275,1,3,\"Healy, Miss. Hanora \"\"Nora\"\"\",female,,0,0,370375,7.75,,Q\\r\\n276,1,1,\"Andrews, Miss. Kornelia Theodosia\",female,63,1,0,13502,77.9583,D7,S\\r\\n277,0,3,\"Lindblom, Miss. Augusta Charlotta\",female,45,0,0,347073,7.75,,S\\r\\n278,0,2,\"Parkes, Mr. Francis \"\"Frank\"\"\",male,,0,0,239853,0,,S\\r\\n279,0,3,\"Rice, Master. Eric\",male,7,4,1,382652,29.125,,Q\\r\\n280,1,3,\"Abbott, Mrs. Stanton (Rosa Hunt)\",female,35,1,1,C.A. 2673,20.25,,S\\r\\n281,0,3,\"Duane, Mr. Frank\",male,65,0,0,336439,7.75,,Q\\r\\n282,0,3,\"Olsson, Mr. Nils Johan Goransson\",male,28,0,0,347464,7.8542,,S\\r\\n283,0,3,\"de Pelsmaeker, Mr. Alfons\",male,16,0,0,345778,9.5,,S\\r\\n284,1,3,\"Dorking, Mr. Edward Arthur\",male,19,0,0,A/5. 10482,8.05,,S\\r\\n285,0,1,\"Smith, Mr. Richard William\",male,,0,0,113056,26,A19,S\\r\\n286,0,3,\"Stankovic, Mr. Ivan\",male,33,0,0,349239,8.6625,,C\\r\\n287,1,3,\"de Mulder, Mr. Theodore\",male,30,0,0,345774,9.5,,S\\r\\n288,0,3,\"Naidenoff, Mr. Penko\",male,22,0,0,349206,7.8958,,S\\r\\n289,1,2,\"Hosono, Mr. Masabumi\",male,42,0,0,237798,13,,S\\r\\n290,1,3,\"Connolly, Miss. Kate\",female,22,0,0,370373,7.75,,Q\\r\\n291,1,1,\"Barber, Miss. Ellen \"\"Nellie\"\"\",female,26,0,0,19877,78.85,,S\\r\\n292,1,1,\"Bishop, Mrs. Dickinson H (Helen Walton)\",female,19,1,0,11967,91.0792,B49,C\\r\\n293,0,2,\"Levy, Mr. Rene Jacques\",male,36,0,0,SC/Paris 2163,12.875,D,C\\r\\n294,0,3,\"Haas, Miss. Aloisia\",female,24,0,0,349236,8.85,,S\\r\\n295,0,3,\"Mineff, Mr. Ivan\",male,24,0,0,349233,7.8958,,S\\r\\n296,0,1,\"Lewy, Mr. Ervin G\",male,,0,0,PC 17612,27.7208,,C\\r\\n297,0,3,\"Hanna, Mr. Mansour\",male,23.5,0,0,2693,7.2292,,C\\r\\n298,0,1,\"Allison, Miss. Helen Loraine\",female,2,1,2,113781,151.55,C22 C26,S\\r\\n299,1,1,\"Saalfeld, Mr. Adolphe\",male,,0,0,19988,30.5,C106,S\\r\\n300,1,1,\"Baxter, Mrs. James (Helene DeLaudeniere Chaput)\",female,50,0,1,PC 17558,247.5208,B58 B60,C\\r\\n301,1,3,\"Kelly, Miss. Anna Katherine \"\"Annie Kate\"\"\",female,,0,0,9234,7.75,,Q\\r\\n302,1,3,\"McCoy, Mr. Bernard\",male,,2,0,367226,23.25,,Q\\r\\n303,0,3,\"Johnson, Mr. William Cahoone Jr\",male,19,0,0,LINE,0,,S\\r\\n304,1,2,\"Keane, Miss. Nora A\",female,,0,0,226593,12.35,E101,Q\\r\\n305,0,3,\"Williams, Mr. Howard Hugh \"\"Harry\"\"\",male,,0,0,A/5 2466,8.05,,S\\r\\n306,1,1,\"Allison, Master. Hudson Trevor\",male,0.92,1,2,113781,151.55,C22 C26,S\\r\\n307,1,1,\"Fleming, Miss. Margaret\",female,,0,0,17421,110.8833,,C\\r\\n308,1,1,\"Penasco y Castellana, Mrs. Victor de Satode (Maria Josefa Perez de Soto y Vallejo)\",female,17,1,0,PC 17758,108.9,C65,C\\r\\n309,0,2,\"Abelson, Mr. Samuel\",male,30,1,0,P/PP 3381,24,,C\\r\\n310,1,1,\"Francatelli, Miss. Laura Mabel\",female,30,0,0,PC 17485,56.9292,E36,C\\r\\n311,1,1,\"Hays, Miss. Margaret Bechstein\",female,24,0,0,11767,83.1583,C54,C\\r\\n312,1,1,\"Ryerson, Miss. Emily Borie\",female,18,2,2,PC 17608,262.375,B57 B59 B63 B66,C\\r\\n313,0,2,\"Lahtinen, Mrs. William (Anna Sylfven)\",female,26,1,1,250651,26,,S\\r\\n314,0,3,\"Hendekovic, Mr. Ignjac\",male,28,0,0,349243,7.8958,,S\\r\\n315,0,2,\"Hart, Mr. Benjamin\",male,43,1,1,F.C.C. 13529,26.25,,S\\r\\n316,1,3,\"Nilsson, Miss. Helmina Josefina\",female,26,0,0,347470,7.8542,,S\\r\\n317,1,2,\"Kantor, Mrs. Sinai (Miriam Sternin)\",female,24,1,0,244367,26,,S\\r\\n318,0,2,\"Moraweck, Dr. Ernest\",male,54,0,0,29011,14,,S\\r\\n319,1,1,\"Wick, Miss. Mary Natalie\",female,31,0,2,36928,164.8667,C7,S\\r\\n320,1,1,\"Spedden, Mrs. Frederic Oakley (Margaretta Corning Stone)\",female,40,1,1,16966,134.5,E34,C\\r\\n321,0,3,\"Dennis, Mr. Samuel\",male,22,0,0,A/5 21172,7.25,,S\\r\\n322,0,3,\"Danoff, Mr. Yoto\",male,27,0,0,349219,7.8958,,S\\r\\n323,1,2,\"Slayter, Miss. Hilda Mary\",female,30,0,0,234818,12.35,,Q\\r\\n324,1,2,\"Caldwell, Mrs. Albert Francis (Sylvia Mae Harbaugh)\",female,22,1,1,248738,29,,S\\r\\n325,0,3,\"Sage, Mr. George John Jr\",male,,8,2,CA. 2343,69.55,,S\\r\\n326,1,1,\"Young, Miss. Marie Grice\",female,36,0,0,PC 17760,135.6333,C32,C\\r\\n327,0,3,\"Nysveen, Mr. Johan Hansen\",male,61,0,0,345364,6.2375,,S\\r\\n328,1,2,\"Ball, Mrs. (Ada E Hall)\",female,36,0,0,28551,13,D,S\\r\\n329,1,3,\"Goldsmith, Mrs. Frank John (Emily Alice Brown)\",female,31,1,1,363291,20.525,,S\\r\\n330,1,1,\"Hippach, Miss. Jean Gertrude\",female,16,0,1,111361,57.9792,B18,C\\r\\n331,1,3,\"McCoy, Miss. Agnes\",female,,2,0,367226,23.25,,Q\\r\\n332,0,1,\"Partner, Mr. Austen\",male,45.5,0,0,113043,28.5,C124,S\\r\\n333,0,1,\"Graham, Mr. George Edward\",male,38,0,1,PC 17582,153.4625,C91,S\\r\\n334,0,3,\"Vander Planke, Mr. Leo Edmondus\",male,16,2,0,345764,18,,S\\r\\n335,1,1,\"Frauenthal, Mrs. Henry William (Clara Heinsheimer)\",female,,1,0,PC 17611,133.65,,S\\r\\n336,0,3,\"Denkoff, Mr. Mitto\",male,,0,0,349225,7.8958,,S\\r\\n337,0,1,\"Pears, Mr. Thomas Clinton\",male,29,1,0,113776,66.6,C2,S\\r\\n338,1,1,\"Burns, Miss. Elizabeth Margaret\",female,41,0,0,16966,134.5,E40,C\\r\\n339,1,3,\"Dahl, Mr. Karl Edwart\",male,45,0,0,7598,8.05,,S\\r\\n340,0,1,\"Blackwell, Mr. Stephen Weart\",male,45,0,0,113784,35.5,T,S\\r\\n341,1,2,\"Navratil, Master. Edmond Roger\",male,2,1,1,230080,26,F2,S\\r\\n342,1,1,\"Fortune, Miss. Alice Elizabeth\",female,24,3,2,19950,263,C23 C25 C27,S\\r\\n343,0,2,\"Collander, Mr. Erik Gustaf\",male,28,0,0,248740,13,,S\\r\\n344,0,2,\"Sedgwick, Mr. Charles Frederick Waddington\",male,25,0,0,244361,13,,S\\r\\n345,0,2,\"Fox, Mr. Stanley Hubert\",male,36,0,0,229236,13,,S\\r\\n346,1,2,\"Brown, Miss. Amelia \"\"Mildred\"\"\",female,24,0,0,248733,13,F33,S\\r\\n347,1,2,\"Smith, Miss. Marion Elsie\",female,40,0,0,31418,13,,S\\r\\n348,1,3,\"Davison, Mrs. Thomas Henry (Mary E Finck)\",female,,1,0,386525,16.1,,S\\r\\n349,1,3,\"Coutts, Master. William Loch \"\"William\"\"\",male,3,1,1,C.A. 37671,15.9,,S\\r\\n350,0,3,\"Dimic, Mr. Jovan\",male,42,0,0,315088,8.6625,,S\\r\\n351,0,3,\"Odahl, Mr. Nils Martin\",male,23,0,0,7267,9.225,,S\\r\\n352,0,1,\"Williams-Lambert, Mr. Fletcher Fellows\",male,,0,0,113510,35,C128,S\\r\\n353,0,3,\"Elias, Mr. Tannous\",male,15,1,1,2695,7.2292,,C\\r\\n354,0,3,\"Arnold-Franchi, Mr. Josef\",male,25,1,0,349237,17.8,,S\\r\\n355,0,3,\"Yousif, Mr. Wazli\",male,,0,0,2647,7.225,,C\\r\\n356,0,3,\"Vanden Steen, Mr. Leo Peter\",male,28,0,0,345783,9.5,,S\\r\\n357,1,1,\"Bowerman, Miss. Elsie Edith\",female,22,0,1,113505,55,E33,S\\r\\n358,0,2,\"Funk, Miss. Annie Clemmer\",female,38,0,0,237671,13,,S\\r\\n359,1,3,\"McGovern, Miss. Mary\",female,,0,0,330931,7.8792,,Q\\r\\n360,1,3,\"Mockler, Miss. Helen Mary \"\"Ellie\"\"\",female,,0,0,330980,7.8792,,Q\\r\\n361,0,3,\"Skoog, Mr. Wilhelm\",male,40,1,4,347088,27.9,,S\\r\\n362,0,2,\"del Carlo, Mr. Sebastiano\",male,29,1,0,SC/PARIS 2167,27.7208,,C\\r\\n363,0,3,\"Barbara, Mrs. (Catherine David)\",female,45,0,1,2691,14.4542,,C\\r\\n364,0,3,\"Asim, Mr. Adola\",male,35,0,0,SOTON/O.Q. 3101310,7.05,,S\\r\\n365,0,3,\"O\\'Brien, Mr. Thomas\",male,,1,0,370365,15.5,,Q\\r\\n366,0,3,\"Adahl, Mr. Mauritz Nils Martin\",male,30,0,0,C 7076,7.25,,S\\r\\n367,1,1,\"Warren, Mrs. Frank Manley (Anna Sophia Atkinson)\",female,60,1,0,110813,75.25,D37,C\\r\\n368,1,3,\"Moussa, Mrs. (Mantoura Boulos)\",female,,0,0,2626,7.2292,,C\\r\\n369,1,3,\"Jermyn, Miss. Annie\",female,,0,0,14313,7.75,,Q\\r\\n370,1,1,\"Aubart, Mme. Leontine Pauline\",female,24,0,0,PC 17477,69.3,B35,C\\r\\n371,1,1,\"Harder, Mr. George Achilles\",male,25,1,0,11765,55.4417,E50,C\\r\\n372,0,3,\"Wiklund, Mr. Jakob Alfred\",male,18,1,0,3101267,6.4958,,S\\r\\n373,0,3,\"Beavan, Mr. William Thomas\",male,19,0,0,323951,8.05,,S\\r\\n374,0,1,\"Ringhini, Mr. Sante\",male,22,0,0,PC 17760,135.6333,,C\\r\\n375,0,3,\"Palsson, Miss. Stina Viola\",female,3,3,1,349909,21.075,,S\\r\\n376,1,1,\"Meyer, Mrs. Edgar Joseph (Leila Saks)\",female,,1,0,PC 17604,82.1708,,C\\r\\n377,1,3,\"Landergren, Miss. Aurora Adelia\",female,22,0,0,C 7077,7.25,,S\\r\\n378,0,1,\"Widener, Mr. Harry Elkins\",male,27,0,2,113503,211.5,C82,C\\r\\n379,0,3,\"Betros, Mr. Tannous\",male,20,0,0,2648,4.0125,,C\\r\\n380,0,3,\"Gustafsson, Mr. Karl Gideon\",male,19,0,0,347069,7.775,,S\\r\\n381,1,1,\"Bidois, Miss. Rosalie\",female,42,0,0,PC 17757,227.525,,C\\r\\n382,1,3,\"Nakid, Miss. Maria (\"\"Mary\"\")\",female,1,0,2,2653,15.7417,,C\\r\\n383,0,3,\"Tikkanen, Mr. Juho\",male,32,0,0,STON/O 2. 3101293,7.925,,S\\r\\n384,1,1,\"Holverson, Mrs. Alexander Oskar (Mary Aline Towner)\",female,35,1,0,113789,52,,S\\r\\n385,0,3,\"Plotcharsky, Mr. Vasil\",male,,0,0,349227,7.8958,,S\\r\\n386,0,2,\"Davies, Mr. Charles Henry\",male,18,0,0,S.O.C. 14879,73.5,,S\\r\\n387,0,3,\"Goodwin, Master. Sidney Leonard\",male,1,5,2,CA 2144,46.9,,S\\r\\n388,1,2,\"Buss, Miss. Kate\",female,36,0,0,27849,13,,S\\r\\n389,0,3,\"Sadlier, Mr. Matthew\",male,,0,0,367655,7.7292,,Q\\r\\n390,1,2,\"Lehmann, Miss. Bertha\",female,17,0,0,SC 1748,12,,C\\r\\n391,1,1,\"Carter, Mr. William Ernest\",male,36,1,2,113760,120,B96 B98,S\\r\\n392,1,3,\"Jansson, Mr. Carl Olof\",male,21,0,0,350034,7.7958,,S\\r\\n393,0,3,\"Gustafsson, Mr. Johan Birger\",male,28,2,0,3101277,7.925,,S\\r\\n394,1,1,\"Newell, Miss. Marjorie\",female,23,1,0,35273,113.275,D36,C\\r\\n395,1,3,\"Sandstrom, Mrs. Hjalmar (Agnes Charlotta Bengtsson)\",female,24,0,2,PP 9549,16.7,G6,S\\r\\n396,0,3,\"Johansson, Mr. Erik\",male,22,0,0,350052,7.7958,,S\\r\\n397,0,3,\"Olsson, Miss. Elina\",female,31,0,0,350407,7.8542,,S\\r\\n398,0,2,\"McKane, Mr. Peter David\",male,46,0,0,28403,26,,S\\r\\n399,0,2,\"Pain, Dr. Alfred\",male,23,0,0,244278,10.5,,S\\r\\n400,1,2,\"Trout, Mrs. William H (Jessie L)\",female,28,0,0,240929,12.65,,S\\r\\n401,1,3,\"Niskanen, Mr. Juha\",male,39,0,0,STON/O 2. 3101289,7.925,,S\\r\\n402,0,3,\"Adams, Mr. John\",male,26,0,0,341826,8.05,,S\\r\\n403,0,3,\"Jussila, Miss. Mari Aina\",female,21,1,0,4137,9.825,,S\\r\\n404,0,3,\"Hakkarainen, Mr. Pekka Pietari\",male,28,1,0,STON/O2. 3101279,15.85,,S\\r\\n405,0,3,\"Oreskovic, Miss. Marija\",female,20,0,0,315096,8.6625,,S\\r\\n406,0,2,\"Gale, Mr. Shadrach\",male,34,1,0,28664,21,,S\\r\\n407,0,3,\"Widegren, Mr. Carl/Charles Peter\",male,51,0,0,347064,7.75,,S\\r\\n408,1,2,\"Richards, Master. William Rowe\",male,3,1,1,29106,18.75,,S\\r\\n409,0,3,\"Birkeland, Mr. Hans Martin Monsen\",male,21,0,0,312992,7.775,,S\\r\\n410,0,3,\"Lefebre, Miss. Ida\",female,,3,1,4133,25.4667,,S\\r\\n411,0,3,\"Sdycoff, Mr. Todor\",male,,0,0,349222,7.8958,,S\\r\\n412,0,3,\"Hart, Mr. Henry\",male,,0,0,394140,6.8583,,Q\\r\\n413,1,1,\"Minahan, Miss. Daisy E\",female,33,1,0,19928,90,C78,Q\\r\\n414,0,2,\"Cunningham, Mr. Alfred Fleming\",male,,0,0,239853,0,,S\\r\\n415,1,3,\"Sundman, Mr. Johan Julian\",male,44,0,0,STON/O 2. 3101269,7.925,,S\\r\\n416,0,3,\"Meek, Mrs. Thomas (Annie Louise Rowley)\",female,,0,0,343095,8.05,,S\\r\\n417,1,2,\"Drew, Mrs. James Vivian (Lulu Thorne Christian)\",female,34,1,1,28220,32.5,,S\\r\\n418,1,2,\"Silven, Miss. Lyyli Karoliina\",female,18,0,2,250652,13,,S\\r\\n419,0,2,\"Matthews, Mr. William John\",male,30,0,0,28228,13,,S\\r\\n420,0,3,\"Van Impe, Miss. Catharina\",female,10,0,2,345773,24.15,,S\\r\\n421,0,3,\"Gheorgheff, Mr. Stanio\",male,,0,0,349254,7.8958,,C\\r\\n422,0,3,\"Charters, Mr. David\",male,21,0,0,A/5. 13032,7.7333,,Q\\r\\n423,0,3,\"Zimmerman, Mr. Leo\",male,29,0,0,315082,7.875,,S\\r\\n424,0,3,\"Danbom, Mrs. Ernst Gilbert (Anna Sigrid Maria Brogren)\",female,28,1,1,347080,14.4,,S\\r\\n425,0,3,\"Rosblom, Mr. Viktor Richard\",male,18,1,1,370129,20.2125,,S\\r\\n426,0,3,\"Wiseman, Mr. Phillippe\",male,,0,0,A/4. 34244,7.25,,S\\r\\n427,1,2,\"Clarke, Mrs. Charles V (Ada Maria Winfield)\",female,28,1,0,2003,26,,S\\r\\n428,1,2,\"Phillips, Miss. Kate Florence (\"\"Mrs Kate Louise Phillips Marshall\"\")\",female,19,0,0,250655,26,,S\\r\\n429,0,3,\"Flynn, Mr. James\",male,,0,0,364851,7.75,,Q\\r\\n430,1,3,\"Pickard, Mr. Berk (Berk Trembisky)\",male,32,0,0,SOTON/O.Q. 392078,8.05,E10,S\\r\\n431,1,1,\"Bjornstrom-Steffansson, Mr. Mauritz Hakan\",male,28,0,0,110564,26.55,C52,S\\r\\n432,1,3,\"Thorneycroft, Mrs. Percival (Florence Kate White)\",female,,1,0,376564,16.1,,S\\r\\n433,1,2,\"Louch, Mrs. Charles Alexander (Alice Adelaide Slow)\",female,42,1,0,SC/AH 3085,26,,S\\r\\n434,0,3,\"Kallio, Mr. Nikolai Erland\",male,17,0,0,STON/O 2. 3101274,7.125,,S\\r\\n435,0,1,\"Silvey, Mr. William Baird\",male,50,1,0,13507,55.9,E44,S\\r\\n436,1,1,\"Carter, Miss. Lucile Polk\",female,14,1,2,113760,120,B96 B98,S\\r\\n437,0,3,\"Ford, Miss. Doolina Margaret \"\"Daisy\"\"\",female,21,2,2,W./C. 6608,34.375,,S\\r\\n438,1,2,\"Richards, Mrs. Sidney (Emily Hocking)\",female,24,2,3,29106,18.75,,S\\r\\n439,0,1,\"Fortune, Mr. Mark\",male,64,1,4,19950,263,C23 C25 C27,S\\r\\n440,0,2,\"Kvillner, Mr. Johan Henrik Johannesson\",male,31,0,0,C.A. 18723,10.5,,S\\r\\n441,1,2,\"Hart, Mrs. Benjamin (Esther Ada Bloomfield)\",female,45,1,1,F.C.C. 13529,26.25,,S\\r\\n442,0,3,\"Hampe, Mr. Leon\",male,20,0,0,345769,9.5,,S\\r\\n443,0,3,\"Petterson, Mr. Johan Emil\",male,25,1,0,347076,7.775,,S\\r\\n444,1,2,\"Reynaldo, Ms. Encarnacion\",female,28,0,0,230434,13,,S\\r\\n445,1,3,\"Johannesen-Bratthammer, Mr. Bernt\",male,,0,0,65306,8.1125,,S\\r\\n446,1,1,\"Dodge, Master. Washington\",male,4,0,2,33638,81.8583,A34,S\\r\\n447,1,2,\"Mellinger, Miss. Madeleine Violet\",female,13,0,1,250644,19.5,,S\\r\\n448,1,1,\"Seward, Mr. Frederic Kimber\",male,34,0,0,113794,26.55,,S\\r\\n449,1,3,\"Baclini, Miss. Marie Catherine\",female,5,2,1,2666,19.2583,,C\\r\\n450,1,1,\"Peuchen, Major. Arthur Godfrey\",male,52,0,0,113786,30.5,C104,S\\r\\n451,0,2,\"West, Mr. Edwy Arthur\",male,36,1,2,C.A. 34651,27.75,,S\\r\\n452,0,3,\"Hagland, Mr. Ingvald Olai Olsen\",male,,1,0,65303,19.9667,,S\\r\\n453,0,1,\"Foreman, Mr. Benjamin Laventall\",male,30,0,0,113051,27.75,C111,C\\r\\n454,1,1,\"Goldenberg, Mr. Samuel L\",male,49,1,0,17453,89.1042,C92,C\\r\\n455,0,3,\"Peduzzi, Mr. Joseph\",male,,0,0,A/5 2817,8.05,,S\\r\\n456,1,3,\"Jalsevac, Mr. Ivan\",male,29,0,0,349240,7.8958,,C\\r\\n457,0,1,\"Millet, Mr. Francis Davis\",male,65,0,0,13509,26.55,E38,S\\r\\n458,1,1,\"Kenyon, Mrs. Frederick R (Marion)\",female,,1,0,17464,51.8625,D21,S\\r\\n459,1,2,\"Toomey, Miss. Ellen\",female,50,0,0,F.C.C. 13531,10.5,,S\\r\\n460,0,3,\"O\\'Connor, Mr. Maurice\",male,,0,0,371060,7.75,,Q\\r\\n461,1,1,\"Anderson, Mr. Harry\",male,48,0,0,19952,26.55,E12,S\\r\\n462,0,3,\"Morley, Mr. William\",male,34,0,0,364506,8.05,,S\\r\\n463,0,1,\"Gee, Mr. Arthur H\",male,47,0,0,111320,38.5,E63,S\\r\\n464,0,2,\"Milling, Mr. Jacob Christian\",male,48,0,0,234360,13,,S\\r\\n465,0,3,\"Maisner, Mr. Simon\",male,,0,0,A/S 2816,8.05,,S\\r\\n466,0,3,\"Goncalves, Mr. Manuel Estanslas\",male,38,0,0,SOTON/O.Q. 3101306,7.05,,S\\r\\n467,0,2,\"Campbell, Mr. William\",male,,0,0,239853,0,,S\\r\\n468,0,1,\"Smart, Mr. John Montgomery\",male,56,0,0,113792,26.55,,S\\r\\n469,0,3,\"Scanlan, Mr. James\",male,,0,0,36209,7.725,,Q\\r\\n470,1,3,\"Baclini, Miss. Helene Barbara\",female,0.75,2,1,2666,19.2583,,C\\r\\n471,0,3,\"Keefe, Mr. Arthur\",male,,0,0,323592,7.25,,S\\r\\n472,0,3,\"Cacic, Mr. Luka\",male,38,0,0,315089,8.6625,,S\\r\\n473,1,2,\"West, Mrs. Edwy Arthur (Ada Mary Worth)\",female,33,1,2,C.A. 34651,27.75,,S\\r\\n474,1,2,\"Jerwan, Mrs. Amin S (Marie Marthe Thuillard)\",female,23,0,0,SC/AH Basle 541,13.7917,D,C\\r\\n475,0,3,\"Strandberg, Miss. Ida Sofia\",female,22,0,0,7553,9.8375,,S\\r\\n476,0,1,\"Clifford, Mr. George Quincy\",male,,0,0,110465,52,A14,S\\r\\n477,0,2,\"Renouf, Mr. Peter Henry\",male,34,1,0,31027,21,,S\\r\\n478,0,3,\"Braund, Mr. Lewis Richard\",male,29,1,0,3460,7.0458,,S\\r\\n479,0,3,\"Karlsson, Mr. Nils August\",male,22,0,0,350060,7.5208,,S\\r\\n480,1,3,\"Hirvonen, Miss. Hildur E\",female,2,0,1,3101298,12.2875,,S\\r\\n481,0,3,\"Goodwin, Master. Harold Victor\",male,9,5,2,CA 2144,46.9,,S\\r\\n482,0,2,\"Frost, Mr. Anthony Wood \"\"Archie\"\"\",male,,0,0,239854,0,,S\\r\\n483,0,3,\"Rouse, Mr. Richard Henry\",male,50,0,0,A/5 3594,8.05,,S\\r\\n484,1,3,\"Turkula, Mrs. (Hedwig)\",female,63,0,0,4134,9.5875,,S\\r\\n485,1,1,\"Bishop, Mr. Dickinson H\",male,25,1,0,11967,91.0792,B49,C\\r\\n486,0,3,\"Lefebre, Miss. Jeannie\",female,,3,1,4133,25.4667,,S\\r\\n487,1,1,\"Hoyt, Mrs. Frederick Maxfield (Jane Anne Forby)\",female,35,1,0,19943,90,C93,S\\r\\n488,0,1,\"Kent, Mr. Edward Austin\",male,58,0,0,11771,29.7,B37,C\\r\\n489,0,3,\"Somerton, Mr. Francis William\",male,30,0,0,A.5. 18509,8.05,,S\\r\\n490,1,3,\"Coutts, Master. Eden Leslie \"\"Neville\"\"\",male,9,1,1,C.A. 37671,15.9,,S\\r\\n491,0,3,\"Hagland, Mr. Konrad Mathias Reiersen\",male,,1,0,65304,19.9667,,S\\r\\n492,0,3,\"Windelov, Mr. Einar\",male,21,0,0,SOTON/OQ 3101317,7.25,,S\\r\\n493,0,1,\"Molson, Mr. Harry Markland\",male,55,0,0,113787,30.5,C30,S\\r\\n494,0,1,\"Artagaveytia, Mr. Ramon\",male,71,0,0,PC 17609,49.5042,,C\\r\\n495,0,3,\"Stanley, Mr. Edward Roland\",male,21,0,0,A/4 45380,8.05,,S\\r\\n496,0,3,\"Yousseff, Mr. Gerious\",male,,0,0,2627,14.4583,,C\\r\\n497,1,1,\"Eustis, Miss. Elizabeth Mussey\",female,54,1,0,36947,78.2667,D20,C\\r\\n498,0,3,\"Shellard, Mr. Frederick William\",male,,0,0,C.A. 6212,15.1,,S\\r\\n499,0,1,\"Allison, Mrs. Hudson J C (Bessie Waldo Daniels)\",female,25,1,2,113781,151.55,C22 C26,S\\r\\n500,0,3,\"Svensson, Mr. Olof\",male,24,0,0,350035,7.7958,,S\\r\\n501,0,3,\"Calic, Mr. Petar\",male,17,0,0,315086,8.6625,,S\\r\\n502,0,3,\"Canavan, Miss. Mary\",female,21,0,0,364846,7.75,,Q\\r\\n503,0,3,\"O\\'Sullivan, Miss. Bridget Mary\",female,,0,0,330909,7.6292,,Q\\r\\n504,0,3,\"Laitinen, Miss. Kristina Sofia\",female,37,0,0,4135,9.5875,,S\\r\\n505,1,1,\"Maioni, Miss. Roberta\",female,16,0,0,110152,86.5,B79,S\\r\\n506,0,1,\"Penasco y Castellana, Mr. Victor de Satode\",male,18,1,0,PC 17758,108.9,C65,C\\r\\n507,1,2,\"Quick, Mrs. Frederick Charles (Jane Richards)\",female,33,0,2,26360,26,,S\\r\\n508,1,1,\"Bradley, Mr. George (\"\"George Arthur Brayton\"\")\",male,,0,0,111427,26.55,,S\\r\\n509,0,3,\"Olsen, Mr. Henry Margido\",male,28,0,0,C 4001,22.525,,S\\r\\n510,1,3,\"Lang, Mr. Fang\",male,26,0,0,1601,56.4958,,S\\r\\n511,1,3,\"Daly, Mr. Eugene Patrick\",male,29,0,0,382651,7.75,,Q\\r\\n512,0,3,\"Webber, Mr. James\",male,,0,0,SOTON/OQ 3101316,8.05,,S\\r\\n513,1,1,\"McGough, Mr. James Robert\",male,36,0,0,PC 17473,26.2875,E25,S\\r\\n514,1,1,\"Rothschild, Mrs. Martin (Elizabeth L. Barrett)\",female,54,1,0,PC 17603,59.4,,C\\r\\n515,0,3,\"Coleff, Mr. Satio\",male,24,0,0,349209,7.4958,,S\\r\\n516,0,1,\"Walker, Mr. William Anderson\",male,47,0,0,36967,34.0208,D46,S\\r\\n517,1,2,\"Lemore, Mrs. (Amelia Milley)\",female,34,0,0,C.A. 34260,10.5,F33,S\\r\\n518,0,3,\"Ryan, Mr. Patrick\",male,,0,0,371110,24.15,,Q\\r\\n519,1,2,\"Angle, Mrs. William A (Florence \"\"Mary\"\" Agnes Hughes)\",female,36,1,0,226875,26,,S\\r\\n520,0,3,\"Pavlovic, Mr. Stefo\",male,32,0,0,349242,7.8958,,S\\r\\n521,1,1,\"Perreault, Miss. Anne\",female,30,0,0,12749,93.5,B73,S\\r\\n522,0,3,\"Vovk, Mr. Janko\",male,22,0,0,349252,7.8958,,S\\r\\n523,0,3,\"Lahoud, Mr. Sarkis\",male,,0,0,2624,7.225,,C\\r\\n524,1,1,\"Hippach, Mrs. Louis Albert (Ida Sophia Fischer)\",female,44,0,1,111361,57.9792,B18,C\\r\\n525,0,3,\"Kassem, Mr. Fared\",male,,0,0,2700,7.2292,,C\\r\\n526,0,3,\"Farrell, Mr. James\",male,40.5,0,0,367232,7.75,,Q\\r\\n527,1,2,\"Ridsdale, Miss. Lucy\",female,50,0,0,W./C. 14258,10.5,,S\\r\\n528,0,1,\"Farthing, Mr. John\",male,,0,0,PC 17483,221.7792,C95,S\\r\\n529,0,3,\"Salonen, Mr. Johan Werner\",male,39,0,0,3101296,7.925,,S\\r\\n530,0,2,\"Hocking, Mr. Richard George\",male,23,2,1,29104,11.5,,S\\r\\n531,1,2,\"Quick, Miss. Phyllis May\",female,2,1,1,26360,26,,S\\r\\n532,0,3,\"Toufik, Mr. Nakli\",male,,0,0,2641,7.2292,,C\\r\\n533,0,3,\"Elias, Mr. Joseph Jr\",male,17,1,1,2690,7.2292,,C\\r\\n534,1,3,\"Peter, Mrs. Catherine (Catherine Rizk)\",female,,0,2,2668,22.3583,,C\\r\\n535,0,3,\"Cacic, Miss. Marija\",female,30,0,0,315084,8.6625,,S\\r\\n536,1,2,\"Hart, Miss. Eva Miriam\",female,7,0,2,F.C.C. 13529,26.25,,S\\r\\n537,0,1,\"Butt, Major. Archibald Willingham\",male,45,0,0,113050,26.55,B38,S\\r\\n538,1,1,\"LeRoy, Miss. Bertha\",female,30,0,0,PC 17761,106.425,,C\\r\\n539,0,3,\"Risien, Mr. Samuel Beard\",male,,0,0,364498,14.5,,S\\r\\n540,1,1,\"Frolicher, Miss. Hedwig Margaritha\",female,22,0,2,13568,49.5,B39,C\\r\\n541,1,1,\"Crosby, Miss. Harriet R\",female,36,0,2,WE/P 5735,71,B22,S\\r\\n542,0,3,\"Andersson, Miss. Ingeborg Constanzia\",female,9,4,2,347082,31.275,,S\\r\\n543,0,3,\"Andersson, Miss. Sigrid Elisabeth\",female,11,4,2,347082,31.275,,S\\r\\n544,1,2,\"Beane, Mr. Edward\",male,32,1,0,2908,26,,S\\r\\n545,0,1,\"Douglas, Mr. Walter Donald\",male,50,1,0,PC 17761,106.425,C86,C\\r\\n546,0,1,\"Nicholson, Mr. Arthur Ernest\",male,64,0,0,693,26,,S\\r\\n547,1,2,\"Beane, Mrs. Edward (Ethel Clarke)\",female,19,1,0,2908,26,,S\\r\\n548,1,2,\"Padro y Manent, Mr. Julian\",male,,0,0,SC/PARIS 2146,13.8625,,C\\r\\n549,0,3,\"Goldsmith, Mr. Frank John\",male,33,1,1,363291,20.525,,S\\r\\n550,1,2,\"Davies, Master. John Morgan Jr\",male,8,1,1,C.A. 33112,36.75,,S\\r\\n551,1,1,\"Thayer, Mr. John Borland Jr\",male,17,0,2,17421,110.8833,C70,C\\r\\n552,0,2,\"Sharp, Mr. Percival James R\",male,27,0,0,244358,26,,S\\r\\n553,0,3,\"O\\'Brien, Mr. Timothy\",male,,0,0,330979,7.8292,,Q\\r\\n554,1,3,\"Leeni, Mr. Fahim (\"\"Philip Zenni\"\")\",male,22,0,0,2620,7.225,,C\\r\\n555,1,3,\"Ohman, Miss. Velin\",female,22,0,0,347085,7.775,,S\\r\\n556,0,1,\"Wright, Mr. George\",male,62,0,0,113807,26.55,,S\\r\\n557,1,1,\"Duff Gordon, Lady. (Lucille Christiana Sutherland) (\"\"Mrs Morgan\"\")\",female,48,1,0,11755,39.6,A16,C\\r\\n558,0,1,\"Robbins, Mr. Victor\",male,,0,0,PC 17757,227.525,,C\\r\\n559,1,1,\"Taussig, Mrs. Emil (Tillie Mandelbaum)\",female,39,1,1,110413,79.65,E67,S\\r\\n560,1,3,\"de Messemaeker, Mrs. Guillaume Joseph (Emma)\",female,36,1,0,345572,17.4,,S\\r\\n561,0,3,\"Morrow, Mr. Thomas Rowan\",male,,0,0,372622,7.75,,Q\\r\\n562,0,3,\"Sivic, Mr. Husein\",male,40,0,0,349251,7.8958,,S\\r\\n563,0,2,\"Norman, Mr. Robert Douglas\",male,28,0,0,218629,13.5,,S\\r\\n564,0,3,\"Simmons, Mr. John\",male,,0,0,SOTON/OQ 392082,8.05,,S\\r\\n565,0,3,\"Meanwell, Miss. (Marion Ogden)\",female,,0,0,SOTON/O.Q. 392087,8.05,,S\\r\\n566,0,3,\"Davies, Mr. Alfred J\",male,24,2,0,A/4 48871,24.15,,S\\r\\n567,0,3,\"Stoytcheff, Mr. Ilia\",male,19,0,0,349205,7.8958,,S\\r\\n568,0,3,\"Palsson, Mrs. Nils (Alma Cornelia Berglund)\",female,29,0,4,349909,21.075,,S\\r\\n569,0,3,\"Doharr, Mr. Tannous\",male,,0,0,2686,7.2292,,C\\r\\n570,1,3,\"Jonsson, Mr. Carl\",male,32,0,0,350417,7.8542,,S\\r\\n571,1,2,\"Harris, Mr. George\",male,62,0,0,S.W./PP 752,10.5,,S\\r\\n572,1,1,\"Appleton, Mrs. Edward Dale (Charlotte Lamson)\",female,53,2,0,11769,51.4792,C101,S\\r\\n573,1,1,\"Flynn, Mr. John Irwin (\"\"Irving\"\")\",male,36,0,0,PC 17474,26.3875,E25,S\\r\\n574,1,3,\"Kelly, Miss. Mary\",female,,0,0,14312,7.75,,Q\\r\\n575,0,3,\"Rush, Mr. Alfred George John\",male,16,0,0,A/4. 20589,8.05,,S\\r\\n576,0,3,\"Patchett, Mr. George\",male,19,0,0,358585,14.5,,S\\r\\n577,1,2,\"Garside, Miss. Ethel\",female,34,0,0,243880,13,,S\\r\\n578,1,1,\"Silvey, Mrs. William Baird (Alice Munger)\",female,39,1,0,13507,55.9,E44,S\\r\\n579,0,3,\"Caram, Mrs. Joseph (Maria Elias)\",female,,1,0,2689,14.4583,,C\\r\\n580,1,3,\"Jussila, Mr. Eiriik\",male,32,0,0,STON/O 2. 3101286,7.925,,S\\r\\n581,1,2,\"Christy, Miss. Julie Rachel\",female,25,1,1,237789,30,,S\\r\\n582,1,1,\"Thayer, Mrs. John Borland (Marian Longstreth Morris)\",female,39,1,1,17421,110.8833,C68,C\\r\\n583,0,2,\"Downton, Mr. William James\",male,54,0,0,28403,26,,S\\r\\n584,0,1,\"Ross, Mr. John Hugo\",male,36,0,0,13049,40.125,A10,C\\r\\n585,0,3,\"Paulner, Mr. Uscher\",male,,0,0,3411,8.7125,,C\\r\\n586,1,1,\"Taussig, Miss. Ruth\",female,18,0,2,110413,79.65,E68,S\\r\\n587,0,2,\"Jarvis, Mr. John Denzil\",male,47,0,0,237565,15,,S\\r\\n588,1,1,\"Frolicher-Stehli, Mr. Maxmillian\",male,60,1,1,13567,79.2,B41,C\\r\\n589,0,3,\"Gilinski, Mr. Eliezer\",male,22,0,0,14973,8.05,,S\\r\\n590,0,3,\"Murdlin, Mr. Joseph\",male,,0,0,A./5. 3235,8.05,,S\\r\\n591,0,3,\"Rintamaki, Mr. Matti\",male,35,0,0,STON/O 2. 3101273,7.125,,S\\r\\n592,1,1,\"Stephenson, Mrs. Walter Bertram (Martha Eustis)\",female,52,1,0,36947,78.2667,D20,C\\r\\n593,0,3,\"Elsbury, Mr. William James\",male,47,0,0,A/5 3902,7.25,,S\\r\\n594,0,3,\"Bourke, Miss. Mary\",female,,0,2,364848,7.75,,Q\\r\\n595,0,2,\"Chapman, Mr. John Henry\",male,37,1,0,SC/AH 29037,26,,S\\r\\n596,0,3,\"Van Impe, Mr. Jean Baptiste\",male,36,1,1,345773,24.15,,S\\r\\n597,1,2,\"Leitch, Miss. Jessie Wills\",female,,0,0,248727,33,,S\\r\\n598,0,3,\"Johnson, Mr. Alfred\",male,49,0,0,LINE,0,,S\\r\\n599,0,3,\"Boulos, Mr. Hanna\",male,,0,0,2664,7.225,,C\\r\\n600,1,1,\"Duff Gordon, Sir. Cosmo Edmund (\"\"Mr Morgan\"\")\",male,49,1,0,PC 17485,56.9292,A20,C\\r\\n601,1,2,\"Jacobsohn, Mrs. Sidney Samuel (Amy Frances Christy)\",female,24,2,1,243847,27,,S\\r\\n602,0,3,\"Slabenoff, Mr. Petco\",male,,0,0,349214,7.8958,,S\\r\\n603,0,1,\"Harrington, Mr. Charles H\",male,,0,0,113796,42.4,,S\\r\\n604,0,3,\"Torber, Mr. Ernst William\",male,44,0,0,364511,8.05,,S\\r\\n605,1,1,\"Homer, Mr. Harry (\"\"Mr E Haven\"\")\",male,35,0,0,111426,26.55,,C\\r\\n606,0,3,\"Lindell, Mr. Edvard Bengtsson\",male,36,1,0,349910,15.55,,S\\r\\n607,0,3,\"Karaic, Mr. Milan\",male,30,0,0,349246,7.8958,,S\\r\\n608,1,1,\"Daniel, Mr. Robert Williams\",male,27,0,0,113804,30.5,,S\\r\\n609,1,2,\"Laroche, Mrs. Joseph (Juliette Marie Louise Lafargue)\",female,22,1,2,SC/Paris 2123,41.5792,,C\\r\\n610,1,1,\"Shutes, Miss. Elizabeth W\",female,40,0,0,PC 17582,153.4625,C125,S\\r\\n611,0,3,\"Andersson, Mrs. Anders Johan (Alfrida Konstantia Brogren)\",female,39,1,5,347082,31.275,,S\\r\\n612,0,3,\"Jardin, Mr. Jose Neto\",male,,0,0,SOTON/O.Q. 3101305,7.05,,S\\r\\n613,1,3,\"Murphy, Miss. Margaret Jane\",female,,1,0,367230,15.5,,Q\\r\\n614,0,3,\"Horgan, Mr. John\",male,,0,0,370377,7.75,,Q\\r\\n615,0,3,\"Brocklebank, Mr. William Alfred\",male,35,0,0,364512,8.05,,S\\r\\n616,1,2,\"Herman, Miss. Alice\",female,24,1,2,220845,65,,S\\r\\n617,0,3,\"Danbom, Mr. Ernst Gilbert\",male,34,1,1,347080,14.4,,S\\r\\n618,0,3,\"Lobb, Mrs. William Arthur (Cordelia K Stanlick)\",female,26,1,0,A/5. 3336,16.1,,S\\r\\n619,1,2,\"Becker, Miss. Marion Louise\",female,4,2,1,230136,39,F4,S\\r\\n620,0,2,\"Gavey, Mr. Lawrence\",male,26,0,0,31028,10.5,,S\\r\\n621,0,3,\"Yasbeck, Mr. Antoni\",male,27,1,0,2659,14.4542,,C\\r\\n622,1,1,\"Kimball, Mr. Edwin Nelson Jr\",male,42,1,0,11753,52.5542,D19,S\\r\\n623,1,3,\"Nakid, Mr. Sahid\",male,20,1,1,2653,15.7417,,C\\r\\n624,0,3,\"Hansen, Mr. Henry Damsgaard\",male,21,0,0,350029,7.8542,,S\\r\\n625,0,3,\"Bowen, Mr. David John \"\"Dai\"\"\",male,21,0,0,54636,16.1,,S\\r\\n626,0,1,\"Sutton, Mr. Frederick\",male,61,0,0,36963,32.3208,D50,S\\r\\n627,0,2,\"Kirkland, Rev. Charles Leonard\",male,57,0,0,219533,12.35,,Q\\r\\n628,1,1,\"Longley, Miss. Gretchen Fiske\",female,21,0,0,13502,77.9583,D9,S\\r\\n629,0,3,\"Bostandyeff, Mr. Guentcho\",male,26,0,0,349224,7.8958,,S\\r\\n630,0,3,\"O\\'Connell, Mr. Patrick D\",male,,0,0,334912,7.7333,,Q\\r\\n631,1,1,\"Barkworth, Mr. Algernon Henry Wilson\",male,80,0,0,27042,30,A23,S\\r\\n632,0,3,\"Lundahl, Mr. Johan Svensson\",male,51,0,0,347743,7.0542,,S\\r\\n633,1,1,\"Stahelin-Maeglin, Dr. Max\",male,32,0,0,13214,30.5,B50,C\\r\\n634,0,1,\"Parr, Mr. William Henry Marsh\",male,,0,0,112052,0,,S\\r\\n635,0,3,\"Skoog, Miss. Mabel\",female,9,3,2,347088,27.9,,S\\r\\n636,1,2,\"Davis, Miss. Mary\",female,28,0,0,237668,13,,S\\r\\n637,0,3,\"Leinonen, Mr. Antti Gustaf\",male,32,0,0,STON/O 2. 3101292,7.925,,S\\r\\n638,0,2,\"Collyer, Mr. Harvey\",male,31,1,1,C.A. 31921,26.25,,S\\r\\n639,0,3,\"Panula, Mrs. Juha (Maria Emilia Ojala)\",female,41,0,5,3101295,39.6875,,S\\r\\n640,0,3,\"Thorneycroft, Mr. Percival\",male,,1,0,376564,16.1,,S\\r\\n641,0,3,\"Jensen, Mr. Hans Peder\",male,20,0,0,350050,7.8542,,S\\r\\n642,1,1,\"Sagesser, Mlle. Emma\",female,24,0,0,PC 17477,69.3,B35,C\\r\\n643,0,3,\"Skoog, Miss. Margit Elizabeth\",female,2,3,2,347088,27.9,,S\\r\\n644,1,3,\"Foo, Mr. Choong\",male,,0,0,1601,56.4958,,S\\r\\n645,1,3,\"Baclini, Miss. Eugenie\",female,0.75,2,1,2666,19.2583,,C\\r\\n646,1,1,\"Harper, Mr. Henry Sleeper\",male,48,1,0,PC 17572,76.7292,D33,C\\r\\n647,0,3,\"Cor, Mr. Liudevit\",male,19,0,0,349231,7.8958,,S\\r\\n648,1,1,\"Simonius-Blumer, Col. Oberst Alfons\",male,56,0,0,13213,35.5,A26,C\\r\\n649,0,3,\"Willey, Mr. Edward\",male,,0,0,S.O./P.P. 751,7.55,,S\\r\\n650,1,3,\"Stanley, Miss. Amy Zillah Elsie\",female,23,0,0,CA. 2314,7.55,,S\\r\\n651,0,3,\"Mitkoff, Mr. Mito\",male,,0,0,349221,7.8958,,S\\r\\n652,1,2,\"Doling, Miss. Elsie\",female,18,0,1,231919,23,,S\\r\\n653,0,3,\"Kalvik, Mr. Johannes Halvorsen\",male,21,0,0,8475,8.4333,,S\\r\\n654,1,3,\"O\\'Leary, Miss. Hanora \"\"Norah\"\"\",female,,0,0,330919,7.8292,,Q\\r\\n655,0,3,\"Hegarty, Miss. Hanora \"\"Nora\"\"\",female,18,0,0,365226,6.75,,Q\\r\\n656,0,2,\"Hickman, Mr. Leonard Mark\",male,24,2,0,S.O.C. 14879,73.5,,S\\r\\n657,0,3,\"Radeff, Mr. Alexander\",male,,0,0,349223,7.8958,,S\\r\\n658,0,3,\"Bourke, Mrs. John (Catherine)\",female,32,1,1,364849,15.5,,Q\\r\\n659,0,2,\"Eitemiller, Mr. George Floyd\",male,23,0,0,29751,13,,S\\r\\n660,0,1,\"Newell, Mr. Arthur Webster\",male,58,0,2,35273,113.275,D48,C\\r\\n661,1,1,\"Frauenthal, Dr. Henry William\",male,50,2,0,PC 17611,133.65,,S\\r\\n662,0,3,\"Badt, Mr. Mohamed\",male,40,0,0,2623,7.225,,C\\r\\n663,0,1,\"Colley, Mr. Edward Pomeroy\",male,47,0,0,5727,25.5875,E58,S\\r\\n664,0,3,\"Coleff, Mr. Peju\",male,36,0,0,349210,7.4958,,S\\r\\n665,1,3,\"Lindqvist, Mr. Eino William\",male,20,1,0,STON/O 2. 3101285,7.925,,S\\r\\n666,0,2,\"Hickman, Mr. Lewis\",male,32,2,0,S.O.C. 14879,73.5,,S\\r\\n667,0,2,\"Butler, Mr. Reginald Fenton\",male,25,0,0,234686,13,,S\\r\\n668,0,3,\"Rommetvedt, Mr. Knud Paust\",male,,0,0,312993,7.775,,S\\r\\n669,0,3,\"Cook, Mr. Jacob\",male,43,0,0,A/5 3536,8.05,,S\\r\\n670,1,1,\"Taylor, Mrs. Elmer Zebley (Juliet Cummins Wright)\",female,,1,0,19996,52,C126,S\\r\\n671,1,2,\"Brown, Mrs. Thomas William Solomon (Elizabeth Catherine Ford)\",female,40,1,1,29750,39,,S\\r\\n672,0,1,\"Davidson, Mr. Thornton\",male,31,1,0,F.C. 12750,52,B71,S\\r\\n673,0,2,\"Mitchell, Mr. Henry Michael\",male,70,0,0,C.A. 24580,10.5,,S\\r\\n674,1,2,\"Wilhelms, Mr. Charles\",male,31,0,0,244270,13,,S\\r\\n675,0,2,\"Watson, Mr. Ennis Hastings\",male,,0,0,239856,0,,S\\r\\n676,0,3,\"Edvardsson, Mr. Gustaf Hjalmar\",male,18,0,0,349912,7.775,,S\\r\\n677,0,3,\"Sawyer, Mr. Frederick Charles\",male,24.5,0,0,342826,8.05,,S\\r\\n678,1,3,\"Turja, Miss. Anna Sofia\",female,18,0,0,4138,9.8417,,S\\r\\n679,0,3,\"Goodwin, Mrs. Frederick (Augusta Tyler)\",female,43,1,6,CA 2144,46.9,,S\\r\\n680,1,1,\"Cardeza, Mr. Thomas Drake Martinez\",male,36,0,1,PC 17755,512.3292,B51 B53 B55,C\\r\\n681,0,3,\"Peters, Miss. Katie\",female,,0,0,330935,8.1375,,Q\\r\\n682,1,1,\"Hassab, Mr. Hammad\",male,27,0,0,PC 17572,76.7292,D49,C\\r\\n683,0,3,\"Olsvigen, Mr. Thor Anderson\",male,20,0,0,6563,9.225,,S\\r\\n684,0,3,\"Goodwin, Mr. Charles Edward\",male,14,5,2,CA 2144,46.9,,S\\r\\n685,0,2,\"Brown, Mr. Thomas William Solomon\",male,60,1,1,29750,39,,S\\r\\n686,0,2,\"Laroche, Mr. Joseph Philippe Lemercier\",male,25,1,2,SC/Paris 2123,41.5792,,C\\r\\n687,0,3,\"Panula, Mr. Jaako Arnold\",male,14,4,1,3101295,39.6875,,S\\r\\n688,0,3,\"Dakic, Mr. Branko\",male,19,0,0,349228,10.1708,,S\\r\\n689,0,3,\"Fischer, Mr. Eberhard Thelander\",male,18,0,0,350036,7.7958,,S\\r\\n690,1,1,\"Madill, Miss. Georgette Alexandra\",female,15,0,1,24160,211.3375,B5,S\\r\\n691,1,1,\"Dick, Mr. Albert Adrian\",male,31,1,0,17474,57,B20,S\\r\\n692,1,3,\"Karun, Miss. Manca\",female,4,0,1,349256,13.4167,,C\\r\\n693,1,3,\"Lam, Mr. Ali\",male,,0,0,1601,56.4958,,S\\r\\n694,0,3,\"Saad, Mr. Khalil\",male,25,0,0,2672,7.225,,C\\r\\n695,0,1,\"Weir, Col. John\",male,60,0,0,113800,26.55,,S\\r\\n696,0,2,\"Chapman, Mr. Charles Henry\",male,52,0,0,248731,13.5,,S\\r\\n697,0,3,\"Kelly, Mr. James\",male,44,0,0,363592,8.05,,S\\r\\n698,1,3,\"Mullens, Miss. Katherine \"\"Katie\"\"\",female,,0,0,35852,7.7333,,Q\\r\\n699,0,1,\"Thayer, Mr. John Borland\",male,49,1,1,17421,110.8833,C68,C\\r\\n700,0,3,\"Humblen, Mr. Adolf Mathias Nicolai Olsen\",male,42,0,0,348121,7.65,F G63,S\\r\\n701,1,1,\"Astor, Mrs. John Jacob (Madeleine Talmadge Force)\",female,18,1,0,PC 17757,227.525,C62 C64,C\\r\\n702,1,1,\"Silverthorne, Mr. Spencer Victor\",male,35,0,0,PC 17475,26.2875,E24,S\\r\\n703,0,3,\"Barbara, Miss. Saiide\",female,18,0,1,2691,14.4542,,C\\r\\n704,0,3,\"Gallagher, Mr. Martin\",male,25,0,0,36864,7.7417,,Q\\r\\n705,0,3,\"Hansen, Mr. Henrik Juul\",male,26,1,0,350025,7.8542,,S\\r\\n706,0,2,\"Morley, Mr. Henry Samuel (\"\"Mr Henry Marshall\"\")\",male,39,0,0,250655,26,,S\\r\\n707,1,2,\"Kelly, Mrs. Florence \"\"Fannie\"\"\",female,45,0,0,223596,13.5,,S\\r\\n708,1,1,\"Calderhead, Mr. Edward Pennington\",male,42,0,0,PC 17476,26.2875,E24,S\\r\\n709,1,1,\"Cleaver, Miss. Alice\",female,22,0,0,113781,151.55,,S\\r\\n710,1,3,\"Moubarek, Master. Halim Gonios (\"\"William George\"\")\",male,,1,1,2661,15.2458,,C\\r\\n711,1,1,\"Mayne, Mlle. Berthe Antonine (\"\"Mrs de Villiers\"\")\",female,24,0,0,PC 17482,49.5042,C90,C\\r\\n712,0,1,\"Klaber, Mr. Herman\",male,,0,0,113028,26.55,C124,S\\r\\n713,1,1,\"Taylor, Mr. Elmer Zebley\",male,48,1,0,19996,52,C126,S\\r\\n714,0,3,\"Larsson, Mr. August Viktor\",male,29,0,0,7545,9.4833,,S\\r\\n715,0,2,\"Greenberg, Mr. Samuel\",male,52,0,0,250647,13,,S\\r\\n716,0,3,\"Soholt, Mr. Peter Andreas Lauritz Andersen\",male,19,0,0,348124,7.65,F G73,S\\r\\n717,1,1,\"Endres, Miss. Caroline Louise\",female,38,0,0,PC 17757,227.525,C45,C\\r\\n718,1,2,\"Troutt, Miss. Edwina Celia \"\"Winnie\"\"\",female,27,0,0,34218,10.5,E101,S\\r\\n719,0,3,\"McEvoy, Mr. Michael\",male,,0,0,36568,15.5,,Q\\r\\n720,0,3,\"Johnson, Mr. Malkolm Joackim\",male,33,0,0,347062,7.775,,S\\r\\n721,1,2,\"Harper, Miss. Annie Jessie \"\"Nina\"\"\",female,6,0,1,248727,33,,S\\r\\n722,0,3,\"Jensen, Mr. Svend Lauritz\",male,17,1,0,350048,7.0542,,S\\r\\n723,0,2,\"Gillespie, Mr. William Henry\",male,34,0,0,12233,13,,S\\r\\n724,0,2,\"Hodges, Mr. Henry Price\",male,50,0,0,250643,13,,S\\r\\n725,1,1,\"Chambers, Mr. Norman Campbell\",male,27,1,0,113806,53.1,E8,S\\r\\n726,0,3,\"Oreskovic, Mr. Luka\",male,20,0,0,315094,8.6625,,S\\r\\n727,1,2,\"Renouf, Mrs. Peter Henry (Lillian Jefferys)\",female,30,3,0,31027,21,,S\\r\\n728,1,3,\"Mannion, Miss. Margareth\",female,,0,0,36866,7.7375,,Q\\r\\n729,0,2,\"Bryhl, Mr. Kurt Arnold Gottfrid\",male,25,1,0,236853,26,,S\\r\\n730,0,3,\"Ilmakangas, Miss. Pieta Sofia\",female,25,1,0,STON/O2. 3101271,7.925,,S\\r\\n731,1,1,\"Allen, Miss. Elisabeth Walton\",female,29,0,0,24160,211.3375,B5,S\\r\\n732,0,3,\"Hassan, Mr. Houssein G N\",male,11,0,0,2699,18.7875,,C\\r\\n733,0,2,\"Knight, Mr. Robert J\",male,,0,0,239855,0,,S\\r\\n734,0,2,\"Berriman, Mr. William John\",male,23,0,0,28425,13,,S\\r\\n735,0,2,\"Troupiansky, Mr. Moses Aaron\",male,23,0,0,233639,13,,S\\r\\n736,0,3,\"Williams, Mr. Leslie\",male,28.5,0,0,54636,16.1,,S\\r\\n737,0,3,\"Ford, Mrs. Edward (Margaret Ann Watson)\",female,48,1,3,W./C. 6608,34.375,,S\\r\\n738,1,1,\"Lesurer, Mr. Gustave J\",male,35,0,0,PC 17755,512.3292,B101,C\\r\\n739,0,3,\"Ivanoff, Mr. Kanio\",male,,0,0,349201,7.8958,,S\\r\\n740,0,3,\"Nankoff, Mr. Minko\",male,,0,0,349218,7.8958,,S\\r\\n741,1,1,\"Hawksford, Mr. Walter James\",male,,0,0,16988,30,D45,S\\r\\n742,0,1,\"Cavendish, Mr. Tyrell William\",male,36,1,0,19877,78.85,C46,S\\r\\n743,1,1,\"Ryerson, Miss. Susan Parker \"\"Suzette\"\"\",female,21,2,2,PC 17608,262.375,B57 B59 B63 B66,C\\r\\n744,0,3,\"McNamee, Mr. Neal\",male,24,1,0,376566,16.1,,S\\r\\n745,1,3,\"Stranden, Mr. Juho\",male,31,0,0,STON/O 2. 3101288,7.925,,S\\r\\n746,0,1,\"Crosby, Capt. Edward Gifford\",male,70,1,1,WE/P 5735,71,B22,S\\r\\n747,0,3,\"Abbott, Mr. Rossmore Edward\",male,16,1,1,C.A. 2673,20.25,,S\\r\\n748,1,2,\"Sinkkonen, Miss. Anna\",female,30,0,0,250648,13,,S\\r\\n749,0,1,\"Marvin, Mr. Daniel Warner\",male,19,1,0,113773,53.1,D30,S\\r\\n750,0,3,\"Connaghton, Mr. Michael\",male,31,0,0,335097,7.75,,Q\\r\\n751,1,2,\"Wells, Miss. Joan\",female,4,1,1,29103,23,,S\\r\\n752,1,3,\"Moor, Master. Meier\",male,6,0,1,392096,12.475,E121,S\\r\\n753,0,3,\"Vande Velde, Mr. Johannes Joseph\",male,33,0,0,345780,9.5,,S\\r\\n754,0,3,\"Jonkoff, Mr. Lalio\",male,23,0,0,349204,7.8958,,S\\r\\n755,1,2,\"Herman, Mrs. Samuel (Jane Laver)\",female,48,1,2,220845,65,,S\\r\\n756,1,2,\"Hamalainen, Master. Viljo\",male,0.67,1,1,250649,14.5,,S\\r\\n757,0,3,\"Carlsson, Mr. August Sigfrid\",male,28,0,0,350042,7.7958,,S\\r\\n758,0,2,\"Bailey, Mr. Percy Andrew\",male,18,0,0,29108,11.5,,S\\r\\n759,0,3,\"Theobald, Mr. Thomas Leonard\",male,34,0,0,363294,8.05,,S\\r\\n760,1,1,\"Rothes, the Countess. of (Lucy Noel Martha Dyer-Edwards)\",female,33,0,0,110152,86.5,B77,S\\r\\n761,0,3,\"Garfirth, Mr. John\",male,,0,0,358585,14.5,,S\\r\\n762,0,3,\"Nirva, Mr. Iisakki Antino Aijo\",male,41,0,0,SOTON/O2 3101272,7.125,,S\\r\\n763,1,3,\"Barah, Mr. Hanna Assi\",male,20,0,0,2663,7.2292,,C\\r\\n764,1,1,\"Carter, Mrs. William Ernest (Lucile Polk)\",female,36,1,2,113760,120,B96 B98,S\\r\\n765,0,3,\"Eklund, Mr. Hans Linus\",male,16,0,0,347074,7.775,,S\\r\\n766,1,1,\"Hogeboom, Mrs. John C (Anna Andrews)\",female,51,1,0,13502,77.9583,D11,S\\r\\n767,0,1,\"Brewe, Dr. Arthur Jackson\",male,,0,0,112379,39.6,,C\\r\\n768,0,3,\"Mangan, Miss. Mary\",female,30.5,0,0,364850,7.75,,Q\\r\\n769,0,3,\"Moran, Mr. Daniel J\",male,,1,0,371110,24.15,,Q\\r\\n770,0,3,\"Gronnestad, Mr. Daniel Danielsen\",male,32,0,0,8471,8.3625,,S\\r\\n771,0,3,\"Lievens, Mr. Rene Aime\",male,24,0,0,345781,9.5,,S\\r\\n772,0,3,\"Jensen, Mr. Niels Peder\",male,48,0,0,350047,7.8542,,S\\r\\n773,0,2,\"Mack, Mrs. (Mary)\",female,57,0,0,S.O./P.P. 3,10.5,E77,S\\r\\n774,0,3,\"Elias, Mr. Dibo\",male,,0,0,2674,7.225,,C\\r\\n775,1,2,\"Hocking, Mrs. Elizabeth (Eliza Needs)\",female,54,1,3,29105,23,,S\\r\\n776,0,3,\"Myhrman, Mr. Pehr Fabian Oliver Malkolm\",male,18,0,0,347078,7.75,,S\\r\\n777,0,3,\"Tobin, Mr. Roger\",male,,0,0,383121,7.75,F38,Q\\r\\n778,1,3,\"Emanuel, Miss. Virginia Ethel\",female,5,0,0,364516,12.475,,S\\r\\n779,0,3,\"Kilgannon, Mr. Thomas J\",male,,0,0,36865,7.7375,,Q\\r\\n780,1,1,\"Robert, Mrs. Edward Scott (Elisabeth Walton McMillan)\",female,43,0,1,24160,211.3375,B3,S\\r\\n781,1,3,\"Ayoub, Miss. Banoura\",female,13,0,0,2687,7.2292,,C\\r\\n782,1,1,\"Dick, Mrs. Albert Adrian (Vera Gillespie)\",female,17,1,0,17474,57,B20,S\\r\\n783,0,1,\"Long, Mr. Milton Clyde\",male,29,0,0,113501,30,D6,S\\r\\n784,0,3,\"Johnston, Mr. Andrew G\",male,,1,2,W./C. 6607,23.45,,S\\r\\n785,0,3,\"Ali, Mr. William\",male,25,0,0,SOTON/O.Q. 3101312,7.05,,S\\r\\n786,0,3,\"Harmer, Mr. Abraham (David Lishin)\",male,25,0,0,374887,7.25,,S\\r\\n787,1,3,\"Sjoblom, Miss. Anna Sofia\",female,18,0,0,3101265,7.4958,,S\\r\\n788,0,3,\"Rice, Master. George Hugh\",male,8,4,1,382652,29.125,,Q\\r\\n789,1,3,\"Dean, Master. Bertram Vere\",male,1,1,2,C.A. 2315,20.575,,S\\r\\n790,0,1,\"Guggenheim, Mr. Benjamin\",male,46,0,0,PC 17593,79.2,B82 B84,C\\r\\n791,0,3,\"Keane, Mr. Andrew \"\"Andy\"\"\",male,,0,0,12460,7.75,,Q\\r\\n792,0,2,\"Gaskell, Mr. Alfred\",male,16,0,0,239865,26,,S\\r\\n793,0,3,\"Sage, Miss. Stella Anna\",female,,8,2,CA. 2343,69.55,,S\\r\\n794,0,1,\"Hoyt, Mr. William Fisher\",male,,0,0,PC 17600,30.6958,,C\\r\\n795,0,3,\"Dantcheff, Mr. Ristiu\",male,25,0,0,349203,7.8958,,S\\r\\n796,0,2,\"Otter, Mr. Richard\",male,39,0,0,28213,13,,S\\r\\n797,1,1,\"Leader, Dr. Alice (Farnham)\",female,49,0,0,17465,25.9292,D17,S\\r\\n798,1,3,\"Osman, Mrs. Mara\",female,31,0,0,349244,8.6833,,S\\r\\n799,0,3,\"Ibrahim Shawah, Mr. Yousseff\",male,30,0,0,2685,7.2292,,C\\r\\n800,0,3,\"Van Impe, Mrs. Jean Baptiste (Rosalie Paula Govaert)\",female,30,1,1,345773,24.15,,S\\r\\n801,0,2,\"Ponesell, Mr. Martin\",male,34,0,0,250647,13,,S\\r\\n802,1,2,\"Collyer, Mrs. Harvey (Charlotte Annie Tate)\",female,31,1,1,C.A. 31921,26.25,,S\\r\\n803,1,1,\"Carter, Master. William Thornton II\",male,11,1,2,113760,120,B96 B98,S\\r\\n804,1,3,\"Thomas, Master. Assad Alexander\",male,0.42,0,1,2625,8.5167,,C\\r\\n805,1,3,\"Hedman, Mr. Oskar Arvid\",male,27,0,0,347089,6.975,,S\\r\\n806,0,3,\"Johansson, Mr. Karl Johan\",male,31,0,0,347063,7.775,,S\\r\\n807,0,1,\"Andrews, Mr. Thomas Jr\",male,39,0,0,112050,0,A36,S\\r\\n808,0,3,\"Pettersson, Miss. Ellen Natalia\",female,18,0,0,347087,7.775,,S\\r\\n809,0,2,\"Meyer, Mr. August\",male,39,0,0,248723,13,,S\\r\\n810,1,1,\"Chambers, Mrs. Norman Campbell (Bertha Griggs)\",female,33,1,0,113806,53.1,E8,S\\r\\n811,0,3,\"Alexander, Mr. William\",male,26,0,0,3474,7.8875,,S\\r\\n812,0,3,\"Lester, Mr. James\",male,39,0,0,A/4 48871,24.15,,S\\r\\n813,0,2,\"Slemen, Mr. Richard James\",male,35,0,0,28206,10.5,,S\\r\\n814,0,3,\"Andersson, Miss. Ebba Iris Alfrida\",female,6,4,2,347082,31.275,,S\\r\\n815,0,3,\"Tomlin, Mr. Ernest Portage\",male,30.5,0,0,364499,8.05,,S\\r\\n816,0,1,\"Fry, Mr. Richard\",male,,0,0,112058,0,B102,S\\r\\n817,0,3,\"Heininen, Miss. Wendla Maria\",female,23,0,0,STON/O2. 3101290,7.925,,S\\r\\n818,0,2,\"Mallet, Mr. Albert\",male,31,1,1,S.C./PARIS 2079,37.0042,,C\\r\\n819,0,3,\"Holm, Mr. John Fredrik Alexander\",male,43,0,0,C 7075,6.45,,S\\r\\n820,0,3,\"Skoog, Master. Karl Thorsten\",male,10,3,2,347088,27.9,,S\\r\\n821,1,1,\"Hays, Mrs. Charles Melville (Clara Jennings Gregg)\",female,52,1,1,12749,93.5,B69,S\\r\\n822,1,3,\"Lulic, Mr. Nikola\",male,27,0,0,315098,8.6625,,S\\r\\n823,0,1,\"Reuchlin, Jonkheer. John George\",male,38,0,0,19972,0,,S\\r\\n824,1,3,\"Moor, Mrs. (Beila)\",female,27,0,1,392096,12.475,E121,S\\r\\n825,0,3,\"Panula, Master. Urho Abraham\",male,2,4,1,3101295,39.6875,,S\\r\\n826,0,3,\"Flynn, Mr. John\",male,,0,0,368323,6.95,,Q\\r\\n827,0,3,\"Lam, Mr. Len\",male,,0,0,1601,56.4958,,S\\r\\n828,1,2,\"Mallet, Master. Andre\",male,1,0,2,S.C./PARIS 2079,37.0042,,C\\r\\n829,1,3,\"McCormack, Mr. Thomas Joseph\",male,,0,0,367228,7.75,,Q\\r\\n830,1,1,\"Stone, Mrs. George Nelson (Martha Evelyn)\",female,62,0,0,113572,80,B28,\\r\\n831,1,3,\"Yasbeck, Mrs. Antoni (Selini Alexander)\",female,15,1,0,2659,14.4542,,C\\r\\n832,1,2,\"Richards, Master. George Sibley\",male,0.83,1,1,29106,18.75,,S\\r\\n833,0,3,\"Saad, Mr. Amin\",male,,0,0,2671,7.2292,,C\\r\\n834,0,3,\"Augustsson, Mr. Albert\",male,23,0,0,347468,7.8542,,S\\r\\n835,0,3,\"Allum, Mr. Owen George\",male,18,0,0,2223,8.3,,S\\r\\n836,1,1,\"Compton, Miss. Sara Rebecca\",female,39,1,1,PC 17756,83.1583,E49,C\\r\\n837,0,3,\"Pasic, Mr. Jakob\",male,21,0,0,315097,8.6625,,S\\r\\n838,0,3,\"Sirota, Mr. Maurice\",male,,0,0,392092,8.05,,S\\r\\n839,1,3,\"Chip, Mr. Chang\",male,32,0,0,1601,56.4958,,S\\r\\n840,1,1,\"Marechal, Mr. Pierre\",male,,0,0,11774,29.7,C47,C\\r\\n841,0,3,\"Alhomaki, Mr. Ilmari Rudolf\",male,20,0,0,SOTON/O2 3101287,7.925,,S\\r\\n842,0,2,\"Mudd, Mr. Thomas Charles\",male,16,0,0,S.O./P.P. 3,10.5,,S\\r\\n843,1,1,\"Serepeca, Miss. Augusta\",female,30,0,0,113798,31,,C\\r\\n844,0,3,\"Lemberopolous, Mr. Peter L\",male,34.5,0,0,2683,6.4375,,C\\r\\n845,0,3,\"Culumovic, Mr. Jeso\",male,17,0,0,315090,8.6625,,S\\r\\n846,0,3,\"Abbing, Mr. Anthony\",male,42,0,0,C.A. 5547,7.55,,S\\r\\n847,0,3,\"Sage, Mr. Douglas Bullen\",male,,8,2,CA. 2343,69.55,,S\\r\\n848,0,3,\"Markoff, Mr. Marin\",male,35,0,0,349213,7.8958,,C\\r\\n849,0,2,\"Harper, Rev. John\",male,28,0,1,248727,33,,S\\r\\n850,1,1,\"Goldenberg, Mrs. Samuel L (Edwiga Grabowska)\",female,,1,0,17453,89.1042,C92,C\\r\\n851,0,3,\"Andersson, Master. Sigvard Harald Elias\",male,4,4,2,347082,31.275,,S\\r\\n852,0,3,\"Svensson, Mr. Johan\",male,74,0,0,347060,7.775,,S\\r\\n853,0,3,\"Boulos, Miss. Nourelain\",female,9,1,1,2678,15.2458,,C\\r\\n854,1,1,\"Lines, Miss. Mary Conover\",female,16,0,1,PC 17592,39.4,D28,S\\r\\n855,0,2,\"Carter, Mrs. Ernest Courtenay (Lilian Hughes)\",female,44,1,0,244252,26,,S\\r\\n856,1,3,\"Aks, Mrs. Sam (Leah Rosen)\",female,18,0,1,392091,9.35,,S\\r\\n857,1,1,\"Wick, Mrs. George Dennick (Mary Hitchcock)\",female,45,1,1,36928,164.8667,,S\\r\\n858,1,1,\"Daly, Mr. Peter Denis \",male,51,0,0,113055,26.55,E17,S\\r\\n859,1,3,\"Baclini, Mrs. Solomon (Latifa Qurban)\",female,24,0,3,2666,19.2583,,C\\r\\n860,0,3,\"Razi, Mr. Raihed\",male,,0,0,2629,7.2292,,C\\r\\n861,0,3,\"Hansen, Mr. Claus Peter\",male,41,2,0,350026,14.1083,,S\\r\\n862,0,2,\"Giles, Mr. Frederick Edward\",male,21,1,0,28134,11.5,,S\\r\\n863,1,1,\"Swift, Mrs. Frederick Joel (Margaret Welles Barron)\",female,48,0,0,17466,25.9292,D17,S\\r\\n864,0,3,\"Sage, Miss. Dorothy Edith \"\"Dolly\"\"\",female,,8,2,CA. 2343,69.55,,S\\r\\n865,0,2,\"Gill, Mr. John William\",male,24,0,0,233866,13,,S\\r\\n866,1,2,\"Bystrom, Mrs. (Karolina)\",female,42,0,0,236852,13,,S\\r\\n867,1,2,\"Duran y More, Miss. Asuncion\",female,27,1,0,SC/PARIS 2149,13.8583,,C\\r\\n868,0,1,\"Roebling, Mr. Washington Augustus II\",male,31,0,0,PC 17590,50.4958,A24,S\\r\\n869,0,3,\"van Melkebeke, Mr. Philemon\",male,,0,0,345777,9.5,,S\\r\\n870,1,3,\"Johnson, Master. Harold Theodor\",male,4,1,1,347742,11.1333,,S\\r\\n871,0,3,\"Balkic, Mr. Cerin\",male,26,0,0,349248,7.8958,,S\\r\\n872,1,1,\"Beckwith, Mrs. Richard Leonard (Sallie Monypeny)\",female,47,1,1,11751,52.5542,D35,S\\r\\n873,0,1,\"Carlsson, Mr. Frans Olof\",male,33,0,0,695,5,B51 B53 B55,S\\r\\n874,0,3,\"Vander Cruyssen, Mr. Victor\",male,47,0,0,345765,9,,S\\r\\n875,1,2,\"Abelson, Mrs. Samuel (Hannah Wizosky)\",female,28,1,0,P/PP 3381,24,,C\\r\\n876,1,3,\"Najib, Miss. Adele Kiamie \"\"Jane\"\"\",female,15,0,0,2667,7.225,,C\\r\\n877,0,3,\"Gustafsson, Mr. Alfred Ossian\",male,20,0,0,7534,9.8458,,S\\r\\n878,0,3,\"Petroff, Mr. Nedelio\",male,19,0,0,349212,7.8958,,S\\r\\n879,0,3,\"Laleff, Mr. Kristo\",male,,0,0,349217,7.8958,,S\\r\\n880,1,1,\"Potter, Mrs. Thomas Jr (Lily Alexenia Wilson)\",female,56,0,1,11767,83.1583,C50,C\\r\\n881,1,2,\"Shelley, Mrs. William (Imanita Parrish Hall)\",female,25,0,1,230433,26,,S\\r\\n882,0,3,\"Markun, Mr. Johann\",male,33,0,0,349257,7.8958,,S\\r\\n883,0,3,\"Dahlberg, Miss. Gerda Ulrika\",female,22,0,0,7552,10.5167,,S\\r\\n884,0,2,\"Banfield, Mr. Frederick James\",male,28,0,0,C.A./SOTON 34068,10.5,,S\\r\\n885,0,3,\"Sutehall, Mr. Henry Jr\",male,25,0,0,SOTON/OQ 392076,7.05,,S\\r\\n886,0,3,\"Rice, Mrs. William (Margaret Norton)\",female,39,0,5,382652,29.125,,Q\\r\\n887,0,2,\"Montvila, Rev. Juozas\",male,27,0,0,211536,13,,S\\r\\n888,1,1,\"Graham, Miss. Margaret Edith\",female,19,0,0,112053,30,B42,S\\r\\n889,0,3,\"Johnston, Miss. Catherine Helen \"\"Carrie\"\"\",female,,1,2,W./C. 6607,23.45,,S\\r\\n890,1,1,\"Behr, Mr. Karl Howell\",male,26,0,0,111369,30,C148,C\\r\\n891,0,3,\"Dooley, Mr. Patrick\",male,32,0,0,370376,7.75,,Q\\r\\n'}"
            ]
          },
          "metadata": {
            "tags": []
          },
          "execution_count": 5
        }
      ]
    },
    {
      "cell_type": "code",
      "metadata": {
        "id": "FQ9NOqjHNEdf",
        "colab_type": "code",
        "outputId": "eed9921e-81e3-4c34-cfc5-cb62b2ae7aa9",
        "colab": {
          "base_uri": "https://localhost:8080/",
          "height": 35
        }
      },
      "source": [
        "!ls"
      ],
      "execution_count": 8,
      "outputs": [
        {
          "output_type": "stream",
          "text": [
            "gender_submission.csv  sample_data  test.csv  train.csv\n"
          ],
          "name": "stdout"
        }
      ]
    },
    {
      "cell_type": "code",
      "metadata": {
        "id": "YR8IVGxeQH1Y",
        "colab_type": "code",
        "colab": {}
      },
      "source": [
        "train = pd.read_csv(\"train.csv\",index_col='PassengerId')"
      ],
      "execution_count": 0,
      "outputs": []
    },
    {
      "cell_type": "code",
      "metadata": {
        "id": "rqUiz8QmR5py",
        "colab_type": "code",
        "outputId": "9059ec15-627b-450e-ff54-ae905ffe32cf",
        "colab": {
          "base_uri": "https://localhost:8080/",
          "height": 253
        }
      },
      "source": [
        "print(train.shape)\n",
        "train.head()"
      ],
      "execution_count": 10,
      "outputs": [
        {
          "output_type": "stream",
          "text": [
            "(891, 11)\n"
          ],
          "name": "stdout"
        },
        {
          "output_type": "execute_result",
          "data": {
            "text/html": [
              "<div>\n",
              "<style scoped>\n",
              "    .dataframe tbody tr th:only-of-type {\n",
              "        vertical-align: middle;\n",
              "    }\n",
              "\n",
              "    .dataframe tbody tr th {\n",
              "        vertical-align: top;\n",
              "    }\n",
              "\n",
              "    .dataframe thead th {\n",
              "        text-align: right;\n",
              "    }\n",
              "</style>\n",
              "<table border=\"1\" class=\"dataframe\">\n",
              "  <thead>\n",
              "    <tr style=\"text-align: right;\">\n",
              "      <th></th>\n",
              "      <th>Survived</th>\n",
              "      <th>Pclass</th>\n",
              "      <th>Name</th>\n",
              "      <th>Sex</th>\n",
              "      <th>Age</th>\n",
              "      <th>SibSp</th>\n",
              "      <th>Parch</th>\n",
              "      <th>Ticket</th>\n",
              "      <th>Fare</th>\n",
              "      <th>Cabin</th>\n",
              "      <th>Embarked</th>\n",
              "    </tr>\n",
              "    <tr>\n",
              "      <th>PassengerId</th>\n",
              "      <th></th>\n",
              "      <th></th>\n",
              "      <th></th>\n",
              "      <th></th>\n",
              "      <th></th>\n",
              "      <th></th>\n",
              "      <th></th>\n",
              "      <th></th>\n",
              "      <th></th>\n",
              "      <th></th>\n",
              "      <th></th>\n",
              "    </tr>\n",
              "  </thead>\n",
              "  <tbody>\n",
              "    <tr>\n",
              "      <th>1</th>\n",
              "      <td>0</td>\n",
              "      <td>3</td>\n",
              "      <td>Braund, Mr. Owen Harris</td>\n",
              "      <td>male</td>\n",
              "      <td>22.0</td>\n",
              "      <td>1</td>\n",
              "      <td>0</td>\n",
              "      <td>A/5 21171</td>\n",
              "      <td>7.2500</td>\n",
              "      <td>NaN</td>\n",
              "      <td>S</td>\n",
              "    </tr>\n",
              "    <tr>\n",
              "      <th>2</th>\n",
              "      <td>1</td>\n",
              "      <td>1</td>\n",
              "      <td>Cumings, Mrs. John Bradley (Florence Briggs Th...</td>\n",
              "      <td>female</td>\n",
              "      <td>38.0</td>\n",
              "      <td>1</td>\n",
              "      <td>0</td>\n",
              "      <td>PC 17599</td>\n",
              "      <td>71.2833</td>\n",
              "      <td>C85</td>\n",
              "      <td>C</td>\n",
              "    </tr>\n",
              "    <tr>\n",
              "      <th>3</th>\n",
              "      <td>1</td>\n",
              "      <td>3</td>\n",
              "      <td>Heikkinen, Miss. Laina</td>\n",
              "      <td>female</td>\n",
              "      <td>26.0</td>\n",
              "      <td>0</td>\n",
              "      <td>0</td>\n",
              "      <td>STON/O2. 3101282</td>\n",
              "      <td>7.9250</td>\n",
              "      <td>NaN</td>\n",
              "      <td>S</td>\n",
              "    </tr>\n",
              "    <tr>\n",
              "      <th>4</th>\n",
              "      <td>1</td>\n",
              "      <td>1</td>\n",
              "      <td>Futrelle, Mrs. Jacques Heath (Lily May Peel)</td>\n",
              "      <td>female</td>\n",
              "      <td>35.0</td>\n",
              "      <td>1</td>\n",
              "      <td>0</td>\n",
              "      <td>113803</td>\n",
              "      <td>53.1000</td>\n",
              "      <td>C123</td>\n",
              "      <td>S</td>\n",
              "    </tr>\n",
              "    <tr>\n",
              "      <th>5</th>\n",
              "      <td>0</td>\n",
              "      <td>3</td>\n",
              "      <td>Allen, Mr. William Henry</td>\n",
              "      <td>male</td>\n",
              "      <td>35.0</td>\n",
              "      <td>0</td>\n",
              "      <td>0</td>\n",
              "      <td>373450</td>\n",
              "      <td>8.0500</td>\n",
              "      <td>NaN</td>\n",
              "      <td>S</td>\n",
              "    </tr>\n",
              "  </tbody>\n",
              "</table>\n",
              "</div>"
            ],
            "text/plain": [
              "             Survived  Pclass  ... Cabin Embarked\n",
              "PassengerId                    ...               \n",
              "1                   0       3  ...   NaN        S\n",
              "2                   1       1  ...   C85        C\n",
              "3                   1       3  ...   NaN        S\n",
              "4                   1       1  ...  C123        S\n",
              "5                   0       3  ...   NaN        S\n",
              "\n",
              "[5 rows x 11 columns]"
            ]
          },
          "metadata": {
            "tags": []
          },
          "execution_count": 10
        }
      ]
    },
    {
      "cell_type": "code",
      "metadata": {
        "id": "kPKxW4b6S7OW",
        "colab_type": "code",
        "outputId": "cd0123ab-7336-4cbe-ba99-765d6d575d88",
        "colab": {
          "base_uri": "https://localhost:8080/",
          "height": 35
        }
      },
      "source": [
        "round(train['Survived'].mean() * 100,4)"
      ],
      "execution_count": 11,
      "outputs": [
        {
          "output_type": "execute_result",
          "data": {
            "text/plain": [
              "38.3838"
            ]
          },
          "metadata": {
            "tags": []
          },
          "execution_count": 11
        }
      ]
    },
    {
      "cell_type": "code",
      "metadata": {
        "id": "XSAMDEknTOC4",
        "colab_type": "code",
        "outputId": "c64ad603-30eb-4b9c-db82-8cae4ad8621e",
        "colab": {
          "base_uri": "https://localhost:8080/",
          "height": 71
        }
      },
      "source": [
        "train['Sex'].value_counts()"
      ],
      "execution_count": 12,
      "outputs": [
        {
          "output_type": "execute_result",
          "data": {
            "text/plain": [
              "male      577\n",
              "female    314\n",
              "Name: Sex, dtype: int64"
            ]
          },
          "metadata": {
            "tags": []
          },
          "execution_count": 12
        }
      ]
    },
    {
      "cell_type": "code",
      "metadata": {
        "id": "XXMeQZc6TOKk",
        "colab_type": "code",
        "outputId": "c2e78c31-ca24-4cbb-b053-92e2da684ec6",
        "colab": {
          "base_uri": "https://localhost:8080/",
          "height": 142
        }
      },
      "source": [
        "pd.pivot_table(data=train, index='Sex', values='Survived')"
      ],
      "execution_count": 13,
      "outputs": [
        {
          "output_type": "execute_result",
          "data": {
            "text/html": [
              "<div>\n",
              "<style scoped>\n",
              "    .dataframe tbody tr th:only-of-type {\n",
              "        vertical-align: middle;\n",
              "    }\n",
              "\n",
              "    .dataframe tbody tr th {\n",
              "        vertical-align: top;\n",
              "    }\n",
              "\n",
              "    .dataframe thead th {\n",
              "        text-align: right;\n",
              "    }\n",
              "</style>\n",
              "<table border=\"1\" class=\"dataframe\">\n",
              "  <thead>\n",
              "    <tr style=\"text-align: right;\">\n",
              "      <th></th>\n",
              "      <th>Survived</th>\n",
              "    </tr>\n",
              "    <tr>\n",
              "      <th>Sex</th>\n",
              "      <th></th>\n",
              "    </tr>\n",
              "  </thead>\n",
              "  <tbody>\n",
              "    <tr>\n",
              "      <th>female</th>\n",
              "      <td>0.742038</td>\n",
              "    </tr>\n",
              "    <tr>\n",
              "      <th>male</th>\n",
              "      <td>0.188908</td>\n",
              "    </tr>\n",
              "  </tbody>\n",
              "</table>\n",
              "</div>"
            ],
            "text/plain": [
              "        Survived\n",
              "Sex             \n",
              "female  0.742038\n",
              "male    0.188908"
            ]
          },
          "metadata": {
            "tags": []
          },
          "execution_count": 13
        }
      ]
    },
    {
      "cell_type": "code",
      "metadata": {
        "id": "k7euOAoGTOIR",
        "colab_type": "code",
        "outputId": "5bcbd5c6-0684-45b9-8cba-bcb389f94232",
        "colab": {
          "base_uri": "https://localhost:8080/",
          "height": 266
        }
      },
      "source": [
        "pd.pivot_table(data=train, index=['Sex','Pclass'], values='Survived')"
      ],
      "execution_count": 14,
      "outputs": [
        {
          "output_type": "execute_result",
          "data": {
            "text/html": [
              "<div>\n",
              "<style scoped>\n",
              "    .dataframe tbody tr th:only-of-type {\n",
              "        vertical-align: middle;\n",
              "    }\n",
              "\n",
              "    .dataframe tbody tr th {\n",
              "        vertical-align: top;\n",
              "    }\n",
              "\n",
              "    .dataframe thead th {\n",
              "        text-align: right;\n",
              "    }\n",
              "</style>\n",
              "<table border=\"1\" class=\"dataframe\">\n",
              "  <thead>\n",
              "    <tr style=\"text-align: right;\">\n",
              "      <th></th>\n",
              "      <th></th>\n",
              "      <th>Survived</th>\n",
              "    </tr>\n",
              "    <tr>\n",
              "      <th>Sex</th>\n",
              "      <th>Pclass</th>\n",
              "      <th></th>\n",
              "    </tr>\n",
              "  </thead>\n",
              "  <tbody>\n",
              "    <tr>\n",
              "      <th rowspan=\"3\" valign=\"top\">female</th>\n",
              "      <th>1</th>\n",
              "      <td>0.968085</td>\n",
              "    </tr>\n",
              "    <tr>\n",
              "      <th>2</th>\n",
              "      <td>0.921053</td>\n",
              "    </tr>\n",
              "    <tr>\n",
              "      <th>3</th>\n",
              "      <td>0.500000</td>\n",
              "    </tr>\n",
              "    <tr>\n",
              "      <th rowspan=\"3\" valign=\"top\">male</th>\n",
              "      <th>1</th>\n",
              "      <td>0.368852</td>\n",
              "    </tr>\n",
              "    <tr>\n",
              "      <th>2</th>\n",
              "      <td>0.157407</td>\n",
              "    </tr>\n",
              "    <tr>\n",
              "      <th>3</th>\n",
              "      <td>0.135447</td>\n",
              "    </tr>\n",
              "  </tbody>\n",
              "</table>\n",
              "</div>"
            ],
            "text/plain": [
              "               Survived\n",
              "Sex    Pclass          \n",
              "female 1       0.968085\n",
              "       2       0.921053\n",
              "       3       0.500000\n",
              "male   1       0.368852\n",
              "       2       0.157407\n",
              "       3       0.135447"
            ]
          },
          "metadata": {
            "tags": []
          },
          "execution_count": 14
        }
      ]
    },
    {
      "cell_type": "code",
      "metadata": {
        "id": "6cqI1eKMTOFn",
        "colab_type": "code",
        "outputId": "9ea3b699-9023-4dbc-f592-fcf67ee13bf6",
        "colab": {
          "base_uri": "https://localhost:8080/",
          "height": 297
        }
      },
      "source": [
        "sns.countplot(data=train, x='Embarked',hue=\"Survived\") #Pclass 와 Sex는 생존에 영향"
      ],
      "execution_count": 15,
      "outputs": [
        {
          "output_type": "execute_result",
          "data": {
            "text/plain": [
              "<matplotlib.axes._subplots.AxesSubplot at 0x7f6e185cc1d0>"
            ]
          },
          "metadata": {
            "tags": []
          },
          "execution_count": 15
        },
        {
          "output_type": "display_data",
          "data": {
            "image/png": "[encoded data removed]",
            "text/plain": [
              "<Figure size 432x288 with 1 Axes>"
            ]
          },
          "metadata": {
            "tags": []
          }
        }
      ]
    },
    {
      "cell_type": "code",
      "metadata": {
        "id": "Kb2n5uCcUU5c",
        "colab_type": "code",
        "outputId": "6e7455ae-5cf2-42fc-f8e7-db7e7e86cbd3",
        "colab": {
          "base_uri": "https://localhost:8080/",
          "height": 298
        }
      },
      "source": [
        "sns.distplot(train['Fare'], hist=False)"
      ],
      "execution_count": 16,
      "outputs": [
        {
          "output_type": "execute_result",
          "data": {
            "text/plain": [
              "<matplotlib.axes._subplots.AxesSubplot at 0x7f6e184f5668>"
            ]
          },
          "metadata": {
            "tags": []
          },
          "execution_count": 16
        },
        {
          "output_type": "display_data",
          "data": {
            "image/png": "[encoded data removed]",
            "text/plain": [
              "<Figure size 432x288 with 1 Axes>"
            ]
          },
          "metadata": {
            "tags": []
          }
        }
      ]
    },
    {
      "cell_type": "code",
      "metadata": {
        "id": "6UCKQ4B5UU-o",
        "colab_type": "code",
        "outputId": "8afb3915-9ca2-4203-a578-8384ddc8abe2",
        "colab": {
          "base_uri": "https://localhost:8080/",
          "height": 253
        }
      },
      "source": [
        "low_fare = train[train['Fare']<100]\n",
        "print(low_fare.shape)\n",
        "low_fare.head()"
      ],
      "execution_count": 17,
      "outputs": [
        {
          "output_type": "stream",
          "text": [
            "(838, 11)\n"
          ],
          "name": "stdout"
        },
        {
          "output_type": "execute_result",
          "data": {
            "text/html": [
              "<div>\n",
              "<style scoped>\n",
              "    .dataframe tbody tr th:only-of-type {\n",
              "        vertical-align: middle;\n",
              "    }\n",
              "\n",
              "    .dataframe tbody tr th {\n",
              "        vertical-align: top;\n",
              "    }\n",
              "\n",
              "    .dataframe thead th {\n",
              "        text-align: right;\n",
              "    }\n",
              "</style>\n",
              "<table border=\"1\" class=\"dataframe\">\n",
              "  <thead>\n",
              "    <tr style=\"text-align: right;\">\n",
              "      <th></th>\n",
              "      <th>Survived</th>\n",
              "      <th>Pclass</th>\n",
              "      <th>Name</th>\n",
              "      <th>Sex</th>\n",
              "      <th>Age</th>\n",
              "      <th>SibSp</th>\n",
              "      <th>Parch</th>\n",
              "      <th>Ticket</th>\n",
              "      <th>Fare</th>\n",
              "      <th>Cabin</th>\n",
              "      <th>Embarked</th>\n",
              "    </tr>\n",
              "    <tr>\n",
              "      <th>PassengerId</th>\n",
              "      <th></th>\n",
              "      <th></th>\n",
              "      <th></th>\n",
              "      <th></th>\n",
              "      <th></th>\n",
              "      <th></th>\n",
              "      <th></th>\n",
              "      <th></th>\n",
              "      <th></th>\n",
              "      <th></th>\n",
              "      <th></th>\n",
              "    </tr>\n",
              "  </thead>\n",
              "  <tbody>\n",
              "    <tr>\n",
              "      <th>1</th>\n",
              "      <td>0</td>\n",
              "      <td>3</td>\n",
              "      <td>Braund, Mr. Owen Harris</td>\n",
              "      <td>male</td>\n",
              "      <td>22.0</td>\n",
              "      <td>1</td>\n",
              "      <td>0</td>\n",
              "      <td>A/5 21171</td>\n",
              "      <td>7.2500</td>\n",
              "      <td>NaN</td>\n",
              "      <td>S</td>\n",
              "    </tr>\n",
              "    <tr>\n",
              "      <th>2</th>\n",
              "      <td>1</td>\n",
              "      <td>1</td>\n",
              "      <td>Cumings, Mrs. John Bradley (Florence Briggs Th...</td>\n",
              "      <td>female</td>\n",
              "      <td>38.0</td>\n",
              "      <td>1</td>\n",
              "      <td>0</td>\n",
              "      <td>PC 17599</td>\n",
              "      <td>71.2833</td>\n",
              "      <td>C85</td>\n",
              "      <td>C</td>\n",
              "    </tr>\n",
              "    <tr>\n",
              "      <th>3</th>\n",
              "      <td>1</td>\n",
              "      <td>3</td>\n",
              "      <td>Heikkinen, Miss. Laina</td>\n",
              "      <td>female</td>\n",
              "      <td>26.0</td>\n",
              "      <td>0</td>\n",
              "      <td>0</td>\n",
              "      <td>STON/O2. 3101282</td>\n",
              "      <td>7.9250</td>\n",
              "      <td>NaN</td>\n",
              "      <td>S</td>\n",
              "    </tr>\n",
              "    <tr>\n",
              "      <th>4</th>\n",
              "      <td>1</td>\n",
              "      <td>1</td>\n",
              "      <td>Futrelle, Mrs. Jacques Heath (Lily May Peel)</td>\n",
              "      <td>female</td>\n",
              "      <td>35.0</td>\n",
              "      <td>1</td>\n",
              "      <td>0</td>\n",
              "      <td>113803</td>\n",
              "      <td>53.1000</td>\n",
              "      <td>C123</td>\n",
              "      <td>S</td>\n",
              "    </tr>\n",
              "    <tr>\n",
              "      <th>5</th>\n",
              "      <td>0</td>\n",
              "      <td>3</td>\n",
              "      <td>Allen, Mr. William Henry</td>\n",
              "      <td>male</td>\n",
              "      <td>35.0</td>\n",
              "      <td>0</td>\n",
              "      <td>0</td>\n",
              "      <td>373450</td>\n",
              "      <td>8.0500</td>\n",
              "      <td>NaN</td>\n",
              "      <td>S</td>\n",
              "    </tr>\n",
              "  </tbody>\n",
              "</table>\n",
              "</div>"
            ],
            "text/plain": [
              "             Survived  Pclass  ... Cabin Embarked\n",
              "PassengerId                    ...               \n",
              "1                   0       3  ...   NaN        S\n",
              "2                   1       1  ...   C85        C\n",
              "3                   1       3  ...   NaN        S\n",
              "4                   1       1  ...  C123        S\n",
              "5                   0       3  ...   NaN        S\n",
              "\n",
              "[5 rows x 11 columns]"
            ]
          },
          "metadata": {
            "tags": []
          },
          "execution_count": 17
        }
      ]
    },
    {
      "cell_type": "code",
      "metadata": {
        "id": "-FY30v_iUU8W",
        "colab_type": "code",
        "outputId": "5446a40f-a5df-44c1-b587-8190c7abf36a",
        "colab": {
          "base_uri": "https://localhost:8080/",
          "height": 297
        }
      },
      "source": [
        "sns.distplot(low_fare['Fare'], hist=False)"
      ],
      "execution_count": 18,
      "outputs": [
        {
          "output_type": "execute_result",
          "data": {
            "text/plain": [
              "<matplotlib.axes._subplots.AxesSubplot at 0x7f6e17fec860>"
            ]
          },
          "metadata": {
            "tags": []
          },
          "execution_count": 18
        },
        {
          "output_type": "display_data",
          "data": {
            "image/png": "[encoded data removed]",
            "text/plain": [
              "<Figure size 432x288 with 1 Axes>"
            ]
          },
          "metadata": {
            "tags": []
          }
        }
      ]
    },
    {
      "cell_type": "code",
      "metadata": {
        "id": "E2RUKSh7Wh5j",
        "colab_type": "code",
        "outputId": "8db6c9d7-f983-4d43-9d2a-f32dbc10e782",
        "colab": {
          "base_uri": "https://localhost:8080/",
          "height": 253
        }
      },
      "source": [
        "survived = train[train['Survived']==1]\n",
        "print(survived.shape)\n",
        "survived.head()"
      ],
      "execution_count": 19,
      "outputs": [
        {
          "output_type": "stream",
          "text": [
            "(342, 11)\n"
          ],
          "name": "stdout"
        },
        {
          "output_type": "execute_result",
          "data": {
            "text/html": [
              "<div>\n",
              "<style scoped>\n",
              "    .dataframe tbody tr th:only-of-type {\n",
              "        vertical-align: middle;\n",
              "    }\n",
              "\n",
              "    .dataframe tbody tr th {\n",
              "        vertical-align: top;\n",
              "    }\n",
              "\n",
              "    .dataframe thead th {\n",
              "        text-align: right;\n",
              "    }\n",
              "</style>\n",
              "<table border=\"1\" class=\"dataframe\">\n",
              "  <thead>\n",
              "    <tr style=\"text-align: right;\">\n",
              "      <th></th>\n",
              "      <th>Survived</th>\n",
              "      <th>Pclass</th>\n",
              "      <th>Name</th>\n",
              "      <th>Sex</th>\n",
              "      <th>Age</th>\n",
              "      <th>SibSp</th>\n",
              "      <th>Parch</th>\n",
              "      <th>Ticket</th>\n",
              "      <th>Fare</th>\n",
              "      <th>Cabin</th>\n",
              "      <th>Embarked</th>\n",
              "    </tr>\n",
              "    <tr>\n",
              "      <th>PassengerId</th>\n",
              "      <th></th>\n",
              "      <th></th>\n",
              "      <th></th>\n",
              "      <th></th>\n",
              "      <th></th>\n",
              "      <th></th>\n",
              "      <th></th>\n",
              "      <th></th>\n",
              "      <th></th>\n",
              "      <th></th>\n",
              "      <th></th>\n",
              "    </tr>\n",
              "  </thead>\n",
              "  <tbody>\n",
              "    <tr>\n",
              "      <th>2</th>\n",
              "      <td>1</td>\n",
              "      <td>1</td>\n",
              "      <td>Cumings, Mrs. John Bradley (Florence Briggs Th...</td>\n",
              "      <td>female</td>\n",
              "      <td>38.0</td>\n",
              "      <td>1</td>\n",
              "      <td>0</td>\n",
              "      <td>PC 17599</td>\n",
              "      <td>71.2833</td>\n",
              "      <td>C85</td>\n",
              "      <td>C</td>\n",
              "    </tr>\n",
              "    <tr>\n",
              "      <th>3</th>\n",
              "      <td>1</td>\n",
              "      <td>3</td>\n",
              "      <td>Heikkinen, Miss. Laina</td>\n",
              "      <td>female</td>\n",
              "      <td>26.0</td>\n",
              "      <td>0</td>\n",
              "      <td>0</td>\n",
              "      <td>STON/O2. 3101282</td>\n",
              "      <td>7.9250</td>\n",
              "      <td>NaN</td>\n",
              "      <td>S</td>\n",
              "    </tr>\n",
              "    <tr>\n",
              "      <th>4</th>\n",
              "      <td>1</td>\n",
              "      <td>1</td>\n",
              "      <td>Futrelle, Mrs. Jacques Heath (Lily May Peel)</td>\n",
              "      <td>female</td>\n",
              "      <td>35.0</td>\n",
              "      <td>1</td>\n",
              "      <td>0</td>\n",
              "      <td>113803</td>\n",
              "      <td>53.1000</td>\n",
              "      <td>C123</td>\n",
              "      <td>S</td>\n",
              "    </tr>\n",
              "    <tr>\n",
              "      <th>9</th>\n",
              "      <td>1</td>\n",
              "      <td>3</td>\n",
              "      <td>Johnson, Mrs. Oscar W (Elisabeth Vilhelmina Berg)</td>\n",
              "      <td>female</td>\n",
              "      <td>27.0</td>\n",
              "      <td>0</td>\n",
              "      <td>2</td>\n",
              "      <td>347742</td>\n",
              "      <td>11.1333</td>\n",
              "      <td>NaN</td>\n",
              "      <td>S</td>\n",
              "    </tr>\n",
              "    <tr>\n",
              "      <th>10</th>\n",
              "      <td>1</td>\n",
              "      <td>2</td>\n",
              "      <td>Nasser, Mrs. Nicholas (Adele Achem)</td>\n",
              "      <td>female</td>\n",
              "      <td>14.0</td>\n",
              "      <td>1</td>\n",
              "      <td>0</td>\n",
              "      <td>237736</td>\n",
              "      <td>30.0708</td>\n",
              "      <td>NaN</td>\n",
              "      <td>C</td>\n",
              "    </tr>\n",
              "  </tbody>\n",
              "</table>\n",
              "</div>"
            ],
            "text/plain": [
              "             Survived  Pclass  ... Cabin Embarked\n",
              "PassengerId                    ...               \n",
              "2                   1       1  ...   C85        C\n",
              "3                   1       3  ...   NaN        S\n",
              "4                   1       1  ...  C123        S\n",
              "9                   1       3  ...   NaN        S\n",
              "10                  1       2  ...   NaN        C\n",
              "\n",
              "[5 rows x 11 columns]"
            ]
          },
          "metadata": {
            "tags": []
          },
          "execution_count": 19
        }
      ]
    },
    {
      "cell_type": "code",
      "metadata": {
        "id": "oc1IY5hJXFZK",
        "colab_type": "code",
        "outputId": "a6e5b35d-3f21-4908-ece1-f7381a918640",
        "colab": {
          "base_uri": "https://localhost:8080/",
          "height": 297
        }
      },
      "source": [
        "sns.distplot(low_fare['Fare'], survived['Survived'],hist=False)"
      ],
      "execution_count": 20,
      "outputs": [
        {
          "output_type": "execute_result",
          "data": {
            "text/plain": [
              "<matplotlib.axes._subplots.AxesSubplot at 0x7f6e17fa7898>"
            ]
          },
          "metadata": {
            "tags": []
          },
          "execution_count": 20
        },
        {
          "output_type": "display_data",
          "data": {
            "image/png": "[encoded data removed]",
            "text/plain": [
              "<Figure size 432x288 with 1 Axes>"
            ]
          },
          "metadata": {
            "tags": []
          }
        }
      ]
    },
    {
      "cell_type": "code",
      "metadata": {
        "id": "HWXoPjxlQjzQ",
        "colab_type": "code",
        "outputId": "2a620fe7-56c4-4426-bb69-6d451cf7a7f2",
        "colab": {
          "base_uri": "https://localhost:8080/",
          "height": 253
        }
      },
      "source": [
        "dead = low_fare[low_fare['Survived'] == 0]\n",
        "print(dead.shape)\n",
        "dead.head()"
      ],
      "execution_count": 21,
      "outputs": [
        {
          "output_type": "stream",
          "text": [
            "(535, 11)\n"
          ],
          "name": "stdout"
        },
        {
          "output_type": "execute_result",
          "data": {
            "text/html": [
              "<div>\n",
              "<style scoped>\n",
              "    .dataframe tbody tr th:only-of-type {\n",
              "        vertical-align: middle;\n",
              "    }\n",
              "\n",
              "    .dataframe tbody tr th {\n",
              "        vertical-align: top;\n",
              "    }\n",
              "\n",
              "    .dataframe thead th {\n",
              "        text-align: right;\n",
              "    }\n",
              "</style>\n",
              "<table border=\"1\" class=\"dataframe\">\n",
              "  <thead>\n",
              "    <tr style=\"text-align: right;\">\n",
              "      <th></th>\n",
              "      <th>Survived</th>\n",
              "      <th>Pclass</th>\n",
              "      <th>Name</th>\n",
              "      <th>Sex</th>\n",
              "      <th>Age</th>\n",
              "      <th>SibSp</th>\n",
              "      <th>Parch</th>\n",
              "      <th>Ticket</th>\n",
              "      <th>Fare</th>\n",
              "      <th>Cabin</th>\n",
              "      <th>Embarked</th>\n",
              "    </tr>\n",
              "    <tr>\n",
              "      <th>PassengerId</th>\n",
              "      <th></th>\n",
              "      <th></th>\n",
              "      <th></th>\n",
              "      <th></th>\n",
              "      <th></th>\n",
              "      <th></th>\n",
              "      <th></th>\n",
              "      <th></th>\n",
              "      <th></th>\n",
              "      <th></th>\n",
              "      <th></th>\n",
              "    </tr>\n",
              "  </thead>\n",
              "  <tbody>\n",
              "    <tr>\n",
              "      <th>1</th>\n",
              "      <td>0</td>\n",
              "      <td>3</td>\n",
              "      <td>Braund, Mr. Owen Harris</td>\n",
              "      <td>male</td>\n",
              "      <td>22.0</td>\n",
              "      <td>1</td>\n",
              "      <td>0</td>\n",
              "      <td>A/5 21171</td>\n",
              "      <td>7.2500</td>\n",
              "      <td>NaN</td>\n",
              "      <td>S</td>\n",
              "    </tr>\n",
              "    <tr>\n",
              "      <th>5</th>\n",
              "      <td>0</td>\n",
              "      <td>3</td>\n",
              "      <td>Allen, Mr. William Henry</td>\n",
              "      <td>male</td>\n",
              "      <td>35.0</td>\n",
              "      <td>0</td>\n",
              "      <td>0</td>\n",
              "      <td>373450</td>\n",
              "      <td>8.0500</td>\n",
              "      <td>NaN</td>\n",
              "      <td>S</td>\n",
              "    </tr>\n",
              "    <tr>\n",
              "      <th>6</th>\n",
              "      <td>0</td>\n",
              "      <td>3</td>\n",
              "      <td>Moran, Mr. James</td>\n",
              "      <td>male</td>\n",
              "      <td>NaN</td>\n",
              "      <td>0</td>\n",
              "      <td>0</td>\n",
              "      <td>330877</td>\n",
              "      <td>8.4583</td>\n",
              "      <td>NaN</td>\n",
              "      <td>Q</td>\n",
              "    </tr>\n",
              "    <tr>\n",
              "      <th>7</th>\n",
              "      <td>0</td>\n",
              "      <td>1</td>\n",
              "      <td>McCarthy, Mr. Timothy J</td>\n",
              "      <td>male</td>\n",
              "      <td>54.0</td>\n",
              "      <td>0</td>\n",
              "      <td>0</td>\n",
              "      <td>17463</td>\n",
              "      <td>51.8625</td>\n",
              "      <td>E46</td>\n",
              "      <td>S</td>\n",
              "    </tr>\n",
              "    <tr>\n",
              "      <th>8</th>\n",
              "      <td>0</td>\n",
              "      <td>3</td>\n",
              "      <td>Palsson, Master. Gosta Leonard</td>\n",
              "      <td>male</td>\n",
              "      <td>2.0</td>\n",
              "      <td>3</td>\n",
              "      <td>1</td>\n",
              "      <td>349909</td>\n",
              "      <td>21.0750</td>\n",
              "      <td>NaN</td>\n",
              "      <td>S</td>\n",
              "    </tr>\n",
              "  </tbody>\n",
              "</table>\n",
              "</div>"
            ],
            "text/plain": [
              "             Survived  Pclass  ... Cabin Embarked\n",
              "PassengerId                    ...               \n",
              "1                   0       3  ...   NaN        S\n",
              "5                   0       3  ...   NaN        S\n",
              "6                   0       3  ...   NaN        Q\n",
              "7                   0       1  ...   E46        S\n",
              "8                   0       3  ...   NaN        S\n",
              "\n",
              "[5 rows x 11 columns]"
            ]
          },
          "metadata": {
            "tags": []
          },
          "execution_count": 21
        }
      ]
    },
    {
      "cell_type": "code",
      "metadata": {
        "id": "TtSomy91Lz0Y",
        "colab_type": "code",
        "outputId": "6132c84b-18ce-4dcc-c455-2c07ede9cff6",
        "colab": {
          "base_uri": "https://localhost:8080/",
          "height": 253
        }
      },
      "source": [
        "survived = low_fare[low_fare['Survived'] == 1]\n",
        "print(survived.shape)\n",
        "survived.head()"
      ],
      "execution_count": 22,
      "outputs": [
        {
          "output_type": "stream",
          "text": [
            "(303, 11)\n"
          ],
          "name": "stdout"
        },
        {
          "output_type": "execute_result",
          "data": {
            "text/html": [
              "<div>\n",
              "<style scoped>\n",
              "    .dataframe tbody tr th:only-of-type {\n",
              "        vertical-align: middle;\n",
              "    }\n",
              "\n",
              "    .dataframe tbody tr th {\n",
              "        vertical-align: top;\n",
              "    }\n",
              "\n",
              "    .dataframe thead th {\n",
              "        text-align: right;\n",
              "    }\n",
              "</style>\n",
              "<table border=\"1\" class=\"dataframe\">\n",
              "  <thead>\n",
              "    <tr style=\"text-align: right;\">\n",
              "      <th></th>\n",
              "      <th>Survived</th>\n",
              "      <th>Pclass</th>\n",
              "      <th>Name</th>\n",
              "      <th>Sex</th>\n",
              "      <th>Age</th>\n",
              "      <th>SibSp</th>\n",
              "      <th>Parch</th>\n",
              "      <th>Ticket</th>\n",
              "      <th>Fare</th>\n",
              "      <th>Cabin</th>\n",
              "      <th>Embarked</th>\n",
              "    </tr>\n",
              "    <tr>\n",
              "      <th>PassengerId</th>\n",
              "      <th></th>\n",
              "      <th></th>\n",
              "      <th></th>\n",
              "      <th></th>\n",
              "      <th></th>\n",
              "      <th></th>\n",
              "      <th></th>\n",
              "      <th></th>\n",
              "      <th></th>\n",
              "      <th></th>\n",
              "      <th></th>\n",
              "    </tr>\n",
              "  </thead>\n",
              "  <tbody>\n",
              "    <tr>\n",
              "      <th>2</th>\n",
              "      <td>1</td>\n",
              "      <td>1</td>\n",
              "      <td>Cumings, Mrs. John Bradley (Florence Briggs Th...</td>\n",
              "      <td>female</td>\n",
              "      <td>38.0</td>\n",
              "      <td>1</td>\n",
              "      <td>0</td>\n",
              "      <td>PC 17599</td>\n",
              "      <td>71.2833</td>\n",
              "      <td>C85</td>\n",
              "      <td>C</td>\n",
              "    </tr>\n",
              "    <tr>\n",
              "      <th>3</th>\n",
              "      <td>1</td>\n",
              "      <td>3</td>\n",
              "      <td>Heikkinen, Miss. Laina</td>\n",
              "      <td>female</td>\n",
              "      <td>26.0</td>\n",
              "      <td>0</td>\n",
              "      <td>0</td>\n",
              "      <td>STON/O2. 3101282</td>\n",
              "      <td>7.9250</td>\n",
              "      <td>NaN</td>\n",
              "      <td>S</td>\n",
              "    </tr>\n",
              "    <tr>\n",
              "      <th>4</th>\n",
              "      <td>1</td>\n",
              "      <td>1</td>\n",
              "      <td>Futrelle, Mrs. Jacques Heath (Lily May Peel)</td>\n",
              "      <td>female</td>\n",
              "      <td>35.0</td>\n",
              "      <td>1</td>\n",
              "      <td>0</td>\n",
              "      <td>113803</td>\n",
              "      <td>53.1000</td>\n",
              "      <td>C123</td>\n",
              "      <td>S</td>\n",
              "    </tr>\n",
              "    <tr>\n",
              "      <th>9</th>\n",
              "      <td>1</td>\n",
              "      <td>3</td>\n",
              "      <td>Johnson, Mrs. Oscar W (Elisabeth Vilhelmina Berg)</td>\n",
              "      <td>female</td>\n",
              "      <td>27.0</td>\n",
              "      <td>0</td>\n",
              "      <td>2</td>\n",
              "      <td>347742</td>\n",
              "      <td>11.1333</td>\n",
              "      <td>NaN</td>\n",
              "      <td>S</td>\n",
              "    </tr>\n",
              "    <tr>\n",
              "      <th>10</th>\n",
              "      <td>1</td>\n",
              "      <td>2</td>\n",
              "      <td>Nasser, Mrs. Nicholas (Adele Achem)</td>\n",
              "      <td>female</td>\n",
              "      <td>14.0</td>\n",
              "      <td>1</td>\n",
              "      <td>0</td>\n",
              "      <td>237736</td>\n",
              "      <td>30.0708</td>\n",
              "      <td>NaN</td>\n",
              "      <td>C</td>\n",
              "    </tr>\n",
              "  </tbody>\n",
              "</table>\n",
              "</div>"
            ],
            "text/plain": [
              "             Survived  Pclass  ... Cabin Embarked\n",
              "PassengerId                    ...               \n",
              "2                   1       1  ...   C85        C\n",
              "3                   1       3  ...   NaN        S\n",
              "4                   1       1  ...  C123        S\n",
              "9                   1       3  ...   NaN        S\n",
              "10                  1       2  ...   NaN        C\n",
              "\n",
              "[5 rows x 11 columns]"
            ]
          },
          "metadata": {
            "tags": []
          },
          "execution_count": 22
        }
      ]
    },
    {
      "cell_type": "code",
      "metadata": {
        "id": "ooLxOSUCMFeh",
        "colab_type": "code",
        "outputId": "8783e314-b07e-4432-8faa-6b962c1e8435",
        "colab": {
          "base_uri": "https://localhost:8080/",
          "height": 297
        }
      },
      "source": [
        "sns.distplot(dead['Fare'], hist=False, label='D')\n",
        "sns.distplot(survived['Fare'], hist=False, label='S')"
      ],
      "execution_count": 23,
      "outputs": [
        {
          "output_type": "execute_result",
          "data": {
            "text/plain": [
              "<matplotlib.axes._subplots.AxesSubplot at 0x7f6e17f190f0>"
            ]
          },
          "metadata": {
            "tags": []
          },
          "execution_count": 23
        },
        {
          "output_type": "display_data",
          "data": {
            "image/png": "[encoded data removed]",
            "text/plain": [
              "<Figure size 432x288 with 1 Axes>"
            ]
          },
          "metadata": {
            "tags": []
          }
        }
      ]
    },
    {
      "cell_type": "code",
      "metadata": {
        "id": "jVRRfeEuMyWA",
        "colab_type": "code",
        "outputId": "f2d8be1c-86bd-4b04-b199-75e7172fc515",
        "colab": {
          "base_uri": "https://localhost:8080/",
          "height": 387
        }
      },
      "source": [
        "sns.lmplot(data=train, x='Age', y=\"Fare\", hue='Survived', fit_reg=False)"
      ],
      "execution_count": 24,
      "outputs": [
        {
          "output_type": "execute_result",
          "data": {
            "text/plain": [
              "<seaborn.axisgrid.FacetGrid at 0x7f6e180508d0>"
            ]
          },
          "metadata": {
            "tags": []
          },
          "execution_count": 24
        },
        {
          "output_type": "display_data",
          "data": {
            "image/png": "[encoded data removed]",
            "text/plain": [
              "<Figure size 411.875x360 with 1 Axes>"
            ]
          },
          "metadata": {
            "tags": []
          }
        }
      ]
    },
    {
      "cell_type": "code",
      "metadata": {
        "id": "yTn7Jt1sNpVS",
        "colab_type": "code",
        "colab": {}
      },
      "source": [
        "train['Family'] = train['SibSp'] + train['Parch']"
      ],
      "execution_count": 0,
      "outputs": []
    },
    {
      "cell_type": "code",
      "metadata": {
        "id": "ueLqMQS2OYsG",
        "colab_type": "code",
        "outputId": "0fdd8f62-0595-43f0-ca14-22eaf2b0af03",
        "colab": {
          "base_uri": "https://localhost:8080/",
          "height": 359
        }
      },
      "source": [
        "pd.pivot_table(data=train, index='Family', values='Survived')"
      ],
      "execution_count": 26,
      "outputs": [
        {
          "output_type": "execute_result",
          "data": {
            "text/html": [
              "<div>\n",
              "<style scoped>\n",
              "    .dataframe tbody tr th:only-of-type {\n",
              "        vertical-align: middle;\n",
              "    }\n",
              "\n",
              "    .dataframe tbody tr th {\n",
              "        vertical-align: top;\n",
              "    }\n",
              "\n",
              "    .dataframe thead th {\n",
              "        text-align: right;\n",
              "    }\n",
              "</style>\n",
              "<table border=\"1\" class=\"dataframe\">\n",
              "  <thead>\n",
              "    <tr style=\"text-align: right;\">\n",
              "      <th></th>\n",
              "      <th>Survived</th>\n",
              "    </tr>\n",
              "    <tr>\n",
              "      <th>Family</th>\n",
              "      <th></th>\n",
              "    </tr>\n",
              "  </thead>\n",
              "  <tbody>\n",
              "    <tr>\n",
              "      <th>0</th>\n",
              "      <td>0.303538</td>\n",
              "    </tr>\n",
              "    <tr>\n",
              "      <th>1</th>\n",
              "      <td>0.552795</td>\n",
              "    </tr>\n",
              "    <tr>\n",
              "      <th>2</th>\n",
              "      <td>0.578431</td>\n",
              "    </tr>\n",
              "    <tr>\n",
              "      <th>3</th>\n",
              "      <td>0.724138</td>\n",
              "    </tr>\n",
              "    <tr>\n",
              "      <th>4</th>\n",
              "      <td>0.200000</td>\n",
              "    </tr>\n",
              "    <tr>\n",
              "      <th>5</th>\n",
              "      <td>0.136364</td>\n",
              "    </tr>\n",
              "    <tr>\n",
              "      <th>6</th>\n",
              "      <td>0.333333</td>\n",
              "    </tr>\n",
              "    <tr>\n",
              "      <th>7</th>\n",
              "      <td>0.000000</td>\n",
              "    </tr>\n",
              "    <tr>\n",
              "      <th>10</th>\n",
              "      <td>0.000000</td>\n",
              "    </tr>\n",
              "  </tbody>\n",
              "</table>\n",
              "</div>"
            ],
            "text/plain": [
              "        Survived\n",
              "Family          \n",
              "0       0.303538\n",
              "1       0.552795\n",
              "2       0.578431\n",
              "3       0.724138\n",
              "4       0.200000\n",
              "5       0.136364\n",
              "6       0.333333\n",
              "7       0.000000\n",
              "10      0.000000"
            ]
          },
          "metadata": {
            "tags": []
          },
          "execution_count": 26
        }
      ]
    },
    {
      "cell_type": "code",
      "metadata": {
        "id": "G6MWzfI-OwnT",
        "colab_type": "code",
        "colab": {}
      },
      "source": [
        ""
      ],
      "execution_count": 0,
      "outputs": []
    },
    {
      "cell_type": "markdown",
      "metadata": {
        "id": "O1n8yeixPcLm",
        "colab_type": "text"
      },
      "source": [
        "#Prediction"
      ]
    },
    {
      "cell_type": "code",
      "metadata": {
        "id": "wIAWKr0mPeK8",
        "colab_type": "code",
        "colab": {}
      },
      "source": [
        "import numpy as np\n",
        "import pandas as pd"
      ],
      "execution_count": 0,
      "outputs": []
    },
    {
      "cell_type": "code",
      "metadata": {
        "id": "c6BG8qGIejjZ",
        "colab_type": "code",
        "outputId": "9efc5553-2c47-43e4-a423-5bde1be6d3b7",
        "colab": {
          "resources": {
            "http://localhost:8080/nbextensions/google.colab/files.js": {
              "data": "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",
              "ok": true,
              "headers": [
                [
                  "content-type",
                  "application/javascript"
                ]
              ],
              "status": 200,
              "status_text": ""
            }
          },
          "base_uri": "https://localhost:8080/",
          "height": 222
        }
      },
      "source": [
        "files.upload()"
      ],
      "execution_count": 28,
      "outputs": [
        {
          "output_type": "display_data",
          "data": {
            "text/html": [
              "\n",
              "     <input type=\"file\" id=\"files-b9ed4924-1090-4b05-9483-466f530089bd\" name=\"files[]\" multiple disabled />\n",
              "     <output id=\"result-b9ed4924-1090-4b05-9483-466f530089bd\">\n",
              "      Upload widget is only available when the cell has been executed in the\n",
              "      current browser session. Please rerun this cell to enable.\n",
              "      </output>\n",
              "      <script src=\"/nbextensions/google.colab/files.js\"></script> "
            ],
            "text/plain": [
              "<IPython.core.display.HTML object>"
            ]
          },
          "metadata": {
            "tags": []
          }
        },
        {
          "output_type": "stream",
          "text": [
            "Saving gender_submission.csv to gender_submission (1).csv\n",
            "Saving test.csv to test (1).csv\n",
            "Saving train.csv to train (1).csv\n"
          ],
          "name": "stdout"
        },
        {
          "output_type": "execute_result",
          "data": {
            "text/plain": [
              "{'gender_submission.csv': b'PassengerId,Survived\\r\\n892,0\\r\\n893,1\\r\\n894,0\\r\\n895,0\\r\\n896,1\\r\\n897,0\\r\\n898,1\\r\\n899,0\\r\\n900,1\\r\\n901,0\\r\\n902,0\\r\\n903,0\\r\\n904,1\\r\\n905,0\\r\\n906,1\\r\\n907,1\\r\\n908,0\\r\\n909,0\\r\\n910,1\\r\\n911,1\\r\\n912,0\\r\\n913,0\\r\\n914,1\\r\\n915,0\\r\\n916,1\\r\\n917,0\\r\\n918,1\\r\\n919,0\\r\\n920,0\\r\\n921,0\\r\\n922,0\\r\\n923,0\\r\\n924,1\\r\\n925,1\\r\\n926,0\\r\\n927,0\\r\\n928,1\\r\\n929,1\\r\\n930,0\\r\\n931,0\\r\\n932,0\\r\\n933,0\\r\\n934,0\\r\\n935,1\\r\\n936,1\\r\\n937,0\\r\\n938,0\\r\\n939,0\\r\\n940,1\\r\\n941,1\\r\\n942,0\\r\\n943,0\\r\\n944,1\\r\\n945,1\\r\\n946,0\\r\\n947,0\\r\\n948,0\\r\\n949,0\\r\\n950,0\\r\\n951,1\\r\\n952,0\\r\\n953,0\\r\\n954,0\\r\\n955,1\\r\\n956,0\\r\\n957,1\\r\\n958,1\\r\\n959,0\\r\\n960,0\\r\\n961,1\\r\\n962,1\\r\\n963,0\\r\\n964,1\\r\\n965,0\\r\\n966,1\\r\\n967,0\\r\\n968,0\\r\\n969,1\\r\\n970,0\\r\\n971,1\\r\\n972,0\\r\\n973,0\\r\\n974,0\\r\\n975,0\\r\\n976,0\\r\\n977,0\\r\\n978,1\\r\\n979,1\\r\\n980,1\\r\\n981,0\\r\\n982,1\\r\\n983,0\\r\\n984,1\\r\\n985,0\\r\\n986,0\\r\\n987,0\\r\\n988,1\\r\\n989,0\\r\\n990,1\\r\\n991,0\\r\\n992,1\\r\\n993,0\\r\\n994,0\\r\\n995,0\\r\\n996,1\\r\\n997,0\\r\\n998,0\\r\\n999,0\\r\\n1000,0\\r\\n1001,0\\r\\n1002,0\\r\\n1003,1\\r\\n1004,1\\r\\n1005,1\\r\\n1006,1\\r\\n1007,0\\r\\n1008,0\\r\\n1009,1\\r\\n1010,0\\r\\n1011,1\\r\\n1012,1\\r\\n1013,0\\r\\n1014,1\\r\\n1015,0\\r\\n1016,0\\r\\n1017,1\\r\\n1018,0\\r\\n1019,1\\r\\n1020,0\\r\\n1021,0\\r\\n1022,0\\r\\n1023,0\\r\\n1024,1\\r\\n1025,0\\r\\n1026,0\\r\\n1027,0\\r\\n1028,0\\r\\n1029,0\\r\\n1030,1\\r\\n1031,0\\r\\n1032,1\\r\\n1033,1\\r\\n1034,0\\r\\n1035,0\\r\\n1036,0\\r\\n1037,0\\r\\n1038,0\\r\\n1039,0\\r\\n1040,0\\r\\n1041,0\\r\\n1042,1\\r\\n1043,0\\r\\n1044,0\\r\\n1045,1\\r\\n1046,0\\r\\n1047,0\\r\\n1048,1\\r\\n1049,1\\r\\n1050,0\\r\\n1051,1\\r\\n1052,1\\r\\n1053,0\\r\\n1054,1\\r\\n1055,0\\r\\n1056,0\\r\\n1057,1\\r\\n1058,0\\r\\n1059,0\\r\\n1060,1\\r\\n1061,1\\r\\n1062,0\\r\\n1063,0\\r\\n1064,0\\r\\n1065,0\\r\\n1066,0\\r\\n1067,1\\r\\n1068,1\\r\\n1069,0\\r\\n1070,1\\r\\n1071,1\\r\\n1072,0\\r\\n1073,0\\r\\n1074,1\\r\\n1075,0\\r\\n1076,1\\r\\n1077,0\\r\\n1078,1\\r\\n1079,0\\r\\n1080,1\\r\\n1081,0\\r\\n1082,0\\r\\n1083,0\\r\\n1084,0\\r\\n1085,0\\r\\n1086,0\\r\\n1087,0\\r\\n1088,0\\r\\n1089,1\\r\\n1090,0\\r\\n1091,1\\r\\n1092,1\\r\\n1093,0\\r\\n1094,0\\r\\n1095,1\\r\\n1096,0\\r\\n1097,0\\r\\n1098,1\\r\\n1099,0\\r\\n1100,1\\r\\n1101,0\\r\\n1102,0\\r\\n1103,0\\r\\n1104,0\\r\\n1105,1\\r\\n1106,1\\r\\n1107,0\\r\\n1108,1\\r\\n1109,0\\r\\n1110,1\\r\\n1111,0\\r\\n1112,1\\r\\n1113,0\\r\\n1114,1\\r\\n1115,0\\r\\n1116,1\\r\\n1117,1\\r\\n1118,0\\r\\n1119,1\\r\\n1120,0\\r\\n1121,0\\r\\n1122,0\\r\\n1123,1\\r\\n1124,0\\r\\n1125,0\\r\\n1126,0\\r\\n1127,0\\r\\n1128,0\\r\\n1129,0\\r\\n1130,1\\r\\n1131,1\\r\\n1132,1\\r\\n1133,1\\r\\n1134,0\\r\\n1135,0\\r\\n1136,0\\r\\n1137,0\\r\\n1138,1\\r\\n1139,0\\r\\n1140,1\\r\\n1141,1\\r\\n1142,1\\r\\n1143,0\\r\\n1144,0\\r\\n1145,0\\r\\n1146,0\\r\\n1147,0\\r\\n1148,0\\r\\n1149,0\\r\\n1150,1\\r\\n1151,0\\r\\n1152,0\\r\\n1153,0\\r\\n1154,1\\r\\n1155,1\\r\\n1156,0\\r\\n1157,0\\r\\n1158,0\\r\\n1159,0\\r\\n1160,1\\r\\n1161,0\\r\\n1162,0\\r\\n1163,0\\r\\n1164,1\\r\\n1165,1\\r\\n1166,0\\r\\n1167,1\\r\\n1168,0\\r\\n1169,0\\r\\n1170,0\\r\\n1171,0\\r\\n1172,1\\r\\n1173,0\\r\\n1174,1\\r\\n1175,1\\r\\n1176,1\\r\\n1177,0\\r\\n1178,0\\r\\n1179,0\\r\\n1180,0\\r\\n1181,0\\r\\n1182,0\\r\\n1183,1\\r\\n1184,0\\r\\n1185,0\\r\\n1186,0\\r\\n1187,0\\r\\n1188,1\\r\\n1189,0\\r\\n1190,0\\r\\n1191,0\\r\\n1192,0\\r\\n1193,0\\r\\n1194,0\\r\\n1195,0\\r\\n1196,1\\r\\n1197,1\\r\\n1198,0\\r\\n1199,0\\r\\n1200,0\\r\\n1201,1\\r\\n1202,0\\r\\n1203,0\\r\\n1204,0\\r\\n1205,1\\r\\n1206,1\\r\\n1207,1\\r\\n1208,0\\r\\n1209,0\\r\\n1210,0\\r\\n1211,0\\r\\n1212,0\\r\\n1213,0\\r\\n1214,0\\r\\n1215,0\\r\\n1216,1\\r\\n1217,0\\r\\n1218,1\\r\\n1219,0\\r\\n1220,0\\r\\n1221,0\\r\\n1222,1\\r\\n1223,0\\r\\n1224,0\\r\\n1225,1\\r\\n1226,0\\r\\n1227,0\\r\\n1228,0\\r\\n1229,0\\r\\n1230,0\\r\\n1231,0\\r\\n1232,0\\r\\n1233,0\\r\\n1234,0\\r\\n1235,1\\r\\n1236,0\\r\\n1237,1\\r\\n1238,0\\r\\n1239,1\\r\\n1240,0\\r\\n1241,1\\r\\n1242,1\\r\\n1243,0\\r\\n1244,0\\r\\n1245,0\\r\\n1246,1\\r\\n1247,0\\r\\n1248,1\\r\\n1249,0\\r\\n1250,0\\r\\n1251,1\\r\\n1252,0\\r\\n1253,1\\r\\n1254,1\\r\\n1255,0\\r\\n1256,1\\r\\n1257,1\\r\\n1258,0\\r\\n1259,1\\r\\n1260,1\\r\\n1261,0\\r\\n1262,0\\r\\n1263,1\\r\\n1264,0\\r\\n1265,0\\r\\n1266,1\\r\\n1267,1\\r\\n1268,1\\r\\n1269,0\\r\\n1270,0\\r\\n1271,0\\r\\n1272,0\\r\\n1273,0\\r\\n1274,1\\r\\n1275,1\\r\\n1276,0\\r\\n1277,1\\r\\n1278,0\\r\\n1279,0\\r\\n1280,0\\r\\n1281,0\\r\\n1282,0\\r\\n1283,1\\r\\n1284,0\\r\\n1285,0\\r\\n1286,0\\r\\n1287,1\\r\\n1288,0\\r\\n1289,1\\r\\n1290,0\\r\\n1291,0\\r\\n1292,1\\r\\n1293,0\\r\\n1294,1\\r\\n1295,0\\r\\n1296,0\\r\\n1297,0\\r\\n1298,0\\r\\n1299,0\\r\\n1300,1\\r\\n1301,1\\r\\n1302,1\\r\\n1303,1\\r\\n1304,1\\r\\n1305,0\\r\\n1306,1\\r\\n1307,0\\r\\n1308,0\\r\\n1309,0\\r\\n',\n",
              " 'test.csv': b'PassengerId,Pclass,Name,Sex,Age,SibSp,Parch,Ticket,Fare,Cabin,Embarked\\r\\n892,3,\"Kelly, Mr. James\",male,34.5,0,0,330911,7.8292,,Q\\r\\n893,3,\"Wilkes, Mrs. James (Ellen Needs)\",female,47,1,0,363272,7,,S\\r\\n894,2,\"Myles, Mr. Thomas Francis\",male,62,0,0,240276,9.6875,,Q\\r\\n895,3,\"Wirz, Mr. Albert\",male,27,0,0,315154,8.6625,,S\\r\\n896,3,\"Hirvonen, Mrs. Alexander (Helga E Lindqvist)\",female,22,1,1,3101298,12.2875,,S\\r\\n897,3,\"Svensson, Mr. Johan Cervin\",male,14,0,0,7538,9.225,,S\\r\\n898,3,\"Connolly, Miss. Kate\",female,30,0,0,330972,7.6292,,Q\\r\\n899,2,\"Caldwell, Mr. Albert Francis\",male,26,1,1,248738,29,,S\\r\\n900,3,\"Abrahim, Mrs. Joseph (Sophie Halaut Easu)\",female,18,0,0,2657,7.2292,,C\\r\\n901,3,\"Davies, Mr. John Samuel\",male,21,2,0,A/4 48871,24.15,,S\\r\\n902,3,\"Ilieff, Mr. Ylio\",male,,0,0,349220,7.8958,,S\\r\\n903,1,\"Jones, Mr. Charles Cresson\",male,46,0,0,694,26,,S\\r\\n904,1,\"Snyder, Mrs. John Pillsbury (Nelle Stevenson)\",female,23,1,0,21228,82.2667,B45,S\\r\\n905,2,\"Howard, Mr. Benjamin\",male,63,1,0,24065,26,,S\\r\\n906,1,\"Chaffee, Mrs. Herbert Fuller (Carrie Constance Toogood)\",female,47,1,0,W.E.P. 5734,61.175,E31,S\\r\\n907,2,\"del Carlo, Mrs. Sebastiano (Argenia Genovesi)\",female,24,1,0,SC/PARIS 2167,27.7208,,C\\r\\n908,2,\"Keane, Mr. Daniel\",male,35,0,0,233734,12.35,,Q\\r\\n909,3,\"Assaf, Mr. Gerios\",male,21,0,0,2692,7.225,,C\\r\\n910,3,\"Ilmakangas, Miss. Ida Livija\",female,27,1,0,STON/O2. 3101270,7.925,,S\\r\\n911,3,\"Assaf Khalil, Mrs. Mariana (Miriam\"\")\"\"\",female,45,0,0,2696,7.225,,C\\r\\n912,1,\"Rothschild, Mr. Martin\",male,55,1,0,PC 17603,59.4,,C\\r\\n913,3,\"Olsen, Master. Artur Karl\",male,9,0,1,C 17368,3.1708,,S\\r\\n914,1,\"Flegenheim, Mrs. Alfred (Antoinette)\",female,,0,0,PC 17598,31.6833,,S\\r\\n915,1,\"Williams, Mr. Richard Norris II\",male,21,0,1,PC 17597,61.3792,,C\\r\\n916,1,\"Ryerson, Mrs. Arthur Larned (Emily Maria Borie)\",female,48,1,3,PC 17608,262.375,B57 B59 B63 B66,C\\r\\n917,3,\"Robins, Mr. Alexander A\",male,50,1,0,A/5. 3337,14.5,,S\\r\\n918,1,\"Ostby, Miss. Helene Ragnhild\",female,22,0,1,113509,61.9792,B36,C\\r\\n919,3,\"Daher, Mr. Shedid\",male,22.5,0,0,2698,7.225,,C\\r\\n920,1,\"Brady, Mr. John Bertram\",male,41,0,0,113054,30.5,A21,S\\r\\n921,3,\"Samaan, Mr. Elias\",male,,2,0,2662,21.6792,,C\\r\\n922,2,\"Louch, Mr. Charles Alexander\",male,50,1,0,SC/AH 3085,26,,S\\r\\n923,2,\"Jefferys, Mr. Clifford Thomas\",male,24,2,0,C.A. 31029,31.5,,S\\r\\n924,3,\"Dean, Mrs. Bertram (Eva Georgetta Light)\",female,33,1,2,C.A. 2315,20.575,,S\\r\\n925,3,\"Johnston, Mrs. Andrew G (Elizabeth Lily\"\" Watson)\"\"\",female,,1,2,W./C. 6607,23.45,,S\\r\\n926,1,\"Mock, Mr. Philipp Edmund\",male,30,1,0,13236,57.75,C78,C\\r\\n927,3,\"Katavelas, Mr. Vassilios (Catavelas Vassilios\"\")\"\"\",male,18.5,0,0,2682,7.2292,,C\\r\\n928,3,\"Roth, Miss. Sarah A\",female,,0,0,342712,8.05,,S\\r\\n929,3,\"Cacic, Miss. Manda\",female,21,0,0,315087,8.6625,,S\\r\\n930,3,\"Sap, Mr. Julius\",male,25,0,0,345768,9.5,,S\\r\\n931,3,\"Hee, Mr. Ling\",male,,0,0,1601,56.4958,,S\\r\\n932,3,\"Karun, Mr. Franz\",male,39,0,1,349256,13.4167,,C\\r\\n933,1,\"Franklin, Mr. Thomas Parham\",male,,0,0,113778,26.55,D34,S\\r\\n934,3,\"Goldsmith, Mr. Nathan\",male,41,0,0,SOTON/O.Q. 3101263,7.85,,S\\r\\n935,2,\"Corbett, Mrs. Walter H (Irene Colvin)\",female,30,0,0,237249,13,,S\\r\\n936,1,\"Kimball, Mrs. Edwin Nelson Jr (Gertrude Parsons)\",female,45,1,0,11753,52.5542,D19,S\\r\\n937,3,\"Peltomaki, Mr. Nikolai Johannes\",male,25,0,0,STON/O 2. 3101291,7.925,,S\\r\\n938,1,\"Chevre, Mr. Paul Romaine\",male,45,0,0,PC 17594,29.7,A9,C\\r\\n939,3,\"Shaughnessy, Mr. Patrick\",male,,0,0,370374,7.75,,Q\\r\\n940,1,\"Bucknell, Mrs. William Robert (Emma Eliza Ward)\",female,60,0,0,11813,76.2917,D15,C\\r\\n941,3,\"Coutts, Mrs. William (Winnie Minnie\"\" Treanor)\"\"\",female,36,0,2,C.A. 37671,15.9,,S\\r\\n942,1,\"Smith, Mr. Lucien Philip\",male,24,1,0,13695,60,C31,S\\r\\n943,2,\"Pulbaum, Mr. Franz\",male,27,0,0,SC/PARIS 2168,15.0333,,C\\r\\n944,2,\"Hocking, Miss. Ellen Nellie\"\"\"\"\",female,20,2,1,29105,23,,S\\r\\n945,1,\"Fortune, Miss. Ethel Flora\",female,28,3,2,19950,263,C23 C25 C27,S\\r\\n946,2,\"Mangiavacchi, Mr. Serafino Emilio\",male,,0,0,SC/A.3 2861,15.5792,,C\\r\\n947,3,\"Rice, Master. Albert\",male,10,4,1,382652,29.125,,Q\\r\\n948,3,\"Cor, Mr. Bartol\",male,35,0,0,349230,7.8958,,S\\r\\n949,3,\"Abelseth, Mr. Olaus Jorgensen\",male,25,0,0,348122,7.65,F G63,S\\r\\n950,3,\"Davison, Mr. Thomas Henry\",male,,1,0,386525,16.1,,S\\r\\n951,1,\"Chaudanson, Miss. Victorine\",female,36,0,0,PC 17608,262.375,B61,C\\r\\n952,3,\"Dika, Mr. Mirko\",male,17,0,0,349232,7.8958,,S\\r\\n953,2,\"McCrae, Mr. Arthur Gordon\",male,32,0,0,237216,13.5,,S\\r\\n954,3,\"Bjorklund, Mr. Ernst Herbert\",male,18,0,0,347090,7.75,,S\\r\\n955,3,\"Bradley, Miss. Bridget Delia\",female,22,0,0,334914,7.725,,Q\\r\\n956,1,\"Ryerson, Master. John Borie\",male,13,2,2,PC 17608,262.375,B57 B59 B63 B66,C\\r\\n957,2,\"Corey, Mrs. Percy C (Mary Phyllis Elizabeth Miller)\",female,,0,0,F.C.C. 13534,21,,S\\r\\n958,3,\"Burns, Miss. Mary Delia\",female,18,0,0,330963,7.8792,,Q\\r\\n959,1,\"Moore, Mr. Clarence Bloomfield\",male,47,0,0,113796,42.4,,S\\r\\n960,1,\"Tucker, Mr. Gilbert Milligan Jr\",male,31,0,0,2543,28.5375,C53,C\\r\\n961,1,\"Fortune, Mrs. Mark (Mary McDougald)\",female,60,1,4,19950,263,C23 C25 C27,S\\r\\n962,3,\"Mulvihill, Miss. Bertha E\",female,24,0,0,382653,7.75,,Q\\r\\n963,3,\"Minkoff, Mr. Lazar\",male,21,0,0,349211,7.8958,,S\\r\\n964,3,\"Nieminen, Miss. Manta Josefina\",female,29,0,0,3101297,7.925,,S\\r\\n965,1,\"Ovies y Rodriguez, Mr. Servando\",male,28.5,0,0,PC 17562,27.7208,D43,C\\r\\n966,1,\"Geiger, Miss. Amalie\",female,35,0,0,113503,211.5,C130,C\\r\\n967,1,\"Keeping, Mr. Edwin\",male,32.5,0,0,113503,211.5,C132,C\\r\\n968,3,\"Miles, Mr. Frank\",male,,0,0,359306,8.05,,S\\r\\n969,1,\"Cornell, Mrs. Robert Clifford (Malvina Helen Lamson)\",female,55,2,0,11770,25.7,C101,S\\r\\n970,2,\"Aldworth, Mr. Charles Augustus\",male,30,0,0,248744,13,,S\\r\\n971,3,\"Doyle, Miss. Elizabeth\",female,24,0,0,368702,7.75,,Q\\r\\n972,3,\"Boulos, Master. Akar\",male,6,1,1,2678,15.2458,,C\\r\\n973,1,\"Straus, Mr. Isidor\",male,67,1,0,PC 17483,221.7792,C55 C57,S\\r\\n974,1,\"Case, Mr. Howard Brown\",male,49,0,0,19924,26,,S\\r\\n975,3,\"Demetri, Mr. Marinko\",male,,0,0,349238,7.8958,,S\\r\\n976,2,\"Lamb, Mr. John Joseph\",male,,0,0,240261,10.7083,,Q\\r\\n977,3,\"Khalil, Mr. Betros\",male,,1,0,2660,14.4542,,C\\r\\n978,3,\"Barry, Miss. Julia\",female,27,0,0,330844,7.8792,,Q\\r\\n979,3,\"Badman, Miss. Emily Louisa\",female,18,0,0,A/4 31416,8.05,,S\\r\\n980,3,\"O\\'Donoghue, Ms. Bridget\",female,,0,0,364856,7.75,,Q\\r\\n981,2,\"Wells, Master. Ralph Lester\",male,2,1,1,29103,23,,S\\r\\n982,3,\"Dyker, Mrs. Adolf Fredrik (Anna Elisabeth Judith Andersson)\",female,22,1,0,347072,13.9,,S\\r\\n983,3,\"Pedersen, Mr. Olaf\",male,,0,0,345498,7.775,,S\\r\\n984,1,\"Davidson, Mrs. Thornton (Orian Hays)\",female,27,1,2,F.C. 12750,52,B71,S\\r\\n985,3,\"Guest, Mr. Robert\",male,,0,0,376563,8.05,,S\\r\\n986,1,\"Birnbaum, Mr. Jakob\",male,25,0,0,13905,26,,C\\r\\n987,3,\"Tenglin, Mr. Gunnar Isidor\",male,25,0,0,350033,7.7958,,S\\r\\n988,1,\"Cavendish, Mrs. Tyrell William (Julia Florence Siegel)\",female,76,1,0,19877,78.85,C46,S\\r\\n989,3,\"Makinen, Mr. Kalle Edvard\",male,29,0,0,STON/O 2. 3101268,7.925,,S\\r\\n990,3,\"Braf, Miss. Elin Ester Maria\",female,20,0,0,347471,7.8542,,S\\r\\n991,3,\"Nancarrow, Mr. William Henry\",male,33,0,0,A./5. 3338,8.05,,S\\r\\n992,1,\"Stengel, Mrs. Charles Emil Henry (Annie May Morris)\",female,43,1,0,11778,55.4417,C116,C\\r\\n993,2,\"Weisz, Mr. Leopold\",male,27,1,0,228414,26,,S\\r\\n994,3,\"Foley, Mr. William\",male,,0,0,365235,7.75,,Q\\r\\n995,3,\"Johansson Palmquist, Mr. Oskar Leander\",male,26,0,0,347070,7.775,,S\\r\\n996,3,\"Thomas, Mrs. Alexander (Thamine Thelma\"\")\"\"\",female,16,1,1,2625,8.5167,,C\\r\\n997,3,\"Holthen, Mr. Johan Martin\",male,28,0,0,C 4001,22.525,,S\\r\\n998,3,\"Buckley, Mr. Daniel\",male,21,0,0,330920,7.8208,,Q\\r\\n999,3,\"Ryan, Mr. Edward\",male,,0,0,383162,7.75,,Q\\r\\n1000,3,\"Willer, Mr. Aaron (Abi Weller\"\")\"\"\",male,,0,0,3410,8.7125,,S\\r\\n1001,2,\"Swane, Mr. George\",male,18.5,0,0,248734,13,F,S\\r\\n1002,2,\"Stanton, Mr. Samuel Ward\",male,41,0,0,237734,15.0458,,C\\r\\n1003,3,\"Shine, Miss. Ellen Natalia\",female,,0,0,330968,7.7792,,Q\\r\\n1004,1,\"Evans, Miss. Edith Corse\",female,36,0,0,PC 17531,31.6792,A29,C\\r\\n1005,3,\"Buckley, Miss. Katherine\",female,18.5,0,0,329944,7.2833,,Q\\r\\n1006,1,\"Straus, Mrs. Isidor (Rosalie Ida Blun)\",female,63,1,0,PC 17483,221.7792,C55 C57,S\\r\\n1007,3,\"Chronopoulos, Mr. Demetrios\",male,18,1,0,2680,14.4542,,C\\r\\n1008,3,\"Thomas, Mr. John\",male,,0,0,2681,6.4375,,C\\r\\n1009,3,\"Sandstrom, Miss. Beatrice Irene\",female,1,1,1,PP 9549,16.7,G6,S\\r\\n1010,1,\"Beattie, Mr. Thomson\",male,36,0,0,13050,75.2417,C6,C\\r\\n1011,2,\"Chapman, Mrs. John Henry (Sara Elizabeth Lawry)\",female,29,1,0,SC/AH 29037,26,,S\\r\\n1012,2,\"Watt, Miss. Bertha J\",female,12,0,0,C.A. 33595,15.75,,S\\r\\n1013,3,\"Kiernan, Mr. John\",male,,1,0,367227,7.75,,Q\\r\\n1014,1,\"Schabert, Mrs. Paul (Emma Mock)\",female,35,1,0,13236,57.75,C28,C\\r\\n1015,3,\"Carver, Mr. Alfred John\",male,28,0,0,392095,7.25,,S\\r\\n1016,3,\"Kennedy, Mr. John\",male,,0,0,368783,7.75,,Q\\r\\n1017,3,\"Cribb, Miss. Laura Alice\",female,17,0,1,371362,16.1,,S\\r\\n1018,3,\"Brobeck, Mr. Karl Rudolf\",male,22,0,0,350045,7.7958,,S\\r\\n1019,3,\"McCoy, Miss. Alicia\",female,,2,0,367226,23.25,,Q\\r\\n1020,2,\"Bowenur, Mr. Solomon\",male,42,0,0,211535,13,,S\\r\\n1021,3,\"Petersen, Mr. Marius\",male,24,0,0,342441,8.05,,S\\r\\n1022,3,\"Spinner, Mr. Henry John\",male,32,0,0,STON/OQ. 369943,8.05,,S\\r\\n1023,1,\"Gracie, Col. Archibald IV\",male,53,0,0,113780,28.5,C51,C\\r\\n1024,3,\"Lefebre, Mrs. Frank (Frances)\",female,,0,4,4133,25.4667,,S\\r\\n1025,3,\"Thomas, Mr. Charles P\",male,,1,0,2621,6.4375,,C\\r\\n1026,3,\"Dintcheff, Mr. Valtcho\",male,43,0,0,349226,7.8958,,S\\r\\n1027,3,\"Carlsson, Mr. Carl Robert\",male,24,0,0,350409,7.8542,,S\\r\\n1028,3,\"Zakarian, Mr. Mapriededer\",male,26.5,0,0,2656,7.225,,C\\r\\n1029,2,\"Schmidt, Mr. August\",male,26,0,0,248659,13,,S\\r\\n1030,3,\"Drapkin, Miss. Jennie\",female,23,0,0,SOTON/OQ 392083,8.05,,S\\r\\n1031,3,\"Goodwin, Mr. Charles Frederick\",male,40,1,6,CA 2144,46.9,,S\\r\\n1032,3,\"Goodwin, Miss. Jessie Allis\",female,10,5,2,CA 2144,46.9,,S\\r\\n1033,1,\"Daniels, Miss. Sarah\",female,33,0,0,113781,151.55,,S\\r\\n1034,1,\"Ryerson, Mr. Arthur Larned\",male,61,1,3,PC 17608,262.375,B57 B59 B63 B66,C\\r\\n1035,2,\"Beauchamp, Mr. Henry James\",male,28,0,0,244358,26,,S\\r\\n1036,1,\"Lindeberg-Lind, Mr. Erik Gustaf (Mr Edward Lingrey\"\")\"\"\",male,42,0,0,17475,26.55,,S\\r\\n1037,3,\"Vander Planke, Mr. Julius\",male,31,3,0,345763,18,,S\\r\\n1038,1,\"Hilliard, Mr. Herbert Henry\",male,,0,0,17463,51.8625,E46,S\\r\\n1039,3,\"Davies, Mr. Evan\",male,22,0,0,SC/A4 23568,8.05,,S\\r\\n1040,1,\"Crafton, Mr. John Bertram\",male,,0,0,113791,26.55,,S\\r\\n1041,2,\"Lahtinen, Rev. William\",male,30,1,1,250651,26,,S\\r\\n1042,1,\"Earnshaw, Mrs. Boulton (Olive Potter)\",female,23,0,1,11767,83.1583,C54,C\\r\\n1043,3,\"Matinoff, Mr. Nicola\",male,,0,0,349255,7.8958,,C\\r\\n1044,3,\"Storey, Mr. Thomas\",male,60.5,0,0,3701,,,S\\r\\n1045,3,\"Klasen, Mrs. (Hulda Kristina Eugenia Lofqvist)\",female,36,0,2,350405,12.1833,,S\\r\\n1046,3,\"Asplund, Master. Filip Oscar\",male,13,4,2,347077,31.3875,,S\\r\\n1047,3,\"Duquemin, Mr. Joseph\",male,24,0,0,S.O./P.P. 752,7.55,,S\\r\\n1048,1,\"Bird, Miss. Ellen\",female,29,0,0,PC 17483,221.7792,C97,S\\r\\n1049,3,\"Lundin, Miss. Olga Elida\",female,23,0,0,347469,7.8542,,S\\r\\n1050,1,\"Borebank, Mr. John James\",male,42,0,0,110489,26.55,D22,S\\r\\n1051,3,\"Peacock, Mrs. Benjamin (Edith Nile)\",female,26,0,2,SOTON/O.Q. 3101315,13.775,,S\\r\\n1052,3,\"Smyth, Miss. Julia\",female,,0,0,335432,7.7333,,Q\\r\\n1053,3,\"Touma, Master. Georges Youssef\",male,7,1,1,2650,15.2458,,C\\r\\n1054,2,\"Wright, Miss. Marion\",female,26,0,0,220844,13.5,,S\\r\\n1055,3,\"Pearce, Mr. Ernest\",male,,0,0,343271,7,,S\\r\\n1056,2,\"Peruschitz, Rev. Joseph Maria\",male,41,0,0,237393,13,,S\\r\\n1057,3,\"Kink-Heilmann, Mrs. Anton (Luise Heilmann)\",female,26,1,1,315153,22.025,,S\\r\\n1058,1,\"Brandeis, Mr. Emil\",male,48,0,0,PC 17591,50.4958,B10,C\\r\\n1059,3,\"Ford, Mr. Edward Watson\",male,18,2,2,W./C. 6608,34.375,,S\\r\\n1060,1,\"Cassebeer, Mrs. Henry Arthur Jr (Eleanor Genevieve Fosdick)\",female,,0,0,17770,27.7208,,C\\r\\n1061,3,\"Hellstrom, Miss. Hilda Maria\",female,22,0,0,7548,8.9625,,S\\r\\n1062,3,\"Lithman, Mr. Simon\",male,,0,0,S.O./P.P. 251,7.55,,S\\r\\n1063,3,\"Zakarian, Mr. Ortin\",male,27,0,0,2670,7.225,,C\\r\\n1064,3,\"Dyker, Mr. Adolf Fredrik\",male,23,1,0,347072,13.9,,S\\r\\n1065,3,\"Torfa, Mr. Assad\",male,,0,0,2673,7.2292,,C\\r\\n1066,3,\"Asplund, Mr. Carl Oscar Vilhelm Gustafsson\",male,40,1,5,347077,31.3875,,S\\r\\n1067,2,\"Brown, Miss. Edith Eileen\",female,15,0,2,29750,39,,S\\r\\n1068,2,\"Sincock, Miss. Maude\",female,20,0,0,C.A. 33112,36.75,,S\\r\\n1069,1,\"Stengel, Mr. Charles Emil Henry\",male,54,1,0,11778,55.4417,C116,C\\r\\n1070,2,\"Becker, Mrs. Allen Oliver (Nellie E Baumgardner)\",female,36,0,3,230136,39,F4,S\\r\\n1071,1,\"Compton, Mrs. Alexander Taylor (Mary Eliza Ingersoll)\",female,64,0,2,PC 17756,83.1583,E45,C\\r\\n1072,2,\"McCrie, Mr. James Matthew\",male,30,0,0,233478,13,,S\\r\\n1073,1,\"Compton, Mr. Alexander Taylor Jr\",male,37,1,1,PC 17756,83.1583,E52,C\\r\\n1074,1,\"Marvin, Mrs. Daniel Warner (Mary Graham Carmichael Farquarson)\",female,18,1,0,113773,53.1,D30,S\\r\\n1075,3,\"Lane, Mr. Patrick\",male,,0,0,7935,7.75,,Q\\r\\n1076,1,\"Douglas, Mrs. Frederick Charles (Mary Helene Baxter)\",female,27,1,1,PC 17558,247.5208,B58 B60,C\\r\\n1077,2,\"Maybery, Mr. Frank Hubert\",male,40,0,0,239059,16,,S\\r\\n1078,2,\"Phillips, Miss. Alice Frances Louisa\",female,21,0,1,S.O./P.P. 2,21,,S\\r\\n1079,3,\"Davies, Mr. Joseph\",male,17,2,0,A/4 48873,8.05,,S\\r\\n1080,3,\"Sage, Miss. Ada\",female,,8,2,CA. 2343,69.55,,S\\r\\n1081,2,\"Veal, Mr. James\",male,40,0,0,28221,13,,S\\r\\n1082,2,\"Angle, Mr. William A\",male,34,1,0,226875,26,,S\\r\\n1083,1,\"Salomon, Mr. Abraham L\",male,,0,0,111163,26,,S\\r\\n1084,3,\"van Billiard, Master. Walter John\",male,11.5,1,1,A/5. 851,14.5,,S\\r\\n1085,2,\"Lingane, Mr. John\",male,61,0,0,235509,12.35,,Q\\r\\n1086,2,\"Drew, Master. Marshall Brines\",male,8,0,2,28220,32.5,,S\\r\\n1087,3,\"Karlsson, Mr. Julius Konrad Eugen\",male,33,0,0,347465,7.8542,,S\\r\\n1088,1,\"Spedden, Master. Robert Douglas\",male,6,0,2,16966,134.5,E34,C\\r\\n1089,3,\"Nilsson, Miss. Berta Olivia\",female,18,0,0,347066,7.775,,S\\r\\n1090,2,\"Baimbrigge, Mr. Charles Robert\",male,23,0,0,C.A. 31030,10.5,,S\\r\\n1091,3,\"Rasmussen, Mrs. (Lena Jacobsen Solvang)\",female,,0,0,65305,8.1125,,S\\r\\n1092,3,\"Murphy, Miss. Nora\",female,,0,0,36568,15.5,,Q\\r\\n1093,3,\"Danbom, Master. Gilbert Sigvard Emanuel\",male,0.33,0,2,347080,14.4,,S\\r\\n1094,1,\"Astor, Col. John Jacob\",male,47,1,0,PC 17757,227.525,C62 C64,C\\r\\n1095,2,\"Quick, Miss. Winifred Vera\",female,8,1,1,26360,26,,S\\r\\n1096,2,\"Andrew, Mr. Frank Thomas\",male,25,0,0,C.A. 34050,10.5,,S\\r\\n1097,1,\"Omont, Mr. Alfred Fernand\",male,,0,0,F.C. 12998,25.7417,,C\\r\\n1098,3,\"McGowan, Miss. Katherine\",female,35,0,0,9232,7.75,,Q\\r\\n1099,2,\"Collett, Mr. Sidney C Stuart\",male,24,0,0,28034,10.5,,S\\r\\n1100,1,\"Rosenbaum, Miss. Edith Louise\",female,33,0,0,PC 17613,27.7208,A11,C\\r\\n1101,3,\"Delalic, Mr. Redjo\",male,25,0,0,349250,7.8958,,S\\r\\n1102,3,\"Andersen, Mr. Albert Karvin\",male,32,0,0,C 4001,22.525,,S\\r\\n1103,3,\"Finoli, Mr. Luigi\",male,,0,0,SOTON/O.Q. 3101308,7.05,,S\\r\\n1104,2,\"Deacon, Mr. Percy William\",male,17,0,0,S.O.C. 14879,73.5,,S\\r\\n1105,2,\"Howard, Mrs. Benjamin (Ellen Truelove Arman)\",female,60,1,0,24065,26,,S\\r\\n1106,3,\"Andersson, Miss. Ida Augusta Margareta\",female,38,4,2,347091,7.775,,S\\r\\n1107,1,\"Head, Mr. Christopher\",male,42,0,0,113038,42.5,B11,S\\r\\n1108,3,\"Mahon, Miss. Bridget Delia\",female,,0,0,330924,7.8792,,Q\\r\\n1109,1,\"Wick, Mr. George Dennick\",male,57,1,1,36928,164.8667,,S\\r\\n1110,1,\"Widener, Mrs. George Dunton (Eleanor Elkins)\",female,50,1,1,113503,211.5,C80,C\\r\\n1111,3,\"Thomson, Mr. Alexander Morrison\",male,,0,0,32302,8.05,,S\\r\\n1112,2,\"Duran y More, Miss. Florentina\",female,30,1,0,SC/PARIS 2148,13.8583,,C\\r\\n1113,3,\"Reynolds, Mr. Harold J\",male,21,0,0,342684,8.05,,S\\r\\n1114,2,\"Cook, Mrs. (Selena Rogers)\",female,22,0,0,W./C. 14266,10.5,F33,S\\r\\n1115,3,\"Karlsson, Mr. Einar Gervasius\",male,21,0,0,350053,7.7958,,S\\r\\n1116,1,\"Candee, Mrs. Edward (Helen Churchill Hungerford)\",female,53,0,0,PC 17606,27.4458,,C\\r\\n1117,3,\"Moubarek, Mrs. George (Omine Amenia\"\" Alexander)\"\"\",female,,0,2,2661,15.2458,,C\\r\\n1118,3,\"Asplund, Mr. Johan Charles\",male,23,0,0,350054,7.7958,,S\\r\\n1119,3,\"McNeill, Miss. Bridget\",female,,0,0,370368,7.75,,Q\\r\\n1120,3,\"Everett, Mr. Thomas James\",male,40.5,0,0,C.A. 6212,15.1,,S\\r\\n1121,2,\"Hocking, Mr. Samuel James Metcalfe\",male,36,0,0,242963,13,,S\\r\\n1122,2,\"Sweet, Mr. George Frederick\",male,14,0,0,220845,65,,S\\r\\n1123,1,\"Willard, Miss. Constance\",female,21,0,0,113795,26.55,,S\\r\\n1124,3,\"Wiklund, Mr. Karl Johan\",male,21,1,0,3101266,6.4958,,S\\r\\n1125,3,\"Linehan, Mr. Michael\",male,,0,0,330971,7.8792,,Q\\r\\n1126,1,\"Cumings, Mr. John Bradley\",male,39,1,0,PC 17599,71.2833,C85,C\\r\\n1127,3,\"Vendel, Mr. Olof Edvin\",male,20,0,0,350416,7.8542,,S\\r\\n1128,1,\"Warren, Mr. Frank Manley\",male,64,1,0,110813,75.25,D37,C\\r\\n1129,3,\"Baccos, Mr. Raffull\",male,20,0,0,2679,7.225,,C\\r\\n1130,2,\"Hiltunen, Miss. Marta\",female,18,1,1,250650,13,,S\\r\\n1131,1,\"Douglas, Mrs. Walter Donald (Mahala Dutton)\",female,48,1,0,PC 17761,106.425,C86,C\\r\\n1132,1,\"Lindstrom, Mrs. Carl Johan (Sigrid Posse)\",female,55,0,0,112377,27.7208,,C\\r\\n1133,2,\"Christy, Mrs. (Alice Frances)\",female,45,0,2,237789,30,,S\\r\\n1134,1,\"Spedden, Mr. Frederic Oakley\",male,45,1,1,16966,134.5,E34,C\\r\\n1135,3,\"Hyman, Mr. Abraham\",male,,0,0,3470,7.8875,,S\\r\\n1136,3,\"Johnston, Master. William Arthur Willie\"\"\"\"\",male,,1,2,W./C. 6607,23.45,,S\\r\\n1137,1,\"Kenyon, Mr. Frederick R\",male,41,1,0,17464,51.8625,D21,S\\r\\n1138,2,\"Karnes, Mrs. J Frank (Claire Bennett)\",female,22,0,0,F.C.C. 13534,21,,S\\r\\n1139,2,\"Drew, Mr. James Vivian\",male,42,1,1,28220,32.5,,S\\r\\n1140,2,\"Hold, Mrs. Stephen (Annie Margaret Hill)\",female,29,1,0,26707,26,,S\\r\\n1141,3,\"Khalil, Mrs. Betros (Zahie Maria\"\" Elias)\"\"\",female,,1,0,2660,14.4542,,C\\r\\n1142,2,\"West, Miss. Barbara J\",female,0.92,1,2,C.A. 34651,27.75,,S\\r\\n1143,3,\"Abrahamsson, Mr. Abraham August Johannes\",male,20,0,0,SOTON/O2 3101284,7.925,,S\\r\\n1144,1,\"Clark, Mr. Walter Miller\",male,27,1,0,13508,136.7792,C89,C\\r\\n1145,3,\"Salander, Mr. Karl Johan\",male,24,0,0,7266,9.325,,S\\r\\n1146,3,\"Wenzel, Mr. Linhart\",male,32.5,0,0,345775,9.5,,S\\r\\n1147,3,\"MacKay, Mr. George William\",male,,0,0,C.A. 42795,7.55,,S\\r\\n1148,3,\"Mahon, Mr. John\",male,,0,0,AQ/4 3130,7.75,,Q\\r\\n1149,3,\"Niklasson, Mr. Samuel\",male,28,0,0,363611,8.05,,S\\r\\n1150,2,\"Bentham, Miss. Lilian W\",female,19,0,0,28404,13,,S\\r\\n1151,3,\"Midtsjo, Mr. Karl Albert\",male,21,0,0,345501,7.775,,S\\r\\n1152,3,\"de Messemaeker, Mr. Guillaume Joseph\",male,36.5,1,0,345572,17.4,,S\\r\\n1153,3,\"Nilsson, Mr. August Ferdinand\",male,21,0,0,350410,7.8542,,S\\r\\n1154,2,\"Wells, Mrs. Arthur Henry (Addie\"\" Dart Trevaskis)\"\"\",female,29,0,2,29103,23,,S\\r\\n1155,3,\"Klasen, Miss. Gertrud Emilia\",female,1,1,1,350405,12.1833,,S\\r\\n1156,2,\"Portaluppi, Mr. Emilio Ilario Giuseppe\",male,30,0,0,C.A. 34644,12.7375,,C\\r\\n1157,3,\"Lyntakoff, Mr. Stanko\",male,,0,0,349235,7.8958,,S\\r\\n1158,1,\"Chisholm, Mr. Roderick Robert Crispin\",male,,0,0,112051,0,,S\\r\\n1159,3,\"Warren, Mr. Charles William\",male,,0,0,C.A. 49867,7.55,,S\\r\\n1160,3,\"Howard, Miss. May Elizabeth\",female,,0,0,A. 2. 39186,8.05,,S\\r\\n1161,3,\"Pokrnic, Mr. Mate\",male,17,0,0,315095,8.6625,,S\\r\\n1162,1,\"McCaffry, Mr. Thomas Francis\",male,46,0,0,13050,75.2417,C6,C\\r\\n1163,3,\"Fox, Mr. Patrick\",male,,0,0,368573,7.75,,Q\\r\\n1164,1,\"Clark, Mrs. Walter Miller (Virginia McDowell)\",female,26,1,0,13508,136.7792,C89,C\\r\\n1165,3,\"Lennon, Miss. Mary\",female,,1,0,370371,15.5,,Q\\r\\n1166,3,\"Saade, Mr. Jean Nassr\",male,,0,0,2676,7.225,,C\\r\\n1167,2,\"Bryhl, Miss. Dagmar Jenny Ingeborg \",female,20,1,0,236853,26,,S\\r\\n1168,2,\"Parker, Mr. Clifford Richard\",male,28,0,0,SC 14888,10.5,,S\\r\\n1169,2,\"Faunthorpe, Mr. Harry\",male,40,1,0,2926,26,,S\\r\\n1170,2,\"Ware, Mr. John James\",male,30,1,0,CA 31352,21,,S\\r\\n1171,2,\"Oxenham, Mr. Percy Thomas\",male,22,0,0,W./C. 14260,10.5,,S\\r\\n1172,3,\"Oreskovic, Miss. Jelka\",female,23,0,0,315085,8.6625,,S\\r\\n1173,3,\"Peacock, Master. Alfred Edward\",male,0.75,1,1,SOTON/O.Q. 3101315,13.775,,S\\r\\n1174,3,\"Fleming, Miss. Honora\",female,,0,0,364859,7.75,,Q\\r\\n1175,3,\"Touma, Miss. Maria Youssef\",female,9,1,1,2650,15.2458,,C\\r\\n1176,3,\"Rosblom, Miss. Salli Helena\",female,2,1,1,370129,20.2125,,S\\r\\n1177,3,\"Dennis, Mr. William\",male,36,0,0,A/5 21175,7.25,,S\\r\\n1178,3,\"Franklin, Mr. Charles (Charles Fardon)\",male,,0,0,SOTON/O.Q. 3101314,7.25,,S\\r\\n1179,1,\"Snyder, Mr. John Pillsbury\",male,24,1,0,21228,82.2667,B45,S\\r\\n1180,3,\"Mardirosian, Mr. Sarkis\",male,,0,0,2655,7.2292,F E46,C\\r\\n1181,3,\"Ford, Mr. Arthur\",male,,0,0,A/5 1478,8.05,,S\\r\\n1182,1,\"Rheims, Mr. George Alexander Lucien\",male,,0,0,PC 17607,39.6,,S\\r\\n1183,3,\"Daly, Miss. Margaret Marcella Maggie\"\"\"\"\",female,30,0,0,382650,6.95,,Q\\r\\n1184,3,\"Nasr, Mr. Mustafa\",male,,0,0,2652,7.2292,,C\\r\\n1185,1,\"Dodge, Dr. Washington\",male,53,1,1,33638,81.8583,A34,S\\r\\n1186,3,\"Wittevrongel, Mr. Camille\",male,36,0,0,345771,9.5,,S\\r\\n1187,3,\"Angheloff, Mr. Minko\",male,26,0,0,349202,7.8958,,S\\r\\n1188,2,\"Laroche, Miss. Louise\",female,1,1,2,SC/Paris 2123,41.5792,,C\\r\\n1189,3,\"Samaan, Mr. Hanna\",male,,2,0,2662,21.6792,,C\\r\\n1190,1,\"Loring, Mr. Joseph Holland\",male,30,0,0,113801,45.5,,S\\r\\n1191,3,\"Johansson, Mr. Nils\",male,29,0,0,347467,7.8542,,S\\r\\n1192,3,\"Olsson, Mr. Oscar Wilhelm\",male,32,0,0,347079,7.775,,S\\r\\n1193,2,\"Malachard, Mr. Noel\",male,,0,0,237735,15.0458,D,C\\r\\n1194,2,\"Phillips, Mr. Escott Robert\",male,43,0,1,S.O./P.P. 2,21,,S\\r\\n1195,3,\"Pokrnic, Mr. Tome\",male,24,0,0,315092,8.6625,,S\\r\\n1196,3,\"McCarthy, Miss. Catherine Katie\"\"\"\"\",female,,0,0,383123,7.75,,Q\\r\\n1197,1,\"Crosby, Mrs. Edward Gifford (Catherine Elizabeth Halstead)\",female,64,1,1,112901,26.55,B26,S\\r\\n1198,1,\"Allison, Mr. Hudson Joshua Creighton\",male,30,1,2,113781,151.55,C22 C26,S\\r\\n1199,3,\"Aks, Master. Philip Frank\",male,0.83,0,1,392091,9.35,,S\\r\\n1200,1,\"Hays, Mr. Charles Melville\",male,55,1,1,12749,93.5,B69,S\\r\\n1201,3,\"Hansen, Mrs. Claus Peter (Jennie L Howard)\",female,45,1,0,350026,14.1083,,S\\r\\n1202,3,\"Cacic, Mr. Jego Grga\",male,18,0,0,315091,8.6625,,S\\r\\n1203,3,\"Vartanian, Mr. David\",male,22,0,0,2658,7.225,,C\\r\\n1204,3,\"Sadowitz, Mr. Harry\",male,,0,0,LP 1588,7.575,,S\\r\\n1205,3,\"Carr, Miss. Jeannie\",female,37,0,0,368364,7.75,,Q\\r\\n1206,1,\"White, Mrs. John Stuart (Ella Holmes)\",female,55,0,0,PC 17760,135.6333,C32,C\\r\\n1207,3,\"Hagardon, Miss. Kate\",female,17,0,0,AQ/3. 30631,7.7333,,Q\\r\\n1208,1,\"Spencer, Mr. William Augustus\",male,57,1,0,PC 17569,146.5208,B78,C\\r\\n1209,2,\"Rogers, Mr. Reginald Harry\",male,19,0,0,28004,10.5,,S\\r\\n1210,3,\"Jonsson, Mr. Nils Hilding\",male,27,0,0,350408,7.8542,,S\\r\\n1211,2,\"Jefferys, Mr. Ernest Wilfred\",male,22,2,0,C.A. 31029,31.5,,S\\r\\n1212,3,\"Andersson, Mr. Johan Samuel\",male,26,0,0,347075,7.775,,S\\r\\n1213,3,\"Krekorian, Mr. Neshan\",male,25,0,0,2654,7.2292,F E57,C\\r\\n1214,2,\"Nesson, Mr. Israel\",male,26,0,0,244368,13,F2,S\\r\\n1215,1,\"Rowe, Mr. Alfred G\",male,33,0,0,113790,26.55,,S\\r\\n1216,1,\"Kreuchen, Miss. Emilie\",female,39,0,0,24160,211.3375,,S\\r\\n1217,3,\"Assam, Mr. Ali\",male,23,0,0,SOTON/O.Q. 3101309,7.05,,S\\r\\n1218,2,\"Becker, Miss. Ruth Elizabeth\",female,12,2,1,230136,39,F4,S\\r\\n1219,1,\"Rosenshine, Mr. George (Mr George Thorne\"\")\"\"\",male,46,0,0,PC 17585,79.2,,C\\r\\n1220,2,\"Clarke, Mr. Charles Valentine\",male,29,1,0,2003,26,,S\\r\\n1221,2,\"Enander, Mr. Ingvar\",male,21,0,0,236854,13,,S\\r\\n1222,2,\"Davies, Mrs. John Morgan (Elizabeth Agnes Mary White) \",female,48,0,2,C.A. 33112,36.75,,S\\r\\n1223,1,\"Dulles, Mr. William Crothers\",male,39,0,0,PC 17580,29.7,A18,C\\r\\n1224,3,\"Thomas, Mr. Tannous\",male,,0,0,2684,7.225,,C\\r\\n1225,3,\"Nakid, Mrs. Said (Waika Mary\"\" Mowad)\"\"\",female,19,1,1,2653,15.7417,,C\\r\\n1226,3,\"Cor, Mr. Ivan\",male,27,0,0,349229,7.8958,,S\\r\\n1227,1,\"Maguire, Mr. John Edward\",male,30,0,0,110469,26,C106,S\\r\\n1228,2,\"de Brito, Mr. Jose Joaquim\",male,32,0,0,244360,13,,S\\r\\n1229,3,\"Elias, Mr. Joseph\",male,39,0,2,2675,7.2292,,C\\r\\n1230,2,\"Denbury, Mr. Herbert\",male,25,0,0,C.A. 31029,31.5,,S\\r\\n1231,3,\"Betros, Master. Seman\",male,,0,0,2622,7.2292,,C\\r\\n1232,2,\"Fillbrook, Mr. Joseph Charles\",male,18,0,0,C.A. 15185,10.5,,S\\r\\n1233,3,\"Lundstrom, Mr. Thure Edvin\",male,32,0,0,350403,7.5792,,S\\r\\n1234,3,\"Sage, Mr. John George\",male,,1,9,CA. 2343,69.55,,S\\r\\n1235,1,\"Cardeza, Mrs. James Warburton Martinez (Charlotte Wardle Drake)\",female,58,0,1,PC 17755,512.3292,B51 B53 B55,C\\r\\n1236,3,\"van Billiard, Master. James William\",male,,1,1,A/5. 851,14.5,,S\\r\\n1237,3,\"Abelseth, Miss. Karen Marie\",female,16,0,0,348125,7.65,,S\\r\\n1238,2,\"Botsford, Mr. William Hull\",male,26,0,0,237670,13,,S\\r\\n1239,3,\"Whabee, Mrs. George Joseph (Shawneene Abi-Saab)\",female,38,0,0,2688,7.2292,,C\\r\\n1240,2,\"Giles, Mr. Ralph\",male,24,0,0,248726,13.5,,S\\r\\n1241,2,\"Walcroft, Miss. Nellie\",female,31,0,0,F.C.C. 13528,21,,S\\r\\n1242,1,\"Greenfield, Mrs. Leo David (Blanche Strouse)\",female,45,0,1,PC 17759,63.3583,D10 D12,C\\r\\n1243,2,\"Stokes, Mr. Philip Joseph\",male,25,0,0,F.C.C. 13540,10.5,,S\\r\\n1244,2,\"Dibden, Mr. William\",male,18,0,0,S.O.C. 14879,73.5,,S\\r\\n1245,2,\"Herman, Mr. Samuel\",male,49,1,2,220845,65,,S\\r\\n1246,3,\"Dean, Miss. Elizabeth Gladys Millvina\"\"\"\"\",female,0.17,1,2,C.A. 2315,20.575,,S\\r\\n1247,1,\"Julian, Mr. Henry Forbes\",male,50,0,0,113044,26,E60,S\\r\\n1248,1,\"Brown, Mrs. John Murray (Caroline Lane Lamson)\",female,59,2,0,11769,51.4792,C101,S\\r\\n1249,3,\"Lockyer, Mr. Edward\",male,,0,0,1222,7.8792,,S\\r\\n1250,3,\"O\\'Keefe, Mr. Patrick\",male,,0,0,368402,7.75,,Q\\r\\n1251,3,\"Lindell, Mrs. Edvard Bengtsson (Elin Gerda Persson)\",female,30,1,0,349910,15.55,,S\\r\\n1252,3,\"Sage, Master. William Henry\",male,14.5,8,2,CA. 2343,69.55,,S\\r\\n1253,2,\"Mallet, Mrs. Albert (Antoinette Magnin)\",female,24,1,1,S.C./PARIS 2079,37.0042,,C\\r\\n1254,2,\"Ware, Mrs. John James (Florence Louise Long)\",female,31,0,0,CA 31352,21,,S\\r\\n1255,3,\"Strilic, Mr. Ivan\",male,27,0,0,315083,8.6625,,S\\r\\n1256,1,\"Harder, Mrs. George Achilles (Dorothy Annan)\",female,25,1,0,11765,55.4417,E50,C\\r\\n1257,3,\"Sage, Mrs. John (Annie Bullen)\",female,,1,9,CA. 2343,69.55,,S\\r\\n1258,3,\"Caram, Mr. Joseph\",male,,1,0,2689,14.4583,,C\\r\\n1259,3,\"Riihivouri, Miss. Susanna Juhantytar Sanni\"\"\"\"\",female,22,0,0,3101295,39.6875,,S\\r\\n1260,1,\"Gibson, Mrs. Leonard (Pauline C Boeson)\",female,45,0,1,112378,59.4,,C\\r\\n1261,2,\"Pallas y Castello, Mr. Emilio\",male,29,0,0,SC/PARIS 2147,13.8583,,C\\r\\n1262,2,\"Giles, Mr. Edgar\",male,21,1,0,28133,11.5,,S\\r\\n1263,1,\"Wilson, Miss. Helen Alice\",female,31,0,0,16966,134.5,E39 E41,C\\r\\n1264,1,\"Ismay, Mr. Joseph Bruce\",male,49,0,0,112058,0,B52 B54 B56,S\\r\\n1265,2,\"Harbeck, Mr. William H\",male,44,0,0,248746,13,,S\\r\\n1266,1,\"Dodge, Mrs. Washington (Ruth Vidaver)\",female,54,1,1,33638,81.8583,A34,S\\r\\n1267,1,\"Bowen, Miss. Grace Scott\",female,45,0,0,PC 17608,262.375,,C\\r\\n1268,3,\"Kink, Miss. Maria\",female,22,2,0,315152,8.6625,,S\\r\\n1269,2,\"Cotterill, Mr. Henry Harry\"\"\"\"\",male,21,0,0,29107,11.5,,S\\r\\n1270,1,\"Hipkins, Mr. William Edward\",male,55,0,0,680,50,C39,S\\r\\n1271,3,\"Asplund, Master. Carl Edgar\",male,5,4,2,347077,31.3875,,S\\r\\n1272,3,\"O\\'Connor, Mr. Patrick\",male,,0,0,366713,7.75,,Q\\r\\n1273,3,\"Foley, Mr. Joseph\",male,26,0,0,330910,7.8792,,Q\\r\\n1274,3,\"Risien, Mrs. Samuel (Emma)\",female,,0,0,364498,14.5,,S\\r\\n1275,3,\"McNamee, Mrs. Neal (Eileen O\\'Leary)\",female,19,1,0,376566,16.1,,S\\r\\n1276,2,\"Wheeler, Mr. Edwin Frederick\"\"\"\"\",male,,0,0,SC/PARIS 2159,12.875,,S\\r\\n1277,2,\"Herman, Miss. Kate\",female,24,1,2,220845,65,,S\\r\\n1278,3,\"Aronsson, Mr. Ernst Axel Algot\",male,24,0,0,349911,7.775,,S\\r\\n1279,2,\"Ashby, Mr. John\",male,57,0,0,244346,13,,S\\r\\n1280,3,\"Canavan, Mr. Patrick\",male,21,0,0,364858,7.75,,Q\\r\\n1281,3,\"Palsson, Master. Paul Folke\",male,6,3,1,349909,21.075,,S\\r\\n1282,1,\"Payne, Mr. Vivian Ponsonby\",male,23,0,0,12749,93.5,B24,S\\r\\n1283,1,\"Lines, Mrs. Ernest H (Elizabeth Lindsey James)\",female,51,0,1,PC 17592,39.4,D28,S\\r\\n1284,3,\"Abbott, Master. Eugene Joseph\",male,13,0,2,C.A. 2673,20.25,,S\\r\\n1285,2,\"Gilbert, Mr. William\",male,47,0,0,C.A. 30769,10.5,,S\\r\\n1286,3,\"Kink-Heilmann, Mr. Anton\",male,29,3,1,315153,22.025,,S\\r\\n1287,1,\"Smith, Mrs. Lucien Philip (Mary Eloise Hughes)\",female,18,1,0,13695,60,C31,S\\r\\n1288,3,\"Colbert, Mr. Patrick\",male,24,0,0,371109,7.25,,Q\\r\\n1289,1,\"Frolicher-Stehli, Mrs. Maxmillian (Margaretha Emerentia Stehli)\",female,48,1,1,13567,79.2,B41,C\\r\\n1290,3,\"Larsson-Rondberg, Mr. Edvard A\",male,22,0,0,347065,7.775,,S\\r\\n1291,3,\"Conlon, Mr. Thomas Henry\",male,31,0,0,21332,7.7333,,Q\\r\\n1292,1,\"Bonnell, Miss. Caroline\",female,30,0,0,36928,164.8667,C7,S\\r\\n1293,2,\"Gale, Mr. Harry\",male,38,1,0,28664,21,,S\\r\\n1294,1,\"Gibson, Miss. Dorothy Winifred\",female,22,0,1,112378,59.4,,C\\r\\n1295,1,\"Carrau, Mr. Jose Pedro\",male,17,0,0,113059,47.1,,S\\r\\n1296,1,\"Frauenthal, Mr. Isaac Gerald\",male,43,1,0,17765,27.7208,D40,C\\r\\n1297,2,\"Nourney, Mr. Alfred (Baron von Drachstedt\"\")\"\"\",male,20,0,0,SC/PARIS 2166,13.8625,D38,C\\r\\n1298,2,\"Ware, Mr. William Jeffery\",male,23,1,0,28666,10.5,,S\\r\\n1299,1,\"Widener, Mr. George Dunton\",male,50,1,1,113503,211.5,C80,C\\r\\n1300,3,\"Riordan, Miss. Johanna Hannah\"\"\"\"\",female,,0,0,334915,7.7208,,Q\\r\\n1301,3,\"Peacock, Miss. Treasteall\",female,3,1,1,SOTON/O.Q. 3101315,13.775,,S\\r\\n1302,3,\"Naughton, Miss. Hannah\",female,,0,0,365237,7.75,,Q\\r\\n1303,1,\"Minahan, Mrs. William Edward (Lillian E Thorpe)\",female,37,1,0,19928,90,C78,Q\\r\\n1304,3,\"Henriksson, Miss. Jenny Lovisa\",female,28,0,0,347086,7.775,,S\\r\\n1305,3,\"Spector, Mr. Woolf\",male,,0,0,A.5. 3236,8.05,,S\\r\\n1306,1,\"Oliva y Ocana, Dona. Fermina\",female,39,0,0,PC 17758,108.9,C105,C\\r\\n1307,3,\"Saether, Mr. Simon Sivertsen\",male,38.5,0,0,SOTON/O.Q. 3101262,7.25,,S\\r\\n1308,3,\"Ware, Mr. Frederick\",male,,0,0,359309,8.05,,S\\r\\n1309,3,\"Peter, Master. Michael J\",male,,1,1,2668,22.3583,,C\\r\\n',\n",
              " 'train.csv': b'PassengerId,Survived,Pclass,Name,Sex,Age,SibSp,Parch,Ticket,Fare,Cabin,Embarked\\r\\n1,0,3,\"Braund, Mr. Owen Harris\",male,22,1,0,A/5 21171,7.25,,S\\r\\n2,1,1,\"Cumings, Mrs. John Bradley (Florence Briggs Thayer)\",female,38,1,0,PC 17599,71.2833,C85,C\\r\\n3,1,3,\"Heikkinen, Miss. Laina\",female,26,0,0,STON/O2. 3101282,7.925,,S\\r\\n4,1,1,\"Futrelle, Mrs. Jacques Heath (Lily May Peel)\",female,35,1,0,113803,53.1,C123,S\\r\\n5,0,3,\"Allen, Mr. William Henry\",male,35,0,0,373450,8.05,,S\\r\\n6,0,3,\"Moran, Mr. James\",male,,0,0,330877,8.4583,,Q\\r\\n7,0,1,\"McCarthy, Mr. Timothy J\",male,54,0,0,17463,51.8625,E46,S\\r\\n8,0,3,\"Palsson, Master. Gosta Leonard\",male,2,3,1,349909,21.075,,S\\r\\n9,1,3,\"Johnson, Mrs. Oscar W (Elisabeth Vilhelmina Berg)\",female,27,0,2,347742,11.1333,,S\\r\\n10,1,2,\"Nasser, Mrs. Nicholas (Adele Achem)\",female,14,1,0,237736,30.0708,,C\\r\\n11,1,3,\"Sandstrom, Miss. Marguerite Rut\",female,4,1,1,PP 9549,16.7,G6,S\\r\\n12,1,1,\"Bonnell, Miss. Elizabeth\",female,58,0,0,113783,26.55,C103,S\\r\\n13,0,3,\"Saundercock, Mr. William Henry\",male,20,0,0,A/5. 2151,8.05,,S\\r\\n14,0,3,\"Andersson, Mr. Anders Johan\",male,39,1,5,347082,31.275,,S\\r\\n15,0,3,\"Vestrom, Miss. Hulda Amanda Adolfina\",female,14,0,0,350406,7.8542,,S\\r\\n16,1,2,\"Hewlett, Mrs. (Mary D Kingcome) \",female,55,0,0,248706,16,,S\\r\\n17,0,3,\"Rice, Master. Eugene\",male,2,4,1,382652,29.125,,Q\\r\\n18,1,2,\"Williams, Mr. Charles Eugene\",male,,0,0,244373,13,,S\\r\\n19,0,3,\"Vander Planke, Mrs. Julius (Emelia Maria Vandemoortele)\",female,31,1,0,345763,18,,S\\r\\n20,1,3,\"Masselmani, Mrs. Fatima\",female,,0,0,2649,7.225,,C\\r\\n21,0,2,\"Fynney, Mr. Joseph J\",male,35,0,0,239865,26,,S\\r\\n22,1,2,\"Beesley, Mr. Lawrence\",male,34,0,0,248698,13,D56,S\\r\\n23,1,3,\"McGowan, Miss. Anna \"\"Annie\"\"\",female,15,0,0,330923,8.0292,,Q\\r\\n24,1,1,\"Sloper, Mr. William Thompson\",male,28,0,0,113788,35.5,A6,S\\r\\n25,0,3,\"Palsson, Miss. Torborg Danira\",female,8,3,1,349909,21.075,,S\\r\\n26,1,3,\"Asplund, Mrs. Carl Oscar (Selma Augusta Emilia Johansson)\",female,38,1,5,347077,31.3875,,S\\r\\n27,0,3,\"Emir, Mr. Farred Chehab\",male,,0,0,2631,7.225,,C\\r\\n28,0,1,\"Fortune, Mr. Charles Alexander\",male,19,3,2,19950,263,C23 C25 C27,S\\r\\n29,1,3,\"O\\'Dwyer, Miss. Ellen \"\"Nellie\"\"\",female,,0,0,330959,7.8792,,Q\\r\\n30,0,3,\"Todoroff, Mr. Lalio\",male,,0,0,349216,7.8958,,S\\r\\n31,0,1,\"Uruchurtu, Don. Manuel E\",male,40,0,0,PC 17601,27.7208,,C\\r\\n32,1,1,\"Spencer, Mrs. William Augustus (Marie Eugenie)\",female,,1,0,PC 17569,146.5208,B78,C\\r\\n33,1,3,\"Glynn, Miss. Mary Agatha\",female,,0,0,335677,7.75,,Q\\r\\n34,0,2,\"Wheadon, Mr. Edward H\",male,66,0,0,C.A. 24579,10.5,,S\\r\\n35,0,1,\"Meyer, Mr. Edgar Joseph\",male,28,1,0,PC 17604,82.1708,,C\\r\\n36,0,1,\"Holverson, Mr. Alexander Oskar\",male,42,1,0,113789,52,,S\\r\\n37,1,3,\"Mamee, Mr. Hanna\",male,,0,0,2677,7.2292,,C\\r\\n38,0,3,\"Cann, Mr. Ernest Charles\",male,21,0,0,A./5. 2152,8.05,,S\\r\\n39,0,3,\"Vander Planke, Miss. Augusta Maria\",female,18,2,0,345764,18,,S\\r\\n40,1,3,\"Nicola-Yarred, Miss. Jamila\",female,14,1,0,2651,11.2417,,C\\r\\n41,0,3,\"Ahlin, Mrs. Johan (Johanna Persdotter Larsson)\",female,40,1,0,7546,9.475,,S\\r\\n42,0,2,\"Turpin, Mrs. William John Robert (Dorothy Ann Wonnacott)\",female,27,1,0,11668,21,,S\\r\\n43,0,3,\"Kraeff, Mr. Theodor\",male,,0,0,349253,7.8958,,C\\r\\n44,1,2,\"Laroche, Miss. Simonne Marie Anne Andree\",female,3,1,2,SC/Paris 2123,41.5792,,C\\r\\n45,1,3,\"Devaney, Miss. Margaret Delia\",female,19,0,0,330958,7.8792,,Q\\r\\n46,0,3,\"Rogers, Mr. William John\",male,,0,0,S.C./A.4. 23567,8.05,,S\\r\\n47,0,3,\"Lennon, Mr. Denis\",male,,1,0,370371,15.5,,Q\\r\\n48,1,3,\"O\\'Driscoll, Miss. Bridget\",female,,0,0,14311,7.75,,Q\\r\\n49,0,3,\"Samaan, Mr. Youssef\",male,,2,0,2662,21.6792,,C\\r\\n50,0,3,\"Arnold-Franchi, Mrs. Josef (Josefine Franchi)\",female,18,1,0,349237,17.8,,S\\r\\n51,0,3,\"Panula, Master. Juha Niilo\",male,7,4,1,3101295,39.6875,,S\\r\\n52,0,3,\"Nosworthy, Mr. Richard Cater\",male,21,0,0,A/4. 39886,7.8,,S\\r\\n53,1,1,\"Harper, Mrs. Henry Sleeper (Myna Haxtun)\",female,49,1,0,PC 17572,76.7292,D33,C\\r\\n54,1,2,\"Faunthorpe, Mrs. Lizzie (Elizabeth Anne Wilkinson)\",female,29,1,0,2926,26,,S\\r\\n55,0,1,\"Ostby, Mr. Engelhart Cornelius\",male,65,0,1,113509,61.9792,B30,C\\r\\n56,1,1,\"Woolner, Mr. Hugh\",male,,0,0,19947,35.5,C52,S\\r\\n57,1,2,\"Rugg, Miss. Emily\",female,21,0,0,C.A. 31026,10.5,,S\\r\\n58,0,3,\"Novel, Mr. Mansouer\",male,28.5,0,0,2697,7.2292,,C\\r\\n59,1,2,\"West, Miss. Constance Mirium\",female,5,1,2,C.A. 34651,27.75,,S\\r\\n60,0,3,\"Goodwin, Master. William Frederick\",male,11,5,2,CA 2144,46.9,,S\\r\\n61,0,3,\"Sirayanian, Mr. Orsen\",male,22,0,0,2669,7.2292,,C\\r\\n62,1,1,\"Icard, Miss. Amelie\",female,38,0,0,113572,80,B28,\\r\\n63,0,1,\"Harris, Mr. Henry Birkhardt\",male,45,1,0,36973,83.475,C83,S\\r\\n64,0,3,\"Skoog, Master. Harald\",male,4,3,2,347088,27.9,,S\\r\\n65,0,1,\"Stewart, Mr. Albert A\",male,,0,0,PC 17605,27.7208,,C\\r\\n66,1,3,\"Moubarek, Master. Gerios\",male,,1,1,2661,15.2458,,C\\r\\n67,1,2,\"Nye, Mrs. (Elizabeth Ramell)\",female,29,0,0,C.A. 29395,10.5,F33,S\\r\\n68,0,3,\"Crease, Mr. Ernest James\",male,19,0,0,S.P. 3464,8.1583,,S\\r\\n69,1,3,\"Andersson, Miss. Erna Alexandra\",female,17,4,2,3101281,7.925,,S\\r\\n70,0,3,\"Kink, Mr. Vincenz\",male,26,2,0,315151,8.6625,,S\\r\\n71,0,2,\"Jenkin, Mr. Stephen Curnow\",male,32,0,0,C.A. 33111,10.5,,S\\r\\n72,0,3,\"Goodwin, Miss. Lillian Amy\",female,16,5,2,CA 2144,46.9,,S\\r\\n73,0,2,\"Hood, Mr. Ambrose Jr\",male,21,0,0,S.O.C. 14879,73.5,,S\\r\\n74,0,3,\"Chronopoulos, Mr. Apostolos\",male,26,1,0,2680,14.4542,,C\\r\\n75,1,3,\"Bing, Mr. Lee\",male,32,0,0,1601,56.4958,,S\\r\\n76,0,3,\"Moen, Mr. Sigurd Hansen\",male,25,0,0,348123,7.65,F G73,S\\r\\n77,0,3,\"Staneff, Mr. Ivan\",male,,0,0,349208,7.8958,,S\\r\\n78,0,3,\"Moutal, Mr. Rahamin Haim\",male,,0,0,374746,8.05,,S\\r\\n79,1,2,\"Caldwell, Master. Alden Gates\",male,0.83,0,2,248738,29,,S\\r\\n80,1,3,\"Dowdell, Miss. Elizabeth\",female,30,0,0,364516,12.475,,S\\r\\n81,0,3,\"Waelens, Mr. Achille\",male,22,0,0,345767,9,,S\\r\\n82,1,3,\"Sheerlinck, Mr. Jan Baptist\",male,29,0,0,345779,9.5,,S\\r\\n83,1,3,\"McDermott, Miss. Brigdet Delia\",female,,0,0,330932,7.7875,,Q\\r\\n84,0,1,\"Carrau, Mr. Francisco M\",male,28,0,0,113059,47.1,,S\\r\\n85,1,2,\"Ilett, Miss. Bertha\",female,17,0,0,SO/C 14885,10.5,,S\\r\\n86,1,3,\"Backstrom, Mrs. Karl Alfred (Maria Mathilda Gustafsson)\",female,33,3,0,3101278,15.85,,S\\r\\n87,0,3,\"Ford, Mr. William Neal\",male,16,1,3,W./C. 6608,34.375,,S\\r\\n88,0,3,\"Slocovski, Mr. Selman Francis\",male,,0,0,SOTON/OQ 392086,8.05,,S\\r\\n89,1,1,\"Fortune, Miss. Mabel Helen\",female,23,3,2,19950,263,C23 C25 C27,S\\r\\n90,0,3,\"Celotti, Mr. Francesco\",male,24,0,0,343275,8.05,,S\\r\\n91,0,3,\"Christmann, Mr. Emil\",male,29,0,0,343276,8.05,,S\\r\\n92,0,3,\"Andreasson, Mr. Paul Edvin\",male,20,0,0,347466,7.8542,,S\\r\\n93,0,1,\"Chaffee, Mr. Herbert Fuller\",male,46,1,0,W.E.P. 5734,61.175,E31,S\\r\\n94,0,3,\"Dean, Mr. Bertram Frank\",male,26,1,2,C.A. 2315,20.575,,S\\r\\n95,0,3,\"Coxon, Mr. Daniel\",male,59,0,0,364500,7.25,,S\\r\\n96,0,3,\"Shorney, Mr. Charles Joseph\",male,,0,0,374910,8.05,,S\\r\\n97,0,1,\"Goldschmidt, Mr. George B\",male,71,0,0,PC 17754,34.6542,A5,C\\r\\n98,1,1,\"Greenfield, Mr. William Bertram\",male,23,0,1,PC 17759,63.3583,D10 D12,C\\r\\n99,1,2,\"Doling, Mrs. John T (Ada Julia Bone)\",female,34,0,1,231919,23,,S\\r\\n100,0,2,\"Kantor, Mr. Sinai\",male,34,1,0,244367,26,,S\\r\\n101,0,3,\"Petranec, Miss. Matilda\",female,28,0,0,349245,7.8958,,S\\r\\n102,0,3,\"Petroff, Mr. Pastcho (\"\"Pentcho\"\")\",male,,0,0,349215,7.8958,,S\\r\\n103,0,1,\"White, Mr. Richard Frasar\",male,21,0,1,35281,77.2875,D26,S\\r\\n104,0,3,\"Johansson, Mr. Gustaf Joel\",male,33,0,0,7540,8.6542,,S\\r\\n105,0,3,\"Gustafsson, Mr. Anders Vilhelm\",male,37,2,0,3101276,7.925,,S\\r\\n106,0,3,\"Mionoff, Mr. Stoytcho\",male,28,0,0,349207,7.8958,,S\\r\\n107,1,3,\"Salkjelsvik, Miss. Anna Kristine\",female,21,0,0,343120,7.65,,S\\r\\n108,1,3,\"Moss, Mr. Albert Johan\",male,,0,0,312991,7.775,,S\\r\\n109,0,3,\"Rekic, Mr. Tido\",male,38,0,0,349249,7.8958,,S\\r\\n110,1,3,\"Moran, Miss. Bertha\",female,,1,0,371110,24.15,,Q\\r\\n111,0,1,\"Porter, Mr. Walter Chamberlain\",male,47,0,0,110465,52,C110,S\\r\\n112,0,3,\"Zabour, Miss. Hileni\",female,14.5,1,0,2665,14.4542,,C\\r\\n113,0,3,\"Barton, Mr. David John\",male,22,0,0,324669,8.05,,S\\r\\n114,0,3,\"Jussila, Miss. Katriina\",female,20,1,0,4136,9.825,,S\\r\\n115,0,3,\"Attalah, Miss. Malake\",female,17,0,0,2627,14.4583,,C\\r\\n116,0,3,\"Pekoniemi, Mr. Edvard\",male,21,0,0,STON/O 2. 3101294,7.925,,S\\r\\n117,0,3,\"Connors, Mr. Patrick\",male,70.5,0,0,370369,7.75,,Q\\r\\n118,0,2,\"Turpin, Mr. William John Robert\",male,29,1,0,11668,21,,S\\r\\n119,0,1,\"Baxter, Mr. Quigg Edmond\",male,24,0,1,PC 17558,247.5208,B58 B60,C\\r\\n120,0,3,\"Andersson, Miss. Ellis Anna Maria\",female,2,4,2,347082,31.275,,S\\r\\n121,0,2,\"Hickman, Mr. Stanley George\",male,21,2,0,S.O.C. 14879,73.5,,S\\r\\n122,0,3,\"Moore, Mr. Leonard Charles\",male,,0,0,A4. 54510,8.05,,S\\r\\n123,0,2,\"Nasser, Mr. Nicholas\",male,32.5,1,0,237736,30.0708,,C\\r\\n124,1,2,\"Webber, Miss. Susan\",female,32.5,0,0,27267,13,E101,S\\r\\n125,0,1,\"White, Mr. Percival Wayland\",male,54,0,1,35281,77.2875,D26,S\\r\\n126,1,3,\"Nicola-Yarred, Master. Elias\",male,12,1,0,2651,11.2417,,C\\r\\n127,0,3,\"McMahon, Mr. Martin\",male,,0,0,370372,7.75,,Q\\r\\n128,1,3,\"Madsen, Mr. Fridtjof Arne\",male,24,0,0,C 17369,7.1417,,S\\r\\n129,1,3,\"Peter, Miss. Anna\",female,,1,1,2668,22.3583,F E69,C\\r\\n130,0,3,\"Ekstrom, Mr. Johan\",male,45,0,0,347061,6.975,,S\\r\\n131,0,3,\"Drazenoic, Mr. Jozef\",male,33,0,0,349241,7.8958,,C\\r\\n132,0,3,\"Coelho, Mr. Domingos Fernandeo\",male,20,0,0,SOTON/O.Q. 3101307,7.05,,S\\r\\n133,0,3,\"Robins, Mrs. Alexander A (Grace Charity Laury)\",female,47,1,0,A/5. 3337,14.5,,S\\r\\n134,1,2,\"Weisz, Mrs. Leopold (Mathilde Francoise Pede)\",female,29,1,0,228414,26,,S\\r\\n135,0,2,\"Sobey, Mr. Samuel James Hayden\",male,25,0,0,C.A. 29178,13,,S\\r\\n136,0,2,\"Richard, Mr. Emile\",male,23,0,0,SC/PARIS 2133,15.0458,,C\\r\\n137,1,1,\"Newsom, Miss. Helen Monypeny\",female,19,0,2,11752,26.2833,D47,S\\r\\n138,0,1,\"Futrelle, Mr. Jacques Heath\",male,37,1,0,113803,53.1,C123,S\\r\\n139,0,3,\"Osen, Mr. Olaf Elon\",male,16,0,0,7534,9.2167,,S\\r\\n140,0,1,\"Giglio, Mr. Victor\",male,24,0,0,PC 17593,79.2,B86,C\\r\\n141,0,3,\"Boulos, Mrs. Joseph (Sultana)\",female,,0,2,2678,15.2458,,C\\r\\n142,1,3,\"Nysten, Miss. Anna Sofia\",female,22,0,0,347081,7.75,,S\\r\\n143,1,3,\"Hakkarainen, Mrs. Pekka Pietari (Elin Matilda Dolck)\",female,24,1,0,STON/O2. 3101279,15.85,,S\\r\\n144,0,3,\"Burke, Mr. Jeremiah\",male,19,0,0,365222,6.75,,Q\\r\\n145,0,2,\"Andrew, Mr. Edgardo Samuel\",male,18,0,0,231945,11.5,,S\\r\\n146,0,2,\"Nicholls, Mr. Joseph Charles\",male,19,1,1,C.A. 33112,36.75,,S\\r\\n147,1,3,\"Andersson, Mr. August Edvard (\"\"Wennerstrom\"\")\",male,27,0,0,350043,7.7958,,S\\r\\n148,0,3,\"Ford, Miss. Robina Maggie \"\"Ruby\"\"\",female,9,2,2,W./C. 6608,34.375,,S\\r\\n149,0,2,\"Navratil, Mr. Michel (\"\"Louis M Hoffman\"\")\",male,36.5,0,2,230080,26,F2,S\\r\\n150,0,2,\"Byles, Rev. Thomas Roussel Davids\",male,42,0,0,244310,13,,S\\r\\n151,0,2,\"Bateman, Rev. Robert James\",male,51,0,0,S.O.P. 1166,12.525,,S\\r\\n152,1,1,\"Pears, Mrs. Thomas (Edith Wearne)\",female,22,1,0,113776,66.6,C2,S\\r\\n153,0,3,\"Meo, Mr. Alfonzo\",male,55.5,0,0,A.5. 11206,8.05,,S\\r\\n154,0,3,\"van Billiard, Mr. Austin Blyler\",male,40.5,0,2,A/5. 851,14.5,,S\\r\\n155,0,3,\"Olsen, Mr. Ole Martin\",male,,0,0,Fa 265302,7.3125,,S\\r\\n156,0,1,\"Williams, Mr. Charles Duane\",male,51,0,1,PC 17597,61.3792,,C\\r\\n157,1,3,\"Gilnagh, Miss. Katherine \"\"Katie\"\"\",female,16,0,0,35851,7.7333,,Q\\r\\n158,0,3,\"Corn, Mr. Harry\",male,30,0,0,SOTON/OQ 392090,8.05,,S\\r\\n159,0,3,\"Smiljanic, Mr. Mile\",male,,0,0,315037,8.6625,,S\\r\\n160,0,3,\"Sage, Master. Thomas Henry\",male,,8,2,CA. 2343,69.55,,S\\r\\n161,0,3,\"Cribb, Mr. John Hatfield\",male,44,0,1,371362,16.1,,S\\r\\n162,1,2,\"Watt, Mrs. James (Elizabeth \"\"Bessie\"\" Inglis Milne)\",female,40,0,0,C.A. 33595,15.75,,S\\r\\n163,0,3,\"Bengtsson, Mr. John Viktor\",male,26,0,0,347068,7.775,,S\\r\\n164,0,3,\"Calic, Mr. Jovo\",male,17,0,0,315093,8.6625,,S\\r\\n165,0,3,\"Panula, Master. Eino Viljami\",male,1,4,1,3101295,39.6875,,S\\r\\n166,1,3,\"Goldsmith, Master. Frank John William \"\"Frankie\"\"\",male,9,0,2,363291,20.525,,S\\r\\n167,1,1,\"Chibnall, Mrs. (Edith Martha Bowerman)\",female,,0,1,113505,55,E33,S\\r\\n168,0,3,\"Skoog, Mrs. William (Anna Bernhardina Karlsson)\",female,45,1,4,347088,27.9,,S\\r\\n169,0,1,\"Baumann, Mr. John D\",male,,0,0,PC 17318,25.925,,S\\r\\n170,0,3,\"Ling, Mr. Lee\",male,28,0,0,1601,56.4958,,S\\r\\n171,0,1,\"Van der hoef, Mr. Wyckoff\",male,61,0,0,111240,33.5,B19,S\\r\\n172,0,3,\"Rice, Master. Arthur\",male,4,4,1,382652,29.125,,Q\\r\\n173,1,3,\"Johnson, Miss. Eleanor Ileen\",female,1,1,1,347742,11.1333,,S\\r\\n174,0,3,\"Sivola, Mr. Antti Wilhelm\",male,21,0,0,STON/O 2. 3101280,7.925,,S\\r\\n175,0,1,\"Smith, Mr. James Clinch\",male,56,0,0,17764,30.6958,A7,C\\r\\n176,0,3,\"Klasen, Mr. Klas Albin\",male,18,1,1,350404,7.8542,,S\\r\\n177,0,3,\"Lefebre, Master. Henry Forbes\",male,,3,1,4133,25.4667,,S\\r\\n178,0,1,\"Isham, Miss. Ann Elizabeth\",female,50,0,0,PC 17595,28.7125,C49,C\\r\\n179,0,2,\"Hale, Mr. Reginald\",male,30,0,0,250653,13,,S\\r\\n180,0,3,\"Leonard, Mr. Lionel\",male,36,0,0,LINE,0,,S\\r\\n181,0,3,\"Sage, Miss. Constance Gladys\",female,,8,2,CA. 2343,69.55,,S\\r\\n182,0,2,\"Pernot, Mr. Rene\",male,,0,0,SC/PARIS 2131,15.05,,C\\r\\n183,0,3,\"Asplund, Master. Clarence Gustaf Hugo\",male,9,4,2,347077,31.3875,,S\\r\\n184,1,2,\"Becker, Master. Richard F\",male,1,2,1,230136,39,F4,S\\r\\n185,1,3,\"Kink-Heilmann, Miss. Luise Gretchen\",female,4,0,2,315153,22.025,,S\\r\\n186,0,1,\"Rood, Mr. Hugh Roscoe\",male,,0,0,113767,50,A32,S\\r\\n187,1,3,\"O\\'Brien, Mrs. Thomas (Johanna \"\"Hannah\"\" Godfrey)\",female,,1,0,370365,15.5,,Q\\r\\n188,1,1,\"Romaine, Mr. Charles Hallace (\"\"Mr C Rolmane\"\")\",male,45,0,0,111428,26.55,,S\\r\\n189,0,3,\"Bourke, Mr. John\",male,40,1,1,364849,15.5,,Q\\r\\n190,0,3,\"Turcin, Mr. Stjepan\",male,36,0,0,349247,7.8958,,S\\r\\n191,1,2,\"Pinsky, Mrs. (Rosa)\",female,32,0,0,234604,13,,S\\r\\n192,0,2,\"Carbines, Mr. William\",male,19,0,0,28424,13,,S\\r\\n193,1,3,\"Andersen-Jensen, Miss. Carla Christine Nielsine\",female,19,1,0,350046,7.8542,,S\\r\\n194,1,2,\"Navratil, Master. Michel M\",male,3,1,1,230080,26,F2,S\\r\\n195,1,1,\"Brown, Mrs. James Joseph (Margaret Tobin)\",female,44,0,0,PC 17610,27.7208,B4,C\\r\\n196,1,1,\"Lurette, Miss. Elise\",female,58,0,0,PC 17569,146.5208,B80,C\\r\\n197,0,3,\"Mernagh, Mr. Robert\",male,,0,0,368703,7.75,,Q\\r\\n198,0,3,\"Olsen, Mr. Karl Siegwart Andreas\",male,42,0,1,4579,8.4042,,S\\r\\n199,1,3,\"Madigan, Miss. Margaret \"\"Maggie\"\"\",female,,0,0,370370,7.75,,Q\\r\\n200,0,2,\"Yrois, Miss. Henriette (\"\"Mrs Harbeck\"\")\",female,24,0,0,248747,13,,S\\r\\n201,0,3,\"Vande Walle, Mr. Nestor Cyriel\",male,28,0,0,345770,9.5,,S\\r\\n202,0,3,\"Sage, Mr. Frederick\",male,,8,2,CA. 2343,69.55,,S\\r\\n203,0,3,\"Johanson, Mr. Jakob Alfred\",male,34,0,0,3101264,6.4958,,S\\r\\n204,0,3,\"Youseff, Mr. Gerious\",male,45.5,0,0,2628,7.225,,C\\r\\n205,1,3,\"Cohen, Mr. Gurshon \"\"Gus\"\"\",male,18,0,0,A/5 3540,8.05,,S\\r\\n206,0,3,\"Strom, Miss. Telma Matilda\",female,2,0,1,347054,10.4625,G6,S\\r\\n207,0,3,\"Backstrom, Mr. Karl Alfred\",male,32,1,0,3101278,15.85,,S\\r\\n208,1,3,\"Albimona, Mr. Nassef Cassem\",male,26,0,0,2699,18.7875,,C\\r\\n209,1,3,\"Carr, Miss. Helen \"\"Ellen\"\"\",female,16,0,0,367231,7.75,,Q\\r\\n210,1,1,\"Blank, Mr. Henry\",male,40,0,0,112277,31,A31,C\\r\\n211,0,3,\"Ali, Mr. Ahmed\",male,24,0,0,SOTON/O.Q. 3101311,7.05,,S\\r\\n212,1,2,\"Cameron, Miss. Clear Annie\",female,35,0,0,F.C.C. 13528,21,,S\\r\\n213,0,3,\"Perkin, Mr. John Henry\",male,22,0,0,A/5 21174,7.25,,S\\r\\n214,0,2,\"Givard, Mr. Hans Kristensen\",male,30,0,0,250646,13,,S\\r\\n215,0,3,\"Kiernan, Mr. Philip\",male,,1,0,367229,7.75,,Q\\r\\n216,1,1,\"Newell, Miss. Madeleine\",female,31,1,0,35273,113.275,D36,C\\r\\n217,1,3,\"Honkanen, Miss. Eliina\",female,27,0,0,STON/O2. 3101283,7.925,,S\\r\\n218,0,2,\"Jacobsohn, Mr. Sidney Samuel\",male,42,1,0,243847,27,,S\\r\\n219,1,1,\"Bazzani, Miss. Albina\",female,32,0,0,11813,76.2917,D15,C\\r\\n220,0,2,\"Harris, Mr. Walter\",male,30,0,0,W/C 14208,10.5,,S\\r\\n221,1,3,\"Sunderland, Mr. Victor Francis\",male,16,0,0,SOTON/OQ 392089,8.05,,S\\r\\n222,0,2,\"Bracken, Mr. James H\",male,27,0,0,220367,13,,S\\r\\n223,0,3,\"Green, Mr. George Henry\",male,51,0,0,21440,8.05,,S\\r\\n224,0,3,\"Nenkoff, Mr. Christo\",male,,0,0,349234,7.8958,,S\\r\\n225,1,1,\"Hoyt, Mr. Frederick Maxfield\",male,38,1,0,19943,90,C93,S\\r\\n226,0,3,\"Berglund, Mr. Karl Ivar Sven\",male,22,0,0,PP 4348,9.35,,S\\r\\n227,1,2,\"Mellors, Mr. William John\",male,19,0,0,SW/PP 751,10.5,,S\\r\\n228,0,3,\"Lovell, Mr. John Hall (\"\"Henry\"\")\",male,20.5,0,0,A/5 21173,7.25,,S\\r\\n229,0,2,\"Fahlstrom, Mr. Arne Jonas\",male,18,0,0,236171,13,,S\\r\\n230,0,3,\"Lefebre, Miss. Mathilde\",female,,3,1,4133,25.4667,,S\\r\\n231,1,1,\"Harris, Mrs. Henry Birkhardt (Irene Wallach)\",female,35,1,0,36973,83.475,C83,S\\r\\n232,0,3,\"Larsson, Mr. Bengt Edvin\",male,29,0,0,347067,7.775,,S\\r\\n233,0,2,\"Sjostedt, Mr. Ernst Adolf\",male,59,0,0,237442,13.5,,S\\r\\n234,1,3,\"Asplund, Miss. Lillian Gertrud\",female,5,4,2,347077,31.3875,,S\\r\\n235,0,2,\"Leyson, Mr. Robert William Norman\",male,24,0,0,C.A. 29566,10.5,,S\\r\\n236,0,3,\"Harknett, Miss. Alice Phoebe\",female,,0,0,W./C. 6609,7.55,,S\\r\\n237,0,2,\"Hold, Mr. Stephen\",male,44,1,0,26707,26,,S\\r\\n238,1,2,\"Collyer, Miss. Marjorie \"\"Lottie\"\"\",female,8,0,2,C.A. 31921,26.25,,S\\r\\n239,0,2,\"Pengelly, Mr. Frederick William\",male,19,0,0,28665,10.5,,S\\r\\n240,0,2,\"Hunt, Mr. George Henry\",male,33,0,0,SCO/W 1585,12.275,,S\\r\\n241,0,3,\"Zabour, Miss. Thamine\",female,,1,0,2665,14.4542,,C\\r\\n242,1,3,\"Murphy, Miss. Katherine \"\"Kate\"\"\",female,,1,0,367230,15.5,,Q\\r\\n243,0,2,\"Coleridge, Mr. Reginald Charles\",male,29,0,0,W./C. 14263,10.5,,S\\r\\n244,0,3,\"Maenpaa, Mr. Matti Alexanteri\",male,22,0,0,STON/O 2. 3101275,7.125,,S\\r\\n245,0,3,\"Attalah, Mr. Sleiman\",male,30,0,0,2694,7.225,,C\\r\\n246,0,1,\"Minahan, Dr. William Edward\",male,44,2,0,19928,90,C78,Q\\r\\n247,0,3,\"Lindahl, Miss. Agda Thorilda Viktoria\",female,25,0,0,347071,7.775,,S\\r\\n248,1,2,\"Hamalainen, Mrs. William (Anna)\",female,24,0,2,250649,14.5,,S\\r\\n249,1,1,\"Beckwith, Mr. Richard Leonard\",male,37,1,1,11751,52.5542,D35,S\\r\\n250,0,2,\"Carter, Rev. Ernest Courtenay\",male,54,1,0,244252,26,,S\\r\\n251,0,3,\"Reed, Mr. James George\",male,,0,0,362316,7.25,,S\\r\\n252,0,3,\"Strom, Mrs. Wilhelm (Elna Matilda Persson)\",female,29,1,1,347054,10.4625,G6,S\\r\\n253,0,1,\"Stead, Mr. William Thomas\",male,62,0,0,113514,26.55,C87,S\\r\\n254,0,3,\"Lobb, Mr. William Arthur\",male,30,1,0,A/5. 3336,16.1,,S\\r\\n255,0,3,\"Rosblom, Mrs. Viktor (Helena Wilhelmina)\",female,41,0,2,370129,20.2125,,S\\r\\n256,1,3,\"Touma, Mrs. Darwis (Hanne Youssef Razi)\",female,29,0,2,2650,15.2458,,C\\r\\n257,1,1,\"Thorne, Mrs. Gertrude Maybelle\",female,,0,0,PC 17585,79.2,,C\\r\\n258,1,1,\"Cherry, Miss. Gladys\",female,30,0,0,110152,86.5,B77,S\\r\\n259,1,1,\"Ward, Miss. Anna\",female,35,0,0,PC 17755,512.3292,,C\\r\\n260,1,2,\"Parrish, Mrs. (Lutie Davis)\",female,50,0,1,230433,26,,S\\r\\n261,0,3,\"Smith, Mr. Thomas\",male,,0,0,384461,7.75,,Q\\r\\n262,1,3,\"Asplund, Master. Edvin Rojj Felix\",male,3,4,2,347077,31.3875,,S\\r\\n263,0,1,\"Taussig, Mr. Emil\",male,52,1,1,110413,79.65,E67,S\\r\\n264,0,1,\"Harrison, Mr. William\",male,40,0,0,112059,0,B94,S\\r\\n265,0,3,\"Henry, Miss. Delia\",female,,0,0,382649,7.75,,Q\\r\\n266,0,2,\"Reeves, Mr. David\",male,36,0,0,C.A. 17248,10.5,,S\\r\\n267,0,3,\"Panula, Mr. Ernesti Arvid\",male,16,4,1,3101295,39.6875,,S\\r\\n268,1,3,\"Persson, Mr. Ernst Ulrik\",male,25,1,0,347083,7.775,,S\\r\\n269,1,1,\"Graham, Mrs. William Thompson (Edith Junkins)\",female,58,0,1,PC 17582,153.4625,C125,S\\r\\n270,1,1,\"Bissette, Miss. Amelia\",female,35,0,0,PC 17760,135.6333,C99,S\\r\\n271,0,1,\"Cairns, Mr. Alexander\",male,,0,0,113798,31,,S\\r\\n272,1,3,\"Tornquist, Mr. William Henry\",male,25,0,0,LINE,0,,S\\r\\n273,1,2,\"Mellinger, Mrs. (Elizabeth Anne Maidment)\",female,41,0,1,250644,19.5,,S\\r\\n274,0,1,\"Natsch, Mr. Charles H\",male,37,0,1,PC 17596,29.7,C118,C\\r\\n275,1,3,\"Healy, Miss. Hanora \"\"Nora\"\"\",female,,0,0,370375,7.75,,Q\\r\\n276,1,1,\"Andrews, Miss. Kornelia Theodosia\",female,63,1,0,13502,77.9583,D7,S\\r\\n277,0,3,\"Lindblom, Miss. Augusta Charlotta\",female,45,0,0,347073,7.75,,S\\r\\n278,0,2,\"Parkes, Mr. Francis \"\"Frank\"\"\",male,,0,0,239853,0,,S\\r\\n279,0,3,\"Rice, Master. Eric\",male,7,4,1,382652,29.125,,Q\\r\\n280,1,3,\"Abbott, Mrs. Stanton (Rosa Hunt)\",female,35,1,1,C.A. 2673,20.25,,S\\r\\n281,0,3,\"Duane, Mr. Frank\",male,65,0,0,336439,7.75,,Q\\r\\n282,0,3,\"Olsson, Mr. Nils Johan Goransson\",male,28,0,0,347464,7.8542,,S\\r\\n283,0,3,\"de Pelsmaeker, Mr. Alfons\",male,16,0,0,345778,9.5,,S\\r\\n284,1,3,\"Dorking, Mr. Edward Arthur\",male,19,0,0,A/5. 10482,8.05,,S\\r\\n285,0,1,\"Smith, Mr. Richard William\",male,,0,0,113056,26,A19,S\\r\\n286,0,3,\"Stankovic, Mr. Ivan\",male,33,0,0,349239,8.6625,,C\\r\\n287,1,3,\"de Mulder, Mr. Theodore\",male,30,0,0,345774,9.5,,S\\r\\n288,0,3,\"Naidenoff, Mr. Penko\",male,22,0,0,349206,7.8958,,S\\r\\n289,1,2,\"Hosono, Mr. Masabumi\",male,42,0,0,237798,13,,S\\r\\n290,1,3,\"Connolly, Miss. Kate\",female,22,0,0,370373,7.75,,Q\\r\\n291,1,1,\"Barber, Miss. Ellen \"\"Nellie\"\"\",female,26,0,0,19877,78.85,,S\\r\\n292,1,1,\"Bishop, Mrs. Dickinson H (Helen Walton)\",female,19,1,0,11967,91.0792,B49,C\\r\\n293,0,2,\"Levy, Mr. Rene Jacques\",male,36,0,0,SC/Paris 2163,12.875,D,C\\r\\n294,0,3,\"Haas, Miss. Aloisia\",female,24,0,0,349236,8.85,,S\\r\\n295,0,3,\"Mineff, Mr. Ivan\",male,24,0,0,349233,7.8958,,S\\r\\n296,0,1,\"Lewy, Mr. Ervin G\",male,,0,0,PC 17612,27.7208,,C\\r\\n297,0,3,\"Hanna, Mr. Mansour\",male,23.5,0,0,2693,7.2292,,C\\r\\n298,0,1,\"Allison, Miss. Helen Loraine\",female,2,1,2,113781,151.55,C22 C26,S\\r\\n299,1,1,\"Saalfeld, Mr. Adolphe\",male,,0,0,19988,30.5,C106,S\\r\\n300,1,1,\"Baxter, Mrs. James (Helene DeLaudeniere Chaput)\",female,50,0,1,PC 17558,247.5208,B58 B60,C\\r\\n301,1,3,\"Kelly, Miss. Anna Katherine \"\"Annie Kate\"\"\",female,,0,0,9234,7.75,,Q\\r\\n302,1,3,\"McCoy, Mr. Bernard\",male,,2,0,367226,23.25,,Q\\r\\n303,0,3,\"Johnson, Mr. William Cahoone Jr\",male,19,0,0,LINE,0,,S\\r\\n304,1,2,\"Keane, Miss. Nora A\",female,,0,0,226593,12.35,E101,Q\\r\\n305,0,3,\"Williams, Mr. Howard Hugh \"\"Harry\"\"\",male,,0,0,A/5 2466,8.05,,S\\r\\n306,1,1,\"Allison, Master. Hudson Trevor\",male,0.92,1,2,113781,151.55,C22 C26,S\\r\\n307,1,1,\"Fleming, Miss. Margaret\",female,,0,0,17421,110.8833,,C\\r\\n308,1,1,\"Penasco y Castellana, Mrs. Victor de Satode (Maria Josefa Perez de Soto y Vallejo)\",female,17,1,0,PC 17758,108.9,C65,C\\r\\n309,0,2,\"Abelson, Mr. Samuel\",male,30,1,0,P/PP 3381,24,,C\\r\\n310,1,1,\"Francatelli, Miss. Laura Mabel\",female,30,0,0,PC 17485,56.9292,E36,C\\r\\n311,1,1,\"Hays, Miss. Margaret Bechstein\",female,24,0,0,11767,83.1583,C54,C\\r\\n312,1,1,\"Ryerson, Miss. Emily Borie\",female,18,2,2,PC 17608,262.375,B57 B59 B63 B66,C\\r\\n313,0,2,\"Lahtinen, Mrs. William (Anna Sylfven)\",female,26,1,1,250651,26,,S\\r\\n314,0,3,\"Hendekovic, Mr. Ignjac\",male,28,0,0,349243,7.8958,,S\\r\\n315,0,2,\"Hart, Mr. Benjamin\",male,43,1,1,F.C.C. 13529,26.25,,S\\r\\n316,1,3,\"Nilsson, Miss. Helmina Josefina\",female,26,0,0,347470,7.8542,,S\\r\\n317,1,2,\"Kantor, Mrs. Sinai (Miriam Sternin)\",female,24,1,0,244367,26,,S\\r\\n318,0,2,\"Moraweck, Dr. Ernest\",male,54,0,0,29011,14,,S\\r\\n319,1,1,\"Wick, Miss. Mary Natalie\",female,31,0,2,36928,164.8667,C7,S\\r\\n320,1,1,\"Spedden, Mrs. Frederic Oakley (Margaretta Corning Stone)\",female,40,1,1,16966,134.5,E34,C\\r\\n321,0,3,\"Dennis, Mr. Samuel\",male,22,0,0,A/5 21172,7.25,,S\\r\\n322,0,3,\"Danoff, Mr. Yoto\",male,27,0,0,349219,7.8958,,S\\r\\n323,1,2,\"Slayter, Miss. Hilda Mary\",female,30,0,0,234818,12.35,,Q\\r\\n324,1,2,\"Caldwell, Mrs. Albert Francis (Sylvia Mae Harbaugh)\",female,22,1,1,248738,29,,S\\r\\n325,0,3,\"Sage, Mr. George John Jr\",male,,8,2,CA. 2343,69.55,,S\\r\\n326,1,1,\"Young, Miss. Marie Grice\",female,36,0,0,PC 17760,135.6333,C32,C\\r\\n327,0,3,\"Nysveen, Mr. Johan Hansen\",male,61,0,0,345364,6.2375,,S\\r\\n328,1,2,\"Ball, Mrs. (Ada E Hall)\",female,36,0,0,28551,13,D,S\\r\\n329,1,3,\"Goldsmith, Mrs. Frank John (Emily Alice Brown)\",female,31,1,1,363291,20.525,,S\\r\\n330,1,1,\"Hippach, Miss. Jean Gertrude\",female,16,0,1,111361,57.9792,B18,C\\r\\n331,1,3,\"McCoy, Miss. Agnes\",female,,2,0,367226,23.25,,Q\\r\\n332,0,1,\"Partner, Mr. Austen\",male,45.5,0,0,113043,28.5,C124,S\\r\\n333,0,1,\"Graham, Mr. George Edward\",male,38,0,1,PC 17582,153.4625,C91,S\\r\\n334,0,3,\"Vander Planke, Mr. Leo Edmondus\",male,16,2,0,345764,18,,S\\r\\n335,1,1,\"Frauenthal, Mrs. Henry William (Clara Heinsheimer)\",female,,1,0,PC 17611,133.65,,S\\r\\n336,0,3,\"Denkoff, Mr. Mitto\",male,,0,0,349225,7.8958,,S\\r\\n337,0,1,\"Pears, Mr. Thomas Clinton\",male,29,1,0,113776,66.6,C2,S\\r\\n338,1,1,\"Burns, Miss. Elizabeth Margaret\",female,41,0,0,16966,134.5,E40,C\\r\\n339,1,3,\"Dahl, Mr. Karl Edwart\",male,45,0,0,7598,8.05,,S\\r\\n340,0,1,\"Blackwell, Mr. Stephen Weart\",male,45,0,0,113784,35.5,T,S\\r\\n341,1,2,\"Navratil, Master. Edmond Roger\",male,2,1,1,230080,26,F2,S\\r\\n342,1,1,\"Fortune, Miss. Alice Elizabeth\",female,24,3,2,19950,263,C23 C25 C27,S\\r\\n343,0,2,\"Collander, Mr. Erik Gustaf\",male,28,0,0,248740,13,,S\\r\\n344,0,2,\"Sedgwick, Mr. Charles Frederick Waddington\",male,25,0,0,244361,13,,S\\r\\n345,0,2,\"Fox, Mr. Stanley Hubert\",male,36,0,0,229236,13,,S\\r\\n346,1,2,\"Brown, Miss. Amelia \"\"Mildred\"\"\",female,24,0,0,248733,13,F33,S\\r\\n347,1,2,\"Smith, Miss. Marion Elsie\",female,40,0,0,31418,13,,S\\r\\n348,1,3,\"Davison, Mrs. Thomas Henry (Mary E Finck)\",female,,1,0,386525,16.1,,S\\r\\n349,1,3,\"Coutts, Master. William Loch \"\"William\"\"\",male,3,1,1,C.A. 37671,15.9,,S\\r\\n350,0,3,\"Dimic, Mr. Jovan\",male,42,0,0,315088,8.6625,,S\\r\\n351,0,3,\"Odahl, Mr. Nils Martin\",male,23,0,0,7267,9.225,,S\\r\\n352,0,1,\"Williams-Lambert, Mr. Fletcher Fellows\",male,,0,0,113510,35,C128,S\\r\\n353,0,3,\"Elias, Mr. Tannous\",male,15,1,1,2695,7.2292,,C\\r\\n354,0,3,\"Arnold-Franchi, Mr. Josef\",male,25,1,0,349237,17.8,,S\\r\\n355,0,3,\"Yousif, Mr. Wazli\",male,,0,0,2647,7.225,,C\\r\\n356,0,3,\"Vanden Steen, Mr. Leo Peter\",male,28,0,0,345783,9.5,,S\\r\\n357,1,1,\"Bowerman, Miss. Elsie Edith\",female,22,0,1,113505,55,E33,S\\r\\n358,0,2,\"Funk, Miss. Annie Clemmer\",female,38,0,0,237671,13,,S\\r\\n359,1,3,\"McGovern, Miss. Mary\",female,,0,0,330931,7.8792,,Q\\r\\n360,1,3,\"Mockler, Miss. Helen Mary \"\"Ellie\"\"\",female,,0,0,330980,7.8792,,Q\\r\\n361,0,3,\"Skoog, Mr. Wilhelm\",male,40,1,4,347088,27.9,,S\\r\\n362,0,2,\"del Carlo, Mr. Sebastiano\",male,29,1,0,SC/PARIS 2167,27.7208,,C\\r\\n363,0,3,\"Barbara, Mrs. (Catherine David)\",female,45,0,1,2691,14.4542,,C\\r\\n364,0,3,\"Asim, Mr. Adola\",male,35,0,0,SOTON/O.Q. 3101310,7.05,,S\\r\\n365,0,3,\"O\\'Brien, Mr. Thomas\",male,,1,0,370365,15.5,,Q\\r\\n366,0,3,\"Adahl, Mr. Mauritz Nils Martin\",male,30,0,0,C 7076,7.25,,S\\r\\n367,1,1,\"Warren, Mrs. Frank Manley (Anna Sophia Atkinson)\",female,60,1,0,110813,75.25,D37,C\\r\\n368,1,3,\"Moussa, Mrs. (Mantoura Boulos)\",female,,0,0,2626,7.2292,,C\\r\\n369,1,3,\"Jermyn, Miss. Annie\",female,,0,0,14313,7.75,,Q\\r\\n370,1,1,\"Aubart, Mme. Leontine Pauline\",female,24,0,0,PC 17477,69.3,B35,C\\r\\n371,1,1,\"Harder, Mr. George Achilles\",male,25,1,0,11765,55.4417,E50,C\\r\\n372,0,3,\"Wiklund, Mr. Jakob Alfred\",male,18,1,0,3101267,6.4958,,S\\r\\n373,0,3,\"Beavan, Mr. William Thomas\",male,19,0,0,323951,8.05,,S\\r\\n374,0,1,\"Ringhini, Mr. Sante\",male,22,0,0,PC 17760,135.6333,,C\\r\\n375,0,3,\"Palsson, Miss. Stina Viola\",female,3,3,1,349909,21.075,,S\\r\\n376,1,1,\"Meyer, Mrs. Edgar Joseph (Leila Saks)\",female,,1,0,PC 17604,82.1708,,C\\r\\n377,1,3,\"Landergren, Miss. Aurora Adelia\",female,22,0,0,C 7077,7.25,,S\\r\\n378,0,1,\"Widener, Mr. Harry Elkins\",male,27,0,2,113503,211.5,C82,C\\r\\n379,0,3,\"Betros, Mr. Tannous\",male,20,0,0,2648,4.0125,,C\\r\\n380,0,3,\"Gustafsson, Mr. Karl Gideon\",male,19,0,0,347069,7.775,,S\\r\\n381,1,1,\"Bidois, Miss. Rosalie\",female,42,0,0,PC 17757,227.525,,C\\r\\n382,1,3,\"Nakid, Miss. Maria (\"\"Mary\"\")\",female,1,0,2,2653,15.7417,,C\\r\\n383,0,3,\"Tikkanen, Mr. Juho\",male,32,0,0,STON/O 2. 3101293,7.925,,S\\r\\n384,1,1,\"Holverson, Mrs. Alexander Oskar (Mary Aline Towner)\",female,35,1,0,113789,52,,S\\r\\n385,0,3,\"Plotcharsky, Mr. Vasil\",male,,0,0,349227,7.8958,,S\\r\\n386,0,2,\"Davies, Mr. Charles Henry\",male,18,0,0,S.O.C. 14879,73.5,,S\\r\\n387,0,3,\"Goodwin, Master. Sidney Leonard\",male,1,5,2,CA 2144,46.9,,S\\r\\n388,1,2,\"Buss, Miss. Kate\",female,36,0,0,27849,13,,S\\r\\n389,0,3,\"Sadlier, Mr. Matthew\",male,,0,0,367655,7.7292,,Q\\r\\n390,1,2,\"Lehmann, Miss. Bertha\",female,17,0,0,SC 1748,12,,C\\r\\n391,1,1,\"Carter, Mr. William Ernest\",male,36,1,2,113760,120,B96 B98,S\\r\\n392,1,3,\"Jansson, Mr. Carl Olof\",male,21,0,0,350034,7.7958,,S\\r\\n393,0,3,\"Gustafsson, Mr. Johan Birger\",male,28,2,0,3101277,7.925,,S\\r\\n394,1,1,\"Newell, Miss. Marjorie\",female,23,1,0,35273,113.275,D36,C\\r\\n395,1,3,\"Sandstrom, Mrs. Hjalmar (Agnes Charlotta Bengtsson)\",female,24,0,2,PP 9549,16.7,G6,S\\r\\n396,0,3,\"Johansson, Mr. Erik\",male,22,0,0,350052,7.7958,,S\\r\\n397,0,3,\"Olsson, Miss. Elina\",female,31,0,0,350407,7.8542,,S\\r\\n398,0,2,\"McKane, Mr. Peter David\",male,46,0,0,28403,26,,S\\r\\n399,0,2,\"Pain, Dr. Alfred\",male,23,0,0,244278,10.5,,S\\r\\n400,1,2,\"Trout, Mrs. William H (Jessie L)\",female,28,0,0,240929,12.65,,S\\r\\n401,1,3,\"Niskanen, Mr. Juha\",male,39,0,0,STON/O 2. 3101289,7.925,,S\\r\\n402,0,3,\"Adams, Mr. John\",male,26,0,0,341826,8.05,,S\\r\\n403,0,3,\"Jussila, Miss. Mari Aina\",female,21,1,0,4137,9.825,,S\\r\\n404,0,3,\"Hakkarainen, Mr. Pekka Pietari\",male,28,1,0,STON/O2. 3101279,15.85,,S\\r\\n405,0,3,\"Oreskovic, Miss. Marija\",female,20,0,0,315096,8.6625,,S\\r\\n406,0,2,\"Gale, Mr. Shadrach\",male,34,1,0,28664,21,,S\\r\\n407,0,3,\"Widegren, Mr. Carl/Charles Peter\",male,51,0,0,347064,7.75,,S\\r\\n408,1,2,\"Richards, Master. William Rowe\",male,3,1,1,29106,18.75,,S\\r\\n409,0,3,\"Birkeland, Mr. Hans Martin Monsen\",male,21,0,0,312992,7.775,,S\\r\\n410,0,3,\"Lefebre, Miss. Ida\",female,,3,1,4133,25.4667,,S\\r\\n411,0,3,\"Sdycoff, Mr. Todor\",male,,0,0,349222,7.8958,,S\\r\\n412,0,3,\"Hart, Mr. Henry\",male,,0,0,394140,6.8583,,Q\\r\\n413,1,1,\"Minahan, Miss. Daisy E\",female,33,1,0,19928,90,C78,Q\\r\\n414,0,2,\"Cunningham, Mr. Alfred Fleming\",male,,0,0,239853,0,,S\\r\\n415,1,3,\"Sundman, Mr. Johan Julian\",male,44,0,0,STON/O 2. 3101269,7.925,,S\\r\\n416,0,3,\"Meek, Mrs. Thomas (Annie Louise Rowley)\",female,,0,0,343095,8.05,,S\\r\\n417,1,2,\"Drew, Mrs. James Vivian (Lulu Thorne Christian)\",female,34,1,1,28220,32.5,,S\\r\\n418,1,2,\"Silven, Miss. Lyyli Karoliina\",female,18,0,2,250652,13,,S\\r\\n419,0,2,\"Matthews, Mr. William John\",male,30,0,0,28228,13,,S\\r\\n420,0,3,\"Van Impe, Miss. Catharina\",female,10,0,2,345773,24.15,,S\\r\\n421,0,3,\"Gheorgheff, Mr. Stanio\",male,,0,0,349254,7.8958,,C\\r\\n422,0,3,\"Charters, Mr. David\",male,21,0,0,A/5. 13032,7.7333,,Q\\r\\n423,0,3,\"Zimmerman, Mr. Leo\",male,29,0,0,315082,7.875,,S\\r\\n424,0,3,\"Danbom, Mrs. Ernst Gilbert (Anna Sigrid Maria Brogren)\",female,28,1,1,347080,14.4,,S\\r\\n425,0,3,\"Rosblom, Mr. Viktor Richard\",male,18,1,1,370129,20.2125,,S\\r\\n426,0,3,\"Wiseman, Mr. Phillippe\",male,,0,0,A/4. 34244,7.25,,S\\r\\n427,1,2,\"Clarke, Mrs. Charles V (Ada Maria Winfield)\",female,28,1,0,2003,26,,S\\r\\n428,1,2,\"Phillips, Miss. Kate Florence (\"\"Mrs Kate Louise Phillips Marshall\"\")\",female,19,0,0,250655,26,,S\\r\\n429,0,3,\"Flynn, Mr. James\",male,,0,0,364851,7.75,,Q\\r\\n430,1,3,\"Pickard, Mr. Berk (Berk Trembisky)\",male,32,0,0,SOTON/O.Q. 392078,8.05,E10,S\\r\\n431,1,1,\"Bjornstrom-Steffansson, Mr. Mauritz Hakan\",male,28,0,0,110564,26.55,C52,S\\r\\n432,1,3,\"Thorneycroft, Mrs. Percival (Florence Kate White)\",female,,1,0,376564,16.1,,S\\r\\n433,1,2,\"Louch, Mrs. Charles Alexander (Alice Adelaide Slow)\",female,42,1,0,SC/AH 3085,26,,S\\r\\n434,0,3,\"Kallio, Mr. Nikolai Erland\",male,17,0,0,STON/O 2. 3101274,7.125,,S\\r\\n435,0,1,\"Silvey, Mr. William Baird\",male,50,1,0,13507,55.9,E44,S\\r\\n436,1,1,\"Carter, Miss. Lucile Polk\",female,14,1,2,113760,120,B96 B98,S\\r\\n437,0,3,\"Ford, Miss. Doolina Margaret \"\"Daisy\"\"\",female,21,2,2,W./C. 6608,34.375,,S\\r\\n438,1,2,\"Richards, Mrs. Sidney (Emily Hocking)\",female,24,2,3,29106,18.75,,S\\r\\n439,0,1,\"Fortune, Mr. Mark\",male,64,1,4,19950,263,C23 C25 C27,S\\r\\n440,0,2,\"Kvillner, Mr. Johan Henrik Johannesson\",male,31,0,0,C.A. 18723,10.5,,S\\r\\n441,1,2,\"Hart, Mrs. Benjamin (Esther Ada Bloomfield)\",female,45,1,1,F.C.C. 13529,26.25,,S\\r\\n442,0,3,\"Hampe, Mr. Leon\",male,20,0,0,345769,9.5,,S\\r\\n443,0,3,\"Petterson, Mr. Johan Emil\",male,25,1,0,347076,7.775,,S\\r\\n444,1,2,\"Reynaldo, Ms. Encarnacion\",female,28,0,0,230434,13,,S\\r\\n445,1,3,\"Johannesen-Bratthammer, Mr. Bernt\",male,,0,0,65306,8.1125,,S\\r\\n446,1,1,\"Dodge, Master. Washington\",male,4,0,2,33638,81.8583,A34,S\\r\\n447,1,2,\"Mellinger, Miss. Madeleine Violet\",female,13,0,1,250644,19.5,,S\\r\\n448,1,1,\"Seward, Mr. Frederic Kimber\",male,34,0,0,113794,26.55,,S\\r\\n449,1,3,\"Baclini, Miss. Marie Catherine\",female,5,2,1,2666,19.2583,,C\\r\\n450,1,1,\"Peuchen, Major. Arthur Godfrey\",male,52,0,0,113786,30.5,C104,S\\r\\n451,0,2,\"West, Mr. Edwy Arthur\",male,36,1,2,C.A. 34651,27.75,,S\\r\\n452,0,3,\"Hagland, Mr. Ingvald Olai Olsen\",male,,1,0,65303,19.9667,,S\\r\\n453,0,1,\"Foreman, Mr. Benjamin Laventall\",male,30,0,0,113051,27.75,C111,C\\r\\n454,1,1,\"Goldenberg, Mr. Samuel L\",male,49,1,0,17453,89.1042,C92,C\\r\\n455,0,3,\"Peduzzi, Mr. Joseph\",male,,0,0,A/5 2817,8.05,,S\\r\\n456,1,3,\"Jalsevac, Mr. Ivan\",male,29,0,0,349240,7.8958,,C\\r\\n457,0,1,\"Millet, Mr. Francis Davis\",male,65,0,0,13509,26.55,E38,S\\r\\n458,1,1,\"Kenyon, Mrs. Frederick R (Marion)\",female,,1,0,17464,51.8625,D21,S\\r\\n459,1,2,\"Toomey, Miss. Ellen\",female,50,0,0,F.C.C. 13531,10.5,,S\\r\\n460,0,3,\"O\\'Connor, Mr. Maurice\",male,,0,0,371060,7.75,,Q\\r\\n461,1,1,\"Anderson, Mr. Harry\",male,48,0,0,19952,26.55,E12,S\\r\\n462,0,3,\"Morley, Mr. William\",male,34,0,0,364506,8.05,,S\\r\\n463,0,1,\"Gee, Mr. Arthur H\",male,47,0,0,111320,38.5,E63,S\\r\\n464,0,2,\"Milling, Mr. Jacob Christian\",male,48,0,0,234360,13,,S\\r\\n465,0,3,\"Maisner, Mr. Simon\",male,,0,0,A/S 2816,8.05,,S\\r\\n466,0,3,\"Goncalves, Mr. Manuel Estanslas\",male,38,0,0,SOTON/O.Q. 3101306,7.05,,S\\r\\n467,0,2,\"Campbell, Mr. William\",male,,0,0,239853,0,,S\\r\\n468,0,1,\"Smart, Mr. John Montgomery\",male,56,0,0,113792,26.55,,S\\r\\n469,0,3,\"Scanlan, Mr. James\",male,,0,0,36209,7.725,,Q\\r\\n470,1,3,\"Baclini, Miss. Helene Barbara\",female,0.75,2,1,2666,19.2583,,C\\r\\n471,0,3,\"Keefe, Mr. Arthur\",male,,0,0,323592,7.25,,S\\r\\n472,0,3,\"Cacic, Mr. Luka\",male,38,0,0,315089,8.6625,,S\\r\\n473,1,2,\"West, Mrs. Edwy Arthur (Ada Mary Worth)\",female,33,1,2,C.A. 34651,27.75,,S\\r\\n474,1,2,\"Jerwan, Mrs. Amin S (Marie Marthe Thuillard)\",female,23,0,0,SC/AH Basle 541,13.7917,D,C\\r\\n475,0,3,\"Strandberg, Miss. Ida Sofia\",female,22,0,0,7553,9.8375,,S\\r\\n476,0,1,\"Clifford, Mr. George Quincy\",male,,0,0,110465,52,A14,S\\r\\n477,0,2,\"Renouf, Mr. Peter Henry\",male,34,1,0,31027,21,,S\\r\\n478,0,3,\"Braund, Mr. Lewis Richard\",male,29,1,0,3460,7.0458,,S\\r\\n479,0,3,\"Karlsson, Mr. Nils August\",male,22,0,0,350060,7.5208,,S\\r\\n480,1,3,\"Hirvonen, Miss. Hildur E\",female,2,0,1,3101298,12.2875,,S\\r\\n481,0,3,\"Goodwin, Master. Harold Victor\",male,9,5,2,CA 2144,46.9,,S\\r\\n482,0,2,\"Frost, Mr. Anthony Wood \"\"Archie\"\"\",male,,0,0,239854,0,,S\\r\\n483,0,3,\"Rouse, Mr. Richard Henry\",male,50,0,0,A/5 3594,8.05,,S\\r\\n484,1,3,\"Turkula, Mrs. (Hedwig)\",female,63,0,0,4134,9.5875,,S\\r\\n485,1,1,\"Bishop, Mr. Dickinson H\",male,25,1,0,11967,91.0792,B49,C\\r\\n486,0,3,\"Lefebre, Miss. Jeannie\",female,,3,1,4133,25.4667,,S\\r\\n487,1,1,\"Hoyt, Mrs. Frederick Maxfield (Jane Anne Forby)\",female,35,1,0,19943,90,C93,S\\r\\n488,0,1,\"Kent, Mr. Edward Austin\",male,58,0,0,11771,29.7,B37,C\\r\\n489,0,3,\"Somerton, Mr. Francis William\",male,30,0,0,A.5. 18509,8.05,,S\\r\\n490,1,3,\"Coutts, Master. Eden Leslie \"\"Neville\"\"\",male,9,1,1,C.A. 37671,15.9,,S\\r\\n491,0,3,\"Hagland, Mr. Konrad Mathias Reiersen\",male,,1,0,65304,19.9667,,S\\r\\n492,0,3,\"Windelov, Mr. Einar\",male,21,0,0,SOTON/OQ 3101317,7.25,,S\\r\\n493,0,1,\"Molson, Mr. Harry Markland\",male,55,0,0,113787,30.5,C30,S\\r\\n494,0,1,\"Artagaveytia, Mr. Ramon\",male,71,0,0,PC 17609,49.5042,,C\\r\\n495,0,3,\"Stanley, Mr. Edward Roland\",male,21,0,0,A/4 45380,8.05,,S\\r\\n496,0,3,\"Yousseff, Mr. Gerious\",male,,0,0,2627,14.4583,,C\\r\\n497,1,1,\"Eustis, Miss. Elizabeth Mussey\",female,54,1,0,36947,78.2667,D20,C\\r\\n498,0,3,\"Shellard, Mr. Frederick William\",male,,0,0,C.A. 6212,15.1,,S\\r\\n499,0,1,\"Allison, Mrs. Hudson J C (Bessie Waldo Daniels)\",female,25,1,2,113781,151.55,C22 C26,S\\r\\n500,0,3,\"Svensson, Mr. Olof\",male,24,0,0,350035,7.7958,,S\\r\\n501,0,3,\"Calic, Mr. Petar\",male,17,0,0,315086,8.6625,,S\\r\\n502,0,3,\"Canavan, Miss. Mary\",female,21,0,0,364846,7.75,,Q\\r\\n503,0,3,\"O\\'Sullivan, Miss. Bridget Mary\",female,,0,0,330909,7.6292,,Q\\r\\n504,0,3,\"Laitinen, Miss. Kristina Sofia\",female,37,0,0,4135,9.5875,,S\\r\\n505,1,1,\"Maioni, Miss. Roberta\",female,16,0,0,110152,86.5,B79,S\\r\\n506,0,1,\"Penasco y Castellana, Mr. Victor de Satode\",male,18,1,0,PC 17758,108.9,C65,C\\r\\n507,1,2,\"Quick, Mrs. Frederick Charles (Jane Richards)\",female,33,0,2,26360,26,,S\\r\\n508,1,1,\"Bradley, Mr. George (\"\"George Arthur Brayton\"\")\",male,,0,0,111427,26.55,,S\\r\\n509,0,3,\"Olsen, Mr. Henry Margido\",male,28,0,0,C 4001,22.525,,S\\r\\n510,1,3,\"Lang, Mr. Fang\",male,26,0,0,1601,56.4958,,S\\r\\n511,1,3,\"Daly, Mr. Eugene Patrick\",male,29,0,0,382651,7.75,,Q\\r\\n512,0,3,\"Webber, Mr. James\",male,,0,0,SOTON/OQ 3101316,8.05,,S\\r\\n513,1,1,\"McGough, Mr. James Robert\",male,36,0,0,PC 17473,26.2875,E25,S\\r\\n514,1,1,\"Rothschild, Mrs. Martin (Elizabeth L. Barrett)\",female,54,1,0,PC 17603,59.4,,C\\r\\n515,0,3,\"Coleff, Mr. Satio\",male,24,0,0,349209,7.4958,,S\\r\\n516,0,1,\"Walker, Mr. William Anderson\",male,47,0,0,36967,34.0208,D46,S\\r\\n517,1,2,\"Lemore, Mrs. (Amelia Milley)\",female,34,0,0,C.A. 34260,10.5,F33,S\\r\\n518,0,3,\"Ryan, Mr. Patrick\",male,,0,0,371110,24.15,,Q\\r\\n519,1,2,\"Angle, Mrs. William A (Florence \"\"Mary\"\" Agnes Hughes)\",female,36,1,0,226875,26,,S\\r\\n520,0,3,\"Pavlovic, Mr. Stefo\",male,32,0,0,349242,7.8958,,S\\r\\n521,1,1,\"Perreault, Miss. Anne\",female,30,0,0,12749,93.5,B73,S\\r\\n522,0,3,\"Vovk, Mr. Janko\",male,22,0,0,349252,7.8958,,S\\r\\n523,0,3,\"Lahoud, Mr. Sarkis\",male,,0,0,2624,7.225,,C\\r\\n524,1,1,\"Hippach, Mrs. Louis Albert (Ida Sophia Fischer)\",female,44,0,1,111361,57.9792,B18,C\\r\\n525,0,3,\"Kassem, Mr. Fared\",male,,0,0,2700,7.2292,,C\\r\\n526,0,3,\"Farrell, Mr. James\",male,40.5,0,0,367232,7.75,,Q\\r\\n527,1,2,\"Ridsdale, Miss. Lucy\",female,50,0,0,W./C. 14258,10.5,,S\\r\\n528,0,1,\"Farthing, Mr. John\",male,,0,0,PC 17483,221.7792,C95,S\\r\\n529,0,3,\"Salonen, Mr. Johan Werner\",male,39,0,0,3101296,7.925,,S\\r\\n530,0,2,\"Hocking, Mr. Richard George\",male,23,2,1,29104,11.5,,S\\r\\n531,1,2,\"Quick, Miss. Phyllis May\",female,2,1,1,26360,26,,S\\r\\n532,0,3,\"Toufik, Mr. Nakli\",male,,0,0,2641,7.2292,,C\\r\\n533,0,3,\"Elias, Mr. Joseph Jr\",male,17,1,1,2690,7.2292,,C\\r\\n534,1,3,\"Peter, Mrs. Catherine (Catherine Rizk)\",female,,0,2,2668,22.3583,,C\\r\\n535,0,3,\"Cacic, Miss. Marija\",female,30,0,0,315084,8.6625,,S\\r\\n536,1,2,\"Hart, Miss. Eva Miriam\",female,7,0,2,F.C.C. 13529,26.25,,S\\r\\n537,0,1,\"Butt, Major. Archibald Willingham\",male,45,0,0,113050,26.55,B38,S\\r\\n538,1,1,\"LeRoy, Miss. Bertha\",female,30,0,0,PC 17761,106.425,,C\\r\\n539,0,3,\"Risien, Mr. Samuel Beard\",male,,0,0,364498,14.5,,S\\r\\n540,1,1,\"Frolicher, Miss. Hedwig Margaritha\",female,22,0,2,13568,49.5,B39,C\\r\\n541,1,1,\"Crosby, Miss. Harriet R\",female,36,0,2,WE/P 5735,71,B22,S\\r\\n542,0,3,\"Andersson, Miss. Ingeborg Constanzia\",female,9,4,2,347082,31.275,,S\\r\\n543,0,3,\"Andersson, Miss. Sigrid Elisabeth\",female,11,4,2,347082,31.275,,S\\r\\n544,1,2,\"Beane, Mr. Edward\",male,32,1,0,2908,26,,S\\r\\n545,0,1,\"Douglas, Mr. Walter Donald\",male,50,1,0,PC 17761,106.425,C86,C\\r\\n546,0,1,\"Nicholson, Mr. Arthur Ernest\",male,64,0,0,693,26,,S\\r\\n547,1,2,\"Beane, Mrs. Edward (Ethel Clarke)\",female,19,1,0,2908,26,,S\\r\\n548,1,2,\"Padro y Manent, Mr. Julian\",male,,0,0,SC/PARIS 2146,13.8625,,C\\r\\n549,0,3,\"Goldsmith, Mr. Frank John\",male,33,1,1,363291,20.525,,S\\r\\n550,1,2,\"Davies, Master. John Morgan Jr\",male,8,1,1,C.A. 33112,36.75,,S\\r\\n551,1,1,\"Thayer, Mr. John Borland Jr\",male,17,0,2,17421,110.8833,C70,C\\r\\n552,0,2,\"Sharp, Mr. Percival James R\",male,27,0,0,244358,26,,S\\r\\n553,0,3,\"O\\'Brien, Mr. Timothy\",male,,0,0,330979,7.8292,,Q\\r\\n554,1,3,\"Leeni, Mr. Fahim (\"\"Philip Zenni\"\")\",male,22,0,0,2620,7.225,,C\\r\\n555,1,3,\"Ohman, Miss. Velin\",female,22,0,0,347085,7.775,,S\\r\\n556,0,1,\"Wright, Mr. George\",male,62,0,0,113807,26.55,,S\\r\\n557,1,1,\"Duff Gordon, Lady. (Lucille Christiana Sutherland) (\"\"Mrs Morgan\"\")\",female,48,1,0,11755,39.6,A16,C\\r\\n558,0,1,\"Robbins, Mr. Victor\",male,,0,0,PC 17757,227.525,,C\\r\\n559,1,1,\"Taussig, Mrs. Emil (Tillie Mandelbaum)\",female,39,1,1,110413,79.65,E67,S\\r\\n560,1,3,\"de Messemaeker, Mrs. Guillaume Joseph (Emma)\",female,36,1,0,345572,17.4,,S\\r\\n561,0,3,\"Morrow, Mr. Thomas Rowan\",male,,0,0,372622,7.75,,Q\\r\\n562,0,3,\"Sivic, Mr. Husein\",male,40,0,0,349251,7.8958,,S\\r\\n563,0,2,\"Norman, Mr. Robert Douglas\",male,28,0,0,218629,13.5,,S\\r\\n564,0,3,\"Simmons, Mr. John\",male,,0,0,SOTON/OQ 392082,8.05,,S\\r\\n565,0,3,\"Meanwell, Miss. (Marion Ogden)\",female,,0,0,SOTON/O.Q. 392087,8.05,,S\\r\\n566,0,3,\"Davies, Mr. Alfred J\",male,24,2,0,A/4 48871,24.15,,S\\r\\n567,0,3,\"Stoytcheff, Mr. Ilia\",male,19,0,0,349205,7.8958,,S\\r\\n568,0,3,\"Palsson, Mrs. Nils (Alma Cornelia Berglund)\",female,29,0,4,349909,21.075,,S\\r\\n569,0,3,\"Doharr, Mr. Tannous\",male,,0,0,2686,7.2292,,C\\r\\n570,1,3,\"Jonsson, Mr. Carl\",male,32,0,0,350417,7.8542,,S\\r\\n571,1,2,\"Harris, Mr. George\",male,62,0,0,S.W./PP 752,10.5,,S\\r\\n572,1,1,\"Appleton, Mrs. Edward Dale (Charlotte Lamson)\",female,53,2,0,11769,51.4792,C101,S\\r\\n573,1,1,\"Flynn, Mr. John Irwin (\"\"Irving\"\")\",male,36,0,0,PC 17474,26.3875,E25,S\\r\\n574,1,3,\"Kelly, Miss. Mary\",female,,0,0,14312,7.75,,Q\\r\\n575,0,3,\"Rush, Mr. Alfred George John\",male,16,0,0,A/4. 20589,8.05,,S\\r\\n576,0,3,\"Patchett, Mr. George\",male,19,0,0,358585,14.5,,S\\r\\n577,1,2,\"Garside, Miss. Ethel\",female,34,0,0,243880,13,,S\\r\\n578,1,1,\"Silvey, Mrs. William Baird (Alice Munger)\",female,39,1,0,13507,55.9,E44,S\\r\\n579,0,3,\"Caram, Mrs. Joseph (Maria Elias)\",female,,1,0,2689,14.4583,,C\\r\\n580,1,3,\"Jussila, Mr. Eiriik\",male,32,0,0,STON/O 2. 3101286,7.925,,S\\r\\n581,1,2,\"Christy, Miss. Julie Rachel\",female,25,1,1,237789,30,,S\\r\\n582,1,1,\"Thayer, Mrs. John Borland (Marian Longstreth Morris)\",female,39,1,1,17421,110.8833,C68,C\\r\\n583,0,2,\"Downton, Mr. William James\",male,54,0,0,28403,26,,S\\r\\n584,0,1,\"Ross, Mr. John Hugo\",male,36,0,0,13049,40.125,A10,C\\r\\n585,0,3,\"Paulner, Mr. Uscher\",male,,0,0,3411,8.7125,,C\\r\\n586,1,1,\"Taussig, Miss. Ruth\",female,18,0,2,110413,79.65,E68,S\\r\\n587,0,2,\"Jarvis, Mr. John Denzil\",male,47,0,0,237565,15,,S\\r\\n588,1,1,\"Frolicher-Stehli, Mr. Maxmillian\",male,60,1,1,13567,79.2,B41,C\\r\\n589,0,3,\"Gilinski, Mr. Eliezer\",male,22,0,0,14973,8.05,,S\\r\\n590,0,3,\"Murdlin, Mr. Joseph\",male,,0,0,A./5. 3235,8.05,,S\\r\\n591,0,3,\"Rintamaki, Mr. Matti\",male,35,0,0,STON/O 2. 3101273,7.125,,S\\r\\n592,1,1,\"Stephenson, Mrs. Walter Bertram (Martha Eustis)\",female,52,1,0,36947,78.2667,D20,C\\r\\n593,0,3,\"Elsbury, Mr. William James\",male,47,0,0,A/5 3902,7.25,,S\\r\\n594,0,3,\"Bourke, Miss. Mary\",female,,0,2,364848,7.75,,Q\\r\\n595,0,2,\"Chapman, Mr. John Henry\",male,37,1,0,SC/AH 29037,26,,S\\r\\n596,0,3,\"Van Impe, Mr. Jean Baptiste\",male,36,1,1,345773,24.15,,S\\r\\n597,1,2,\"Leitch, Miss. Jessie Wills\",female,,0,0,248727,33,,S\\r\\n598,0,3,\"Johnson, Mr. Alfred\",male,49,0,0,LINE,0,,S\\r\\n599,0,3,\"Boulos, Mr. Hanna\",male,,0,0,2664,7.225,,C\\r\\n600,1,1,\"Duff Gordon, Sir. Cosmo Edmund (\"\"Mr Morgan\"\")\",male,49,1,0,PC 17485,56.9292,A20,C\\r\\n601,1,2,\"Jacobsohn, Mrs. Sidney Samuel (Amy Frances Christy)\",female,24,2,1,243847,27,,S\\r\\n602,0,3,\"Slabenoff, Mr. Petco\",male,,0,0,349214,7.8958,,S\\r\\n603,0,1,\"Harrington, Mr. Charles H\",male,,0,0,113796,42.4,,S\\r\\n604,0,3,\"Torber, Mr. Ernst William\",male,44,0,0,364511,8.05,,S\\r\\n605,1,1,\"Homer, Mr. Harry (\"\"Mr E Haven\"\")\",male,35,0,0,111426,26.55,,C\\r\\n606,0,3,\"Lindell, Mr. Edvard Bengtsson\",male,36,1,0,349910,15.55,,S\\r\\n607,0,3,\"Karaic, Mr. Milan\",male,30,0,0,349246,7.8958,,S\\r\\n608,1,1,\"Daniel, Mr. Robert Williams\",male,27,0,0,113804,30.5,,S\\r\\n609,1,2,\"Laroche, Mrs. Joseph (Juliette Marie Louise Lafargue)\",female,22,1,2,SC/Paris 2123,41.5792,,C\\r\\n610,1,1,\"Shutes, Miss. Elizabeth W\",female,40,0,0,PC 17582,153.4625,C125,S\\r\\n611,0,3,\"Andersson, Mrs. Anders Johan (Alfrida Konstantia Brogren)\",female,39,1,5,347082,31.275,,S\\r\\n612,0,3,\"Jardin, Mr. Jose Neto\",male,,0,0,SOTON/O.Q. 3101305,7.05,,S\\r\\n613,1,3,\"Murphy, Miss. Margaret Jane\",female,,1,0,367230,15.5,,Q\\r\\n614,0,3,\"Horgan, Mr. John\",male,,0,0,370377,7.75,,Q\\r\\n615,0,3,\"Brocklebank, Mr. William Alfred\",male,35,0,0,364512,8.05,,S\\r\\n616,1,2,\"Herman, Miss. Alice\",female,24,1,2,220845,65,,S\\r\\n617,0,3,\"Danbom, Mr. Ernst Gilbert\",male,34,1,1,347080,14.4,,S\\r\\n618,0,3,\"Lobb, Mrs. William Arthur (Cordelia K Stanlick)\",female,26,1,0,A/5. 3336,16.1,,S\\r\\n619,1,2,\"Becker, Miss. Marion Louise\",female,4,2,1,230136,39,F4,S\\r\\n620,0,2,\"Gavey, Mr. Lawrence\",male,26,0,0,31028,10.5,,S\\r\\n621,0,3,\"Yasbeck, Mr. Antoni\",male,27,1,0,2659,14.4542,,C\\r\\n622,1,1,\"Kimball, Mr. Edwin Nelson Jr\",male,42,1,0,11753,52.5542,D19,S\\r\\n623,1,3,\"Nakid, Mr. Sahid\",male,20,1,1,2653,15.7417,,C\\r\\n624,0,3,\"Hansen, Mr. Henry Damsgaard\",male,21,0,0,350029,7.8542,,S\\r\\n625,0,3,\"Bowen, Mr. David John \"\"Dai\"\"\",male,21,0,0,54636,16.1,,S\\r\\n626,0,1,\"Sutton, Mr. Frederick\",male,61,0,0,36963,32.3208,D50,S\\r\\n627,0,2,\"Kirkland, Rev. Charles Leonard\",male,57,0,0,219533,12.35,,Q\\r\\n628,1,1,\"Longley, Miss. Gretchen Fiske\",female,21,0,0,13502,77.9583,D9,S\\r\\n629,0,3,\"Bostandyeff, Mr. Guentcho\",male,26,0,0,349224,7.8958,,S\\r\\n630,0,3,\"O\\'Connell, Mr. Patrick D\",male,,0,0,334912,7.7333,,Q\\r\\n631,1,1,\"Barkworth, Mr. Algernon Henry Wilson\",male,80,0,0,27042,30,A23,S\\r\\n632,0,3,\"Lundahl, Mr. Johan Svensson\",male,51,0,0,347743,7.0542,,S\\r\\n633,1,1,\"Stahelin-Maeglin, Dr. Max\",male,32,0,0,13214,30.5,B50,C\\r\\n634,0,1,\"Parr, Mr. William Henry Marsh\",male,,0,0,112052,0,,S\\r\\n635,0,3,\"Skoog, Miss. Mabel\",female,9,3,2,347088,27.9,,S\\r\\n636,1,2,\"Davis, Miss. Mary\",female,28,0,0,237668,13,,S\\r\\n637,0,3,\"Leinonen, Mr. Antti Gustaf\",male,32,0,0,STON/O 2. 3101292,7.925,,S\\r\\n638,0,2,\"Collyer, Mr. Harvey\",male,31,1,1,C.A. 31921,26.25,,S\\r\\n639,0,3,\"Panula, Mrs. Juha (Maria Emilia Ojala)\",female,41,0,5,3101295,39.6875,,S\\r\\n640,0,3,\"Thorneycroft, Mr. Percival\",male,,1,0,376564,16.1,,S\\r\\n641,0,3,\"Jensen, Mr. Hans Peder\",male,20,0,0,350050,7.8542,,S\\r\\n642,1,1,\"Sagesser, Mlle. Emma\",female,24,0,0,PC 17477,69.3,B35,C\\r\\n643,0,3,\"Skoog, Miss. Margit Elizabeth\",female,2,3,2,347088,27.9,,S\\r\\n644,1,3,\"Foo, Mr. Choong\",male,,0,0,1601,56.4958,,S\\r\\n645,1,3,\"Baclini, Miss. Eugenie\",female,0.75,2,1,2666,19.2583,,C\\r\\n646,1,1,\"Harper, Mr. Henry Sleeper\",male,48,1,0,PC 17572,76.7292,D33,C\\r\\n647,0,3,\"Cor, Mr. Liudevit\",male,19,0,0,349231,7.8958,,S\\r\\n648,1,1,\"Simonius-Blumer, Col. Oberst Alfons\",male,56,0,0,13213,35.5,A26,C\\r\\n649,0,3,\"Willey, Mr. Edward\",male,,0,0,S.O./P.P. 751,7.55,,S\\r\\n650,1,3,\"Stanley, Miss. Amy Zillah Elsie\",female,23,0,0,CA. 2314,7.55,,S\\r\\n651,0,3,\"Mitkoff, Mr. Mito\",male,,0,0,349221,7.8958,,S\\r\\n652,1,2,\"Doling, Miss. Elsie\",female,18,0,1,231919,23,,S\\r\\n653,0,3,\"Kalvik, Mr. Johannes Halvorsen\",male,21,0,0,8475,8.4333,,S\\r\\n654,1,3,\"O\\'Leary, Miss. Hanora \"\"Norah\"\"\",female,,0,0,330919,7.8292,,Q\\r\\n655,0,3,\"Hegarty, Miss. Hanora \"\"Nora\"\"\",female,18,0,0,365226,6.75,,Q\\r\\n656,0,2,\"Hickman, Mr. Leonard Mark\",male,24,2,0,S.O.C. 14879,73.5,,S\\r\\n657,0,3,\"Radeff, Mr. Alexander\",male,,0,0,349223,7.8958,,S\\r\\n658,0,3,\"Bourke, Mrs. John (Catherine)\",female,32,1,1,364849,15.5,,Q\\r\\n659,0,2,\"Eitemiller, Mr. George Floyd\",male,23,0,0,29751,13,,S\\r\\n660,0,1,\"Newell, Mr. Arthur Webster\",male,58,0,2,35273,113.275,D48,C\\r\\n661,1,1,\"Frauenthal, Dr. Henry William\",male,50,2,0,PC 17611,133.65,,S\\r\\n662,0,3,\"Badt, Mr. Mohamed\",male,40,0,0,2623,7.225,,C\\r\\n663,0,1,\"Colley, Mr. Edward Pomeroy\",male,47,0,0,5727,25.5875,E58,S\\r\\n664,0,3,\"Coleff, Mr. Peju\",male,36,0,0,349210,7.4958,,S\\r\\n665,1,3,\"Lindqvist, Mr. Eino William\",male,20,1,0,STON/O 2. 3101285,7.925,,S\\r\\n666,0,2,\"Hickman, Mr. Lewis\",male,32,2,0,S.O.C. 14879,73.5,,S\\r\\n667,0,2,\"Butler, Mr. Reginald Fenton\",male,25,0,0,234686,13,,S\\r\\n668,0,3,\"Rommetvedt, Mr. Knud Paust\",male,,0,0,312993,7.775,,S\\r\\n669,0,3,\"Cook, Mr. Jacob\",male,43,0,0,A/5 3536,8.05,,S\\r\\n670,1,1,\"Taylor, Mrs. Elmer Zebley (Juliet Cummins Wright)\",female,,1,0,19996,52,C126,S\\r\\n671,1,2,\"Brown, Mrs. Thomas William Solomon (Elizabeth Catherine Ford)\",female,40,1,1,29750,39,,S\\r\\n672,0,1,\"Davidson, Mr. Thornton\",male,31,1,0,F.C. 12750,52,B71,S\\r\\n673,0,2,\"Mitchell, Mr. Henry Michael\",male,70,0,0,C.A. 24580,10.5,,S\\r\\n674,1,2,\"Wilhelms, Mr. Charles\",male,31,0,0,244270,13,,S\\r\\n675,0,2,\"Watson, Mr. Ennis Hastings\",male,,0,0,239856,0,,S\\r\\n676,0,3,\"Edvardsson, Mr. Gustaf Hjalmar\",male,18,0,0,349912,7.775,,S\\r\\n677,0,3,\"Sawyer, Mr. Frederick Charles\",male,24.5,0,0,342826,8.05,,S\\r\\n678,1,3,\"Turja, Miss. Anna Sofia\",female,18,0,0,4138,9.8417,,S\\r\\n679,0,3,\"Goodwin, Mrs. Frederick (Augusta Tyler)\",female,43,1,6,CA 2144,46.9,,S\\r\\n680,1,1,\"Cardeza, Mr. Thomas Drake Martinez\",male,36,0,1,PC 17755,512.3292,B51 B53 B55,C\\r\\n681,0,3,\"Peters, Miss. Katie\",female,,0,0,330935,8.1375,,Q\\r\\n682,1,1,\"Hassab, Mr. Hammad\",male,27,0,0,PC 17572,76.7292,D49,C\\r\\n683,0,3,\"Olsvigen, Mr. Thor Anderson\",male,20,0,0,6563,9.225,,S\\r\\n684,0,3,\"Goodwin, Mr. Charles Edward\",male,14,5,2,CA 2144,46.9,,S\\r\\n685,0,2,\"Brown, Mr. Thomas William Solomon\",male,60,1,1,29750,39,,S\\r\\n686,0,2,\"Laroche, Mr. Joseph Philippe Lemercier\",male,25,1,2,SC/Paris 2123,41.5792,,C\\r\\n687,0,3,\"Panula, Mr. Jaako Arnold\",male,14,4,1,3101295,39.6875,,S\\r\\n688,0,3,\"Dakic, Mr. Branko\",male,19,0,0,349228,10.1708,,S\\r\\n689,0,3,\"Fischer, Mr. Eberhard Thelander\",male,18,0,0,350036,7.7958,,S\\r\\n690,1,1,\"Madill, Miss. Georgette Alexandra\",female,15,0,1,24160,211.3375,B5,S\\r\\n691,1,1,\"Dick, Mr. Albert Adrian\",male,31,1,0,17474,57,B20,S\\r\\n692,1,3,\"Karun, Miss. Manca\",female,4,0,1,349256,13.4167,,C\\r\\n693,1,3,\"Lam, Mr. Ali\",male,,0,0,1601,56.4958,,S\\r\\n694,0,3,\"Saad, Mr. Khalil\",male,25,0,0,2672,7.225,,C\\r\\n695,0,1,\"Weir, Col. John\",male,60,0,0,113800,26.55,,S\\r\\n696,0,2,\"Chapman, Mr. Charles Henry\",male,52,0,0,248731,13.5,,S\\r\\n697,0,3,\"Kelly, Mr. James\",male,44,0,0,363592,8.05,,S\\r\\n698,1,3,\"Mullens, Miss. Katherine \"\"Katie\"\"\",female,,0,0,35852,7.7333,,Q\\r\\n699,0,1,\"Thayer, Mr. John Borland\",male,49,1,1,17421,110.8833,C68,C\\r\\n700,0,3,\"Humblen, Mr. Adolf Mathias Nicolai Olsen\",male,42,0,0,348121,7.65,F G63,S\\r\\n701,1,1,\"Astor, Mrs. John Jacob (Madeleine Talmadge Force)\",female,18,1,0,PC 17757,227.525,C62 C64,C\\r\\n702,1,1,\"Silverthorne, Mr. Spencer Victor\",male,35,0,0,PC 17475,26.2875,E24,S\\r\\n703,0,3,\"Barbara, Miss. Saiide\",female,18,0,1,2691,14.4542,,C\\r\\n704,0,3,\"Gallagher, Mr. Martin\",male,25,0,0,36864,7.7417,,Q\\r\\n705,0,3,\"Hansen, Mr. Henrik Juul\",male,26,1,0,350025,7.8542,,S\\r\\n706,0,2,\"Morley, Mr. Henry Samuel (\"\"Mr Henry Marshall\"\")\",male,39,0,0,250655,26,,S\\r\\n707,1,2,\"Kelly, Mrs. Florence \"\"Fannie\"\"\",female,45,0,0,223596,13.5,,S\\r\\n708,1,1,\"Calderhead, Mr. Edward Pennington\",male,42,0,0,PC 17476,26.2875,E24,S\\r\\n709,1,1,\"Cleaver, Miss. Alice\",female,22,0,0,113781,151.55,,S\\r\\n710,1,3,\"Moubarek, Master. Halim Gonios (\"\"William George\"\")\",male,,1,1,2661,15.2458,,C\\r\\n711,1,1,\"Mayne, Mlle. Berthe Antonine (\"\"Mrs de Villiers\"\")\",female,24,0,0,PC 17482,49.5042,C90,C\\r\\n712,0,1,\"Klaber, Mr. Herman\",male,,0,0,113028,26.55,C124,S\\r\\n713,1,1,\"Taylor, Mr. Elmer Zebley\",male,48,1,0,19996,52,C126,S\\r\\n714,0,3,\"Larsson, Mr. August Viktor\",male,29,0,0,7545,9.4833,,S\\r\\n715,0,2,\"Greenberg, Mr. Samuel\",male,52,0,0,250647,13,,S\\r\\n716,0,3,\"Soholt, Mr. Peter Andreas Lauritz Andersen\",male,19,0,0,348124,7.65,F G73,S\\r\\n717,1,1,\"Endres, Miss. Caroline Louise\",female,38,0,0,PC 17757,227.525,C45,C\\r\\n718,1,2,\"Troutt, Miss. Edwina Celia \"\"Winnie\"\"\",female,27,0,0,34218,10.5,E101,S\\r\\n719,0,3,\"McEvoy, Mr. Michael\",male,,0,0,36568,15.5,,Q\\r\\n720,0,3,\"Johnson, Mr. Malkolm Joackim\",male,33,0,0,347062,7.775,,S\\r\\n721,1,2,\"Harper, Miss. Annie Jessie \"\"Nina\"\"\",female,6,0,1,248727,33,,S\\r\\n722,0,3,\"Jensen, Mr. Svend Lauritz\",male,17,1,0,350048,7.0542,,S\\r\\n723,0,2,\"Gillespie, Mr. William Henry\",male,34,0,0,12233,13,,S\\r\\n724,0,2,\"Hodges, Mr. Henry Price\",male,50,0,0,250643,13,,S\\r\\n725,1,1,\"Chambers, Mr. Norman Campbell\",male,27,1,0,113806,53.1,E8,S\\r\\n726,0,3,\"Oreskovic, Mr. Luka\",male,20,0,0,315094,8.6625,,S\\r\\n727,1,2,\"Renouf, Mrs. Peter Henry (Lillian Jefferys)\",female,30,3,0,31027,21,,S\\r\\n728,1,3,\"Mannion, Miss. Margareth\",female,,0,0,36866,7.7375,,Q\\r\\n729,0,2,\"Bryhl, Mr. Kurt Arnold Gottfrid\",male,25,1,0,236853,26,,S\\r\\n730,0,3,\"Ilmakangas, Miss. Pieta Sofia\",female,25,1,0,STON/O2. 3101271,7.925,,S\\r\\n731,1,1,\"Allen, Miss. Elisabeth Walton\",female,29,0,0,24160,211.3375,B5,S\\r\\n732,0,3,\"Hassan, Mr. Houssein G N\",male,11,0,0,2699,18.7875,,C\\r\\n733,0,2,\"Knight, Mr. Robert J\",male,,0,0,239855,0,,S\\r\\n734,0,2,\"Berriman, Mr. William John\",male,23,0,0,28425,13,,S\\r\\n735,0,2,\"Troupiansky, Mr. Moses Aaron\",male,23,0,0,233639,13,,S\\r\\n736,0,3,\"Williams, Mr. Leslie\",male,28.5,0,0,54636,16.1,,S\\r\\n737,0,3,\"Ford, Mrs. Edward (Margaret Ann Watson)\",female,48,1,3,W./C. 6608,34.375,,S\\r\\n738,1,1,\"Lesurer, Mr. Gustave J\",male,35,0,0,PC 17755,512.3292,B101,C\\r\\n739,0,3,\"Ivanoff, Mr. Kanio\",male,,0,0,349201,7.8958,,S\\r\\n740,0,3,\"Nankoff, Mr. Minko\",male,,0,0,349218,7.8958,,S\\r\\n741,1,1,\"Hawksford, Mr. Walter James\",male,,0,0,16988,30,D45,S\\r\\n742,0,1,\"Cavendish, Mr. Tyrell William\",male,36,1,0,19877,78.85,C46,S\\r\\n743,1,1,\"Ryerson, Miss. Susan Parker \"\"Suzette\"\"\",female,21,2,2,PC 17608,262.375,B57 B59 B63 B66,C\\r\\n744,0,3,\"McNamee, Mr. Neal\",male,24,1,0,376566,16.1,,S\\r\\n745,1,3,\"Stranden, Mr. Juho\",male,31,0,0,STON/O 2. 3101288,7.925,,S\\r\\n746,0,1,\"Crosby, Capt. Edward Gifford\",male,70,1,1,WE/P 5735,71,B22,S\\r\\n747,0,3,\"Abbott, Mr. Rossmore Edward\",male,16,1,1,C.A. 2673,20.25,,S\\r\\n748,1,2,\"Sinkkonen, Miss. Anna\",female,30,0,0,250648,13,,S\\r\\n749,0,1,\"Marvin, Mr. Daniel Warner\",male,19,1,0,113773,53.1,D30,S\\r\\n750,0,3,\"Connaghton, Mr. Michael\",male,31,0,0,335097,7.75,,Q\\r\\n751,1,2,\"Wells, Miss. Joan\",female,4,1,1,29103,23,,S\\r\\n752,1,3,\"Moor, Master. Meier\",male,6,0,1,392096,12.475,E121,S\\r\\n753,0,3,\"Vande Velde, Mr. Johannes Joseph\",male,33,0,0,345780,9.5,,S\\r\\n754,0,3,\"Jonkoff, Mr. Lalio\",male,23,0,0,349204,7.8958,,S\\r\\n755,1,2,\"Herman, Mrs. Samuel (Jane Laver)\",female,48,1,2,220845,65,,S\\r\\n756,1,2,\"Hamalainen, Master. Viljo\",male,0.67,1,1,250649,14.5,,S\\r\\n757,0,3,\"Carlsson, Mr. August Sigfrid\",male,28,0,0,350042,7.7958,,S\\r\\n758,0,2,\"Bailey, Mr. Percy Andrew\",male,18,0,0,29108,11.5,,S\\r\\n759,0,3,\"Theobald, Mr. Thomas Leonard\",male,34,0,0,363294,8.05,,S\\r\\n760,1,1,\"Rothes, the Countess. of (Lucy Noel Martha Dyer-Edwards)\",female,33,0,0,110152,86.5,B77,S\\r\\n761,0,3,\"Garfirth, Mr. John\",male,,0,0,358585,14.5,,S\\r\\n762,0,3,\"Nirva, Mr. Iisakki Antino Aijo\",male,41,0,0,SOTON/O2 3101272,7.125,,S\\r\\n763,1,3,\"Barah, Mr. Hanna Assi\",male,20,0,0,2663,7.2292,,C\\r\\n764,1,1,\"Carter, Mrs. William Ernest (Lucile Polk)\",female,36,1,2,113760,120,B96 B98,S\\r\\n765,0,3,\"Eklund, Mr. Hans Linus\",male,16,0,0,347074,7.775,,S\\r\\n766,1,1,\"Hogeboom, Mrs. John C (Anna Andrews)\",female,51,1,0,13502,77.9583,D11,S\\r\\n767,0,1,\"Brewe, Dr. Arthur Jackson\",male,,0,0,112379,39.6,,C\\r\\n768,0,3,\"Mangan, Miss. Mary\",female,30.5,0,0,364850,7.75,,Q\\r\\n769,0,3,\"Moran, Mr. Daniel J\",male,,1,0,371110,24.15,,Q\\r\\n770,0,3,\"Gronnestad, Mr. Daniel Danielsen\",male,32,0,0,8471,8.3625,,S\\r\\n771,0,3,\"Lievens, Mr. Rene Aime\",male,24,0,0,345781,9.5,,S\\r\\n772,0,3,\"Jensen, Mr. Niels Peder\",male,48,0,0,350047,7.8542,,S\\r\\n773,0,2,\"Mack, Mrs. (Mary)\",female,57,0,0,S.O./P.P. 3,10.5,E77,S\\r\\n774,0,3,\"Elias, Mr. Dibo\",male,,0,0,2674,7.225,,C\\r\\n775,1,2,\"Hocking, Mrs. Elizabeth (Eliza Needs)\",female,54,1,3,29105,23,,S\\r\\n776,0,3,\"Myhrman, Mr. Pehr Fabian Oliver Malkolm\",male,18,0,0,347078,7.75,,S\\r\\n777,0,3,\"Tobin, Mr. Roger\",male,,0,0,383121,7.75,F38,Q\\r\\n778,1,3,\"Emanuel, Miss. Virginia Ethel\",female,5,0,0,364516,12.475,,S\\r\\n779,0,3,\"Kilgannon, Mr. Thomas J\",male,,0,0,36865,7.7375,,Q\\r\\n780,1,1,\"Robert, Mrs. Edward Scott (Elisabeth Walton McMillan)\",female,43,0,1,24160,211.3375,B3,S\\r\\n781,1,3,\"Ayoub, Miss. Banoura\",female,13,0,0,2687,7.2292,,C\\r\\n782,1,1,\"Dick, Mrs. Albert Adrian (Vera Gillespie)\",female,17,1,0,17474,57,B20,S\\r\\n783,0,1,\"Long, Mr. Milton Clyde\",male,29,0,0,113501,30,D6,S\\r\\n784,0,3,\"Johnston, Mr. Andrew G\",male,,1,2,W./C. 6607,23.45,,S\\r\\n785,0,3,\"Ali, Mr. William\",male,25,0,0,SOTON/O.Q. 3101312,7.05,,S\\r\\n786,0,3,\"Harmer, Mr. Abraham (David Lishin)\",male,25,0,0,374887,7.25,,S\\r\\n787,1,3,\"Sjoblom, Miss. Anna Sofia\",female,18,0,0,3101265,7.4958,,S\\r\\n788,0,3,\"Rice, Master. George Hugh\",male,8,4,1,382652,29.125,,Q\\r\\n789,1,3,\"Dean, Master. Bertram Vere\",male,1,1,2,C.A. 2315,20.575,,S\\r\\n790,0,1,\"Guggenheim, Mr. Benjamin\",male,46,0,0,PC 17593,79.2,B82 B84,C\\r\\n791,0,3,\"Keane, Mr. Andrew \"\"Andy\"\"\",male,,0,0,12460,7.75,,Q\\r\\n792,0,2,\"Gaskell, Mr. Alfred\",male,16,0,0,239865,26,,S\\r\\n793,0,3,\"Sage, Miss. Stella Anna\",female,,8,2,CA. 2343,69.55,,S\\r\\n794,0,1,\"Hoyt, Mr. William Fisher\",male,,0,0,PC 17600,30.6958,,C\\r\\n795,0,3,\"Dantcheff, Mr. Ristiu\",male,25,0,0,349203,7.8958,,S\\r\\n796,0,2,\"Otter, Mr. Richard\",male,39,0,0,28213,13,,S\\r\\n797,1,1,\"Leader, Dr. Alice (Farnham)\",female,49,0,0,17465,25.9292,D17,S\\r\\n798,1,3,\"Osman, Mrs. Mara\",female,31,0,0,349244,8.6833,,S\\r\\n799,0,3,\"Ibrahim Shawah, Mr. Yousseff\",male,30,0,0,2685,7.2292,,C\\r\\n800,0,3,\"Van Impe, Mrs. Jean Baptiste (Rosalie Paula Govaert)\",female,30,1,1,345773,24.15,,S\\r\\n801,0,2,\"Ponesell, Mr. Martin\",male,34,0,0,250647,13,,S\\r\\n802,1,2,\"Collyer, Mrs. Harvey (Charlotte Annie Tate)\",female,31,1,1,C.A. 31921,26.25,,S\\r\\n803,1,1,\"Carter, Master. William Thornton II\",male,11,1,2,113760,120,B96 B98,S\\r\\n804,1,3,\"Thomas, Master. Assad Alexander\",male,0.42,0,1,2625,8.5167,,C\\r\\n805,1,3,\"Hedman, Mr. Oskar Arvid\",male,27,0,0,347089,6.975,,S\\r\\n806,0,3,\"Johansson, Mr. Karl Johan\",male,31,0,0,347063,7.775,,S\\r\\n807,0,1,\"Andrews, Mr. Thomas Jr\",male,39,0,0,112050,0,A36,S\\r\\n808,0,3,\"Pettersson, Miss. Ellen Natalia\",female,18,0,0,347087,7.775,,S\\r\\n809,0,2,\"Meyer, Mr. August\",male,39,0,0,248723,13,,S\\r\\n810,1,1,\"Chambers, Mrs. Norman Campbell (Bertha Griggs)\",female,33,1,0,113806,53.1,E8,S\\r\\n811,0,3,\"Alexander, Mr. William\",male,26,0,0,3474,7.8875,,S\\r\\n812,0,3,\"Lester, Mr. James\",male,39,0,0,A/4 48871,24.15,,S\\r\\n813,0,2,\"Slemen, Mr. Richard James\",male,35,0,0,28206,10.5,,S\\r\\n814,0,3,\"Andersson, Miss. Ebba Iris Alfrida\",female,6,4,2,347082,31.275,,S\\r\\n815,0,3,\"Tomlin, Mr. Ernest Portage\",male,30.5,0,0,364499,8.05,,S\\r\\n816,0,1,\"Fry, Mr. Richard\",male,,0,0,112058,0,B102,S\\r\\n817,0,3,\"Heininen, Miss. Wendla Maria\",female,23,0,0,STON/O2. 3101290,7.925,,S\\r\\n818,0,2,\"Mallet, Mr. Albert\",male,31,1,1,S.C./PARIS 2079,37.0042,,C\\r\\n819,0,3,\"Holm, Mr. John Fredrik Alexander\",male,43,0,0,C 7075,6.45,,S\\r\\n820,0,3,\"Skoog, Master. Karl Thorsten\",male,10,3,2,347088,27.9,,S\\r\\n821,1,1,\"Hays, Mrs. Charles Melville (Clara Jennings Gregg)\",female,52,1,1,12749,93.5,B69,S\\r\\n822,1,3,\"Lulic, Mr. Nikola\",male,27,0,0,315098,8.6625,,S\\r\\n823,0,1,\"Reuchlin, Jonkheer. John George\",male,38,0,0,19972,0,,S\\r\\n824,1,3,\"Moor, Mrs. (Beila)\",female,27,0,1,392096,12.475,E121,S\\r\\n825,0,3,\"Panula, Master. Urho Abraham\",male,2,4,1,3101295,39.6875,,S\\r\\n826,0,3,\"Flynn, Mr. John\",male,,0,0,368323,6.95,,Q\\r\\n827,0,3,\"Lam, Mr. Len\",male,,0,0,1601,56.4958,,S\\r\\n828,1,2,\"Mallet, Master. Andre\",male,1,0,2,S.C./PARIS 2079,37.0042,,C\\r\\n829,1,3,\"McCormack, Mr. Thomas Joseph\",male,,0,0,367228,7.75,,Q\\r\\n830,1,1,\"Stone, Mrs. George Nelson (Martha Evelyn)\",female,62,0,0,113572,80,B28,\\r\\n831,1,3,\"Yasbeck, Mrs. Antoni (Selini Alexander)\",female,15,1,0,2659,14.4542,,C\\r\\n832,1,2,\"Richards, Master. George Sibley\",male,0.83,1,1,29106,18.75,,S\\r\\n833,0,3,\"Saad, Mr. Amin\",male,,0,0,2671,7.2292,,C\\r\\n834,0,3,\"Augustsson, Mr. Albert\",male,23,0,0,347468,7.8542,,S\\r\\n835,0,3,\"Allum, Mr. Owen George\",male,18,0,0,2223,8.3,,S\\r\\n836,1,1,\"Compton, Miss. Sara Rebecca\",female,39,1,1,PC 17756,83.1583,E49,C\\r\\n837,0,3,\"Pasic, Mr. Jakob\",male,21,0,0,315097,8.6625,,S\\r\\n838,0,3,\"Sirota, Mr. Maurice\",male,,0,0,392092,8.05,,S\\r\\n839,1,3,\"Chip, Mr. Chang\",male,32,0,0,1601,56.4958,,S\\r\\n840,1,1,\"Marechal, Mr. Pierre\",male,,0,0,11774,29.7,C47,C\\r\\n841,0,3,\"Alhomaki, Mr. Ilmari Rudolf\",male,20,0,0,SOTON/O2 3101287,7.925,,S\\r\\n842,0,2,\"Mudd, Mr. Thomas Charles\",male,16,0,0,S.O./P.P. 3,10.5,,S\\r\\n843,1,1,\"Serepeca, Miss. Augusta\",female,30,0,0,113798,31,,C\\r\\n844,0,3,\"Lemberopolous, Mr. Peter L\",male,34.5,0,0,2683,6.4375,,C\\r\\n845,0,3,\"Culumovic, Mr. Jeso\",male,17,0,0,315090,8.6625,,S\\r\\n846,0,3,\"Abbing, Mr. Anthony\",male,42,0,0,C.A. 5547,7.55,,S\\r\\n847,0,3,\"Sage, Mr. Douglas Bullen\",male,,8,2,CA. 2343,69.55,,S\\r\\n848,0,3,\"Markoff, Mr. Marin\",male,35,0,0,349213,7.8958,,C\\r\\n849,0,2,\"Harper, Rev. John\",male,28,0,1,248727,33,,S\\r\\n850,1,1,\"Goldenberg, Mrs. Samuel L (Edwiga Grabowska)\",female,,1,0,17453,89.1042,C92,C\\r\\n851,0,3,\"Andersson, Master. Sigvard Harald Elias\",male,4,4,2,347082,31.275,,S\\r\\n852,0,3,\"Svensson, Mr. Johan\",male,74,0,0,347060,7.775,,S\\r\\n853,0,3,\"Boulos, Miss. Nourelain\",female,9,1,1,2678,15.2458,,C\\r\\n854,1,1,\"Lines, Miss. Mary Conover\",female,16,0,1,PC 17592,39.4,D28,S\\r\\n855,0,2,\"Carter, Mrs. Ernest Courtenay (Lilian Hughes)\",female,44,1,0,244252,26,,S\\r\\n856,1,3,\"Aks, Mrs. Sam (Leah Rosen)\",female,18,0,1,392091,9.35,,S\\r\\n857,1,1,\"Wick, Mrs. George Dennick (Mary Hitchcock)\",female,45,1,1,36928,164.8667,,S\\r\\n858,1,1,\"Daly, Mr. Peter Denis \",male,51,0,0,113055,26.55,E17,S\\r\\n859,1,3,\"Baclini, Mrs. Solomon (Latifa Qurban)\",female,24,0,3,2666,19.2583,,C\\r\\n860,0,3,\"Razi, Mr. Raihed\",male,,0,0,2629,7.2292,,C\\r\\n861,0,3,\"Hansen, Mr. Claus Peter\",male,41,2,0,350026,14.1083,,S\\r\\n862,0,2,\"Giles, Mr. Frederick Edward\",male,21,1,0,28134,11.5,,S\\r\\n863,1,1,\"Swift, Mrs. Frederick Joel (Margaret Welles Barron)\",female,48,0,0,17466,25.9292,D17,S\\r\\n864,0,3,\"Sage, Miss. Dorothy Edith \"\"Dolly\"\"\",female,,8,2,CA. 2343,69.55,,S\\r\\n865,0,2,\"Gill, Mr. John William\",male,24,0,0,233866,13,,S\\r\\n866,1,2,\"Bystrom, Mrs. (Karolina)\",female,42,0,0,236852,13,,S\\r\\n867,1,2,\"Duran y More, Miss. Asuncion\",female,27,1,0,SC/PARIS 2149,13.8583,,C\\r\\n868,0,1,\"Roebling, Mr. Washington Augustus II\",male,31,0,0,PC 17590,50.4958,A24,S\\r\\n869,0,3,\"van Melkebeke, Mr. Philemon\",male,,0,0,345777,9.5,,S\\r\\n870,1,3,\"Johnson, Master. Harold Theodor\",male,4,1,1,347742,11.1333,,S\\r\\n871,0,3,\"Balkic, Mr. Cerin\",male,26,0,0,349248,7.8958,,S\\r\\n872,1,1,\"Beckwith, Mrs. Richard Leonard (Sallie Monypeny)\",female,47,1,1,11751,52.5542,D35,S\\r\\n873,0,1,\"Carlsson, Mr. Frans Olof\",male,33,0,0,695,5,B51 B53 B55,S\\r\\n874,0,3,\"Vander Cruyssen, Mr. Victor\",male,47,0,0,345765,9,,S\\r\\n875,1,2,\"Abelson, Mrs. Samuel (Hannah Wizosky)\",female,28,1,0,P/PP 3381,24,,C\\r\\n876,1,3,\"Najib, Miss. Adele Kiamie \"\"Jane\"\"\",female,15,0,0,2667,7.225,,C\\r\\n877,0,3,\"Gustafsson, Mr. Alfred Ossian\",male,20,0,0,7534,9.8458,,S\\r\\n878,0,3,\"Petroff, Mr. Nedelio\",male,19,0,0,349212,7.8958,,S\\r\\n879,0,3,\"Laleff, Mr. Kristo\",male,,0,0,349217,7.8958,,S\\r\\n880,1,1,\"Potter, Mrs. Thomas Jr (Lily Alexenia Wilson)\",female,56,0,1,11767,83.1583,C50,C\\r\\n881,1,2,\"Shelley, Mrs. William (Imanita Parrish Hall)\",female,25,0,1,230433,26,,S\\r\\n882,0,3,\"Markun, Mr. Johann\",male,33,0,0,349257,7.8958,,S\\r\\n883,0,3,\"Dahlberg, Miss. Gerda Ulrika\",female,22,0,0,7552,10.5167,,S\\r\\n884,0,2,\"Banfield, Mr. Frederick James\",male,28,0,0,C.A./SOTON 34068,10.5,,S\\r\\n885,0,3,\"Sutehall, Mr. Henry Jr\",male,25,0,0,SOTON/OQ 392076,7.05,,S\\r\\n886,0,3,\"Rice, Mrs. William (Margaret Norton)\",female,39,0,5,382652,29.125,,Q\\r\\n887,0,2,\"Montvila, Rev. Juozas\",male,27,0,0,211536,13,,S\\r\\n888,1,1,\"Graham, Miss. Margaret Edith\",female,19,0,0,112053,30,B42,S\\r\\n889,0,3,\"Johnston, Miss. Catherine Helen \"\"Carrie\"\"\",female,,1,2,W./C. 6607,23.45,,S\\r\\n890,1,1,\"Behr, Mr. Karl Howell\",male,26,0,0,111369,30,C148,C\\r\\n891,0,3,\"Dooley, Mr. Patrick\",male,32,0,0,370376,7.75,,Q\\r\\n'}"
            ]
          },
          "metadata": {
            "tags": []
          },
          "execution_count": 28
        }
      ]
    },
    {
      "cell_type": "code",
      "metadata": {
        "id": "g0a1sDjWPzoe",
        "colab_type": "code",
        "outputId": "cdadccdc-e57e-416d-84ae-6df6ca1d9905",
        "colab": {
          "base_uri": "https://localhost:8080/",
          "height": 253
        }
      },
      "source": [
        "train = pd.read_csv(\"train.csv\", index_col='PassengerId')\n",
        "print(train.shape)\n",
        "train.head()"
      ],
      "execution_count": 31,
      "outputs": [
        {
          "output_type": "stream",
          "text": [
            "(891, 11)\n"
          ],
          "name": "stdout"
        },
        {
          "output_type": "execute_result",
          "data": {
            "text/html": [
              "<div>\n",
              "<style scoped>\n",
              "    .dataframe tbody tr th:only-of-type {\n",
              "        vertical-align: middle;\n",
              "    }\n",
              "\n",
              "    .dataframe tbody tr th {\n",
              "        vertical-align: top;\n",
              "    }\n",
              "\n",
              "    .dataframe thead th {\n",
              "        text-align: right;\n",
              "    }\n",
              "</style>\n",
              "<table border=\"1\" class=\"dataframe\">\n",
              "  <thead>\n",
              "    <tr style=\"text-align: right;\">\n",
              "      <th></th>\n",
              "      <th>Survived</th>\n",
              "      <th>Pclass</th>\n",
              "      <th>Name</th>\n",
              "      <th>Sex</th>\n",
              "      <th>Age</th>\n",
              "      <th>SibSp</th>\n",
              "      <th>Parch</th>\n",
              "      <th>Ticket</th>\n",
              "      <th>Fare</th>\n",
              "      <th>Cabin</th>\n",
              "      <th>Embarked</th>\n",
              "    </tr>\n",
              "    <tr>\n",
              "      <th>PassengerId</th>\n",
              "      <th></th>\n",
              "      <th></th>\n",
              "      <th></th>\n",
              "      <th></th>\n",
              "      <th></th>\n",
              "      <th></th>\n",
              "      <th></th>\n",
              "      <th></th>\n",
              "      <th></th>\n",
              "      <th></th>\n",
              "      <th></th>\n",
              "    </tr>\n",
              "  </thead>\n",
              "  <tbody>\n",
              "    <tr>\n",
              "      <th>1</th>\n",
              "      <td>0</td>\n",
              "      <td>3</td>\n",
              "      <td>Braund, Mr. Owen Harris</td>\n",
              "      <td>male</td>\n",
              "      <td>22.0</td>\n",
              "      <td>1</td>\n",
              "      <td>0</td>\n",
              "      <td>A/5 21171</td>\n",
              "      <td>7.2500</td>\n",
              "      <td>NaN</td>\n",
              "      <td>S</td>\n",
              "    </tr>\n",
              "    <tr>\n",
              "      <th>2</th>\n",
              "      <td>1</td>\n",
              "      <td>1</td>\n",
              "      <td>Cumings, Mrs. John Bradley (Florence Briggs Th...</td>\n",
              "      <td>female</td>\n",
              "      <td>38.0</td>\n",
              "      <td>1</td>\n",
              "      <td>0</td>\n",
              "      <td>PC 17599</td>\n",
              "      <td>71.2833</td>\n",
              "      <td>C85</td>\n",
              "      <td>C</td>\n",
              "    </tr>\n",
              "    <tr>\n",
              "      <th>3</th>\n",
              "      <td>1</td>\n",
              "      <td>3</td>\n",
              "      <td>Heikkinen, Miss. Laina</td>\n",
              "      <td>female</td>\n",
              "      <td>26.0</td>\n",
              "      <td>0</td>\n",
              "      <td>0</td>\n",
              "      <td>STON/O2. 3101282</td>\n",
              "      <td>7.9250</td>\n",
              "      <td>NaN</td>\n",
              "      <td>S</td>\n",
              "    </tr>\n",
              "    <tr>\n",
              "      <th>4</th>\n",
              "      <td>1</td>\n",
              "      <td>1</td>\n",
              "      <td>Futrelle, Mrs. Jacques Heath (Lily May Peel)</td>\n",
              "      <td>female</td>\n",
              "      <td>35.0</td>\n",
              "      <td>1</td>\n",
              "      <td>0</td>\n",
              "      <td>113803</td>\n",
              "      <td>53.1000</td>\n",
              "      <td>C123</td>\n",
              "      <td>S</td>\n",
              "    </tr>\n",
              "    <tr>\n",
              "      <th>5</th>\n",
              "      <td>0</td>\n",
              "      <td>3</td>\n",
              "      <td>Allen, Mr. William Henry</td>\n",
              "      <td>male</td>\n",
              "      <td>35.0</td>\n",
              "      <td>0</td>\n",
              "      <td>0</td>\n",
              "      <td>373450</td>\n",
              "      <td>8.0500</td>\n",
              "      <td>NaN</td>\n",
              "      <td>S</td>\n",
              "    </tr>\n",
              "  </tbody>\n",
              "</table>\n",
              "</div>"
            ],
            "text/plain": [
              "             Survived  Pclass  ... Cabin Embarked\n",
              "PassengerId                    ...               \n",
              "1                   0       3  ...   NaN        S\n",
              "2                   1       1  ...   C85        C\n",
              "3                   1       3  ...   NaN        S\n",
              "4                   1       1  ...  C123        S\n",
              "5                   0       3  ...   NaN        S\n",
              "\n",
              "[5 rows x 11 columns]"
            ]
          },
          "metadata": {
            "tags": []
          },
          "execution_count": 31
        }
      ]
    },
    {
      "cell_type": "code",
      "metadata": {
        "id": "cmjnp5INQM7g",
        "colab_type": "code",
        "outputId": "9da01d72-b464-495c-99f6-1b58c7f2c886",
        "colab": {
          "base_uri": "https://localhost:8080/",
          "height": 253
        }
      },
      "source": [
        "test = pd.read_csv(\"test.csv\", index_col='PassengerId')\n",
        "print(test.shape)\n",
        "test.head()"
      ],
      "execution_count": 32,
      "outputs": [
        {
          "output_type": "stream",
          "text": [
            "(418, 10)\n"
          ],
          "name": "stdout"
        },
        {
          "output_type": "execute_result",
          "data": {
            "text/html": [
              "<div>\n",
              "<style scoped>\n",
              "    .dataframe tbody tr th:only-of-type {\n",
              "        vertical-align: middle;\n",
              "    }\n",
              "\n",
              "    .dataframe tbody tr th {\n",
              "        vertical-align: top;\n",
              "    }\n",
              "\n",
              "    .dataframe thead th {\n",
              "        text-align: right;\n",
              "    }\n",
              "</style>\n",
              "<table border=\"1\" class=\"dataframe\">\n",
              "  <thead>\n",
              "    <tr style=\"text-align: right;\">\n",
              "      <th></th>\n",
              "      <th>Pclass</th>\n",
              "      <th>Name</th>\n",
              "      <th>Sex</th>\n",
              "      <th>Age</th>\n",
              "      <th>SibSp</th>\n",
              "      <th>Parch</th>\n",
              "      <th>Ticket</th>\n",
              "      <th>Fare</th>\n",
              "      <th>Cabin</th>\n",
              "      <th>Embarked</th>\n",
              "    </tr>\n",
              "    <tr>\n",
              "      <th>PassengerId</th>\n",
              "      <th></th>\n",
              "      <th></th>\n",
              "      <th></th>\n",
              "      <th></th>\n",
              "      <th></th>\n",
              "      <th></th>\n",
              "      <th></th>\n",
              "      <th></th>\n",
              "      <th></th>\n",
              "      <th></th>\n",
              "    </tr>\n",
              "  </thead>\n",
              "  <tbody>\n",
              "    <tr>\n",
              "      <th>892</th>\n",
              "      <td>3</td>\n",
              "      <td>Kelly, Mr. James</td>\n",
              "      <td>male</td>\n",
              "      <td>34.5</td>\n",
              "      <td>0</td>\n",
              "      <td>0</td>\n",
              "      <td>330911</td>\n",
              "      <td>7.8292</td>\n",
              "      <td>NaN</td>\n",
              "      <td>Q</td>\n",
              "    </tr>\n",
              "    <tr>\n",
              "      <th>893</th>\n",
              "      <td>3</td>\n",
              "      <td>Wilkes, Mrs. James (Ellen Needs)</td>\n",
              "      <td>female</td>\n",
              "      <td>47.0</td>\n",
              "      <td>1</td>\n",
              "      <td>0</td>\n",
              "      <td>363272</td>\n",
              "      <td>7.0000</td>\n",
              "      <td>NaN</td>\n",
              "      <td>S</td>\n",
              "    </tr>\n",
              "    <tr>\n",
              "      <th>894</th>\n",
              "      <td>2</td>\n",
              "      <td>Myles, Mr. Thomas Francis</td>\n",
              "      <td>male</td>\n",
              "      <td>62.0</td>\n",
              "      <td>0</td>\n",
              "      <td>0</td>\n",
              "      <td>240276</td>\n",
              "      <td>9.6875</td>\n",
              "      <td>NaN</td>\n",
              "      <td>Q</td>\n",
              "    </tr>\n",
              "    <tr>\n",
              "      <th>895</th>\n",
              "      <td>3</td>\n",
              "      <td>Wirz, Mr. Albert</td>\n",
              "      <td>male</td>\n",
              "      <td>27.0</td>\n",
              "      <td>0</td>\n",
              "      <td>0</td>\n",
              "      <td>315154</td>\n",
              "      <td>8.6625</td>\n",
              "      <td>NaN</td>\n",
              "      <td>S</td>\n",
              "    </tr>\n",
              "    <tr>\n",
              "      <th>896</th>\n",
              "      <td>3</td>\n",
              "      <td>Hirvonen, Mrs. Alexander (Helga E Lindqvist)</td>\n",
              "      <td>female</td>\n",
              "      <td>22.0</td>\n",
              "      <td>1</td>\n",
              "      <td>1</td>\n",
              "      <td>3101298</td>\n",
              "      <td>12.2875</td>\n",
              "      <td>NaN</td>\n",
              "      <td>S</td>\n",
              "    </tr>\n",
              "  </tbody>\n",
              "</table>\n",
              "</div>"
            ],
            "text/plain": [
              "             Pclass  ... Embarked\n",
              "PassengerId          ...         \n",
              "892               3  ...        Q\n",
              "893               3  ...        S\n",
              "894               2  ...        Q\n",
              "895               3  ...        S\n",
              "896               3  ...        S\n",
              "\n",
              "[5 rows x 10 columns]"
            ]
          },
          "metadata": {
            "tags": []
          },
          "execution_count": 32
        }
      ]
    },
    {
      "cell_type": "code",
      "metadata": {
        "id": "nByNILidQbU7",
        "colab_type": "code",
        "colab": {}
      },
      "source": [
        "train.loc[train['Sex'] == 'male', 'Sex_revised'] = 0\n",
        "train.loc[train['Sex'] == 'female', 'Sex_revised'] = 1"
      ],
      "execution_count": 0,
      "outputs": []
    },
    {
      "cell_type": "code",
      "metadata": {
        "id": "85IED26VQ4e7",
        "colab_type": "code",
        "outputId": "e472df83-a088-40be-872d-269df74136e5",
        "colab": {
          "base_uri": "https://localhost:8080/",
          "height": 235
        }
      },
      "source": [
        "train[['Sex','Sex_revised']].head()"
      ],
      "execution_count": 34,
      "outputs": [
        {
          "output_type": "execute_result",
          "data": {
            "text/html": [
              "<div>\n",
              "<style scoped>\n",
              "    .dataframe tbody tr th:only-of-type {\n",
              "        vertical-align: middle;\n",
              "    }\n",
              "\n",
              "    .dataframe tbody tr th {\n",
              "        vertical-align: top;\n",
              "    }\n",
              "\n",
              "    .dataframe thead th {\n",
              "        text-align: right;\n",
              "    }\n",
              "</style>\n",
              "<table border=\"1\" class=\"dataframe\">\n",
              "  <thead>\n",
              "    <tr style=\"text-align: right;\">\n",
              "      <th></th>\n",
              "      <th>Sex</th>\n",
              "      <th>Sex_revised</th>\n",
              "    </tr>\n",
              "    <tr>\n",
              "      <th>PassengerId</th>\n",
              "      <th></th>\n",
              "      <th></th>\n",
              "    </tr>\n",
              "  </thead>\n",
              "  <tbody>\n",
              "    <tr>\n",
              "      <th>1</th>\n",
              "      <td>male</td>\n",
              "      <td>0.0</td>\n",
              "    </tr>\n",
              "    <tr>\n",
              "      <th>2</th>\n",
              "      <td>female</td>\n",
              "      <td>1.0</td>\n",
              "    </tr>\n",
              "    <tr>\n",
              "      <th>3</th>\n",
              "      <td>female</td>\n",
              "      <td>1.0</td>\n",
              "    </tr>\n",
              "    <tr>\n",
              "      <th>4</th>\n",
              "      <td>female</td>\n",
              "      <td>1.0</td>\n",
              "    </tr>\n",
              "    <tr>\n",
              "      <th>5</th>\n",
              "      <td>male</td>\n",
              "      <td>0.0</td>\n",
              "    </tr>\n",
              "  </tbody>\n",
              "</table>\n",
              "</div>"
            ],
            "text/plain": [
              "                Sex  Sex_revised\n",
              "PassengerId                     \n",
              "1              male          0.0\n",
              "2            female          1.0\n",
              "3            female          1.0\n",
              "4            female          1.0\n",
              "5              male          0.0"
            ]
          },
          "metadata": {
            "tags": []
          },
          "execution_count": 34
        }
      ]
    },
    {
      "cell_type": "code",
      "metadata": {
        "id": "avHCmhjVU_CM",
        "colab_type": "code",
        "colab": {}
      },
      "source": [
        "test.loc[test['Sex'] == 'male', 'Sex_revised'] = 0\n",
        "test.loc[test['Sex'] == 'female', 'Sex_revised'] = 1"
      ],
      "execution_count": 0,
      "outputs": []
    },
    {
      "cell_type": "code",
      "metadata": {
        "id": "866BB1LLVMuI",
        "colab_type": "code",
        "outputId": "dbd817b9-40ce-45eb-d188-03a265ee8079",
        "colab": {
          "base_uri": "https://localhost:8080/",
          "height": 235
        }
      },
      "source": [
        "test[['Sex','Sex_revised']].head()"
      ],
      "execution_count": 36,
      "outputs": [
        {
          "output_type": "execute_result",
          "data": {
            "text/html": [
              "<div>\n",
              "<style scoped>\n",
              "    .dataframe tbody tr th:only-of-type {\n",
              "        vertical-align: middle;\n",
              "    }\n",
              "\n",
              "    .dataframe tbody tr th {\n",
              "        vertical-align: top;\n",
              "    }\n",
              "\n",
              "    .dataframe thead th {\n",
              "        text-align: right;\n",
              "    }\n",
              "</style>\n",
              "<table border=\"1\" class=\"dataframe\">\n",
              "  <thead>\n",
              "    <tr style=\"text-align: right;\">\n",
              "      <th></th>\n",
              "      <th>Sex</th>\n",
              "      <th>Sex_revised</th>\n",
              "    </tr>\n",
              "    <tr>\n",
              "      <th>PassengerId</th>\n",
              "      <th></th>\n",
              "      <th></th>\n",
              "    </tr>\n",
              "  </thead>\n",
              "  <tbody>\n",
              "    <tr>\n",
              "      <th>892</th>\n",
              "      <td>male</td>\n",
              "      <td>0.0</td>\n",
              "    </tr>\n",
              "    <tr>\n",
              "      <th>893</th>\n",
              "      <td>female</td>\n",
              "      <td>1.0</td>\n",
              "    </tr>\n",
              "    <tr>\n",
              "      <th>894</th>\n",
              "      <td>male</td>\n",
              "      <td>0.0</td>\n",
              "    </tr>\n",
              "    <tr>\n",
              "      <th>895</th>\n",
              "      <td>male</td>\n",
              "      <td>0.0</td>\n",
              "    </tr>\n",
              "    <tr>\n",
              "      <th>896</th>\n",
              "      <td>female</td>\n",
              "      <td>1.0</td>\n",
              "    </tr>\n",
              "  </tbody>\n",
              "</table>\n",
              "</div>"
            ],
            "text/plain": [
              "                Sex  Sex_revised\n",
              "PassengerId                     \n",
              "892            male          0.0\n",
              "893          female          1.0\n",
              "894            male          0.0\n",
              "895            male          0.0\n",
              "896          female          1.0"
            ]
          },
          "metadata": {
            "tags": []
          },
          "execution_count": 36
        }
      ]
    },
    {
      "cell_type": "code",
      "metadata": {
        "id": "CKE_HDapRnf-",
        "colab_type": "code",
        "colab": {}
      },
      "source": [
        "train['C'] = train['Embarked'] == 'C' #C,S,Q가 숫자로 바꾸기 컴퓨터가 인식에 뭔가 문제 클래스가 3개이상이면 클래스에 맞춰서 행렬만들어주기 아니면 트루펄스로\n",
        "train['S'] = train['Embarked'] == 'S' #원핫인코딩?이라는거같음\n",
        "train['Q'] = train['Embarked'] == 'Q'"
      ],
      "execution_count": 0,
      "outputs": []
    },
    {
      "cell_type": "code",
      "metadata": {
        "id": "KmUgxBZ3TJbA",
        "colab_type": "code",
        "outputId": "95bef0a5-e1ca-497d-f81e-2afcb8545aa6",
        "colab": {
          "base_uri": "https://localhost:8080/",
          "height": 390
        }
      },
      "source": [
        "train[['Embarked','C', 'S', 'Q']].head(10)"
      ],
      "execution_count": 39,
      "outputs": [
        {
          "output_type": "execute_result",
          "data": {
            "text/html": [
              "<div>\n",
              "<style scoped>\n",
              "    .dataframe tbody tr th:only-of-type {\n",
              "        vertical-align: middle;\n",
              "    }\n",
              "\n",
              "    .dataframe tbody tr th {\n",
              "        vertical-align: top;\n",
              "    }\n",
              "\n",
              "    .dataframe thead th {\n",
              "        text-align: right;\n",
              "    }\n",
              "</style>\n",
              "<table border=\"1\" class=\"dataframe\">\n",
              "  <thead>\n",
              "    <tr style=\"text-align: right;\">\n",
              "      <th></th>\n",
              "      <th>Embarked</th>\n",
              "      <th>C</th>\n",
              "      <th>S</th>\n",
              "      <th>Q</th>\n",
              "    </tr>\n",
              "    <tr>\n",
              "      <th>PassengerId</th>\n",
              "      <th></th>\n",
              "      <th></th>\n",
              "      <th></th>\n",
              "      <th></th>\n",
              "    </tr>\n",
              "  </thead>\n",
              "  <tbody>\n",
              "    <tr>\n",
              "      <th>1</th>\n",
              "      <td>S</td>\n",
              "      <td>False</td>\n",
              "      <td>True</td>\n",
              "      <td>False</td>\n",
              "    </tr>\n",
              "    <tr>\n",
              "      <th>2</th>\n",
              "      <td>C</td>\n",
              "      <td>True</td>\n",
              "      <td>False</td>\n",
              "      <td>False</td>\n",
              "    </tr>\n",
              "    <tr>\n",
              "      <th>3</th>\n",
              "      <td>S</td>\n",
              "      <td>False</td>\n",
              "      <td>True</td>\n",
              "      <td>False</td>\n",
              "    </tr>\n",
              "    <tr>\n",
              "      <th>4</th>\n",
              "      <td>S</td>\n",
              "      <td>False</td>\n",
              "      <td>True</td>\n",
              "      <td>False</td>\n",
              "    </tr>\n",
              "    <tr>\n",
              "      <th>5</th>\n",
              "      <td>S</td>\n",
              "      <td>False</td>\n",
              "      <td>True</td>\n",
              "      <td>False</td>\n",
              "    </tr>\n",
              "    <tr>\n",
              "      <th>6</th>\n",
              "      <td>Q</td>\n",
              "      <td>False</td>\n",
              "      <td>False</td>\n",
              "      <td>True</td>\n",
              "    </tr>\n",
              "    <tr>\n",
              "      <th>7</th>\n",
              "      <td>S</td>\n",
              "      <td>False</td>\n",
              "      <td>True</td>\n",
              "      <td>False</td>\n",
              "    </tr>\n",
              "    <tr>\n",
              "      <th>8</th>\n",
              "      <td>S</td>\n",
              "      <td>False</td>\n",
              "      <td>True</td>\n",
              "      <td>False</td>\n",
              "    </tr>\n",
              "    <tr>\n",
              "      <th>9</th>\n",
              "      <td>S</td>\n",
              "      <td>False</td>\n",
              "      <td>True</td>\n",
              "      <td>False</td>\n",
              "    </tr>\n",
              "    <tr>\n",
              "      <th>10</th>\n",
              "      <td>C</td>\n",
              "      <td>True</td>\n",
              "      <td>False</td>\n",
              "      <td>False</td>\n",
              "    </tr>\n",
              "  </tbody>\n",
              "</table>\n",
              "</div>"
            ],
            "text/plain": [
              "            Embarked      C      S      Q\n",
              "PassengerId                              \n",
              "1                  S  False   True  False\n",
              "2                  C   True  False  False\n",
              "3                  S  False   True  False\n",
              "4                  S  False   True  False\n",
              "5                  S  False   True  False\n",
              "6                  Q  False  False   True\n",
              "7                  S  False   True  False\n",
              "8                  S  False   True  False\n",
              "9                  S  False   True  False\n",
              "10                 C   True  False  False"
            ]
          },
          "metadata": {
            "tags": []
          },
          "execution_count": 39
        }
      ]
    },
    {
      "cell_type": "code",
      "metadata": {
        "id": "jxM_Uv-4TmJB",
        "colab_type": "code",
        "colab": {}
      },
      "source": [
        "test['C'] = test['Embarked'] == 'C' #C,S,Q가 숫자로 바꾸기 컴퓨터가 인식에 뭔가 문제 클래스가 3개이상이면 클래스에 맞춰서 행렬만들어주기 아니면 트루펄스로\n",
        "test['S'] = test['Embarked'] == 'S' #원핫인코딩?이라는거같음\n",
        "test['Q'] = test['Embarked'] == 'Q'"
      ],
      "execution_count": 0,
      "outputs": []
    },
    {
      "cell_type": "code",
      "metadata": {
        "id": "7e_5FzhOV7yZ",
        "colab_type": "code",
        "outputId": "7968950d-9946-4414-9753-f17294fc4530",
        "colab": {
          "base_uri": "https://localhost:8080/",
          "height": 390
        }
      },
      "source": [
        "test[['Embarked','C', 'S', 'Q']].head(10)"
      ],
      "execution_count": 41,
      "outputs": [
        {
          "output_type": "execute_result",
          "data": {
            "text/html": [
              "<div>\n",
              "<style scoped>\n",
              "    .dataframe tbody tr th:only-of-type {\n",
              "        vertical-align: middle;\n",
              "    }\n",
              "\n",
              "    .dataframe tbody tr th {\n",
              "        vertical-align: top;\n",
              "    }\n",
              "\n",
              "    .dataframe thead th {\n",
              "        text-align: right;\n",
              "    }\n",
              "</style>\n",
              "<table border=\"1\" class=\"dataframe\">\n",
              "  <thead>\n",
              "    <tr style=\"text-align: right;\">\n",
              "      <th></th>\n",
              "      <th>Embarked</th>\n",
              "      <th>C</th>\n",
              "      <th>S</th>\n",
              "      <th>Q</th>\n",
              "    </tr>\n",
              "    <tr>\n",
              "      <th>PassengerId</th>\n",
              "      <th></th>\n",
              "      <th></th>\n",
              "      <th></th>\n",
              "      <th></th>\n",
              "    </tr>\n",
              "  </thead>\n",
              "  <tbody>\n",
              "    <tr>\n",
              "      <th>892</th>\n",
              "      <td>Q</td>\n",
              "      <td>False</td>\n",
              "      <td>False</td>\n",
              "      <td>True</td>\n",
              "    </tr>\n",
              "    <tr>\n",
              "      <th>893</th>\n",
              "      <td>S</td>\n",
              "      <td>False</td>\n",
              "      <td>True</td>\n",
              "      <td>False</td>\n",
              "    </tr>\n",
              "    <tr>\n",
              "      <th>894</th>\n",
              "      <td>Q</td>\n",
              "      <td>False</td>\n",
              "      <td>False</td>\n",
              "      <td>True</td>\n",
              "    </tr>\n",
              "    <tr>\n",
              "      <th>895</th>\n",
              "      <td>S</td>\n",
              "      <td>False</td>\n",
              "      <td>True</td>\n",
              "      <td>False</td>\n",
              "    </tr>\n",
              "    <tr>\n",
              "      <th>896</th>\n",
              "      <td>S</td>\n",
              "      <td>False</td>\n",
              "      <td>True</td>\n",
              "      <td>False</td>\n",
              "    </tr>\n",
              "    <tr>\n",
              "      <th>897</th>\n",
              "      <td>S</td>\n",
              "      <td>False</td>\n",
              "      <td>True</td>\n",
              "      <td>False</td>\n",
              "    </tr>\n",
              "    <tr>\n",
              "      <th>898</th>\n",
              "      <td>Q</td>\n",
              "      <td>False</td>\n",
              "      <td>False</td>\n",
              "      <td>True</td>\n",
              "    </tr>\n",
              "    <tr>\n",
              "      <th>899</th>\n",
              "      <td>S</td>\n",
              "      <td>False</td>\n",
              "      <td>True</td>\n",
              "      <td>False</td>\n",
              "    </tr>\n",
              "    <tr>\n",
              "      <th>900</th>\n",
              "      <td>C</td>\n",
              "      <td>True</td>\n",
              "      <td>False</td>\n",
              "      <td>False</td>\n",
              "    </tr>\n",
              "    <tr>\n",
              "      <th>901</th>\n",
              "      <td>S</td>\n",
              "      <td>False</td>\n",
              "      <td>True</td>\n",
              "      <td>False</td>\n",
              "    </tr>\n",
              "  </tbody>\n",
              "</table>\n",
              "</div>"
            ],
            "text/plain": [
              "            Embarked      C      S      Q\n",
              "PassengerId                              \n",
              "892                Q  False  False   True\n",
              "893                S  False   True  False\n",
              "894                Q  False  False   True\n",
              "895                S  False   True  False\n",
              "896                S  False   True  False\n",
              "897                S  False   True  False\n",
              "898                Q  False  False   True\n",
              "899                S  False   True  False\n",
              "900                C   True  False  False\n",
              "901                S  False   True  False"
            ]
          },
          "metadata": {
            "tags": []
          },
          "execution_count": 41
        }
      ]
    },
    {
      "cell_type": "code",
      "metadata": {
        "id": "TgcBOVe994Du",
        "colab_type": "code",
        "colab": {}
      },
      "source": [
        "train.loc[train['Age'].isnull(),'Age'] = train['Age'].mean()"
      ],
      "execution_count": 0,
      "outputs": []
    },
    {
      "cell_type": "code",
      "metadata": {
        "id": "LsBu1B2V-dY2",
        "colab_type": "code",
        "outputId": "8622c373-f95e-44be-d0db-25fd1f9c4bd5",
        "colab": {
          "base_uri": "https://localhost:8080/",
          "height": 80
        }
      },
      "source": [
        "train[train['Age'].isnull()]"
      ],
      "execution_count": 43,
      "outputs": [
        {
          "output_type": "execute_result",
          "data": {
            "text/html": [
              "<div>\n",
              "<style scoped>\n",
              "    .dataframe tbody tr th:only-of-type {\n",
              "        vertical-align: middle;\n",
              "    }\n",
              "\n",
              "    .dataframe tbody tr th {\n",
              "        vertical-align: top;\n",
              "    }\n",
              "\n",
              "    .dataframe thead th {\n",
              "        text-align: right;\n",
              "    }\n",
              "</style>\n",
              "<table border=\"1\" class=\"dataframe\">\n",
              "  <thead>\n",
              "    <tr style=\"text-align: right;\">\n",
              "      <th></th>\n",
              "      <th>Survived</th>\n",
              "      <th>Pclass</th>\n",
              "      <th>Name</th>\n",
              "      <th>Sex</th>\n",
              "      <th>Age</th>\n",
              "      <th>SibSp</th>\n",
              "      <th>Parch</th>\n",
              "      <th>Ticket</th>\n",
              "      <th>Fare</th>\n",
              "      <th>Cabin</th>\n",
              "      <th>Embarked</th>\n",
              "      <th>Sex_revised</th>\n",
              "      <th>C</th>\n",
              "      <th>S</th>\n",
              "      <th>Q</th>\n",
              "    </tr>\n",
              "    <tr>\n",
              "      <th>PassengerId</th>\n",
              "      <th></th>\n",
              "      <th></th>\n",
              "      <th></th>\n",
              "      <th></th>\n",
              "      <th></th>\n",
              "      <th></th>\n",
              "      <th></th>\n",
              "      <th></th>\n",
              "      <th></th>\n",
              "      <th></th>\n",
              "      <th></th>\n",
              "      <th></th>\n",
              "      <th></th>\n",
              "      <th></th>\n",
              "      <th></th>\n",
              "    </tr>\n",
              "  </thead>\n",
              "  <tbody>\n",
              "  </tbody>\n",
              "</table>\n",
              "</div>"
            ],
            "text/plain": [
              "Empty DataFrame\n",
              "Columns: [Survived, Pclass, Name, Sex, Age, SibSp, Parch, Ticket, Fare, Cabin, Embarked, Sex_revised, C, S, Q]\n",
              "Index: []"
            ]
          },
          "metadata": {
            "tags": []
          },
          "execution_count": 43
        }
      ]
    },
    {
      "cell_type": "code",
      "metadata": {
        "id": "wOnOzqyt-Swg",
        "colab_type": "code",
        "colab": {}
      },
      "source": [
        "test.loc[test['Age'].isnull(),'Age'] = train['Age'].mean()"
      ],
      "execution_count": 0,
      "outputs": []
    },
    {
      "cell_type": "code",
      "metadata": {
        "id": "YOOujRKO_JnC",
        "colab_type": "code",
        "colab": {}
      },
      "source": [
        "train['Young'] = train['Age'] < 14\n",
        "test['Young'] = test['Age'] < 14"
      ],
      "execution_count": 0,
      "outputs": []
    },
    {
      "cell_type": "code",
      "metadata": {
        "id": "Qi-uCBgF_VIf",
        "colab_type": "code",
        "colab": {}
      },
      "source": [
        "train['Mid'] = (train['Age'] >=20) & (train['Age'] < 50)\n",
        "test['Mid'] = (test['Age'] >= 20 ) & (test['Age'] < 50)"
      ],
      "execution_count": 0,
      "outputs": []
    },
    {
      "cell_type": "code",
      "metadata": {
        "id": "pkXRHvusISBT",
        "colab_type": "code",
        "colab": {}
      },
      "source": [
        "train['Old'] = train['Age'] >= 50\n",
        "test['Old'] = test['Age'] >= 50"
      ],
      "execution_count": 0,
      "outputs": []
    },
    {
      "cell_type": "code",
      "metadata": {
        "id": "I2vPWqGcJHDh",
        "colab_type": "code",
        "colab": {}
      },
      "source": [
        "train['Low_fare'] = train['Fare'] < 14\n",
        "test['Low_fare'] = test['Fare'] < 14"
      ],
      "execution_count": 0,
      "outputs": []
    },
    {
      "cell_type": "code",
      "metadata": {
        "id": "aI1hyrIUJG5Q",
        "colab_type": "code",
        "colab": {}
      },
      "source": [
        "train['Mid_fare'] = (train['Fare'] >=14) & (train['Fare'] < 40)\n",
        "test['Mid_fare'] = (test['Fare'] >=14) & (test['Fare'] < 40)"
      ],
      "execution_count": 0,
      "outputs": []
    },
    {
      "cell_type": "code",
      "metadata": {
        "id": "3WdCtFLhJmtj",
        "colab_type": "code",
        "colab": {}
      },
      "source": [
        "train['High_fare'] = train['Fare'] >= 40\n",
        "test['High_fare'] = test['Fare'] >= 40"
      ],
      "execution_count": 0,
      "outputs": []
    },
    {
      "cell_type": "code",
      "metadata": {
        "id": "h4CBU1S9Wp1F",
        "colab_type": "code",
        "colab": {}
      },
      "source": [
        "feature_names = ['Sex_revised','Pclass','C','S','Q','Young', 'Mid', 'Old', 'Low_fare', 'Mid_fare', 'High_fare']"
      ],
      "execution_count": 0,
      "outputs": []
    },
    {
      "cell_type": "code",
      "metadata": {
        "id": "hYGakbgKV-yr",
        "colab_type": "code",
        "outputId": "3a1f120f-2856-44e7-a222-28c51debae08",
        "colab": {
          "base_uri": "https://localhost:8080/",
          "height": 253
        }
      },
      "source": [
        "X_train = train[feature_names]\n",
        "print(X_train.shape)\n",
        "X_train.head()"
      ],
      "execution_count": 53,
      "outputs": [
        {
          "output_type": "stream",
          "text": [
            "(891, 11)\n"
          ],
          "name": "stdout"
        },
        {
          "output_type": "execute_result",
          "data": {
            "text/html": [
              "<div>\n",
              "<style scoped>\n",
              "    .dataframe tbody tr th:only-of-type {\n",
              "        vertical-align: middle;\n",
              "    }\n",
              "\n",
              "    .dataframe tbody tr th {\n",
              "        vertical-align: top;\n",
              "    }\n",
              "\n",
              "    .dataframe thead th {\n",
              "        text-align: right;\n",
              "    }\n",
              "</style>\n",
              "<table border=\"1\" class=\"dataframe\">\n",
              "  <thead>\n",
              "    <tr style=\"text-align: right;\">\n",
              "      <th></th>\n",
              "      <th>Sex_revised</th>\n",
              "      <th>Pclass</th>\n",
              "      <th>C</th>\n",
              "      <th>S</th>\n",
              "      <th>Q</th>\n",
              "      <th>Young</th>\n",
              "      <th>Mid</th>\n",
              "      <th>Old</th>\n",
              "      <th>Low_fare</th>\n",
              "      <th>Mid_fare</th>\n",
              "      <th>High_fare</th>\n",
              "    </tr>\n",
              "    <tr>\n",
              "      <th>PassengerId</th>\n",
              "      <th></th>\n",
              "      <th></th>\n",
              "      <th></th>\n",
              "      <th></th>\n",
              "      <th></th>\n",
              "      <th></th>\n",
              "      <th></th>\n",
              "      <th></th>\n",
              "      <th></th>\n",
              "      <th></th>\n",
              "      <th></th>\n",
              "    </tr>\n",
              "  </thead>\n",
              "  <tbody>\n",
              "    <tr>\n",
              "      <th>1</th>\n",
              "      <td>0.0</td>\n",
              "      <td>3</td>\n",
              "      <td>False</td>\n",
              "      <td>True</td>\n",
              "      <td>False</td>\n",
              "      <td>False</td>\n",
              "      <td>True</td>\n",
              "      <td>False</td>\n",
              "      <td>True</td>\n",
              "      <td>False</td>\n",
              "      <td>False</td>\n",
              "    </tr>\n",
              "    <tr>\n",
              "      <th>2</th>\n",
              "      <td>1.0</td>\n",
              "      <td>1</td>\n",
              "      <td>True</td>\n",
              "      <td>False</td>\n",
              "      <td>False</td>\n",
              "      <td>False</td>\n",
              "      <td>True</td>\n",
              "      <td>False</td>\n",
              "      <td>False</td>\n",
              "      <td>False</td>\n",
              "      <td>True</td>\n",
              "    </tr>\n",
              "    <tr>\n",
              "      <th>3</th>\n",
              "      <td>1.0</td>\n",
              "      <td>3</td>\n",
              "      <td>False</td>\n",
              "      <td>True</td>\n",
              "      <td>False</td>\n",
              "      <td>False</td>\n",
              "      <td>True</td>\n",
              "      <td>False</td>\n",
              "      <td>True</td>\n",
              "      <td>False</td>\n",
              "      <td>False</td>\n",
              "    </tr>\n",
              "    <tr>\n",
              "      <th>4</th>\n",
              "      <td>1.0</td>\n",
              "      <td>1</td>\n",
              "      <td>False</td>\n",
              "      <td>True</td>\n",
              "      <td>False</td>\n",
              "      <td>False</td>\n",
              "      <td>True</td>\n",
              "      <td>False</td>\n",
              "      <td>False</td>\n",
              "      <td>False</td>\n",
              "      <td>True</td>\n",
              "    </tr>\n",
              "    <tr>\n",
              "      <th>5</th>\n",
              "      <td>0.0</td>\n",
              "      <td>3</td>\n",
              "      <td>False</td>\n",
              "      <td>True</td>\n",
              "      <td>False</td>\n",
              "      <td>False</td>\n",
              "      <td>True</td>\n",
              "      <td>False</td>\n",
              "      <td>True</td>\n",
              "      <td>False</td>\n",
              "      <td>False</td>\n",
              "    </tr>\n",
              "  </tbody>\n",
              "</table>\n",
              "</div>"
            ],
            "text/plain": [
              "             Sex_revised  Pclass      C  ...  Low_fare  Mid_fare  High_fare\n",
              "PassengerId                              ...                               \n",
              "1                    0.0       3  False  ...      True     False      False\n",
              "2                    1.0       1   True  ...     False     False       True\n",
              "3                    1.0       3  False  ...      True     False      False\n",
              "4                    1.0       1  False  ...     False     False       True\n",
              "5                    0.0       3  False  ...      True     False      False\n",
              "\n",
              "[5 rows x 11 columns]"
            ]
          },
          "metadata": {
            "tags": []
          },
          "execution_count": 53
        }
      ]
    },
    {
      "cell_type": "code",
      "metadata": {
        "id": "lkPX92GDXFJL",
        "colab_type": "code",
        "outputId": "c2fa78e6-636b-4040-bb5a-9c3ef1ffd558",
        "colab": {
          "base_uri": "https://localhost:8080/",
          "height": 161
        }
      },
      "source": [
        "y_train = train['Survived']\n",
        "print(y_train.shape)\n",
        "y_train.head()"
      ],
      "execution_count": 54,
      "outputs": [
        {
          "output_type": "stream",
          "text": [
            "(891,)\n"
          ],
          "name": "stdout"
        },
        {
          "output_type": "execute_result",
          "data": {
            "text/plain": [
              "PassengerId\n",
              "1    0\n",
              "2    1\n",
              "3    1\n",
              "4    1\n",
              "5    0\n",
              "Name: Survived, dtype: int64"
            ]
          },
          "metadata": {
            "tags": []
          },
          "execution_count": 54
        }
      ]
    },
    {
      "cell_type": "code",
      "metadata": {
        "id": "wY5XW4lBYELF",
        "colab_type": "code",
        "colab": {}
      },
      "source": [
        "from sklearn.tree import DecisionTreeClassifier"
      ],
      "execution_count": 0,
      "outputs": []
    },
    {
      "cell_type": "code",
      "metadata": {
        "id": "LvKaBLAqYRVJ",
        "colab_type": "code",
        "outputId": "0e7213bd-0a31-4383-9084-d69997f16070",
        "colab": {
          "base_uri": "https://localhost:8080/",
          "height": 125
        }
      },
      "source": [
        "model = DecisionTreeClassifier(max_depth=5)\n",
        "model.fit(X_train, y_train)"
      ],
      "execution_count": 56,
      "outputs": [
        {
          "output_type": "execute_result",
          "data": {
            "text/plain": [
              "DecisionTreeClassifier(class_weight=None, criterion='gini', max_depth=5,\n",
              "                       max_features=None, max_leaf_nodes=None,\n",
              "                       min_impurity_decrease=0.0, min_impurity_split=None,\n",
              "                       min_samples_leaf=1, min_samples_split=2,\n",
              "                       min_weight_fraction_leaf=0.0, presort=False,\n",
              "                       random_state=None, splitter='best')"
            ]
          },
          "metadata": {
            "tags": []
          },
          "execution_count": 56
        }
      ]
    },
    {
      "cell_type": "code",
      "metadata": {
        "id": "2jaOEQsXYXKF",
        "colab_type": "code",
        "outputId": "09d460e5-dd4b-4f00-b884-fc000901f1d8",
        "colab": {
          "base_uri": "https://localhost:8080/",
          "height": 253
        }
      },
      "source": [
        "X_test = test[feature_names]\n",
        "print(X_test.shape)\n",
        "X_test.head()"
      ],
      "execution_count": 57,
      "outputs": [
        {
          "output_type": "stream",
          "text": [
            "(418, 11)\n"
          ],
          "name": "stdout"
        },
        {
          "output_type": "execute_result",
          "data": {
            "text/html": [
              "<div>\n",
              "<style scoped>\n",
              "    .dataframe tbody tr th:only-of-type {\n",
              "        vertical-align: middle;\n",
              "    }\n",
              "\n",
              "    .dataframe tbody tr th {\n",
              "        vertical-align: top;\n",
              "    }\n",
              "\n",
              "    .dataframe thead th {\n",
              "        text-align: right;\n",
              "    }\n",
              "</style>\n",
              "<table border=\"1\" class=\"dataframe\">\n",
              "  <thead>\n",
              "    <tr style=\"text-align: right;\">\n",
              "      <th></th>\n",
              "      <th>Sex_revised</th>\n",
              "      <th>Pclass</th>\n",
              "      <th>C</th>\n",
              "      <th>S</th>\n",
              "      <th>Q</th>\n",
              "      <th>Young</th>\n",
              "      <th>Mid</th>\n",
              "      <th>Old</th>\n",
              "      <th>Low_fare</th>\n",
              "      <th>Mid_fare</th>\n",
              "      <th>High_fare</th>\n",
              "    </tr>\n",
              "    <tr>\n",
              "      <th>PassengerId</th>\n",
              "      <th></th>\n",
              "      <th></th>\n",
              "      <th></th>\n",
              "      <th></th>\n",
              "      <th></th>\n",
              "      <th></th>\n",
              "      <th></th>\n",
              "      <th></th>\n",
              "      <th></th>\n",
              "      <th></th>\n",
              "      <th></th>\n",
              "    </tr>\n",
              "  </thead>\n",
              "  <tbody>\n",
              "    <tr>\n",
              "      <th>892</th>\n",
              "      <td>0.0</td>\n",
              "      <td>3</td>\n",
              "      <td>False</td>\n",
              "      <td>False</td>\n",
              "      <td>True</td>\n",
              "      <td>False</td>\n",
              "      <td>True</td>\n",
              "      <td>False</td>\n",
              "      <td>True</td>\n",
              "      <td>False</td>\n",
              "      <td>False</td>\n",
              "    </tr>\n",
              "    <tr>\n",
              "      <th>893</th>\n",
              "      <td>1.0</td>\n",
              "      <td>3</td>\n",
              "      <td>False</td>\n",
              "      <td>True</td>\n",
              "      <td>False</td>\n",
              "      <td>False</td>\n",
              "      <td>True</td>\n",
              "      <td>False</td>\n",
              "      <td>True</td>\n",
              "      <td>False</td>\n",
              "      <td>False</td>\n",
              "    </tr>\n",
              "    <tr>\n",
              "      <th>894</th>\n",
              "      <td>0.0</td>\n",
              "      <td>2</td>\n",
              "      <td>False</td>\n",
              "      <td>False</td>\n",
              "      <td>True</td>\n",
              "      <td>False</td>\n",
              "      <td>False</td>\n",
              "      <td>True</td>\n",
              "      <td>True</td>\n",
              "      <td>False</td>\n",
              "      <td>False</td>\n",
              "    </tr>\n",
              "    <tr>\n",
              "      <th>895</th>\n",
              "      <td>0.0</td>\n",
              "      <td>3</td>\n",
              "      <td>False</td>\n",
              "      <td>True</td>\n",
              "      <td>False</td>\n",
              "      <td>False</td>\n",
              "      <td>True</td>\n",
              "      <td>False</td>\n",
              "      <td>True</td>\n",
              "      <td>False</td>\n",
              "      <td>False</td>\n",
              "    </tr>\n",
              "    <tr>\n",
              "      <th>896</th>\n",
              "      <td>1.0</td>\n",
              "      <td>3</td>\n",
              "      <td>False</td>\n",
              "      <td>True</td>\n",
              "      <td>False</td>\n",
              "      <td>False</td>\n",
              "      <td>True</td>\n",
              "      <td>False</td>\n",
              "      <td>True</td>\n",
              "      <td>False</td>\n",
              "      <td>False</td>\n",
              "    </tr>\n",
              "  </tbody>\n",
              "</table>\n",
              "</div>"
            ],
            "text/plain": [
              "             Sex_revised  Pclass      C  ...  Low_fare  Mid_fare  High_fare\n",
              "PassengerId                              ...                               \n",
              "892                  0.0       3  False  ...      True     False      False\n",
              "893                  1.0       3  False  ...      True     False      False\n",
              "894                  0.0       2  False  ...      True     False      False\n",
              "895                  0.0       3  False  ...      True     False      False\n",
              "896                  1.0       3  False  ...      True     False      False\n",
              "\n",
              "[5 rows x 11 columns]"
            ]
          },
          "metadata": {
            "tags": []
          },
          "execution_count": 57
        }
      ]
    },
    {
      "cell_type": "code",
      "metadata": {
        "id": "WtcEM4d7Y46r",
        "colab_type": "code",
        "outputId": "9cfa0a0d-44e3-45d8-d4db-1affad7368bf",
        "colab": {
          "base_uri": "https://localhost:8080/",
          "height": 359
        }
      },
      "source": [
        "model.predict(X_test)"
      ],
      "execution_count": 58,
      "outputs": [
        {
          "output_type": "execute_result",
          "data": {
            "text/plain": [
              "array([0, 0, 0, 0, 0, 0, 1, 0, 1, 0, 0, 0, 1, 0, 1, 1, 0, 0, 0, 1, 0, 1,\n",
              "       1, 0, 1, 0, 1, 0, 0, 0, 0, 0, 0, 0, 0, 0, 0, 0, 0, 0, 0, 0, 0, 1,\n",
              "       1, 0, 0, 0, 1, 0, 0, 0, 1, 1, 0, 0, 0, 0, 0, 1, 0, 0, 0, 1, 1, 1,\n",
              "       1, 0, 0, 1, 1, 0, 0, 0, 1, 0, 0, 1, 0, 1, 0, 0, 0, 0, 0, 0, 1, 1,\n",
              "       1, 1, 0, 0, 1, 0, 0, 0, 1, 0, 0, 0, 1, 0, 0, 0, 1, 0, 0, 0, 0, 0,\n",
              "       0, 1, 1, 1, 1, 0, 0, 0, 0, 1, 1, 0, 1, 0, 0, 0, 0, 1, 0, 0, 0, 0,\n",
              "       0, 0, 0, 0, 0, 0, 0, 0, 0, 1, 0, 0, 0, 0, 0, 0, 0, 0, 1, 0, 0, 0,\n",
              "       0, 0, 1, 0, 0, 0, 1, 0, 1, 0, 0, 0, 0, 0, 1, 0, 0, 0, 0, 0, 0, 1,\n",
              "       1, 0, 1, 1, 0, 0, 1, 0, 1, 0, 1, 0, 0, 0, 0, 0, 0, 0, 1, 0, 1, 1,\n",
              "       0, 0, 1, 0, 0, 1, 0, 0, 1, 0, 1, 0, 0, 0, 0, 1, 0, 0, 1, 0, 1, 0,\n",
              "       1, 0, 1, 0, 0, 1, 0, 1, 0, 0, 0, 1, 0, 0, 0, 0, 0, 0, 1, 1, 0, 1,\n",
              "       0, 0, 0, 0, 1, 0, 1, 1, 1, 0, 0, 0, 0, 0, 0, 0, 1, 0, 0, 0, 1, 1,\n",
              "       0, 0, 0, 0, 0, 0, 0, 0, 1, 1, 0, 1, 0, 0, 0, 0, 0, 1, 1, 1, 0, 0,\n",
              "       0, 0, 0, 0, 0, 1, 0, 0, 0, 0, 1, 0, 0, 0, 0, 0, 0, 0, 1, 1, 0, 1,\n",
              "       0, 0, 0, 0, 0, 1, 1, 1, 0, 0, 0, 0, 0, 0, 0, 0, 1, 0, 1, 0, 0, 0,\n",
              "       1, 0, 0, 1, 0, 0, 0, 0, 0, 0, 0, 0, 0, 1, 0, 1, 0, 1, 0, 1, 1, 0,\n",
              "       0, 0, 0, 0, 1, 0, 0, 0, 0, 1, 1, 0, 1, 0, 0, 0, 1, 0, 0, 1, 0, 0,\n",
              "       1, 1, 0, 0, 0, 0, 0, 0, 0, 0, 0, 1, 0, 0, 0, 0, 0, 1, 0, 0, 0, 1,\n",
              "       0, 1, 0, 0, 1, 0, 1, 0, 0, 0, 0, 0, 1, 1, 1, 1, 0, 0, 1, 0, 0, 0])"
            ]
          },
          "metadata": {
            "tags": []
          },
          "execution_count": 58
        }
      ]
    },
    {
      "cell_type": "code",
      "metadata": {
        "id": "2UkEVOLeZAbT",
        "colab_type": "code",
        "colab": {}
      },
      "source": [
        "import graphviz\n",
        "from sklearn.tree import export_graphviz"
      ],
      "execution_count": 0,
      "outputs": []
    },
    {
      "cell_type": "code",
      "metadata": {
        "id": "r4Is_TzjvrWk",
        "colab_type": "code",
        "colab": {}
      },
      "source": [
        "export_graphviz(model, feature_names = feature_names, class_names=['Dead','Survived'], out_file='tree.dot')"
      ],
      "execution_count": 0,
      "outputs": []
    },
    {
      "cell_type": "code",
      "metadata": {
        "id": "Wd9xKp7ex8ez",
        "colab_type": "code",
        "outputId": "c11780f5-20e0-4927-d992-307f110a758b",
        "colab": {
          "base_uri": "https://localhost:8080/",
          "height": 53
        }
      },
      "source": [
        "!ls"
      ],
      "execution_count": 61,
      "outputs": [
        {
          "output_type": "stream",
          "text": [
            "'gender_submission (1).csv'   sample_data     test.csv\t       train.csv\n",
            " gender_submission.csv\t     'test (1).csv'  'train (1).csv'   tree.dot\n"
          ],
          "name": "stdout"
        }
      ]
    },
    {
      "cell_type": "code",
      "metadata": {
        "id": "CwQDdNF8wHLm",
        "colab_type": "code",
        "colab": {}
      },
      "source": [
        "with open('tree.dot') as f:\n",
        "  graph = f.read()"
      ],
      "execution_count": 0,
      "outputs": []
    },
    {
      "cell_type": "code",
      "metadata": {
        "id": "5UkJfuXGwkBM",
        "colab_type": "code",
        "outputId": "16f7b87c-f7c0-4fc3-8796-a770b98882b5",
        "colab": {
          "base_uri": "https://localhost:8080/",
          "height": 935
        }
      },
      "source": [
        "graphviz.Source(graph)"
      ],
      "execution_count": 0,
      "outputs": [
        {
          "output_type": "execute_result",
          "data": {
            "text/plain": [
              "<graphviz.files.Source at 0x7f9428ec8470>"
            ],
            "image/svg+xml": "<?xml version=\"1.0\" encoding=\"UTF-8\" standalone=\"no\"?>\n<!DOCTYPE svg PUBLIC \"-//W3C//DTD SVG 1.1//EN\"\n \"http://www.w3.org/Graphics/SVG/1.1/DTD/svg11.dtd\">\n<!-- Generated by graphviz version 2.40.1 (20161225.0304)\n -->\n<!-- Title: Tree Pages: 1 -->\n<svg width=\"3201pt\" height=\"671pt\"\n viewBox=\"0.00 0.00 3201.00 671.00\" xmlns=\"http://www.w3.org/2000/svg\" xmlns:xlink=\"http://www.w3.org/1999/xlink\">\n<g id=\"graph0\" class=\"graph\" transform=\"scale(1 1) rotate(0) translate(4 667)\">\n<title>Tree</title>\n<polygon fill=\"#ffffff\" stroke=\"transparent\" points=\"-4,4 -4,-667 3197,-667 3197,4 -4,4\"/>\n<!-- 0 -->\n<g id=\"node1\" class=\"node\">\n<title>0</title>\n<polygon fill=\"none\" stroke=\"#000000\" points=\"1324.5,-663 1195.5,-663 1195.5,-580 1324.5,-580 1324.5,-663\"/>\n<text text-anchor=\"middle\" x=\"1260\" y=\"-647.8\" font-family=\"Times,serif\" font-size=\"14.00\" fill=\"#000000\">Sex_revised &lt;= 0.5</text>\n<text text-anchor=\"middle\" x=\"1260\" y=\"-632.8\" font-family=\"Times,serif\" font-size=\"14.00\" fill=\"#000000\">gini = 0.473</text>\n<text text-anchor=\"middle\" x=\"1260\" y=\"-617.8\" font-family=\"Times,serif\" font-size=\"14.00\" fill=\"#000000\">samples = 891</text>\n<text text-anchor=\"middle\" x=\"1260\" y=\"-602.8\" font-family=\"Times,serif\" font-size=\"14.00\" fill=\"#000000\">value = [549, 342]</text>\n<text text-anchor=\"middle\" x=\"1260\" y=\"-587.8\" font-family=\"Times,serif\" font-size=\"14.00\" fill=\"#000000\">class = Dead</text>\n</g>\n<!-- 1 -->\n<g id=\"node2\" class=\"node\">\n<title>1</title>\n<polygon fill=\"none\" stroke=\"#000000\" points=\"1128.5,-544 1003.5,-544 1003.5,-461 1128.5,-461 1128.5,-544\"/>\n<text text-anchor=\"middle\" x=\"1066\" y=\"-528.8\" font-family=\"Times,serif\" font-size=\"14.00\" fill=\"#000000\">Young &lt;= 0.5</text>\n<text text-anchor=\"middle\" x=\"1066\" y=\"-513.8\" font-family=\"Times,serif\" font-size=\"14.00\" fill=\"#000000\">gini = 0.306</text>\n<text text-anchor=\"middle\" x=\"1066\" y=\"-498.8\" font-family=\"Times,serif\" font-size=\"14.00\" fill=\"#000000\">samples = 577</text>\n<text text-anchor=\"middle\" x=\"1066\" y=\"-483.8\" font-family=\"Times,serif\" font-size=\"14.00\" fill=\"#000000\">value = [468, 109]</text>\n<text text-anchor=\"middle\" x=\"1066\" y=\"-468.8\" font-family=\"Times,serif\" font-size=\"14.00\" fill=\"#000000\">class = Dead</text>\n</g>\n<!-- 0&#45;&gt;1 -->\n<g id=\"edge1\" class=\"edge\">\n<title>0&#45;&gt;1</title>\n<path fill=\"none\" stroke=\"#000000\" d=\"M1195.4008,-581.8747C1176.7617,-570.4415 1156.3194,-557.9021 1137.2981,-546.2344\"/>\n<polygon fill=\"#000000\" stroke=\"#000000\" points=\"1139.0244,-543.1874 1128.6702,-540.942 1135.3643,-549.1542 1139.0244,-543.1874\"/>\n<text text-anchor=\"middle\" x=\"1134.4957\" y=\"-561.5538\" font-family=\"Times,serif\" font-size=\"14.00\" fill=\"#000000\">True</text>\n</g>\n<!-- 24 -->\n<g id=\"node25\" class=\"node\">\n<title>24</title>\n<polygon fill=\"none\" stroke=\"#000000\" points=\"1716.5,-544 1599.5,-544 1599.5,-461 1716.5,-461 1716.5,-544\"/>\n<text text-anchor=\"middle\" x=\"1658\" y=\"-528.8\" font-family=\"Times,serif\" font-size=\"14.00\" fill=\"#000000\">Pclass &lt;= 2.5</text>\n<text text-anchor=\"middle\" x=\"1658\" y=\"-513.8\" font-family=\"Times,serif\" font-size=\"14.00\" fill=\"#000000\">gini = 0.383</text>\n<text text-anchor=\"middle\" x=\"1658\" y=\"-498.8\" font-family=\"Times,serif\" font-size=\"14.00\" fill=\"#000000\">samples = 314</text>\n<text text-anchor=\"middle\" x=\"1658\" y=\"-483.8\" font-family=\"Times,serif\" font-size=\"14.00\" fill=\"#000000\">value = [81, 233]</text>\n<text text-anchor=\"middle\" x=\"1658\" y=\"-468.8\" font-family=\"Times,serif\" font-size=\"14.00\" fill=\"#000000\">class = Survived</text>\n</g>\n<!-- 0&#45;&gt;24 -->\n<g id=\"edge24\" class=\"edge\">\n<title>0&#45;&gt;24</title>\n<path fill=\"none\" stroke=\"#000000\" d=\"M1324.8314,-602.1157C1397.6644,-580.339 1515.3795,-545.1428 1589.6296,-522.9424\"/>\n<polygon fill=\"#000000\" stroke=\"#000000\" points=\"1590.7815,-526.2512 1599.3598,-520.0331 1588.7762,-519.5445 1590.7815,-526.2512\"/>\n<text text-anchor=\"middle\" x=\"1587.487\" y=\"-538.334\" font-family=\"Times,serif\" font-size=\"14.00\" fill=\"#000000\">False</text>\n</g>\n<!-- 2 -->\n<g id=\"node3\" class=\"node\">\n<title>2</title>\n<polygon fill=\"none\" stroke=\"#000000\" points=\"785.5,-425 668.5,-425 668.5,-342 785.5,-342 785.5,-425\"/>\n<text text-anchor=\"middle\" x=\"727\" y=\"-409.8\" font-family=\"Times,serif\" font-size=\"14.00\" fill=\"#000000\">Pclass &lt;= 1.5</text>\n<text text-anchor=\"middle\" x=\"727\" y=\"-394.8\" font-family=\"Times,serif\" font-size=\"14.00\" fill=\"#000000\">gini = 0.273</text>\n<text text-anchor=\"middle\" x=\"727\" y=\"-379.8\" font-family=\"Times,serif\" font-size=\"14.00\" fill=\"#000000\">samples = 540</text>\n<text text-anchor=\"middle\" x=\"727\" y=\"-364.8\" font-family=\"Times,serif\" font-size=\"14.00\" fill=\"#000000\">value = [452, 88]</text>\n<text text-anchor=\"middle\" x=\"727\" y=\"-349.8\" font-family=\"Times,serif\" font-size=\"14.00\" fill=\"#000000\">class = Dead</text>\n</g>\n<!-- 1&#45;&gt;2 -->\n<g id=\"edge2\" class=\"edge\">\n<title>1&#45;&gt;2</title>\n<path fill=\"none\" stroke=\"#000000\" d=\"M1003.4271,-480.5349C944.3171,-459.7854 855.8837,-428.7424 795.0434,-407.3854\"/>\n<polygon fill=\"#000000\" stroke=\"#000000\" points=\"796.1194,-404.0538 785.5246,-404.044 793.8008,-410.6587 796.1194,-404.0538\"/>\n</g>\n<!-- 17 -->\n<g id=\"node18\" class=\"node\">\n<title>17</title>\n<polygon fill=\"none\" stroke=\"#000000\" points=\"1121.5,-425 1010.5,-425 1010.5,-342 1121.5,-342 1121.5,-425\"/>\n<text text-anchor=\"middle\" x=\"1066\" y=\"-409.8\" font-family=\"Times,serif\" font-size=\"14.00\" fill=\"#000000\">Pclass &lt;= 2.5</text>\n<text text-anchor=\"middle\" x=\"1066\" y=\"-394.8\" font-family=\"Times,serif\" font-size=\"14.00\" fill=\"#000000\">gini = 0.491</text>\n<text text-anchor=\"middle\" x=\"1066\" y=\"-379.8\" font-family=\"Times,serif\" font-size=\"14.00\" fill=\"#000000\">samples = 37</text>\n<text text-anchor=\"middle\" x=\"1066\" y=\"-364.8\" font-family=\"Times,serif\" font-size=\"14.00\" fill=\"#000000\">value = [16, 21]</text>\n<text text-anchor=\"middle\" x=\"1066\" y=\"-349.8\" font-family=\"Times,serif\" font-size=\"14.00\" fill=\"#000000\">class = Survived</text>\n</g>\n<!-- 1&#45;&gt;17 -->\n<g id=\"edge17\" class=\"edge\">\n<title>1&#45;&gt;17</title>\n<path fill=\"none\" stroke=\"#000000\" d=\"M1066,-460.8796C1066,-452.6838 1066,-443.9891 1066,-435.5013\"/>\n<polygon fill=\"#000000\" stroke=\"#000000\" points=\"1069.5001,-435.298 1066,-425.2981 1062.5001,-435.2981 1069.5001,-435.298\"/>\n</g>\n<!-- 3 -->\n<g id=\"node4\" class=\"node\">\n<title>3</title>\n<polygon fill=\"none\" stroke=\"#000000\" points=\"415,-306 305,-306 305,-223 415,-223 415,-306\"/>\n<text text-anchor=\"middle\" x=\"360\" y=\"-290.8\" font-family=\"Times,serif\" font-size=\"14.00\" fill=\"#000000\">Mid &lt;= 0.5</text>\n<text text-anchor=\"middle\" x=\"360\" y=\"-275.8\" font-family=\"Times,serif\" font-size=\"14.00\" fill=\"#000000\">gini = 0.457</text>\n<text text-anchor=\"middle\" x=\"360\" y=\"-260.8\" font-family=\"Times,serif\" font-size=\"14.00\" fill=\"#000000\">samples = 119</text>\n<text text-anchor=\"middle\" x=\"360\" y=\"-245.8\" font-family=\"Times,serif\" font-size=\"14.00\" fill=\"#000000\">value = [77, 42]</text>\n<text text-anchor=\"middle\" x=\"360\" y=\"-230.8\" font-family=\"Times,serif\" font-size=\"14.00\" fill=\"#000000\">class = Dead</text>\n</g>\n<!-- 2&#45;&gt;3 -->\n<g id=\"edge3\" class=\"edge\">\n<title>2&#45;&gt;3</title>\n<path fill=\"none\" stroke=\"#000000\" d=\"M668.4419,-364.5125C601.993,-342.9664 493.9168,-307.9226 424.9346,-285.5551\"/>\n<polygon fill=\"#000000\" stroke=\"#000000\" points=\"425.6422,-282.1052 415.0502,-282.3501 423.4831,-288.7639 425.6422,-282.1052\"/>\n</g>\n<!-- 10 -->\n<g id=\"node11\" class=\"node\">\n<title>10</title>\n<polygon fill=\"none\" stroke=\"#000000\" points=\"785.5,-306 668.5,-306 668.5,-223 785.5,-223 785.5,-306\"/>\n<text text-anchor=\"middle\" x=\"727\" y=\"-290.8\" font-family=\"Times,serif\" font-size=\"14.00\" fill=\"#000000\">High_fare &lt;= 0.5</text>\n<text text-anchor=\"middle\" x=\"727\" y=\"-275.8\" font-family=\"Times,serif\" font-size=\"14.00\" fill=\"#000000\">gini = 0.195</text>\n<text text-anchor=\"middle\" x=\"727\" y=\"-260.8\" font-family=\"Times,serif\" font-size=\"14.00\" fill=\"#000000\">samples = 421</text>\n<text text-anchor=\"middle\" x=\"727\" y=\"-245.8\" font-family=\"Times,serif\" font-size=\"14.00\" fill=\"#000000\">value = [375, 46]</text>\n<text text-anchor=\"middle\" x=\"727\" y=\"-230.8\" font-family=\"Times,serif\" font-size=\"14.00\" fill=\"#000000\">class = Dead</text>\n</g>\n<!-- 2&#45;&gt;10 -->\n<g id=\"edge10\" class=\"edge\">\n<title>2&#45;&gt;10</title>\n<path fill=\"none\" stroke=\"#000000\" d=\"M727,-341.8796C727,-333.6838 727,-324.9891 727,-316.5013\"/>\n<polygon fill=\"#000000\" stroke=\"#000000\" points=\"730.5001,-316.298 727,-306.2981 723.5001,-316.2981 730.5001,-316.298\"/>\n</g>\n<!-- 4 -->\n<g id=\"node5\" class=\"node\">\n<title>4</title>\n<polygon fill=\"none\" stroke=\"#000000\" points=\"227,-187 115,-187 115,-104 227,-104 227,-187\"/>\n<text text-anchor=\"middle\" x=\"171\" y=\"-171.8\" font-family=\"Times,serif\" font-size=\"14.00\" fill=\"#000000\">Mid_fare &lt;= 0.5</text>\n<text text-anchor=\"middle\" x=\"171\" y=\"-156.8\" font-family=\"Times,serif\" font-size=\"14.00\" fill=\"#000000\">gini = 0.334</text>\n<text text-anchor=\"middle\" x=\"171\" y=\"-141.8\" font-family=\"Times,serif\" font-size=\"14.00\" fill=\"#000000\">samples = 33</text>\n<text text-anchor=\"middle\" x=\"171\" y=\"-126.8\" font-family=\"Times,serif\" font-size=\"14.00\" fill=\"#000000\">value = [26, 7]</text>\n<text text-anchor=\"middle\" x=\"171\" y=\"-111.8\" font-family=\"Times,serif\" font-size=\"14.00\" fill=\"#000000\">class = Dead</text>\n</g>\n<!-- 3&#45;&gt;4 -->\n<g id=\"edge4\" class=\"edge\">\n<title>3&#45;&gt;4</title>\n<path fill=\"none\" stroke=\"#000000\" d=\"M304.8253,-229.7604C283.1837,-216.1342 258.1931,-200.3994 235.7088,-186.2426\"/>\n<polygon fill=\"#000000\" stroke=\"#000000\" points=\"237.5537,-183.2682 227.2265,-180.9018 233.8239,-189.1918 237.5537,-183.2682\"/>\n</g>\n<!-- 7 -->\n<g id=\"node8\" class=\"node\">\n<title>7</title>\n<polygon fill=\"none\" stroke=\"#000000\" points=\"417.5,-187 302.5,-187 302.5,-104 417.5,-104 417.5,-187\"/>\n<text text-anchor=\"middle\" x=\"360\" y=\"-171.8\" font-family=\"Times,serif\" font-size=\"14.00\" fill=\"#000000\">Low_fare &lt;= 0.5</text>\n<text text-anchor=\"middle\" x=\"360\" y=\"-156.8\" font-family=\"Times,serif\" font-size=\"14.00\" fill=\"#000000\">gini = 0.483</text>\n<text text-anchor=\"middle\" x=\"360\" y=\"-141.8\" font-family=\"Times,serif\" font-size=\"14.00\" fill=\"#000000\">samples = 86</text>\n<text text-anchor=\"middle\" x=\"360\" y=\"-126.8\" font-family=\"Times,serif\" font-size=\"14.00\" fill=\"#000000\">value = [51, 35]</text>\n<text text-anchor=\"middle\" x=\"360\" y=\"-111.8\" font-family=\"Times,serif\" font-size=\"14.00\" fill=\"#000000\">class = Dead</text>\n</g>\n<!-- 3&#45;&gt;7 -->\n<g id=\"edge7\" class=\"edge\">\n<title>3&#45;&gt;7</title>\n<path fill=\"none\" stroke=\"#000000\" d=\"M360,-222.8796C360,-214.6838 360,-205.9891 360,-197.5013\"/>\n<polygon fill=\"#000000\" stroke=\"#000000\" points=\"363.5001,-197.298 360,-187.2981 356.5001,-197.2981 363.5001,-197.298\"/>\n</g>\n<!-- 5 -->\n<g id=\"node6\" class=\"node\">\n<title>5</title>\n<polygon fill=\"none\" stroke=\"#000000\" points=\"102,-68 0,-68 0,0 102,0 102,-68\"/>\n<text text-anchor=\"middle\" x=\"51\" y=\"-52.8\" font-family=\"Times,serif\" font-size=\"14.00\" fill=\"#000000\">gini = 0.291</text>\n<text text-anchor=\"middle\" x=\"51\" y=\"-37.8\" font-family=\"Times,serif\" font-size=\"14.00\" fill=\"#000000\">samples = 17</text>\n<text text-anchor=\"middle\" x=\"51\" y=\"-22.8\" font-family=\"Times,serif\" font-size=\"14.00\" fill=\"#000000\">value = [14, 3]</text>\n<text text-anchor=\"middle\" x=\"51\" y=\"-7.8\" font-family=\"Times,serif\" font-size=\"14.00\" fill=\"#000000\">class = Dead</text>\n</g>\n<!-- 4&#45;&gt;5 -->\n<g id=\"edge5\" class=\"edge\">\n<title>4&#45;&gt;5</title>\n<path fill=\"none\" stroke=\"#000000\" d=\"M126.3164,-103.9815C116.2273,-94.607 105.519,-84.6572 95.4399,-75.2921\"/>\n<polygon fill=\"#000000\" stroke=\"#000000\" points=\"97.5839,-72.5065 87.8757,-68.2637 92.8191,-77.6346 97.5839,-72.5065\"/>\n</g>\n<!-- 6 -->\n<g id=\"node7\" class=\"node\">\n<title>6</title>\n<polygon fill=\"none\" stroke=\"#000000\" points=\"222,-68 120,-68 120,0 222,0 222,-68\"/>\n<text text-anchor=\"middle\" x=\"171\" y=\"-52.8\" font-family=\"Times,serif\" font-size=\"14.00\" fill=\"#000000\">gini = 0.375</text>\n<text text-anchor=\"middle\" x=\"171\" y=\"-37.8\" font-family=\"Times,serif\" font-size=\"14.00\" fill=\"#000000\">samples = 16</text>\n<text text-anchor=\"middle\" x=\"171\" y=\"-22.8\" font-family=\"Times,serif\" font-size=\"14.00\" fill=\"#000000\">value = [12, 4]</text>\n<text text-anchor=\"middle\" x=\"171\" y=\"-7.8\" font-family=\"Times,serif\" font-size=\"14.00\" fill=\"#000000\">class = Dead</text>\n</g>\n<!-- 4&#45;&gt;6 -->\n<g id=\"edge6\" class=\"edge\">\n<title>4&#45;&gt;6</title>\n<path fill=\"none\" stroke=\"#000000\" d=\"M171,-103.9815C171,-95.618 171,-86.7965 171,-78.3409\"/>\n<polygon fill=\"#000000\" stroke=\"#000000\" points=\"174.5001,-78.2636 171,-68.2637 167.5001,-78.2637 174.5001,-78.2636\"/>\n</g>\n<!-- 8 -->\n<g id=\"node9\" class=\"node\">\n<title>8</title>\n<polygon fill=\"none\" stroke=\"#000000\" points=\"350,-68 240,-68 240,0 350,0 350,-68\"/>\n<text text-anchor=\"middle\" x=\"295\" y=\"-52.8\" font-family=\"Times,serif\" font-size=\"14.00\" fill=\"#000000\">gini = 0.492</text>\n<text text-anchor=\"middle\" x=\"295\" y=\"-37.8\" font-family=\"Times,serif\" font-size=\"14.00\" fill=\"#000000\">samples = 80</text>\n<text text-anchor=\"middle\" x=\"295\" y=\"-22.8\" font-family=\"Times,serif\" font-size=\"14.00\" fill=\"#000000\">value = [45, 35]</text>\n<text text-anchor=\"middle\" x=\"295\" y=\"-7.8\" font-family=\"Times,serif\" font-size=\"14.00\" fill=\"#000000\">class = Dead</text>\n</g>\n<!-- 7&#45;&gt;8 -->\n<g id=\"edge8\" class=\"edge\">\n<title>7&#45;&gt;8</title>\n<path fill=\"none\" stroke=\"#000000\" d=\"M335.7964,-103.9815C330.6529,-95.1585 325.2123,-85.8258 320.0384,-76.9506\"/>\n<polygon fill=\"#000000\" stroke=\"#000000\" points=\"323.0344,-75.1402 314.9743,-68.2637 316.987,-78.6656 323.0344,-75.1402\"/>\n</g>\n<!-- 9 -->\n<g id=\"node10\" class=\"node\">\n<title>9</title>\n<polygon fill=\"none\" stroke=\"#000000\" points=\"463.5,-68 368.5,-68 368.5,0 463.5,0 463.5,-68\"/>\n<text text-anchor=\"middle\" x=\"416\" y=\"-52.8\" font-family=\"Times,serif\" font-size=\"14.00\" fill=\"#000000\">gini = 0.0</text>\n<text text-anchor=\"middle\" x=\"416\" y=\"-37.8\" font-family=\"Times,serif\" font-size=\"14.00\" fill=\"#000000\">samples = 6</text>\n<text text-anchor=\"middle\" x=\"416\" y=\"-22.8\" font-family=\"Times,serif\" font-size=\"14.00\" fill=\"#000000\">value = [6, 0]</text>\n<text text-anchor=\"middle\" x=\"416\" y=\"-7.8\" font-family=\"Times,serif\" font-size=\"14.00\" fill=\"#000000\">class = Dead</text>\n</g>\n<!-- 7&#45;&gt;9 -->\n<g id=\"edge9\" class=\"edge\">\n<title>7&#45;&gt;9</title>\n<path fill=\"none\" stroke=\"#000000\" d=\"M380.8523,-103.9815C385.2375,-95.2504 389.8733,-86.0202 394.289,-77.2281\"/>\n<polygon fill=\"#000000\" stroke=\"#000000\" points=\"397.4308,-78.7708 398.7913,-68.2637 391.1754,-75.6291 397.4308,-78.7708\"/>\n</g>\n<!-- 11 -->\n<g id=\"node12\" class=\"node\">\n<title>11</title>\n<polygon fill=\"none\" stroke=\"#000000\" points=\"721.5,-187 604.5,-187 604.5,-104 721.5,-104 721.5,-187\"/>\n<text text-anchor=\"middle\" x=\"663\" y=\"-171.8\" font-family=\"Times,serif\" font-size=\"14.00\" fill=\"#000000\">C &lt;= 0.5</text>\n<text text-anchor=\"middle\" x=\"663\" y=\"-156.8\" font-family=\"Times,serif\" font-size=\"14.00\" fill=\"#000000\">gini = 0.183</text>\n<text text-anchor=\"middle\" x=\"663\" y=\"-141.8\" font-family=\"Times,serif\" font-size=\"14.00\" fill=\"#000000\">samples = 403</text>\n<text text-anchor=\"middle\" x=\"663\" y=\"-126.8\" font-family=\"Times,serif\" font-size=\"14.00\" fill=\"#000000\">value = [362, 41]</text>\n<text text-anchor=\"middle\" x=\"663\" y=\"-111.8\" font-family=\"Times,serif\" font-size=\"14.00\" fill=\"#000000\">class = Dead</text>\n</g>\n<!-- 10&#45;&gt;11 -->\n<g id=\"edge11\" class=\"edge\">\n<title>10&#45;&gt;11</title>\n<path fill=\"none\" stroke=\"#000000\" d=\"M704.6159,-222.8796C700.0144,-214.3236 695.1204,-205.2238 690.3658,-196.3833\"/>\n<polygon fill=\"#000000\" stroke=\"#000000\" points=\"693.2988,-194.4473 685.4796,-187.2981 687.1338,-197.763 693.2988,-194.4473\"/>\n</g>\n<!-- 14 -->\n<g id=\"node15\" class=\"node\">\n<title>14</title>\n<polygon fill=\"none\" stroke=\"#000000\" points=\"842,-187 740,-187 740,-104 842,-104 842,-187\"/>\n<text text-anchor=\"middle\" x=\"791\" y=\"-171.8\" font-family=\"Times,serif\" font-size=\"14.00\" fill=\"#000000\">Pclass &lt;= 2.5</text>\n<text text-anchor=\"middle\" x=\"791\" y=\"-156.8\" font-family=\"Times,serif\" font-size=\"14.00\" fill=\"#000000\">gini = 0.401</text>\n<text text-anchor=\"middle\" x=\"791\" y=\"-141.8\" font-family=\"Times,serif\" font-size=\"14.00\" fill=\"#000000\">samples = 18</text>\n<text text-anchor=\"middle\" x=\"791\" y=\"-126.8\" font-family=\"Times,serif\" font-size=\"14.00\" fill=\"#000000\">value = [13, 5]</text>\n<text text-anchor=\"middle\" x=\"791\" y=\"-111.8\" font-family=\"Times,serif\" font-size=\"14.00\" fill=\"#000000\">class = Dead</text>\n</g>\n<!-- 10&#45;&gt;14 -->\n<g id=\"edge14\" class=\"edge\">\n<title>10&#45;&gt;14</title>\n<path fill=\"none\" stroke=\"#000000\" d=\"M749.3841,-222.8796C753.9856,-214.3236 758.8796,-205.2238 763.6342,-196.3833\"/>\n<polygon fill=\"#000000\" stroke=\"#000000\" points=\"766.8662,-197.763 768.5204,-187.2981 760.7012,-194.4473 766.8662,-197.763\"/>\n</g>\n<!-- 12 -->\n<g id=\"node13\" class=\"node\">\n<title>12</title>\n<polygon fill=\"none\" stroke=\"#000000\" points=\"598.5,-68 481.5,-68 481.5,0 598.5,0 598.5,-68\"/>\n<text text-anchor=\"middle\" x=\"540\" y=\"-52.8\" font-family=\"Times,serif\" font-size=\"14.00\" fill=\"#000000\">gini = 0.164</text>\n<text text-anchor=\"middle\" x=\"540\" y=\"-37.8\" font-family=\"Times,serif\" font-size=\"14.00\" fill=\"#000000\">samples = 355</text>\n<text text-anchor=\"middle\" x=\"540\" y=\"-22.8\" font-family=\"Times,serif\" font-size=\"14.00\" fill=\"#000000\">value = [323, 32]</text>\n<text text-anchor=\"middle\" x=\"540\" y=\"-7.8\" font-family=\"Times,serif\" font-size=\"14.00\" fill=\"#000000\">class = Dead</text>\n</g>\n<!-- 11&#45;&gt;12 -->\n<g id=\"edge12\" class=\"edge\">\n<title>11&#45;&gt;12</title>\n<path fill=\"none\" stroke=\"#000000\" d=\"M617.1993,-103.9815C606.7566,-94.5151 595.6667,-84.462 585.2472,-75.0168\"/>\n<polygon fill=\"#000000\" stroke=\"#000000\" points=\"587.5572,-72.3868 577.7976,-68.2637 582.8559,-77.5731 587.5572,-72.3868\"/>\n</g>\n<!-- 13 -->\n<g id=\"node14\" class=\"node\">\n<title>13</title>\n<polygon fill=\"none\" stroke=\"#000000\" points=\"719,-68 617,-68 617,0 719,0 719,-68\"/>\n<text text-anchor=\"middle\" x=\"668\" y=\"-52.8\" font-family=\"Times,serif\" font-size=\"14.00\" fill=\"#000000\">gini = 0.305</text>\n<text text-anchor=\"middle\" x=\"668\" y=\"-37.8\" font-family=\"Times,serif\" font-size=\"14.00\" fill=\"#000000\">samples = 48</text>\n<text text-anchor=\"middle\" x=\"668\" y=\"-22.8\" font-family=\"Times,serif\" font-size=\"14.00\" fill=\"#000000\">value = [39, 9]</text>\n<text text-anchor=\"middle\" x=\"668\" y=\"-7.8\" font-family=\"Times,serif\" font-size=\"14.00\" fill=\"#000000\">class = Dead</text>\n</g>\n<!-- 11&#45;&gt;13 -->\n<g id=\"edge13\" class=\"edge\">\n<title>11&#45;&gt;13</title>\n<path fill=\"none\" stroke=\"#000000\" d=\"M664.8618,-103.9815C665.2369,-95.618 665.6324,-86.7965 666.0116,-78.3409\"/>\n<polygon fill=\"#000000\" stroke=\"#000000\" points=\"669.5119,-78.4105 666.4635,-68.2637 662.519,-78.0968 669.5119,-78.4105\"/>\n</g>\n<!-- 15 -->\n<g id=\"node16\" class=\"node\">\n<title>15</title>\n<polygon fill=\"none\" stroke=\"#000000\" points=\"832.5,-68 737.5,-68 737.5,0 832.5,0 832.5,-68\"/>\n<text text-anchor=\"middle\" x=\"785\" y=\"-52.8\" font-family=\"Times,serif\" font-size=\"14.00\" fill=\"#000000\">gini = 0.0</text>\n<text text-anchor=\"middle\" x=\"785\" y=\"-37.8\" font-family=\"Times,serif\" font-size=\"14.00\" fill=\"#000000\">samples = 6</text>\n<text text-anchor=\"middle\" x=\"785\" y=\"-22.8\" font-family=\"Times,serif\" font-size=\"14.00\" fill=\"#000000\">value = [6, 0]</text>\n<text text-anchor=\"middle\" x=\"785\" y=\"-7.8\" font-family=\"Times,serif\" font-size=\"14.00\" fill=\"#000000\">class = Dead</text>\n</g>\n<!-- 14&#45;&gt;15 -->\n<g id=\"edge15\" class=\"edge\">\n<title>14&#45;&gt;15</title>\n<path fill=\"none\" stroke=\"#000000\" d=\"M788.7658,-103.9815C788.3158,-95.618 787.8411,-86.7965 787.3861,-78.3409\"/>\n<polygon fill=\"#000000\" stroke=\"#000000\" points=\"790.8762,-78.0611 786.8438,-68.2637 783.8863,-78.4373 790.8762,-78.0611\"/>\n</g>\n<!-- 16 -->\n<g id=\"node17\" class=\"node\">\n<title>16</title>\n<polygon fill=\"none\" stroke=\"#000000\" points=\"945.5,-68 850.5,-68 850.5,0 945.5,0 945.5,-68\"/>\n<text text-anchor=\"middle\" x=\"898\" y=\"-52.8\" font-family=\"Times,serif\" font-size=\"14.00\" fill=\"#000000\">gini = 0.486</text>\n<text text-anchor=\"middle\" x=\"898\" y=\"-37.8\" font-family=\"Times,serif\" font-size=\"14.00\" fill=\"#000000\">samples = 12</text>\n<text text-anchor=\"middle\" x=\"898\" y=\"-22.8\" font-family=\"Times,serif\" font-size=\"14.00\" fill=\"#000000\">value = [7, 5]</text>\n<text text-anchor=\"middle\" x=\"898\" y=\"-7.8\" font-family=\"Times,serif\" font-size=\"14.00\" fill=\"#000000\">class = Dead</text>\n</g>\n<!-- 14&#45;&gt;16 -->\n<g id=\"edge16\" class=\"edge\">\n<title>14&#45;&gt;16</title>\n<path fill=\"none\" stroke=\"#000000\" d=\"M830.8429,-103.9815C839.7508,-94.6989 849.2001,-84.8522 858.1099,-75.5677\"/>\n<polygon fill=\"#000000\" stroke=\"#000000\" points=\"860.7205,-77.9023 865.1192,-68.2637 855.6698,-73.0555 860.7205,-77.9023\"/>\n</g>\n<!-- 18 -->\n<g id=\"node19\" class=\"node\">\n<title>18</title>\n<polygon fill=\"none\" stroke=\"#000000\" points=\"1056.5,-298.5 945.5,-298.5 945.5,-230.5 1056.5,-230.5 1056.5,-298.5\"/>\n<text text-anchor=\"middle\" x=\"1001\" y=\"-283.3\" font-family=\"Times,serif\" font-size=\"14.00\" fill=\"#000000\">gini = 0.0</text>\n<text text-anchor=\"middle\" x=\"1001\" y=\"-268.3\" font-family=\"Times,serif\" font-size=\"14.00\" fill=\"#000000\">samples = 12</text>\n<text text-anchor=\"middle\" x=\"1001\" y=\"-253.3\" font-family=\"Times,serif\" font-size=\"14.00\" fill=\"#000000\">value = [0, 12]</text>\n<text text-anchor=\"middle\" x=\"1001\" y=\"-238.3\" font-family=\"Times,serif\" font-size=\"14.00\" fill=\"#000000\">class = Survived</text>\n</g>\n<!-- 17&#45;&gt;18 -->\n<g id=\"edge18\" class=\"edge\">\n<title>17&#45;&gt;18</title>\n<path fill=\"none\" stroke=\"#000000\" d=\"M1043.2662,-341.8796C1037.2599,-330.8835 1030.763,-318.9893 1024.7067,-307.9015\"/>\n<polygon fill=\"#000000\" stroke=\"#000000\" points=\"1027.6088,-305.9133 1019.7435,-298.8149 1021.4655,-309.2689 1027.6088,-305.9133\"/>\n</g>\n<!-- 19 -->\n<g id=\"node20\" class=\"node\">\n<title>19</title>\n<polygon fill=\"none\" stroke=\"#000000\" points=\"1189.5,-306 1074.5,-306 1074.5,-223 1189.5,-223 1189.5,-306\"/>\n<text text-anchor=\"middle\" x=\"1132\" y=\"-290.8\" font-family=\"Times,serif\" font-size=\"14.00\" fill=\"#000000\">Low_fare &lt;= 0.5</text>\n<text text-anchor=\"middle\" x=\"1132\" y=\"-275.8\" font-family=\"Times,serif\" font-size=\"14.00\" fill=\"#000000\">gini = 0.461</text>\n<text text-anchor=\"middle\" x=\"1132\" y=\"-260.8\" font-family=\"Times,serif\" font-size=\"14.00\" fill=\"#000000\">samples = 25</text>\n<text text-anchor=\"middle\" x=\"1132\" y=\"-245.8\" font-family=\"Times,serif\" font-size=\"14.00\" fill=\"#000000\">value = [16, 9]</text>\n<text text-anchor=\"middle\" x=\"1132\" y=\"-230.8\" font-family=\"Times,serif\" font-size=\"14.00\" fill=\"#000000\">class = Dead</text>\n</g>\n<!-- 17&#45;&gt;19 -->\n<g id=\"edge19\" class=\"edge\">\n<title>17&#45;&gt;19</title>\n<path fill=\"none\" stroke=\"#000000\" d=\"M1089.0836,-341.8796C1093.8789,-333.2335 1098.9822,-324.0322 1103.9338,-315.1042\"/>\n<polygon fill=\"#000000\" stroke=\"#000000\" points=\"1107.0284,-316.7407 1108.8179,-306.2981 1100.9069,-313.3455 1107.0284,-316.7407\"/>\n</g>\n<!-- 20 -->\n<g id=\"node21\" class=\"node\">\n<title>20</title>\n<polygon fill=\"none\" stroke=\"#000000\" points=\"1120,-187 1018,-187 1018,-104 1120,-104 1120,-187\"/>\n<text text-anchor=\"middle\" x=\"1069\" y=\"-171.8\" font-family=\"Times,serif\" font-size=\"14.00\" fill=\"#000000\">S &lt;= 0.5</text>\n<text text-anchor=\"middle\" x=\"1069\" y=\"-156.8\" font-family=\"Times,serif\" font-size=\"14.00\" fill=\"#000000\">gini = 0.363</text>\n<text text-anchor=\"middle\" x=\"1069\" y=\"-141.8\" font-family=\"Times,serif\" font-size=\"14.00\" fill=\"#000000\">samples = 21</text>\n<text text-anchor=\"middle\" x=\"1069\" y=\"-126.8\" font-family=\"Times,serif\" font-size=\"14.00\" fill=\"#000000\">value = [16, 5]</text>\n<text text-anchor=\"middle\" x=\"1069\" y=\"-111.8\" font-family=\"Times,serif\" font-size=\"14.00\" fill=\"#000000\">class = Dead</text>\n</g>\n<!-- 19&#45;&gt;20 -->\n<g id=\"edge20\" class=\"edge\">\n<title>19&#45;&gt;20</title>\n<path fill=\"none\" stroke=\"#000000\" d=\"M1109.9657,-222.8796C1105.436,-214.3236 1100.6185,-205.2238 1095.9382,-196.3833\"/>\n<polygon fill=\"#000000\" stroke=\"#000000\" points=\"1098.9006,-194.4983 1091.1284,-187.2981 1092.7141,-197.7736 1098.9006,-194.4983\"/>\n</g>\n<!-- 23 -->\n<g id=\"node24\" class=\"node\">\n<title>23</title>\n<polygon fill=\"none\" stroke=\"#000000\" points=\"1249.5,-179.5 1138.5,-179.5 1138.5,-111.5 1249.5,-111.5 1249.5,-179.5\"/>\n<text text-anchor=\"middle\" x=\"1194\" y=\"-164.3\" font-family=\"Times,serif\" font-size=\"14.00\" fill=\"#000000\">gini = 0.0</text>\n<text text-anchor=\"middle\" x=\"1194\" y=\"-149.3\" font-family=\"Times,serif\" font-size=\"14.00\" fill=\"#000000\">samples = 4</text>\n<text text-anchor=\"middle\" x=\"1194\" y=\"-134.3\" font-family=\"Times,serif\" font-size=\"14.00\" fill=\"#000000\">value = [0, 4]</text>\n<text text-anchor=\"middle\" x=\"1194\" y=\"-119.3\" font-family=\"Times,serif\" font-size=\"14.00\" fill=\"#000000\">class = Survived</text>\n</g>\n<!-- 19&#45;&gt;23 -->\n<g id=\"edge23\" class=\"edge\">\n<title>19&#45;&gt;23</title>\n<path fill=\"none\" stroke=\"#000000\" d=\"M1153.6846,-222.8796C1159.4136,-211.8835 1165.6106,-199.9893 1171.3874,-188.9015\"/>\n<polygon fill=\"#000000\" stroke=\"#000000\" points=\"1174.605,-190.3007 1176.1216,-179.8149 1168.397,-187.0662 1174.605,-190.3007\"/>\n</g>\n<!-- 21 -->\n<g id=\"node22\" class=\"node\">\n<title>21</title>\n<polygon fill=\"none\" stroke=\"#000000\" points=\"1058.5,-68 963.5,-68 963.5,0 1058.5,0 1058.5,-68\"/>\n<text text-anchor=\"middle\" x=\"1011\" y=\"-52.8\" font-family=\"Times,serif\" font-size=\"14.00\" fill=\"#000000\">gini = 0.0</text>\n<text text-anchor=\"middle\" x=\"1011\" y=\"-37.8\" font-family=\"Times,serif\" font-size=\"14.00\" fill=\"#000000\">samples = 5</text>\n<text text-anchor=\"middle\" x=\"1011\" y=\"-22.8\" font-family=\"Times,serif\" font-size=\"14.00\" fill=\"#000000\">value = [5, 0]</text>\n<text text-anchor=\"middle\" x=\"1011\" y=\"-7.8\" font-family=\"Times,serif\" font-size=\"14.00\" fill=\"#000000\">class = Dead</text>\n</g>\n<!-- 20&#45;&gt;21 -->\n<g id=\"edge21\" class=\"edge\">\n<title>20&#45;&gt;21</title>\n<path fill=\"none\" stroke=\"#000000\" d=\"M1047.4029,-103.9815C1042.8612,-95.2504 1038.0598,-86.0202 1033.4863,-77.2281\"/>\n<polygon fill=\"#000000\" stroke=\"#000000\" points=\"1036.5431,-75.52 1028.8233,-68.2637 1030.3331,-78.7504 1036.5431,-75.52\"/>\n</g>\n<!-- 22 -->\n<g id=\"node23\" class=\"node\">\n<title>22</title>\n<polygon fill=\"none\" stroke=\"#000000\" points=\"1177.5,-68 1076.5,-68 1076.5,0 1177.5,0 1177.5,-68\"/>\n<text text-anchor=\"middle\" x=\"1127\" y=\"-52.8\" font-family=\"Times,serif\" font-size=\"14.00\" fill=\"#000000\">gini = 0.43</text>\n<text text-anchor=\"middle\" x=\"1127\" y=\"-37.8\" font-family=\"Times,serif\" font-size=\"14.00\" fill=\"#000000\">samples = 16</text>\n<text text-anchor=\"middle\" x=\"1127\" y=\"-22.8\" font-family=\"Times,serif\" font-size=\"14.00\" fill=\"#000000\">value = [11, 5]</text>\n<text text-anchor=\"middle\" x=\"1127\" y=\"-7.8\" font-family=\"Times,serif\" font-size=\"14.00\" fill=\"#000000\">class = Dead</text>\n</g>\n<!-- 20&#45;&gt;22 -->\n<g id=\"edge22\" class=\"edge\">\n<title>20&#45;&gt;22</title>\n<path fill=\"none\" stroke=\"#000000\" d=\"M1090.5971,-103.9815C1095.1388,-95.2504 1099.9402,-86.0202 1104.5137,-77.2281\"/>\n<polygon fill=\"#000000\" stroke=\"#000000\" points=\"1107.6669,-78.7504 1109.1767,-68.2637 1101.4569,-75.52 1107.6669,-78.7504\"/>\n</g>\n<!-- 25 -->\n<g id=\"node26\" class=\"node\">\n<title>25</title>\n<polygon fill=\"none\" stroke=\"#000000\" points=\"1716.5,-425 1599.5,-425 1599.5,-342 1716.5,-342 1716.5,-425\"/>\n<text text-anchor=\"middle\" x=\"1658\" y=\"-409.8\" font-family=\"Times,serif\" font-size=\"14.00\" fill=\"#000000\">High_fare &lt;= 0.5</text>\n<text text-anchor=\"middle\" x=\"1658\" y=\"-394.8\" font-family=\"Times,serif\" font-size=\"14.00\" fill=\"#000000\">gini = 0.1</text>\n<text text-anchor=\"middle\" x=\"1658\" y=\"-379.8\" font-family=\"Times,serif\" font-size=\"14.00\" fill=\"#000000\">samples = 170</text>\n<text text-anchor=\"middle\" x=\"1658\" y=\"-364.8\" font-family=\"Times,serif\" font-size=\"14.00\" fill=\"#000000\">value = [9, 161]</text>\n<text text-anchor=\"middle\" x=\"1658\" y=\"-349.8\" font-family=\"Times,serif\" font-size=\"14.00\" fill=\"#000000\">class = Survived</text>\n</g>\n<!-- 24&#45;&gt;25 -->\n<g id=\"edge25\" class=\"edge\">\n<title>24&#45;&gt;25</title>\n<path fill=\"none\" stroke=\"#000000\" d=\"M1658,-460.8796C1658,-452.6838 1658,-443.9891 1658,-435.5013\"/>\n<polygon fill=\"#000000\" stroke=\"#000000\" points=\"1661.5001,-435.298 1658,-425.2981 1654.5001,-435.2981 1661.5001,-435.298\"/>\n</g>\n<!-- 40 -->\n<g id=\"node41\" class=\"node\">\n<title>40</title>\n<polygon fill=\"none\" stroke=\"#000000\" points=\"2499,-425 2389,-425 2389,-342 2499,-342 2499,-425\"/>\n<text text-anchor=\"middle\" x=\"2444\" y=\"-409.8\" font-family=\"Times,serif\" font-size=\"14.00\" fill=\"#000000\">S &lt;= 0.5</text>\n<text text-anchor=\"middle\" x=\"2444\" y=\"-394.8\" font-family=\"Times,serif\" font-size=\"14.00\" fill=\"#000000\">gini = 0.5</text>\n<text text-anchor=\"middle\" x=\"2444\" y=\"-379.8\" font-family=\"Times,serif\" font-size=\"14.00\" fill=\"#000000\">samples = 144</text>\n<text text-anchor=\"middle\" x=\"2444\" y=\"-364.8\" font-family=\"Times,serif\" font-size=\"14.00\" fill=\"#000000\">value = [72, 72]</text>\n<text text-anchor=\"middle\" x=\"2444\" y=\"-349.8\" font-family=\"Times,serif\" font-size=\"14.00\" fill=\"#000000\">class = Dead</text>\n</g>\n<!-- 24&#45;&gt;40 -->\n<g id=\"edge40\" class=\"edge\">\n<title>24&#45;&gt;40</title>\n<path fill=\"none\" stroke=\"#000000\" d=\"M1716.7563,-493.6043C1860.4685,-471.8464 2228.8971,-416.0665 2378.9438,-393.3495\"/>\n<polygon fill=\"#000000\" stroke=\"#000000\" points=\"2379.572,-396.7943 2388.9354,-391.8368 2378.5241,-389.8732 2379.572,-396.7943\"/>\n</g>\n<!-- 26 -->\n<g id=\"node27\" class=\"node\">\n<title>26</title>\n<polygon fill=\"none\" stroke=\"#000000\" points=\"1620.5,-306 1509.5,-306 1509.5,-223 1620.5,-223 1620.5,-306\"/>\n<text text-anchor=\"middle\" x=\"1565\" y=\"-290.8\" font-family=\"Times,serif\" font-size=\"14.00\" fill=\"#000000\">Old &lt;= 0.5</text>\n<text text-anchor=\"middle\" x=\"1565\" y=\"-275.8\" font-family=\"Times,serif\" font-size=\"14.00\" fill=\"#000000\">gini = 0.156</text>\n<text text-anchor=\"middle\" x=\"1565\" y=\"-260.8\" font-family=\"Times,serif\" font-size=\"14.00\" fill=\"#000000\">samples = 82</text>\n<text text-anchor=\"middle\" x=\"1565\" y=\"-245.8\" font-family=\"Times,serif\" font-size=\"14.00\" fill=\"#000000\">value = [7, 75]</text>\n<text text-anchor=\"middle\" x=\"1565\" y=\"-230.8\" font-family=\"Times,serif\" font-size=\"14.00\" fill=\"#000000\">class = Survived</text>\n</g>\n<!-- 25&#45;&gt;26 -->\n<g id=\"edge26\" class=\"edge\">\n<title>25&#45;&gt;26</title>\n<path fill=\"none\" stroke=\"#000000\" d=\"M1625.4731,-341.8796C1618.5049,-332.9633 1611.0753,-323.4565 1603.8944,-314.268\"/>\n<polygon fill=\"#000000\" stroke=\"#000000\" points=\"1606.5812,-312.0221 1597.6657,-306.2981 1601.0657,-316.3326 1606.5812,-312.0221\"/>\n</g>\n<!-- 33 -->\n<g id=\"node34\" class=\"node\">\n<title>33</title>\n<polygon fill=\"none\" stroke=\"#000000\" points=\"1870.5,-306 1759.5,-306 1759.5,-223 1870.5,-223 1870.5,-306\"/>\n<text text-anchor=\"middle\" x=\"1815\" y=\"-290.8\" font-family=\"Times,serif\" font-size=\"14.00\" fill=\"#000000\">Young &lt;= 0.5</text>\n<text text-anchor=\"middle\" x=\"1815\" y=\"-275.8\" font-family=\"Times,serif\" font-size=\"14.00\" fill=\"#000000\">gini = 0.044</text>\n<text text-anchor=\"middle\" x=\"1815\" y=\"-260.8\" font-family=\"Times,serif\" font-size=\"14.00\" fill=\"#000000\">samples = 88</text>\n<text text-anchor=\"middle\" x=\"1815\" y=\"-245.8\" font-family=\"Times,serif\" font-size=\"14.00\" fill=\"#000000\">value = [2, 86]</text>\n<text text-anchor=\"middle\" x=\"1815\" y=\"-230.8\" font-family=\"Times,serif\" font-size=\"14.00\" fill=\"#000000\">class = Survived</text>\n</g>\n<!-- 25&#45;&gt;33 -->\n<g id=\"edge33\" class=\"edge\">\n<title>25&#45;&gt;33</title>\n<path fill=\"none\" stroke=\"#000000\" d=\"M1712.911,-341.8796C1725.5794,-332.2774 1739.1515,-321.9903 1752.1295,-312.1534\"/>\n<polygon fill=\"#000000\" stroke=\"#000000\" points=\"1754.2648,-314.9268 1760.12,-306.0969 1750.0364,-309.3482 1754.2648,-314.9268\"/>\n</g>\n<!-- 27 -->\n<g id=\"node28\" class=\"node\">\n<title>27</title>\n<polygon fill=\"none\" stroke=\"#000000\" points=\"1435.5,-187 1324.5,-187 1324.5,-104 1435.5,-104 1435.5,-187\"/>\n<text text-anchor=\"middle\" x=\"1380\" y=\"-171.8\" font-family=\"Times,serif\" font-size=\"14.00\" fill=\"#000000\">Mid &lt;= 0.5</text>\n<text text-anchor=\"middle\" x=\"1380\" y=\"-156.8\" font-family=\"Times,serif\" font-size=\"14.00\" fill=\"#000000\">gini = 0.126</text>\n<text text-anchor=\"middle\" x=\"1380\" y=\"-141.8\" font-family=\"Times,serif\" font-size=\"14.00\" fill=\"#000000\">samples = 74</text>\n<text text-anchor=\"middle\" x=\"1380\" y=\"-126.8\" font-family=\"Times,serif\" font-size=\"14.00\" fill=\"#000000\">value = [5, 69]</text>\n<text text-anchor=\"middle\" x=\"1380\" y=\"-111.8\" font-family=\"Times,serif\" font-size=\"14.00\" fill=\"#000000\">class = Survived</text>\n</g>\n<!-- 26&#45;&gt;27 -->\n<g id=\"edge27\" class=\"edge\">\n<title>26&#45;&gt;27</title>\n<path fill=\"none\" stroke=\"#000000\" d=\"M1509.4939,-228.7961C1489.0079,-215.6186 1465.6235,-200.5768 1444.4153,-186.9347\"/>\n<polygon fill=\"#000000\" stroke=\"#000000\" points=\"1446.0902,-183.8505 1435.7864,-181.3842 1442.3032,-189.7378 1446.0902,-183.8505\"/>\n</g>\n<!-- 30 -->\n<g id=\"node31\" class=\"node\">\n<title>30</title>\n<polygon fill=\"none\" stroke=\"#000000\" points=\"1620.5,-187 1509.5,-187 1509.5,-104 1620.5,-104 1620.5,-187\"/>\n<text text-anchor=\"middle\" x=\"1565\" y=\"-171.8\" font-family=\"Times,serif\" font-size=\"14.00\" fill=\"#000000\">C &lt;= 0.5</text>\n<text text-anchor=\"middle\" x=\"1565\" y=\"-156.8\" font-family=\"Times,serif\" font-size=\"14.00\" fill=\"#000000\">gini = 0.375</text>\n<text text-anchor=\"middle\" x=\"1565\" y=\"-141.8\" font-family=\"Times,serif\" font-size=\"14.00\" fill=\"#000000\">samples = 8</text>\n<text text-anchor=\"middle\" x=\"1565\" y=\"-126.8\" font-family=\"Times,serif\" font-size=\"14.00\" fill=\"#000000\">value = [2, 6]</text>\n<text text-anchor=\"middle\" x=\"1565\" y=\"-111.8\" font-family=\"Times,serif\" font-size=\"14.00\" fill=\"#000000\">class = Survived</text>\n</g>\n<!-- 26&#45;&gt;30 -->\n<g id=\"edge30\" class=\"edge\">\n<title>26&#45;&gt;30</title>\n<path fill=\"none\" stroke=\"#000000\" d=\"M1565,-222.8796C1565,-214.6838 1565,-205.9891 1565,-197.5013\"/>\n<polygon fill=\"#000000\" stroke=\"#000000\" points=\"1568.5001,-197.298 1565,-187.2981 1561.5001,-197.2981 1568.5001,-197.298\"/>\n</g>\n<!-- 28 -->\n<g id=\"node29\" class=\"node\">\n<title>28</title>\n<polygon fill=\"none\" stroke=\"#000000\" points=\"1306.5,-68 1195.5,-68 1195.5,0 1306.5,0 1306.5,-68\"/>\n<text text-anchor=\"middle\" x=\"1251\" y=\"-52.8\" font-family=\"Times,serif\" font-size=\"14.00\" fill=\"#000000\">gini = 0.0</text>\n<text text-anchor=\"middle\" x=\"1251\" y=\"-37.8\" font-family=\"Times,serif\" font-size=\"14.00\" fill=\"#000000\">samples = 18</text>\n<text text-anchor=\"middle\" x=\"1251\" y=\"-22.8\" font-family=\"Times,serif\" font-size=\"14.00\" fill=\"#000000\">value = [0, 18]</text>\n<text text-anchor=\"middle\" x=\"1251\" y=\"-7.8\" font-family=\"Times,serif\" font-size=\"14.00\" fill=\"#000000\">class = Survived</text>\n</g>\n<!-- 27&#45;&gt;28 -->\n<g id=\"edge28\" class=\"edge\">\n<title>27&#45;&gt;28</title>\n<path fill=\"none\" stroke=\"#000000\" d=\"M1331.9652,-103.9815C1321.013,-94.5151 1309.3821,-84.462 1298.4544,-75.0168\"/>\n<polygon fill=\"#000000\" stroke=\"#000000\" points=\"1300.4957,-72.155 1290.6414,-68.2637 1295.9182,-77.4509 1300.4957,-72.155\"/>\n</g>\n<!-- 29 -->\n<g id=\"node30\" class=\"node\">\n<title>29</title>\n<polygon fill=\"none\" stroke=\"#000000\" points=\"1435.5,-68 1324.5,-68 1324.5,0 1435.5,0 1435.5,-68\"/>\n<text text-anchor=\"middle\" x=\"1380\" y=\"-52.8\" font-family=\"Times,serif\" font-size=\"14.00\" fill=\"#000000\">gini = 0.163</text>\n<text text-anchor=\"middle\" x=\"1380\" y=\"-37.8\" font-family=\"Times,serif\" font-size=\"14.00\" fill=\"#000000\">samples = 56</text>\n<text text-anchor=\"middle\" x=\"1380\" y=\"-22.8\" font-family=\"Times,serif\" font-size=\"14.00\" fill=\"#000000\">value = [5, 51]</text>\n<text text-anchor=\"middle\" x=\"1380\" y=\"-7.8\" font-family=\"Times,serif\" font-size=\"14.00\" fill=\"#000000\">class = Survived</text>\n</g>\n<!-- 27&#45;&gt;29 -->\n<g id=\"edge29\" class=\"edge\">\n<title>27&#45;&gt;29</title>\n<path fill=\"none\" stroke=\"#000000\" d=\"M1380,-103.9815C1380,-95.618 1380,-86.7965 1380,-78.3409\"/>\n<polygon fill=\"#000000\" stroke=\"#000000\" points=\"1383.5001,-78.2636 1380,-68.2637 1376.5001,-78.2637 1383.5001,-78.2636\"/>\n</g>\n<!-- 31 -->\n<g id=\"node32\" class=\"node\">\n<title>31</title>\n<polygon fill=\"none\" stroke=\"#000000\" points=\"1564.5,-68 1453.5,-68 1453.5,0 1564.5,0 1564.5,-68\"/>\n<text text-anchor=\"middle\" x=\"1509\" y=\"-52.8\" font-family=\"Times,serif\" font-size=\"14.00\" fill=\"#000000\">gini = 0.245</text>\n<text text-anchor=\"middle\" x=\"1509\" y=\"-37.8\" font-family=\"Times,serif\" font-size=\"14.00\" fill=\"#000000\">samples = 7</text>\n<text text-anchor=\"middle\" x=\"1509\" y=\"-22.8\" font-family=\"Times,serif\" font-size=\"14.00\" fill=\"#000000\">value = [1, 6]</text>\n<text text-anchor=\"middle\" x=\"1509\" y=\"-7.8\" font-family=\"Times,serif\" font-size=\"14.00\" fill=\"#000000\">class = Survived</text>\n</g>\n<!-- 30&#45;&gt;31 -->\n<g id=\"edge31\" class=\"edge\">\n<title>30&#45;&gt;31</title>\n<path fill=\"none\" stroke=\"#000000\" d=\"M1544.1477,-103.9815C1539.7625,-95.2504 1535.1267,-86.0202 1530.711,-77.2281\"/>\n<polygon fill=\"#000000\" stroke=\"#000000\" points=\"1533.8246,-75.6291 1526.2087,-68.2637 1527.5692,-78.7708 1533.8246,-75.6291\"/>\n</g>\n<!-- 32 -->\n<g id=\"node33\" class=\"node\">\n<title>32</title>\n<polygon fill=\"none\" stroke=\"#000000\" points=\"1677.5,-68 1582.5,-68 1582.5,0 1677.5,0 1677.5,-68\"/>\n<text text-anchor=\"middle\" x=\"1630\" y=\"-52.8\" font-family=\"Times,serif\" font-size=\"14.00\" fill=\"#000000\">gini = 0.0</text>\n<text text-anchor=\"middle\" x=\"1630\" y=\"-37.8\" font-family=\"Times,serif\" font-size=\"14.00\" fill=\"#000000\">samples = 1</text>\n<text text-anchor=\"middle\" x=\"1630\" y=\"-22.8\" font-family=\"Times,serif\" font-size=\"14.00\" fill=\"#000000\">value = [1, 0]</text>\n<text text-anchor=\"middle\" x=\"1630\" y=\"-7.8\" font-family=\"Times,serif\" font-size=\"14.00\" fill=\"#000000\">class = Dead</text>\n</g>\n<!-- 30&#45;&gt;32 -->\n<g id=\"edge32\" class=\"edge\">\n<title>30&#45;&gt;32</title>\n<path fill=\"none\" stroke=\"#000000\" d=\"M1589.2036,-103.9815C1594.3471,-95.1585 1599.7877,-85.8258 1604.9616,-76.9506\"/>\n<polygon fill=\"#000000\" stroke=\"#000000\" points=\"1608.013,-78.6656 1610.0257,-68.2637 1601.9656,-75.1402 1608.013,-78.6656\"/>\n</g>\n<!-- 34 -->\n<g id=\"node35\" class=\"node\">\n<title>34</title>\n<polygon fill=\"none\" stroke=\"#000000\" points=\"1870.5,-187 1759.5,-187 1759.5,-104 1870.5,-104 1870.5,-187\"/>\n<text text-anchor=\"middle\" x=\"1815\" y=\"-171.8\" font-family=\"Times,serif\" font-size=\"14.00\" fill=\"#000000\">S &lt;= 0.5</text>\n<text text-anchor=\"middle\" x=\"1815\" y=\"-156.8\" font-family=\"Times,serif\" font-size=\"14.00\" fill=\"#000000\">gini = 0.023</text>\n<text text-anchor=\"middle\" x=\"1815\" y=\"-141.8\" font-family=\"Times,serif\" font-size=\"14.00\" fill=\"#000000\">samples = 86</text>\n<text text-anchor=\"middle\" x=\"1815\" y=\"-126.8\" font-family=\"Times,serif\" font-size=\"14.00\" fill=\"#000000\">value = [1, 85]</text>\n<text text-anchor=\"middle\" x=\"1815\" y=\"-111.8\" font-family=\"Times,serif\" font-size=\"14.00\" fill=\"#000000\">class = Survived</text>\n</g>\n<!-- 33&#45;&gt;34 -->\n<g id=\"edge34\" class=\"edge\">\n<title>33&#45;&gt;34</title>\n<path fill=\"none\" stroke=\"#000000\" d=\"M1815,-222.8796C1815,-214.6838 1815,-205.9891 1815,-197.5013\"/>\n<polygon fill=\"#000000\" stroke=\"#000000\" points=\"1818.5001,-197.298 1815,-187.2981 1811.5001,-197.2981 1818.5001,-197.298\"/>\n</g>\n<!-- 37 -->\n<g id=\"node38\" class=\"node\">\n<title>37</title>\n<polygon fill=\"none\" stroke=\"#000000\" points=\"2056.5,-187 1961.5,-187 1961.5,-104 2056.5,-104 2056.5,-187\"/>\n<text text-anchor=\"middle\" x=\"2009\" y=\"-171.8\" font-family=\"Times,serif\" font-size=\"14.00\" fill=\"#000000\">S &lt;= 0.5</text>\n<text text-anchor=\"middle\" x=\"2009\" y=\"-156.8\" font-family=\"Times,serif\" font-size=\"14.00\" fill=\"#000000\">gini = 0.5</text>\n<text text-anchor=\"middle\" x=\"2009\" y=\"-141.8\" font-family=\"Times,serif\" font-size=\"14.00\" fill=\"#000000\">samples = 2</text>\n<text text-anchor=\"middle\" x=\"2009\" y=\"-126.8\" font-family=\"Times,serif\" font-size=\"14.00\" fill=\"#000000\">value = [1, 1]</text>\n<text text-anchor=\"middle\" x=\"2009\" y=\"-111.8\" font-family=\"Times,serif\" font-size=\"14.00\" fill=\"#000000\">class = Dead</text>\n</g>\n<!-- 33&#45;&gt;37 -->\n<g id=\"edge37\" class=\"edge\">\n<title>33&#45;&gt;37</title>\n<path fill=\"none\" stroke=\"#000000\" d=\"M1870.5926,-230.3994C1896.3448,-214.6029 1926.8905,-195.8661 1952.7264,-180.0184\"/>\n<polygon fill=\"#000000\" stroke=\"#000000\" points=\"1954.5997,-182.9753 1961.2938,-174.7631 1950.9396,-177.0084 1954.5997,-182.9753\"/>\n</g>\n<!-- 35 -->\n<g id=\"node36\" class=\"node\">\n<title>35</title>\n<polygon fill=\"none\" stroke=\"#000000\" points=\"1806.5,-68 1695.5,-68 1695.5,0 1806.5,0 1806.5,-68\"/>\n<text text-anchor=\"middle\" x=\"1751\" y=\"-52.8\" font-family=\"Times,serif\" font-size=\"14.00\" fill=\"#000000\">gini = 0.0</text>\n<text text-anchor=\"middle\" x=\"1751\" y=\"-37.8\" font-family=\"Times,serif\" font-size=\"14.00\" fill=\"#000000\">samples = 43</text>\n<text text-anchor=\"middle\" x=\"1751\" y=\"-22.8\" font-family=\"Times,serif\" font-size=\"14.00\" fill=\"#000000\">value = [0, 43]</text>\n<text text-anchor=\"middle\" x=\"1751\" y=\"-7.8\" font-family=\"Times,serif\" font-size=\"14.00\" fill=\"#000000\">class = Survived</text>\n</g>\n<!-- 34&#45;&gt;35 -->\n<g id=\"edge35\" class=\"edge\">\n<title>34&#45;&gt;35</title>\n<path fill=\"none\" stroke=\"#000000\" d=\"M1791.1688,-103.9815C1786.1044,-95.1585 1780.7475,-85.8258 1775.6532,-76.9506\"/>\n<polygon fill=\"#000000\" stroke=\"#000000\" points=\"1778.6807,-75.1942 1770.667,-68.2637 1772.6097,-78.6789 1778.6807,-75.1942\"/>\n</g>\n<!-- 36 -->\n<g id=\"node37\" class=\"node\">\n<title>36</title>\n<polygon fill=\"none\" stroke=\"#000000\" points=\"1935.5,-68 1824.5,-68 1824.5,0 1935.5,0 1935.5,-68\"/>\n<text text-anchor=\"middle\" x=\"1880\" y=\"-52.8\" font-family=\"Times,serif\" font-size=\"14.00\" fill=\"#000000\">gini = 0.045</text>\n<text text-anchor=\"middle\" x=\"1880\" y=\"-37.8\" font-family=\"Times,serif\" font-size=\"14.00\" fill=\"#000000\">samples = 43</text>\n<text text-anchor=\"middle\" x=\"1880\" y=\"-22.8\" font-family=\"Times,serif\" font-size=\"14.00\" fill=\"#000000\">value = [1, 42]</text>\n<text text-anchor=\"middle\" x=\"1880\" y=\"-7.8\" font-family=\"Times,serif\" font-size=\"14.00\" fill=\"#000000\">class = Survived</text>\n</g>\n<!-- 34&#45;&gt;36 -->\n<g id=\"edge36\" class=\"edge\">\n<title>34&#45;&gt;36</title>\n<path fill=\"none\" stroke=\"#000000\" d=\"M1839.2036,-103.9815C1844.3471,-95.1585 1849.7877,-85.8258 1854.9616,-76.9506\"/>\n<polygon fill=\"#000000\" stroke=\"#000000\" points=\"1858.013,-78.6656 1860.0257,-68.2637 1851.9656,-75.1402 1858.013,-78.6656\"/>\n</g>\n<!-- 38 -->\n<g id=\"node39\" class=\"node\">\n<title>38</title>\n<polygon fill=\"none\" stroke=\"#000000\" points=\"2064.5,-68 1953.5,-68 1953.5,0 2064.5,0 2064.5,-68\"/>\n<text text-anchor=\"middle\" x=\"2009\" y=\"-52.8\" font-family=\"Times,serif\" font-size=\"14.00\" fill=\"#000000\">gini = 0.0</text>\n<text text-anchor=\"middle\" x=\"2009\" y=\"-37.8\" font-family=\"Times,serif\" font-size=\"14.00\" fill=\"#000000\">samples = 1</text>\n<text text-anchor=\"middle\" x=\"2009\" y=\"-22.8\" font-family=\"Times,serif\" font-size=\"14.00\" fill=\"#000000\">value = [0, 1]</text>\n<text text-anchor=\"middle\" x=\"2009\" y=\"-7.8\" font-family=\"Times,serif\" font-size=\"14.00\" fill=\"#000000\">class = Survived</text>\n</g>\n<!-- 37&#45;&gt;38 -->\n<g id=\"edge38\" class=\"edge\">\n<title>37&#45;&gt;38</title>\n<path fill=\"none\" stroke=\"#000000\" d=\"M2009,-103.9815C2009,-95.618 2009,-86.7965 2009,-78.3409\"/>\n<polygon fill=\"#000000\" stroke=\"#000000\" points=\"2012.5001,-78.2636 2009,-68.2637 2005.5001,-78.2637 2012.5001,-78.2636\"/>\n</g>\n<!-- 39 -->\n<g id=\"node40\" class=\"node\">\n<title>39</title>\n<polygon fill=\"none\" stroke=\"#000000\" points=\"2177.5,-68 2082.5,-68 2082.5,0 2177.5,0 2177.5,-68\"/>\n<text text-anchor=\"middle\" x=\"2130\" y=\"-52.8\" font-family=\"Times,serif\" font-size=\"14.00\" fill=\"#000000\">gini = 0.0</text>\n<text text-anchor=\"middle\" x=\"2130\" y=\"-37.8\" font-family=\"Times,serif\" font-size=\"14.00\" fill=\"#000000\">samples = 1</text>\n<text text-anchor=\"middle\" x=\"2130\" y=\"-22.8\" font-family=\"Times,serif\" font-size=\"14.00\" fill=\"#000000\">value = [1, 0]</text>\n<text text-anchor=\"middle\" x=\"2130\" y=\"-7.8\" font-family=\"Times,serif\" font-size=\"14.00\" fill=\"#000000\">class = Dead</text>\n</g>\n<!-- 37&#45;&gt;39 -->\n<g id=\"edge39\" class=\"edge\">\n<title>37&#45;&gt;39</title>\n<path fill=\"none\" stroke=\"#000000\" d=\"M2054.0559,-103.9815C2064.2291,-94.607 2075.0267,-84.6572 2085.1898,-75.2921\"/>\n<polygon fill=\"#000000\" stroke=\"#000000\" points=\"2087.8349,-77.6141 2092.817,-68.2637 2083.0913,-72.4663 2087.8349,-77.6141\"/>\n</g>\n<!-- 41 -->\n<g id=\"node42\" class=\"node\">\n<title>41</title>\n<polygon fill=\"none\" stroke=\"#000000\" points=\"2501.5,-306 2386.5,-306 2386.5,-223 2501.5,-223 2501.5,-306\"/>\n<text text-anchor=\"middle\" x=\"2444\" y=\"-290.8\" font-family=\"Times,serif\" font-size=\"14.00\" fill=\"#000000\">Low_fare &lt;= 0.5</text>\n<text text-anchor=\"middle\" x=\"2444\" y=\"-275.8\" font-family=\"Times,serif\" font-size=\"14.00\" fill=\"#000000\">gini = 0.423</text>\n<text text-anchor=\"middle\" x=\"2444\" y=\"-260.8\" font-family=\"Times,serif\" font-size=\"14.00\" fill=\"#000000\">samples = 56</text>\n<text text-anchor=\"middle\" x=\"2444\" y=\"-245.8\" font-family=\"Times,serif\" font-size=\"14.00\" fill=\"#000000\">value = [17, 39]</text>\n<text text-anchor=\"middle\" x=\"2444\" y=\"-230.8\" font-family=\"Times,serif\" font-size=\"14.00\" fill=\"#000000\">class = Survived</text>\n</g>\n<!-- 40&#45;&gt;41 -->\n<g id=\"edge41\" class=\"edge\">\n<title>40&#45;&gt;41</title>\n<path fill=\"none\" stroke=\"#000000\" d=\"M2444,-341.8796C2444,-333.6838 2444,-324.9891 2444,-316.5013\"/>\n<polygon fill=\"#000000\" stroke=\"#000000\" points=\"2447.5001,-316.298 2444,-306.2981 2440.5001,-316.2981 2447.5001,-316.298\"/>\n</g>\n<!-- 48 -->\n<g id=\"node49\" class=\"node\">\n<title>48</title>\n<polygon fill=\"none\" stroke=\"#000000\" points=\"2876.5,-306 2761.5,-306 2761.5,-223 2876.5,-223 2876.5,-306\"/>\n<text text-anchor=\"middle\" x=\"2819\" y=\"-290.8\" font-family=\"Times,serif\" font-size=\"14.00\" fill=\"#000000\">Low_fare &lt;= 0.5</text>\n<text text-anchor=\"middle\" x=\"2819\" y=\"-275.8\" font-family=\"Times,serif\" font-size=\"14.00\" fill=\"#000000\">gini = 0.469</text>\n<text text-anchor=\"middle\" x=\"2819\" y=\"-260.8\" font-family=\"Times,serif\" font-size=\"14.00\" fill=\"#000000\">samples = 88</text>\n<text text-anchor=\"middle\" x=\"2819\" y=\"-245.8\" font-family=\"Times,serif\" font-size=\"14.00\" fill=\"#000000\">value = [55, 33]</text>\n<text text-anchor=\"middle\" x=\"2819\" y=\"-230.8\" font-family=\"Times,serif\" font-size=\"14.00\" fill=\"#000000\">class = Dead</text>\n</g>\n<!-- 40&#45;&gt;48 -->\n<g id=\"edge48\" class=\"edge\">\n<title>40&#45;&gt;48</title>\n<path fill=\"none\" stroke=\"#000000\" d=\"M2499.3325,-365.9411C2566.3665,-344.669 2679.2573,-308.845 2751.3846,-285.9566\"/>\n<polygon fill=\"#000000\" stroke=\"#000000\" points=\"2752.8096,-289.1765 2761.2825,-282.8157 2750.6922,-282.5044 2752.8096,-289.1765\"/>\n</g>\n<!-- 42 -->\n<g id=\"node43\" class=\"node\">\n<title>42</title>\n<polygon fill=\"none\" stroke=\"#000000\" points=\"2435.5,-187 2324.5,-187 2324.5,-104 2435.5,-104 2435.5,-187\"/>\n<text text-anchor=\"middle\" x=\"2380\" y=\"-171.8\" font-family=\"Times,serif\" font-size=\"14.00\" fill=\"#000000\">Young &lt;= 0.5</text>\n<text text-anchor=\"middle\" x=\"2380\" y=\"-156.8\" font-family=\"Times,serif\" font-size=\"14.00\" fill=\"#000000\">gini = 0.486</text>\n<text text-anchor=\"middle\" x=\"2380\" y=\"-141.8\" font-family=\"Times,serif\" font-size=\"14.00\" fill=\"#000000\">samples = 24</text>\n<text text-anchor=\"middle\" x=\"2380\" y=\"-126.8\" font-family=\"Times,serif\" font-size=\"14.00\" fill=\"#000000\">value = [10, 14]</text>\n<text text-anchor=\"middle\" x=\"2380\" y=\"-111.8\" font-family=\"Times,serif\" font-size=\"14.00\" fill=\"#000000\">class = Survived</text>\n</g>\n<!-- 41&#45;&gt;42 -->\n<g id=\"edge42\" class=\"edge\">\n<title>41&#45;&gt;42</title>\n<path fill=\"none\" stroke=\"#000000\" d=\"M2421.6159,-222.8796C2417.0144,-214.3236 2412.1204,-205.2238 2407.3658,-196.3833\"/>\n<polygon fill=\"#000000\" stroke=\"#000000\" points=\"2410.2988,-194.4473 2402.4796,-187.2981 2404.1338,-197.763 2410.2988,-194.4473\"/>\n</g>\n<!-- 45 -->\n<g id=\"node46\" class=\"node\">\n<title>45</title>\n<polygon fill=\"none\" stroke=\"#000000\" points=\"2564.5,-187 2453.5,-187 2453.5,-104 2564.5,-104 2564.5,-187\"/>\n<text text-anchor=\"middle\" x=\"2509\" y=\"-171.8\" font-family=\"Times,serif\" font-size=\"14.00\" fill=\"#000000\">Q &lt;= 0.5</text>\n<text text-anchor=\"middle\" x=\"2509\" y=\"-156.8\" font-family=\"Times,serif\" font-size=\"14.00\" fill=\"#000000\">gini = 0.342</text>\n<text text-anchor=\"middle\" x=\"2509\" y=\"-141.8\" font-family=\"Times,serif\" font-size=\"14.00\" fill=\"#000000\">samples = 32</text>\n<text text-anchor=\"middle\" x=\"2509\" y=\"-126.8\" font-family=\"Times,serif\" font-size=\"14.00\" fill=\"#000000\">value = [7, 25]</text>\n<text text-anchor=\"middle\" x=\"2509\" y=\"-111.8\" font-family=\"Times,serif\" font-size=\"14.00\" fill=\"#000000\">class = Survived</text>\n</g>\n<!-- 41&#45;&gt;45 -->\n<g id=\"edge45\" class=\"edge\">\n<title>41&#45;&gt;45</title>\n<path fill=\"none\" stroke=\"#000000\" d=\"M2466.7338,-222.8796C2471.4565,-214.2335 2476.4824,-205.0322 2481.359,-196.1042\"/>\n<polygon fill=\"#000000\" stroke=\"#000000\" points=\"2484.447,-197.752 2486.1691,-187.2981 2478.3037,-194.3964 2484.447,-197.752\"/>\n</g>\n<!-- 43 -->\n<g id=\"node44\" class=\"node\">\n<title>43</title>\n<polygon fill=\"none\" stroke=\"#000000\" points=\"2306.5,-68 2195.5,-68 2195.5,0 2306.5,0 2306.5,-68\"/>\n<text text-anchor=\"middle\" x=\"2251\" y=\"-52.8\" font-family=\"Times,serif\" font-size=\"14.00\" fill=\"#000000\">gini = 0.499</text>\n<text text-anchor=\"middle\" x=\"2251\" y=\"-37.8\" font-family=\"Times,serif\" font-size=\"14.00\" fill=\"#000000\">samples = 19</text>\n<text text-anchor=\"middle\" x=\"2251\" y=\"-22.8\" font-family=\"Times,serif\" font-size=\"14.00\" fill=\"#000000\">value = [9, 10]</text>\n<text text-anchor=\"middle\" x=\"2251\" y=\"-7.8\" font-family=\"Times,serif\" font-size=\"14.00\" fill=\"#000000\">class = Survived</text>\n</g>\n<!-- 42&#45;&gt;43 -->\n<g id=\"edge43\" class=\"edge\">\n<title>42&#45;&gt;43</title>\n<path fill=\"none\" stroke=\"#000000\" d=\"M2331.9652,-103.9815C2321.013,-94.5151 2309.3821,-84.462 2298.4544,-75.0168\"/>\n<polygon fill=\"#000000\" stroke=\"#000000\" points=\"2300.4957,-72.155 2290.6414,-68.2637 2295.9182,-77.4509 2300.4957,-72.155\"/>\n</g>\n<!-- 44 -->\n<g id=\"node45\" class=\"node\">\n<title>44</title>\n<polygon fill=\"none\" stroke=\"#000000\" points=\"2435.5,-68 2324.5,-68 2324.5,0 2435.5,0 2435.5,-68\"/>\n<text text-anchor=\"middle\" x=\"2380\" y=\"-52.8\" font-family=\"Times,serif\" font-size=\"14.00\" fill=\"#000000\">gini = 0.32</text>\n<text text-anchor=\"middle\" x=\"2380\" y=\"-37.8\" font-family=\"Times,serif\" font-size=\"14.00\" fill=\"#000000\">samples = 5</text>\n<text text-anchor=\"middle\" x=\"2380\" y=\"-22.8\" font-family=\"Times,serif\" font-size=\"14.00\" fill=\"#000000\">value = [1, 4]</text>\n<text text-anchor=\"middle\" x=\"2380\" y=\"-7.8\" font-family=\"Times,serif\" font-size=\"14.00\" fill=\"#000000\">class = Survived</text>\n</g>\n<!-- 42&#45;&gt;44 -->\n<g id=\"edge44\" class=\"edge\">\n<title>42&#45;&gt;44</title>\n<path fill=\"none\" stroke=\"#000000\" d=\"M2380,-103.9815C2380,-95.618 2380,-86.7965 2380,-78.3409\"/>\n<polygon fill=\"#000000\" stroke=\"#000000\" points=\"2383.5001,-78.2636 2380,-68.2637 2376.5001,-78.2637 2383.5001,-78.2636\"/>\n</g>\n<!-- 46 -->\n<g id=\"node47\" class=\"node\">\n<title>46</title>\n<polygon fill=\"none\" stroke=\"#000000\" points=\"2564.5,-68 2453.5,-68 2453.5,0 2564.5,0 2564.5,-68\"/>\n<text text-anchor=\"middle\" x=\"2509\" y=\"-52.8\" font-family=\"Times,serif\" font-size=\"14.00\" fill=\"#000000\">gini = 0.0</text>\n<text text-anchor=\"middle\" x=\"2509\" y=\"-37.8\" font-family=\"Times,serif\" font-size=\"14.00\" fill=\"#000000\">samples = 6</text>\n<text text-anchor=\"middle\" x=\"2509\" y=\"-22.8\" font-family=\"Times,serif\" font-size=\"14.00\" fill=\"#000000\">value = [0, 6]</text>\n<text text-anchor=\"middle\" x=\"2509\" y=\"-7.8\" font-family=\"Times,serif\" font-size=\"14.00\" fill=\"#000000\">class = Survived</text>\n</g>\n<!-- 45&#45;&gt;46 -->\n<g id=\"edge46\" class=\"edge\">\n<title>45&#45;&gt;46</title>\n<path fill=\"none\" stroke=\"#000000\" d=\"M2509,-103.9815C2509,-95.618 2509,-86.7965 2509,-78.3409\"/>\n<polygon fill=\"#000000\" stroke=\"#000000\" points=\"2512.5001,-78.2636 2509,-68.2637 2505.5001,-78.2637 2512.5001,-78.2636\"/>\n</g>\n<!-- 47 -->\n<g id=\"node48\" class=\"node\">\n<title>47</title>\n<polygon fill=\"none\" stroke=\"#000000\" points=\"2693.5,-68 2582.5,-68 2582.5,0 2693.5,0 2693.5,-68\"/>\n<text text-anchor=\"middle\" x=\"2638\" y=\"-52.8\" font-family=\"Times,serif\" font-size=\"14.00\" fill=\"#000000\">gini = 0.393</text>\n<text text-anchor=\"middle\" x=\"2638\" y=\"-37.8\" font-family=\"Times,serif\" font-size=\"14.00\" fill=\"#000000\">samples = 26</text>\n<text text-anchor=\"middle\" x=\"2638\" y=\"-22.8\" font-family=\"Times,serif\" font-size=\"14.00\" fill=\"#000000\">value = [7, 19]</text>\n<text text-anchor=\"middle\" x=\"2638\" y=\"-7.8\" font-family=\"Times,serif\" font-size=\"14.00\" fill=\"#000000\">class = Survived</text>\n</g>\n<!-- 45&#45;&gt;47 -->\n<g id=\"edge47\" class=\"edge\">\n<title>45&#45;&gt;47</title>\n<path fill=\"none\" stroke=\"#000000\" d=\"M2557.0348,-103.9815C2567.987,-94.5151 2579.6179,-84.462 2590.5456,-75.0168\"/>\n<polygon fill=\"#000000\" stroke=\"#000000\" points=\"2593.0818,-77.4509 2598.3586,-68.2637 2588.5043,-72.155 2593.0818,-77.4509\"/>\n</g>\n<!-- 49 -->\n<g id=\"node50\" class=\"node\">\n<title>49</title>\n<polygon fill=\"none\" stroke=\"#000000\" points=\"2875,-187 2763,-187 2763,-104 2875,-104 2875,-187\"/>\n<text text-anchor=\"middle\" x=\"2819\" y=\"-171.8\" font-family=\"Times,serif\" font-size=\"14.00\" fill=\"#000000\">Mid_fare &lt;= 0.5</text>\n<text text-anchor=\"middle\" x=\"2819\" y=\"-156.8\" font-family=\"Times,serif\" font-size=\"14.00\" fill=\"#000000\">gini = 0.391</text>\n<text text-anchor=\"middle\" x=\"2819\" y=\"-141.8\" font-family=\"Times,serif\" font-size=\"14.00\" fill=\"#000000\">samples = 45</text>\n<text text-anchor=\"middle\" x=\"2819\" y=\"-126.8\" font-family=\"Times,serif\" font-size=\"14.00\" fill=\"#000000\">value = [33, 12]</text>\n<text text-anchor=\"middle\" x=\"2819\" y=\"-111.8\" font-family=\"Times,serif\" font-size=\"14.00\" fill=\"#000000\">class = Dead</text>\n</g>\n<!-- 48&#45;&gt;49 -->\n<g id=\"edge49\" class=\"edge\">\n<title>48&#45;&gt;49</title>\n<path fill=\"none\" stroke=\"#000000\" d=\"M2819,-222.8796C2819,-214.6838 2819,-205.9891 2819,-197.5013\"/>\n<polygon fill=\"#000000\" stroke=\"#000000\" points=\"2822.5001,-197.298 2819,-187.2981 2815.5001,-197.2981 2822.5001,-197.298\"/>\n</g>\n<!-- 52 -->\n<g id=\"node53\" class=\"node\">\n<title>52</title>\n<polygon fill=\"none\" stroke=\"#000000\" points=\"3064,-187 2954,-187 2954,-104 3064,-104 3064,-187\"/>\n<text text-anchor=\"middle\" x=\"3009\" y=\"-171.8\" font-family=\"Times,serif\" font-size=\"14.00\" fill=\"#000000\">Mid &lt;= 0.5</text>\n<text text-anchor=\"middle\" x=\"3009\" y=\"-156.8\" font-family=\"Times,serif\" font-size=\"14.00\" fill=\"#000000\">gini = 0.5</text>\n<text text-anchor=\"middle\" x=\"3009\" y=\"-141.8\" font-family=\"Times,serif\" font-size=\"14.00\" fill=\"#000000\">samples = 43</text>\n<text text-anchor=\"middle\" x=\"3009\" y=\"-126.8\" font-family=\"Times,serif\" font-size=\"14.00\" fill=\"#000000\">value = [22, 21]</text>\n<text text-anchor=\"middle\" x=\"3009\" y=\"-111.8\" font-family=\"Times,serif\" font-size=\"14.00\" fill=\"#000000\">class = Dead</text>\n</g>\n<!-- 48&#45;&gt;52 -->\n<g id=\"edge52\" class=\"edge\">\n<title>48&#45;&gt;52</title>\n<path fill=\"none\" stroke=\"#000000\" d=\"M2876.5219,-228.4731C2898.217,-214.8851 2923.0179,-199.352 2945.2493,-185.4281\"/>\n<polygon fill=\"#000000\" stroke=\"#000000\" points=\"2947.3363,-188.2508 2953.9534,-179.9765 2943.6206,-182.3183 2947.3363,-188.2508\"/>\n</g>\n<!-- 50 -->\n<g id=\"node51\" class=\"node\">\n<title>50</title>\n<polygon fill=\"none\" stroke=\"#000000\" points=\"2806.5,-68 2711.5,-68 2711.5,0 2806.5,0 2806.5,-68\"/>\n<text text-anchor=\"middle\" x=\"2759\" y=\"-52.8\" font-family=\"Times,serif\" font-size=\"14.00\" fill=\"#000000\">gini = 0.0</text>\n<text text-anchor=\"middle\" x=\"2759\" y=\"-37.8\" font-family=\"Times,serif\" font-size=\"14.00\" fill=\"#000000\">samples = 5</text>\n<text text-anchor=\"middle\" x=\"2759\" y=\"-22.8\" font-family=\"Times,serif\" font-size=\"14.00\" fill=\"#000000\">value = [5, 0]</text>\n<text text-anchor=\"middle\" x=\"2759\" y=\"-7.8\" font-family=\"Times,serif\" font-size=\"14.00\" fill=\"#000000\">class = Dead</text>\n</g>\n<!-- 49&#45;&gt;50 -->\n<g id=\"edge50\" class=\"edge\">\n<title>49&#45;&gt;50</title>\n<path fill=\"none\" stroke=\"#000000\" d=\"M2796.6582,-103.9815C2791.9598,-95.2504 2786.9929,-86.0202 2782.2617,-77.2281\"/>\n<polygon fill=\"#000000\" stroke=\"#000000\" points=\"2785.2586,-75.4111 2777.4379,-68.2637 2779.0944,-78.7282 2785.2586,-75.4111\"/>\n</g>\n<!-- 51 -->\n<g id=\"node52\" class=\"node\">\n<title>51</title>\n<polygon fill=\"none\" stroke=\"#000000\" points=\"2935,-68 2825,-68 2825,0 2935,0 2935,-68\"/>\n<text text-anchor=\"middle\" x=\"2880\" y=\"-52.8\" font-family=\"Times,serif\" font-size=\"14.00\" fill=\"#000000\">gini = 0.42</text>\n<text text-anchor=\"middle\" x=\"2880\" y=\"-37.8\" font-family=\"Times,serif\" font-size=\"14.00\" fill=\"#000000\">samples = 40</text>\n<text text-anchor=\"middle\" x=\"2880\" y=\"-22.8\" font-family=\"Times,serif\" font-size=\"14.00\" fill=\"#000000\">value = [28, 12]</text>\n<text text-anchor=\"middle\" x=\"2880\" y=\"-7.8\" font-family=\"Times,serif\" font-size=\"14.00\" fill=\"#000000\">class = Dead</text>\n</g>\n<!-- 49&#45;&gt;51 -->\n<g id=\"edge51\" class=\"edge\">\n<title>49&#45;&gt;51</title>\n<path fill=\"none\" stroke=\"#000000\" d=\"M2841.7141,-103.9815C2846.4908,-95.2504 2851.5405,-86.0202 2856.3506,-77.2281\"/>\n<polygon fill=\"#000000\" stroke=\"#000000\" points=\"2859.5258,-78.7165 2861.2549,-68.2637 2853.3847,-75.3568 2859.5258,-78.7165\"/>\n</g>\n<!-- 53 -->\n<g id=\"node54\" class=\"node\">\n<title>53</title>\n<polygon fill=\"none\" stroke=\"#000000\" points=\"3064.5,-68 2953.5,-68 2953.5,0 3064.5,0 3064.5,-68\"/>\n<text text-anchor=\"middle\" x=\"3009\" y=\"-52.8\" font-family=\"Times,serif\" font-size=\"14.00\" fill=\"#000000\">gini = 0.375</text>\n<text text-anchor=\"middle\" x=\"3009\" y=\"-37.8\" font-family=\"Times,serif\" font-size=\"14.00\" fill=\"#000000\">samples = 12</text>\n<text text-anchor=\"middle\" x=\"3009\" y=\"-22.8\" font-family=\"Times,serif\" font-size=\"14.00\" fill=\"#000000\">value = [3, 9]</text>\n<text text-anchor=\"middle\" x=\"3009\" y=\"-7.8\" font-family=\"Times,serif\" font-size=\"14.00\" fill=\"#000000\">class = Survived</text>\n</g>\n<!-- 52&#45;&gt;53 -->\n<g id=\"edge53\" class=\"edge\">\n<title>52&#45;&gt;53</title>\n<path fill=\"none\" stroke=\"#000000\" d=\"M3009,-103.9815C3009,-95.618 3009,-86.7965 3009,-78.3409\"/>\n<polygon fill=\"#000000\" stroke=\"#000000\" points=\"3012.5001,-78.2636 3009,-68.2637 3005.5001,-78.2637 3012.5001,-78.2636\"/>\n</g>\n<!-- 54 -->\n<g id=\"node55\" class=\"node\">\n<title>54</title>\n<polygon fill=\"none\" stroke=\"#000000\" points=\"3193,-68 3083,-68 3083,0 3193,0 3193,-68\"/>\n<text text-anchor=\"middle\" x=\"3138\" y=\"-52.8\" font-family=\"Times,serif\" font-size=\"14.00\" fill=\"#000000\">gini = 0.475</text>\n<text text-anchor=\"middle\" x=\"3138\" y=\"-37.8\" font-family=\"Times,serif\" font-size=\"14.00\" fill=\"#000000\">samples = 31</text>\n<text text-anchor=\"middle\" x=\"3138\" y=\"-22.8\" font-family=\"Times,serif\" font-size=\"14.00\" fill=\"#000000\">value = [19, 12]</text>\n<text text-anchor=\"middle\" x=\"3138\" y=\"-7.8\" font-family=\"Times,serif\" font-size=\"14.00\" fill=\"#000000\">class = Dead</text>\n</g>\n<!-- 52&#45;&gt;54 -->\n<g id=\"edge54\" class=\"edge\">\n<title>52&#45;&gt;54</title>\n<path fill=\"none\" stroke=\"#000000\" d=\"M3057.0348,-103.9815C3067.987,-94.5151 3079.6179,-84.462 3090.5456,-75.0168\"/>\n<polygon fill=\"#000000\" stroke=\"#000000\" points=\"3093.0818,-77.4509 3098.3586,-68.2637 3088.5043,-72.155 3093.0818,-77.4509\"/>\n</g>\n</g>\n</svg>\n"
          },
          "metadata": {
            "tags": []
          },
          "execution_count": 55
        }
      ]
    },
    {
      "cell_type": "code",
      "metadata": {
        "id": "Zzb5IkNXfUDz",
        "colab_type": "code",
        "outputId": "a9a17fbd-32c3-484e-cb8d-d90bfb098e2b",
        "colab": {
          "resources": {
            "http://localhost:8080/nbextensions/google.colab/files.js": {
              "data": "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",
              "ok": true,
              "headers": [
                [
                  "content-type",
                  "application/javascript"
                ]
              ],
              "status": 200,
              "status_text": ""
            }
          },
          "base_uri": "https://localhost:8080/",
          "height": 222
        }
      },
      "source": [
        "files.upload()"
      ],
      "execution_count": 64,
      "outputs": [
        {
          "output_type": "display_data",
          "data": {
            "text/html": [
              "\n",
              "     <input type=\"file\" id=\"files-9b002927-810c-4e43-98e5-737dde42d638\" name=\"files[]\" multiple disabled />\n",
              "     <output id=\"result-9b002927-810c-4e43-98e5-737dde42d638\">\n",
              "      Upload widget is only available when the cell has been executed in the\n",
              "      current browser session. Please rerun this cell to enable.\n",
              "      </output>\n",
              "      <script src=\"/nbextensions/google.colab/files.js\"></script> "
            ],
            "text/plain": [
              "<IPython.core.display.HTML object>"
            ]
          },
          "metadata": {
            "tags": []
          }
        },
        {
          "output_type": "stream",
          "text": [
            "Saving gender_submission.csv to gender_submission (2).csv\n",
            "Saving test.csv to test (3).csv\n",
            "Saving train.csv to train (3).csv\n"
          ],
          "name": "stdout"
        },
        {
          "output_type": "execute_result",
          "data": {
            "text/plain": [
              "{'gender_submission.csv': b'PassengerId,Survived\\r\\n892,0\\r\\n893,1\\r\\n894,0\\r\\n895,0\\r\\n896,1\\r\\n897,0\\r\\n898,1\\r\\n899,0\\r\\n900,1\\r\\n901,0\\r\\n902,0\\r\\n903,0\\r\\n904,1\\r\\n905,0\\r\\n906,1\\r\\n907,1\\r\\n908,0\\r\\n909,0\\r\\n910,1\\r\\n911,1\\r\\n912,0\\r\\n913,0\\r\\n914,1\\r\\n915,0\\r\\n916,1\\r\\n917,0\\r\\n918,1\\r\\n919,0\\r\\n920,0\\r\\n921,0\\r\\n922,0\\r\\n923,0\\r\\n924,1\\r\\n925,1\\r\\n926,0\\r\\n927,0\\r\\n928,1\\r\\n929,1\\r\\n930,0\\r\\n931,0\\r\\n932,0\\r\\n933,0\\r\\n934,0\\r\\n935,1\\r\\n936,1\\r\\n937,0\\r\\n938,0\\r\\n939,0\\r\\n940,1\\r\\n941,1\\r\\n942,0\\r\\n943,0\\r\\n944,1\\r\\n945,1\\r\\n946,0\\r\\n947,0\\r\\n948,0\\r\\n949,0\\r\\n950,0\\r\\n951,1\\r\\n952,0\\r\\n953,0\\r\\n954,0\\r\\n955,1\\r\\n956,0\\r\\n957,1\\r\\n958,1\\r\\n959,0\\r\\n960,0\\r\\n961,1\\r\\n962,1\\r\\n963,0\\r\\n964,1\\r\\n965,0\\r\\n966,1\\r\\n967,0\\r\\n968,0\\r\\n969,1\\r\\n970,0\\r\\n971,1\\r\\n972,0\\r\\n973,0\\r\\n974,0\\r\\n975,0\\r\\n976,0\\r\\n977,0\\r\\n978,1\\r\\n979,1\\r\\n980,1\\r\\n981,0\\r\\n982,1\\r\\n983,0\\r\\n984,1\\r\\n985,0\\r\\n986,0\\r\\n987,0\\r\\n988,1\\r\\n989,0\\r\\n990,1\\r\\n991,0\\r\\n992,1\\r\\n993,0\\r\\n994,0\\r\\n995,0\\r\\n996,1\\r\\n997,0\\r\\n998,0\\r\\n999,0\\r\\n1000,0\\r\\n1001,0\\r\\n1002,0\\r\\n1003,1\\r\\n1004,1\\r\\n1005,1\\r\\n1006,1\\r\\n1007,0\\r\\n1008,0\\r\\n1009,1\\r\\n1010,0\\r\\n1011,1\\r\\n1012,1\\r\\n1013,0\\r\\n1014,1\\r\\n1015,0\\r\\n1016,0\\r\\n1017,1\\r\\n1018,0\\r\\n1019,1\\r\\n1020,0\\r\\n1021,0\\r\\n1022,0\\r\\n1023,0\\r\\n1024,1\\r\\n1025,0\\r\\n1026,0\\r\\n1027,0\\r\\n1028,0\\r\\n1029,0\\r\\n1030,1\\r\\n1031,0\\r\\n1032,1\\r\\n1033,1\\r\\n1034,0\\r\\n1035,0\\r\\n1036,0\\r\\n1037,0\\r\\n1038,0\\r\\n1039,0\\r\\n1040,0\\r\\n1041,0\\r\\n1042,1\\r\\n1043,0\\r\\n1044,0\\r\\n1045,1\\r\\n1046,0\\r\\n1047,0\\r\\n1048,1\\r\\n1049,1\\r\\n1050,0\\r\\n1051,1\\r\\n1052,1\\r\\n1053,0\\r\\n1054,1\\r\\n1055,0\\r\\n1056,0\\r\\n1057,1\\r\\n1058,0\\r\\n1059,0\\r\\n1060,1\\r\\n1061,1\\r\\n1062,0\\r\\n1063,0\\r\\n1064,0\\r\\n1065,0\\r\\n1066,0\\r\\n1067,1\\r\\n1068,1\\r\\n1069,0\\r\\n1070,1\\r\\n1071,1\\r\\n1072,0\\r\\n1073,0\\r\\n1074,1\\r\\n1075,0\\r\\n1076,1\\r\\n1077,0\\r\\n1078,1\\r\\n1079,0\\r\\n1080,1\\r\\n1081,0\\r\\n1082,0\\r\\n1083,0\\r\\n1084,0\\r\\n1085,0\\r\\n1086,0\\r\\n1087,0\\r\\n1088,0\\r\\n1089,1\\r\\n1090,0\\r\\n1091,1\\r\\n1092,1\\r\\n1093,0\\r\\n1094,0\\r\\n1095,1\\r\\n1096,0\\r\\n1097,0\\r\\n1098,1\\r\\n1099,0\\r\\n1100,1\\r\\n1101,0\\r\\n1102,0\\r\\n1103,0\\r\\n1104,0\\r\\n1105,1\\r\\n1106,1\\r\\n1107,0\\r\\n1108,1\\r\\n1109,0\\r\\n1110,1\\r\\n1111,0\\r\\n1112,1\\r\\n1113,0\\r\\n1114,1\\r\\n1115,0\\r\\n1116,1\\r\\n1117,1\\r\\n1118,0\\r\\n1119,1\\r\\n1120,0\\r\\n1121,0\\r\\n1122,0\\r\\n1123,1\\r\\n1124,0\\r\\n1125,0\\r\\n1126,0\\r\\n1127,0\\r\\n1128,0\\r\\n1129,0\\r\\n1130,1\\r\\n1131,1\\r\\n1132,1\\r\\n1133,1\\r\\n1134,0\\r\\n1135,0\\r\\n1136,0\\r\\n1137,0\\r\\n1138,1\\r\\n1139,0\\r\\n1140,1\\r\\n1141,1\\r\\n1142,1\\r\\n1143,0\\r\\n1144,0\\r\\n1145,0\\r\\n1146,0\\r\\n1147,0\\r\\n1148,0\\r\\n1149,0\\r\\n1150,1\\r\\n1151,0\\r\\n1152,0\\r\\n1153,0\\r\\n1154,1\\r\\n1155,1\\r\\n1156,0\\r\\n1157,0\\r\\n1158,0\\r\\n1159,0\\r\\n1160,1\\r\\n1161,0\\r\\n1162,0\\r\\n1163,0\\r\\n1164,1\\r\\n1165,1\\r\\n1166,0\\r\\n1167,1\\r\\n1168,0\\r\\n1169,0\\r\\n1170,0\\r\\n1171,0\\r\\n1172,1\\r\\n1173,0\\r\\n1174,1\\r\\n1175,1\\r\\n1176,1\\r\\n1177,0\\r\\n1178,0\\r\\n1179,0\\r\\n1180,0\\r\\n1181,0\\r\\n1182,0\\r\\n1183,1\\r\\n1184,0\\r\\n1185,0\\r\\n1186,0\\r\\n1187,0\\r\\n1188,1\\r\\n1189,0\\r\\n1190,0\\r\\n1191,0\\r\\n1192,0\\r\\n1193,0\\r\\n1194,0\\r\\n1195,0\\r\\n1196,1\\r\\n1197,1\\r\\n1198,0\\r\\n1199,0\\r\\n1200,0\\r\\n1201,1\\r\\n1202,0\\r\\n1203,0\\r\\n1204,0\\r\\n1205,1\\r\\n1206,1\\r\\n1207,1\\r\\n1208,0\\r\\n1209,0\\r\\n1210,0\\r\\n1211,0\\r\\n1212,0\\r\\n1213,0\\r\\n1214,0\\r\\n1215,0\\r\\n1216,1\\r\\n1217,0\\r\\n1218,1\\r\\n1219,0\\r\\n1220,0\\r\\n1221,0\\r\\n1222,1\\r\\n1223,0\\r\\n1224,0\\r\\n1225,1\\r\\n1226,0\\r\\n1227,0\\r\\n1228,0\\r\\n1229,0\\r\\n1230,0\\r\\n1231,0\\r\\n1232,0\\r\\n1233,0\\r\\n1234,0\\r\\n1235,1\\r\\n1236,0\\r\\n1237,1\\r\\n1238,0\\r\\n1239,1\\r\\n1240,0\\r\\n1241,1\\r\\n1242,1\\r\\n1243,0\\r\\n1244,0\\r\\n1245,0\\r\\n1246,1\\r\\n1247,0\\r\\n1248,1\\r\\n1249,0\\r\\n1250,0\\r\\n1251,1\\r\\n1252,0\\r\\n1253,1\\r\\n1254,1\\r\\n1255,0\\r\\n1256,1\\r\\n1257,1\\r\\n1258,0\\r\\n1259,1\\r\\n1260,1\\r\\n1261,0\\r\\n1262,0\\r\\n1263,1\\r\\n1264,0\\r\\n1265,0\\r\\n1266,1\\r\\n1267,1\\r\\n1268,1\\r\\n1269,0\\r\\n1270,0\\r\\n1271,0\\r\\n1272,0\\r\\n1273,0\\r\\n1274,1\\r\\n1275,1\\r\\n1276,0\\r\\n1277,1\\r\\n1278,0\\r\\n1279,0\\r\\n1280,0\\r\\n1281,0\\r\\n1282,0\\r\\n1283,1\\r\\n1284,0\\r\\n1285,0\\r\\n1286,0\\r\\n1287,1\\r\\n1288,0\\r\\n1289,1\\r\\n1290,0\\r\\n1291,0\\r\\n1292,1\\r\\n1293,0\\r\\n1294,1\\r\\n1295,0\\r\\n1296,0\\r\\n1297,0\\r\\n1298,0\\r\\n1299,0\\r\\n1300,1\\r\\n1301,1\\r\\n1302,1\\r\\n1303,1\\r\\n1304,1\\r\\n1305,0\\r\\n1306,1\\r\\n1307,0\\r\\n1308,0\\r\\n1309,0\\r\\n',\n",
              " 'test.csv': b'PassengerId,Pclass,Name,Sex,Age,SibSp,Parch,Ticket,Fare,Cabin,Embarked\\r\\n892,3,\"Kelly, Mr. James\",male,34.5,0,0,330911,7.8292,,Q\\r\\n893,3,\"Wilkes, Mrs. James (Ellen Needs)\",female,47,1,0,363272,7,,S\\r\\n894,2,\"Myles, Mr. Thomas Francis\",male,62,0,0,240276,9.6875,,Q\\r\\n895,3,\"Wirz, Mr. Albert\",male,27,0,0,315154,8.6625,,S\\r\\n896,3,\"Hirvonen, Mrs. Alexander (Helga E Lindqvist)\",female,22,1,1,3101298,12.2875,,S\\r\\n897,3,\"Svensson, Mr. Johan Cervin\",male,14,0,0,7538,9.225,,S\\r\\n898,3,\"Connolly, Miss. Kate\",female,30,0,0,330972,7.6292,,Q\\r\\n899,2,\"Caldwell, Mr. Albert Francis\",male,26,1,1,248738,29,,S\\r\\n900,3,\"Abrahim, Mrs. Joseph (Sophie Halaut Easu)\",female,18,0,0,2657,7.2292,,C\\r\\n901,3,\"Davies, Mr. John Samuel\",male,21,2,0,A/4 48871,24.15,,S\\r\\n902,3,\"Ilieff, Mr. Ylio\",male,,0,0,349220,7.8958,,S\\r\\n903,1,\"Jones, Mr. Charles Cresson\",male,46,0,0,694,26,,S\\r\\n904,1,\"Snyder, Mrs. John Pillsbury (Nelle Stevenson)\",female,23,1,0,21228,82.2667,B45,S\\r\\n905,2,\"Howard, Mr. Benjamin\",male,63,1,0,24065,26,,S\\r\\n906,1,\"Chaffee, Mrs. Herbert Fuller (Carrie Constance Toogood)\",female,47,1,0,W.E.P. 5734,61.175,E31,S\\r\\n907,2,\"del Carlo, Mrs. Sebastiano (Argenia Genovesi)\",female,24,1,0,SC/PARIS 2167,27.7208,,C\\r\\n908,2,\"Keane, Mr. Daniel\",male,35,0,0,233734,12.35,,Q\\r\\n909,3,\"Assaf, Mr. Gerios\",male,21,0,0,2692,7.225,,C\\r\\n910,3,\"Ilmakangas, Miss. Ida Livija\",female,27,1,0,STON/O2. 3101270,7.925,,S\\r\\n911,3,\"Assaf Khalil, Mrs. Mariana (Miriam\"\")\"\"\",female,45,0,0,2696,7.225,,C\\r\\n912,1,\"Rothschild, Mr. Martin\",male,55,1,0,PC 17603,59.4,,C\\r\\n913,3,\"Olsen, Master. Artur Karl\",male,9,0,1,C 17368,3.1708,,S\\r\\n914,1,\"Flegenheim, Mrs. Alfred (Antoinette)\",female,,0,0,PC 17598,31.6833,,S\\r\\n915,1,\"Williams, Mr. Richard Norris II\",male,21,0,1,PC 17597,61.3792,,C\\r\\n916,1,\"Ryerson, Mrs. Arthur Larned (Emily Maria Borie)\",female,48,1,3,PC 17608,262.375,B57 B59 B63 B66,C\\r\\n917,3,\"Robins, Mr. Alexander A\",male,50,1,0,A/5. 3337,14.5,,S\\r\\n918,1,\"Ostby, Miss. Helene Ragnhild\",female,22,0,1,113509,61.9792,B36,C\\r\\n919,3,\"Daher, Mr. Shedid\",male,22.5,0,0,2698,7.225,,C\\r\\n920,1,\"Brady, Mr. John Bertram\",male,41,0,0,113054,30.5,A21,S\\r\\n921,3,\"Samaan, Mr. Elias\",male,,2,0,2662,21.6792,,C\\r\\n922,2,\"Louch, Mr. Charles Alexander\",male,50,1,0,SC/AH 3085,26,,S\\r\\n923,2,\"Jefferys, Mr. Clifford Thomas\",male,24,2,0,C.A. 31029,31.5,,S\\r\\n924,3,\"Dean, Mrs. Bertram (Eva Georgetta Light)\",female,33,1,2,C.A. 2315,20.575,,S\\r\\n925,3,\"Johnston, Mrs. Andrew G (Elizabeth Lily\"\" Watson)\"\"\",female,,1,2,W./C. 6607,23.45,,S\\r\\n926,1,\"Mock, Mr. Philipp Edmund\",male,30,1,0,13236,57.75,C78,C\\r\\n927,3,\"Katavelas, Mr. Vassilios (Catavelas Vassilios\"\")\"\"\",male,18.5,0,0,2682,7.2292,,C\\r\\n928,3,\"Roth, Miss. Sarah A\",female,,0,0,342712,8.05,,S\\r\\n929,3,\"Cacic, Miss. Manda\",female,21,0,0,315087,8.6625,,S\\r\\n930,3,\"Sap, Mr. Julius\",male,25,0,0,345768,9.5,,S\\r\\n931,3,\"Hee, Mr. Ling\",male,,0,0,1601,56.4958,,S\\r\\n932,3,\"Karun, Mr. Franz\",male,39,0,1,349256,13.4167,,C\\r\\n933,1,\"Franklin, Mr. Thomas Parham\",male,,0,0,113778,26.55,D34,S\\r\\n934,3,\"Goldsmith, Mr. Nathan\",male,41,0,0,SOTON/O.Q. 3101263,7.85,,S\\r\\n935,2,\"Corbett, Mrs. Walter H (Irene Colvin)\",female,30,0,0,237249,13,,S\\r\\n936,1,\"Kimball, Mrs. Edwin Nelson Jr (Gertrude Parsons)\",female,45,1,0,11753,52.5542,D19,S\\r\\n937,3,\"Peltomaki, Mr. Nikolai Johannes\",male,25,0,0,STON/O 2. 3101291,7.925,,S\\r\\n938,1,\"Chevre, Mr. Paul Romaine\",male,45,0,0,PC 17594,29.7,A9,C\\r\\n939,3,\"Shaughnessy, Mr. Patrick\",male,,0,0,370374,7.75,,Q\\r\\n940,1,\"Bucknell, Mrs. William Robert (Emma Eliza Ward)\",female,60,0,0,11813,76.2917,D15,C\\r\\n941,3,\"Coutts, Mrs. William (Winnie Minnie\"\" Treanor)\"\"\",female,36,0,2,C.A. 37671,15.9,,S\\r\\n942,1,\"Smith, Mr. Lucien Philip\",male,24,1,0,13695,60,C31,S\\r\\n943,2,\"Pulbaum, Mr. Franz\",male,27,0,0,SC/PARIS 2168,15.0333,,C\\r\\n944,2,\"Hocking, Miss. Ellen Nellie\"\"\"\"\",female,20,2,1,29105,23,,S\\r\\n945,1,\"Fortune, Miss. Ethel Flora\",female,28,3,2,19950,263,C23 C25 C27,S\\r\\n946,2,\"Mangiavacchi, Mr. Serafino Emilio\",male,,0,0,SC/A.3 2861,15.5792,,C\\r\\n947,3,\"Rice, Master. Albert\",male,10,4,1,382652,29.125,,Q\\r\\n948,3,\"Cor, Mr. Bartol\",male,35,0,0,349230,7.8958,,S\\r\\n949,3,\"Abelseth, Mr. Olaus Jorgensen\",male,25,0,0,348122,7.65,F G63,S\\r\\n950,3,\"Davison, Mr. Thomas Henry\",male,,1,0,386525,16.1,,S\\r\\n951,1,\"Chaudanson, Miss. Victorine\",female,36,0,0,PC 17608,262.375,B61,C\\r\\n952,3,\"Dika, Mr. Mirko\",male,17,0,0,349232,7.8958,,S\\r\\n953,2,\"McCrae, Mr. Arthur Gordon\",male,32,0,0,237216,13.5,,S\\r\\n954,3,\"Bjorklund, Mr. Ernst Herbert\",male,18,0,0,347090,7.75,,S\\r\\n955,3,\"Bradley, Miss. Bridget Delia\",female,22,0,0,334914,7.725,,Q\\r\\n956,1,\"Ryerson, Master. John Borie\",male,13,2,2,PC 17608,262.375,B57 B59 B63 B66,C\\r\\n957,2,\"Corey, Mrs. Percy C (Mary Phyllis Elizabeth Miller)\",female,,0,0,F.C.C. 13534,21,,S\\r\\n958,3,\"Burns, Miss. Mary Delia\",female,18,0,0,330963,7.8792,,Q\\r\\n959,1,\"Moore, Mr. Clarence Bloomfield\",male,47,0,0,113796,42.4,,S\\r\\n960,1,\"Tucker, Mr. Gilbert Milligan Jr\",male,31,0,0,2543,28.5375,C53,C\\r\\n961,1,\"Fortune, Mrs. Mark (Mary McDougald)\",female,60,1,4,19950,263,C23 C25 C27,S\\r\\n962,3,\"Mulvihill, Miss. Bertha E\",female,24,0,0,382653,7.75,,Q\\r\\n963,3,\"Minkoff, Mr. Lazar\",male,21,0,0,349211,7.8958,,S\\r\\n964,3,\"Nieminen, Miss. Manta Josefina\",female,29,0,0,3101297,7.925,,S\\r\\n965,1,\"Ovies y Rodriguez, Mr. Servando\",male,28.5,0,0,PC 17562,27.7208,D43,C\\r\\n966,1,\"Geiger, Miss. Amalie\",female,35,0,0,113503,211.5,C130,C\\r\\n967,1,\"Keeping, Mr. Edwin\",male,32.5,0,0,113503,211.5,C132,C\\r\\n968,3,\"Miles, Mr. Frank\",male,,0,0,359306,8.05,,S\\r\\n969,1,\"Cornell, Mrs. Robert Clifford (Malvina Helen Lamson)\",female,55,2,0,11770,25.7,C101,S\\r\\n970,2,\"Aldworth, Mr. Charles Augustus\",male,30,0,0,248744,13,,S\\r\\n971,3,\"Doyle, Miss. Elizabeth\",female,24,0,0,368702,7.75,,Q\\r\\n972,3,\"Boulos, Master. Akar\",male,6,1,1,2678,15.2458,,C\\r\\n973,1,\"Straus, Mr. Isidor\",male,67,1,0,PC 17483,221.7792,C55 C57,S\\r\\n974,1,\"Case, Mr. Howard Brown\",male,49,0,0,19924,26,,S\\r\\n975,3,\"Demetri, Mr. Marinko\",male,,0,0,349238,7.8958,,S\\r\\n976,2,\"Lamb, Mr. John Joseph\",male,,0,0,240261,10.7083,,Q\\r\\n977,3,\"Khalil, Mr. Betros\",male,,1,0,2660,14.4542,,C\\r\\n978,3,\"Barry, Miss. Julia\",female,27,0,0,330844,7.8792,,Q\\r\\n979,3,\"Badman, Miss. Emily Louisa\",female,18,0,0,A/4 31416,8.05,,S\\r\\n980,3,\"O\\'Donoghue, Ms. Bridget\",female,,0,0,364856,7.75,,Q\\r\\n981,2,\"Wells, Master. Ralph Lester\",male,2,1,1,29103,23,,S\\r\\n982,3,\"Dyker, Mrs. Adolf Fredrik (Anna Elisabeth Judith Andersson)\",female,22,1,0,347072,13.9,,S\\r\\n983,3,\"Pedersen, Mr. Olaf\",male,,0,0,345498,7.775,,S\\r\\n984,1,\"Davidson, Mrs. Thornton (Orian Hays)\",female,27,1,2,F.C. 12750,52,B71,S\\r\\n985,3,\"Guest, Mr. Robert\",male,,0,0,376563,8.05,,S\\r\\n986,1,\"Birnbaum, Mr. Jakob\",male,25,0,0,13905,26,,C\\r\\n987,3,\"Tenglin, Mr. Gunnar Isidor\",male,25,0,0,350033,7.7958,,S\\r\\n988,1,\"Cavendish, Mrs. Tyrell William (Julia Florence Siegel)\",female,76,1,0,19877,78.85,C46,S\\r\\n989,3,\"Makinen, Mr. Kalle Edvard\",male,29,0,0,STON/O 2. 3101268,7.925,,S\\r\\n990,3,\"Braf, Miss. Elin Ester Maria\",female,20,0,0,347471,7.8542,,S\\r\\n991,3,\"Nancarrow, Mr. William Henry\",male,33,0,0,A./5. 3338,8.05,,S\\r\\n992,1,\"Stengel, Mrs. Charles Emil Henry (Annie May Morris)\",female,43,1,0,11778,55.4417,C116,C\\r\\n993,2,\"Weisz, Mr. Leopold\",male,27,1,0,228414,26,,S\\r\\n994,3,\"Foley, Mr. William\",male,,0,0,365235,7.75,,Q\\r\\n995,3,\"Johansson Palmquist, Mr. Oskar Leander\",male,26,0,0,347070,7.775,,S\\r\\n996,3,\"Thomas, Mrs. Alexander (Thamine Thelma\"\")\"\"\",female,16,1,1,2625,8.5167,,C\\r\\n997,3,\"Holthen, Mr. Johan Martin\",male,28,0,0,C 4001,22.525,,S\\r\\n998,3,\"Buckley, Mr. Daniel\",male,21,0,0,330920,7.8208,,Q\\r\\n999,3,\"Ryan, Mr. Edward\",male,,0,0,383162,7.75,,Q\\r\\n1000,3,\"Willer, Mr. Aaron (Abi Weller\"\")\"\"\",male,,0,0,3410,8.7125,,S\\r\\n1001,2,\"Swane, Mr. George\",male,18.5,0,0,248734,13,F,S\\r\\n1002,2,\"Stanton, Mr. Samuel Ward\",male,41,0,0,237734,15.0458,,C\\r\\n1003,3,\"Shine, Miss. Ellen Natalia\",female,,0,0,330968,7.7792,,Q\\r\\n1004,1,\"Evans, Miss. Edith Corse\",female,36,0,0,PC 17531,31.6792,A29,C\\r\\n1005,3,\"Buckley, Miss. Katherine\",female,18.5,0,0,329944,7.2833,,Q\\r\\n1006,1,\"Straus, Mrs. Isidor (Rosalie Ida Blun)\",female,63,1,0,PC 17483,221.7792,C55 C57,S\\r\\n1007,3,\"Chronopoulos, Mr. Demetrios\",male,18,1,0,2680,14.4542,,C\\r\\n1008,3,\"Thomas, Mr. John\",male,,0,0,2681,6.4375,,C\\r\\n1009,3,\"Sandstrom, Miss. Beatrice Irene\",female,1,1,1,PP 9549,16.7,G6,S\\r\\n1010,1,\"Beattie, Mr. Thomson\",male,36,0,0,13050,75.2417,C6,C\\r\\n1011,2,\"Chapman, Mrs. John Henry (Sara Elizabeth Lawry)\",female,29,1,0,SC/AH 29037,26,,S\\r\\n1012,2,\"Watt, Miss. Bertha J\",female,12,0,0,C.A. 33595,15.75,,S\\r\\n1013,3,\"Kiernan, Mr. John\",male,,1,0,367227,7.75,,Q\\r\\n1014,1,\"Schabert, Mrs. Paul (Emma Mock)\",female,35,1,0,13236,57.75,C28,C\\r\\n1015,3,\"Carver, Mr. Alfred John\",male,28,0,0,392095,7.25,,S\\r\\n1016,3,\"Kennedy, Mr. John\",male,,0,0,368783,7.75,,Q\\r\\n1017,3,\"Cribb, Miss. Laura Alice\",female,17,0,1,371362,16.1,,S\\r\\n1018,3,\"Brobeck, Mr. Karl Rudolf\",male,22,0,0,350045,7.7958,,S\\r\\n1019,3,\"McCoy, Miss. Alicia\",female,,2,0,367226,23.25,,Q\\r\\n1020,2,\"Bowenur, Mr. Solomon\",male,42,0,0,211535,13,,S\\r\\n1021,3,\"Petersen, Mr. Marius\",male,24,0,0,342441,8.05,,S\\r\\n1022,3,\"Spinner, Mr. Henry John\",male,32,0,0,STON/OQ. 369943,8.05,,S\\r\\n1023,1,\"Gracie, Col. Archibald IV\",male,53,0,0,113780,28.5,C51,C\\r\\n1024,3,\"Lefebre, Mrs. Frank (Frances)\",female,,0,4,4133,25.4667,,S\\r\\n1025,3,\"Thomas, Mr. Charles P\",male,,1,0,2621,6.4375,,C\\r\\n1026,3,\"Dintcheff, Mr. Valtcho\",male,43,0,0,349226,7.8958,,S\\r\\n1027,3,\"Carlsson, Mr. Carl Robert\",male,24,0,0,350409,7.8542,,S\\r\\n1028,3,\"Zakarian, Mr. Mapriededer\",male,26.5,0,0,2656,7.225,,C\\r\\n1029,2,\"Schmidt, Mr. August\",male,26,0,0,248659,13,,S\\r\\n1030,3,\"Drapkin, Miss. Jennie\",female,23,0,0,SOTON/OQ 392083,8.05,,S\\r\\n1031,3,\"Goodwin, Mr. Charles Frederick\",male,40,1,6,CA 2144,46.9,,S\\r\\n1032,3,\"Goodwin, Miss. Jessie Allis\",female,10,5,2,CA 2144,46.9,,S\\r\\n1033,1,\"Daniels, Miss. Sarah\",female,33,0,0,113781,151.55,,S\\r\\n1034,1,\"Ryerson, Mr. Arthur Larned\",male,61,1,3,PC 17608,262.375,B57 B59 B63 B66,C\\r\\n1035,2,\"Beauchamp, Mr. Henry James\",male,28,0,0,244358,26,,S\\r\\n1036,1,\"Lindeberg-Lind, Mr. Erik Gustaf (Mr Edward Lingrey\"\")\"\"\",male,42,0,0,17475,26.55,,S\\r\\n1037,3,\"Vander Planke, Mr. Julius\",male,31,3,0,345763,18,,S\\r\\n1038,1,\"Hilliard, Mr. Herbert Henry\",male,,0,0,17463,51.8625,E46,S\\r\\n1039,3,\"Davies, Mr. Evan\",male,22,0,0,SC/A4 23568,8.05,,S\\r\\n1040,1,\"Crafton, Mr. John Bertram\",male,,0,0,113791,26.55,,S\\r\\n1041,2,\"Lahtinen, Rev. William\",male,30,1,1,250651,26,,S\\r\\n1042,1,\"Earnshaw, Mrs. Boulton (Olive Potter)\",female,23,0,1,11767,83.1583,C54,C\\r\\n1043,3,\"Matinoff, Mr. Nicola\",male,,0,0,349255,7.8958,,C\\r\\n1044,3,\"Storey, Mr. Thomas\",male,60.5,0,0,3701,,,S\\r\\n1045,3,\"Klasen, Mrs. (Hulda Kristina Eugenia Lofqvist)\",female,36,0,2,350405,12.1833,,S\\r\\n1046,3,\"Asplund, Master. Filip Oscar\",male,13,4,2,347077,31.3875,,S\\r\\n1047,3,\"Duquemin, Mr. Joseph\",male,24,0,0,S.O./P.P. 752,7.55,,S\\r\\n1048,1,\"Bird, Miss. Ellen\",female,29,0,0,PC 17483,221.7792,C97,S\\r\\n1049,3,\"Lundin, Miss. Olga Elida\",female,23,0,0,347469,7.8542,,S\\r\\n1050,1,\"Borebank, Mr. John James\",male,42,0,0,110489,26.55,D22,S\\r\\n1051,3,\"Peacock, Mrs. Benjamin (Edith Nile)\",female,26,0,2,SOTON/O.Q. 3101315,13.775,,S\\r\\n1052,3,\"Smyth, Miss. Julia\",female,,0,0,335432,7.7333,,Q\\r\\n1053,3,\"Touma, Master. Georges Youssef\",male,7,1,1,2650,15.2458,,C\\r\\n1054,2,\"Wright, Miss. Marion\",female,26,0,0,220844,13.5,,S\\r\\n1055,3,\"Pearce, Mr. Ernest\",male,,0,0,343271,7,,S\\r\\n1056,2,\"Peruschitz, Rev. Joseph Maria\",male,41,0,0,237393,13,,S\\r\\n1057,3,\"Kink-Heilmann, Mrs. Anton (Luise Heilmann)\",female,26,1,1,315153,22.025,,S\\r\\n1058,1,\"Brandeis, Mr. Emil\",male,48,0,0,PC 17591,50.4958,B10,C\\r\\n1059,3,\"Ford, Mr. Edward Watson\",male,18,2,2,W./C. 6608,34.375,,S\\r\\n1060,1,\"Cassebeer, Mrs. Henry Arthur Jr (Eleanor Genevieve Fosdick)\",female,,0,0,17770,27.7208,,C\\r\\n1061,3,\"Hellstrom, Miss. Hilda Maria\",female,22,0,0,7548,8.9625,,S\\r\\n1062,3,\"Lithman, Mr. Simon\",male,,0,0,S.O./P.P. 251,7.55,,S\\r\\n1063,3,\"Zakarian, Mr. Ortin\",male,27,0,0,2670,7.225,,C\\r\\n1064,3,\"Dyker, Mr. Adolf Fredrik\",male,23,1,0,347072,13.9,,S\\r\\n1065,3,\"Torfa, Mr. Assad\",male,,0,0,2673,7.2292,,C\\r\\n1066,3,\"Asplund, Mr. Carl Oscar Vilhelm Gustafsson\",male,40,1,5,347077,31.3875,,S\\r\\n1067,2,\"Brown, Miss. Edith Eileen\",female,15,0,2,29750,39,,S\\r\\n1068,2,\"Sincock, Miss. Maude\",female,20,0,0,C.A. 33112,36.75,,S\\r\\n1069,1,\"Stengel, Mr. Charles Emil Henry\",male,54,1,0,11778,55.4417,C116,C\\r\\n1070,2,\"Becker, Mrs. Allen Oliver (Nellie E Baumgardner)\",female,36,0,3,230136,39,F4,S\\r\\n1071,1,\"Compton, Mrs. Alexander Taylor (Mary Eliza Ingersoll)\",female,64,0,2,PC 17756,83.1583,E45,C\\r\\n1072,2,\"McCrie, Mr. James Matthew\",male,30,0,0,233478,13,,S\\r\\n1073,1,\"Compton, Mr. Alexander Taylor Jr\",male,37,1,1,PC 17756,83.1583,E52,C\\r\\n1074,1,\"Marvin, Mrs. Daniel Warner (Mary Graham Carmichael Farquarson)\",female,18,1,0,113773,53.1,D30,S\\r\\n1075,3,\"Lane, Mr. Patrick\",male,,0,0,7935,7.75,,Q\\r\\n1076,1,\"Douglas, Mrs. Frederick Charles (Mary Helene Baxter)\",female,27,1,1,PC 17558,247.5208,B58 B60,C\\r\\n1077,2,\"Maybery, Mr. Frank Hubert\",male,40,0,0,239059,16,,S\\r\\n1078,2,\"Phillips, Miss. Alice Frances Louisa\",female,21,0,1,S.O./P.P. 2,21,,S\\r\\n1079,3,\"Davies, Mr. Joseph\",male,17,2,0,A/4 48873,8.05,,S\\r\\n1080,3,\"Sage, Miss. Ada\",female,,8,2,CA. 2343,69.55,,S\\r\\n1081,2,\"Veal, Mr. James\",male,40,0,0,28221,13,,S\\r\\n1082,2,\"Angle, Mr. William A\",male,34,1,0,226875,26,,S\\r\\n1083,1,\"Salomon, Mr. Abraham L\",male,,0,0,111163,26,,S\\r\\n1084,3,\"van Billiard, Master. Walter John\",male,11.5,1,1,A/5. 851,14.5,,S\\r\\n1085,2,\"Lingane, Mr. John\",male,61,0,0,235509,12.35,,Q\\r\\n1086,2,\"Drew, Master. Marshall Brines\",male,8,0,2,28220,32.5,,S\\r\\n1087,3,\"Karlsson, Mr. Julius Konrad Eugen\",male,33,0,0,347465,7.8542,,S\\r\\n1088,1,\"Spedden, Master. Robert Douglas\",male,6,0,2,16966,134.5,E34,C\\r\\n1089,3,\"Nilsson, Miss. Berta Olivia\",female,18,0,0,347066,7.775,,S\\r\\n1090,2,\"Baimbrigge, Mr. Charles Robert\",male,23,0,0,C.A. 31030,10.5,,S\\r\\n1091,3,\"Rasmussen, Mrs. (Lena Jacobsen Solvang)\",female,,0,0,65305,8.1125,,S\\r\\n1092,3,\"Murphy, Miss. Nora\",female,,0,0,36568,15.5,,Q\\r\\n1093,3,\"Danbom, Master. Gilbert Sigvard Emanuel\",male,0.33,0,2,347080,14.4,,S\\r\\n1094,1,\"Astor, Col. John Jacob\",male,47,1,0,PC 17757,227.525,C62 C64,C\\r\\n1095,2,\"Quick, Miss. Winifred Vera\",female,8,1,1,26360,26,,S\\r\\n1096,2,\"Andrew, Mr. Frank Thomas\",male,25,0,0,C.A. 34050,10.5,,S\\r\\n1097,1,\"Omont, Mr. Alfred Fernand\",male,,0,0,F.C. 12998,25.7417,,C\\r\\n1098,3,\"McGowan, Miss. Katherine\",female,35,0,0,9232,7.75,,Q\\r\\n1099,2,\"Collett, Mr. Sidney C Stuart\",male,24,0,0,28034,10.5,,S\\r\\n1100,1,\"Rosenbaum, Miss. Edith Louise\",female,33,0,0,PC 17613,27.7208,A11,C\\r\\n1101,3,\"Delalic, Mr. Redjo\",male,25,0,0,349250,7.8958,,S\\r\\n1102,3,\"Andersen, Mr. Albert Karvin\",male,32,0,0,C 4001,22.525,,S\\r\\n1103,3,\"Finoli, Mr. Luigi\",male,,0,0,SOTON/O.Q. 3101308,7.05,,S\\r\\n1104,2,\"Deacon, Mr. Percy William\",male,17,0,0,S.O.C. 14879,73.5,,S\\r\\n1105,2,\"Howard, Mrs. Benjamin (Ellen Truelove Arman)\",female,60,1,0,24065,26,,S\\r\\n1106,3,\"Andersson, Miss. Ida Augusta Margareta\",female,38,4,2,347091,7.775,,S\\r\\n1107,1,\"Head, Mr. Christopher\",male,42,0,0,113038,42.5,B11,S\\r\\n1108,3,\"Mahon, Miss. Bridget Delia\",female,,0,0,330924,7.8792,,Q\\r\\n1109,1,\"Wick, Mr. George Dennick\",male,57,1,1,36928,164.8667,,S\\r\\n1110,1,\"Widener, Mrs. George Dunton (Eleanor Elkins)\",female,50,1,1,113503,211.5,C80,C\\r\\n1111,3,\"Thomson, Mr. Alexander Morrison\",male,,0,0,32302,8.05,,S\\r\\n1112,2,\"Duran y More, Miss. Florentina\",female,30,1,0,SC/PARIS 2148,13.8583,,C\\r\\n1113,3,\"Reynolds, Mr. Harold J\",male,21,0,0,342684,8.05,,S\\r\\n1114,2,\"Cook, Mrs. (Selena Rogers)\",female,22,0,0,W./C. 14266,10.5,F33,S\\r\\n1115,3,\"Karlsson, Mr. Einar Gervasius\",male,21,0,0,350053,7.7958,,S\\r\\n1116,1,\"Candee, Mrs. Edward (Helen Churchill Hungerford)\",female,53,0,0,PC 17606,27.4458,,C\\r\\n1117,3,\"Moubarek, Mrs. George (Omine Amenia\"\" Alexander)\"\"\",female,,0,2,2661,15.2458,,C\\r\\n1118,3,\"Asplund, Mr. Johan Charles\",male,23,0,0,350054,7.7958,,S\\r\\n1119,3,\"McNeill, Miss. Bridget\",female,,0,0,370368,7.75,,Q\\r\\n1120,3,\"Everett, Mr. Thomas James\",male,40.5,0,0,C.A. 6212,15.1,,S\\r\\n1121,2,\"Hocking, Mr. Samuel James Metcalfe\",male,36,0,0,242963,13,,S\\r\\n1122,2,\"Sweet, Mr. George Frederick\",male,14,0,0,220845,65,,S\\r\\n1123,1,\"Willard, Miss. Constance\",female,21,0,0,113795,26.55,,S\\r\\n1124,3,\"Wiklund, Mr. Karl Johan\",male,21,1,0,3101266,6.4958,,S\\r\\n1125,3,\"Linehan, Mr. Michael\",male,,0,0,330971,7.8792,,Q\\r\\n1126,1,\"Cumings, Mr. John Bradley\",male,39,1,0,PC 17599,71.2833,C85,C\\r\\n1127,3,\"Vendel, Mr. Olof Edvin\",male,20,0,0,350416,7.8542,,S\\r\\n1128,1,\"Warren, Mr. Frank Manley\",male,64,1,0,110813,75.25,D37,C\\r\\n1129,3,\"Baccos, Mr. Raffull\",male,20,0,0,2679,7.225,,C\\r\\n1130,2,\"Hiltunen, Miss. Marta\",female,18,1,1,250650,13,,S\\r\\n1131,1,\"Douglas, Mrs. Walter Donald (Mahala Dutton)\",female,48,1,0,PC 17761,106.425,C86,C\\r\\n1132,1,\"Lindstrom, Mrs. Carl Johan (Sigrid Posse)\",female,55,0,0,112377,27.7208,,C\\r\\n1133,2,\"Christy, Mrs. (Alice Frances)\",female,45,0,2,237789,30,,S\\r\\n1134,1,\"Spedden, Mr. Frederic Oakley\",male,45,1,1,16966,134.5,E34,C\\r\\n1135,3,\"Hyman, Mr. Abraham\",male,,0,0,3470,7.8875,,S\\r\\n1136,3,\"Johnston, Master. William Arthur Willie\"\"\"\"\",male,,1,2,W./C. 6607,23.45,,S\\r\\n1137,1,\"Kenyon, Mr. Frederick R\",male,41,1,0,17464,51.8625,D21,S\\r\\n1138,2,\"Karnes, Mrs. J Frank (Claire Bennett)\",female,22,0,0,F.C.C. 13534,21,,S\\r\\n1139,2,\"Drew, Mr. James Vivian\",male,42,1,1,28220,32.5,,S\\r\\n1140,2,\"Hold, Mrs. Stephen (Annie Margaret Hill)\",female,29,1,0,26707,26,,S\\r\\n1141,3,\"Khalil, Mrs. Betros (Zahie Maria\"\" Elias)\"\"\",female,,1,0,2660,14.4542,,C\\r\\n1142,2,\"West, Miss. Barbara J\",female,0.92,1,2,C.A. 34651,27.75,,S\\r\\n1143,3,\"Abrahamsson, Mr. Abraham August Johannes\",male,20,0,0,SOTON/O2 3101284,7.925,,S\\r\\n1144,1,\"Clark, Mr. Walter Miller\",male,27,1,0,13508,136.7792,C89,C\\r\\n1145,3,\"Salander, Mr. Karl Johan\",male,24,0,0,7266,9.325,,S\\r\\n1146,3,\"Wenzel, Mr. Linhart\",male,32.5,0,0,345775,9.5,,S\\r\\n1147,3,\"MacKay, Mr. George William\",male,,0,0,C.A. 42795,7.55,,S\\r\\n1148,3,\"Mahon, Mr. John\",male,,0,0,AQ/4 3130,7.75,,Q\\r\\n1149,3,\"Niklasson, Mr. Samuel\",male,28,0,0,363611,8.05,,S\\r\\n1150,2,\"Bentham, Miss. Lilian W\",female,19,0,0,28404,13,,S\\r\\n1151,3,\"Midtsjo, Mr. Karl Albert\",male,21,0,0,345501,7.775,,S\\r\\n1152,3,\"de Messemaeker, Mr. Guillaume Joseph\",male,36.5,1,0,345572,17.4,,S\\r\\n1153,3,\"Nilsson, Mr. August Ferdinand\",male,21,0,0,350410,7.8542,,S\\r\\n1154,2,\"Wells, Mrs. Arthur Henry (Addie\"\" Dart Trevaskis)\"\"\",female,29,0,2,29103,23,,S\\r\\n1155,3,\"Klasen, Miss. Gertrud Emilia\",female,1,1,1,350405,12.1833,,S\\r\\n1156,2,\"Portaluppi, Mr. Emilio Ilario Giuseppe\",male,30,0,0,C.A. 34644,12.7375,,C\\r\\n1157,3,\"Lyntakoff, Mr. Stanko\",male,,0,0,349235,7.8958,,S\\r\\n1158,1,\"Chisholm, Mr. Roderick Robert Crispin\",male,,0,0,112051,0,,S\\r\\n1159,3,\"Warren, Mr. Charles William\",male,,0,0,C.A. 49867,7.55,,S\\r\\n1160,3,\"Howard, Miss. May Elizabeth\",female,,0,0,A. 2. 39186,8.05,,S\\r\\n1161,3,\"Pokrnic, Mr. Mate\",male,17,0,0,315095,8.6625,,S\\r\\n1162,1,\"McCaffry, Mr. Thomas Francis\",male,46,0,0,13050,75.2417,C6,C\\r\\n1163,3,\"Fox, Mr. Patrick\",male,,0,0,368573,7.75,,Q\\r\\n1164,1,\"Clark, Mrs. Walter Miller (Virginia McDowell)\",female,26,1,0,13508,136.7792,C89,C\\r\\n1165,3,\"Lennon, Miss. Mary\",female,,1,0,370371,15.5,,Q\\r\\n1166,3,\"Saade, Mr. Jean Nassr\",male,,0,0,2676,7.225,,C\\r\\n1167,2,\"Bryhl, Miss. Dagmar Jenny Ingeborg \",female,20,1,0,236853,26,,S\\r\\n1168,2,\"Parker, Mr. Clifford Richard\",male,28,0,0,SC 14888,10.5,,S\\r\\n1169,2,\"Faunthorpe, Mr. Harry\",male,40,1,0,2926,26,,S\\r\\n1170,2,\"Ware, Mr. John James\",male,30,1,0,CA 31352,21,,S\\r\\n1171,2,\"Oxenham, Mr. Percy Thomas\",male,22,0,0,W./C. 14260,10.5,,S\\r\\n1172,3,\"Oreskovic, Miss. Jelka\",female,23,0,0,315085,8.6625,,S\\r\\n1173,3,\"Peacock, Master. Alfred Edward\",male,0.75,1,1,SOTON/O.Q. 3101315,13.775,,S\\r\\n1174,3,\"Fleming, Miss. Honora\",female,,0,0,364859,7.75,,Q\\r\\n1175,3,\"Touma, Miss. Maria Youssef\",female,9,1,1,2650,15.2458,,C\\r\\n1176,3,\"Rosblom, Miss. Salli Helena\",female,2,1,1,370129,20.2125,,S\\r\\n1177,3,\"Dennis, Mr. William\",male,36,0,0,A/5 21175,7.25,,S\\r\\n1178,3,\"Franklin, Mr. Charles (Charles Fardon)\",male,,0,0,SOTON/O.Q. 3101314,7.25,,S\\r\\n1179,1,\"Snyder, Mr. John Pillsbury\",male,24,1,0,21228,82.2667,B45,S\\r\\n1180,3,\"Mardirosian, Mr. Sarkis\",male,,0,0,2655,7.2292,F E46,C\\r\\n1181,3,\"Ford, Mr. Arthur\",male,,0,0,A/5 1478,8.05,,S\\r\\n1182,1,\"Rheims, Mr. George Alexander Lucien\",male,,0,0,PC 17607,39.6,,S\\r\\n1183,3,\"Daly, Miss. Margaret Marcella Maggie\"\"\"\"\",female,30,0,0,382650,6.95,,Q\\r\\n1184,3,\"Nasr, Mr. Mustafa\",male,,0,0,2652,7.2292,,C\\r\\n1185,1,\"Dodge, Dr. Washington\",male,53,1,1,33638,81.8583,A34,S\\r\\n1186,3,\"Wittevrongel, Mr. Camille\",male,36,0,0,345771,9.5,,S\\r\\n1187,3,\"Angheloff, Mr. Minko\",male,26,0,0,349202,7.8958,,S\\r\\n1188,2,\"Laroche, Miss. Louise\",female,1,1,2,SC/Paris 2123,41.5792,,C\\r\\n1189,3,\"Samaan, Mr. Hanna\",male,,2,0,2662,21.6792,,C\\r\\n1190,1,\"Loring, Mr. Joseph Holland\",male,30,0,0,113801,45.5,,S\\r\\n1191,3,\"Johansson, Mr. Nils\",male,29,0,0,347467,7.8542,,S\\r\\n1192,3,\"Olsson, Mr. Oscar Wilhelm\",male,32,0,0,347079,7.775,,S\\r\\n1193,2,\"Malachard, Mr. Noel\",male,,0,0,237735,15.0458,D,C\\r\\n1194,2,\"Phillips, Mr. Escott Robert\",male,43,0,1,S.O./P.P. 2,21,,S\\r\\n1195,3,\"Pokrnic, Mr. Tome\",male,24,0,0,315092,8.6625,,S\\r\\n1196,3,\"McCarthy, Miss. Catherine Katie\"\"\"\"\",female,,0,0,383123,7.75,,Q\\r\\n1197,1,\"Crosby, Mrs. Edward Gifford (Catherine Elizabeth Halstead)\",female,64,1,1,112901,26.55,B26,S\\r\\n1198,1,\"Allison, Mr. Hudson Joshua Creighton\",male,30,1,2,113781,151.55,C22 C26,S\\r\\n1199,3,\"Aks, Master. Philip Frank\",male,0.83,0,1,392091,9.35,,S\\r\\n1200,1,\"Hays, Mr. Charles Melville\",male,55,1,1,12749,93.5,B69,S\\r\\n1201,3,\"Hansen, Mrs. Claus Peter (Jennie L Howard)\",female,45,1,0,350026,14.1083,,S\\r\\n1202,3,\"Cacic, Mr. Jego Grga\",male,18,0,0,315091,8.6625,,S\\r\\n1203,3,\"Vartanian, Mr. David\",male,22,0,0,2658,7.225,,C\\r\\n1204,3,\"Sadowitz, Mr. Harry\",male,,0,0,LP 1588,7.575,,S\\r\\n1205,3,\"Carr, Miss. Jeannie\",female,37,0,0,368364,7.75,,Q\\r\\n1206,1,\"White, Mrs. John Stuart (Ella Holmes)\",female,55,0,0,PC 17760,135.6333,C32,C\\r\\n1207,3,\"Hagardon, Miss. Kate\",female,17,0,0,AQ/3. 30631,7.7333,,Q\\r\\n1208,1,\"Spencer, Mr. William Augustus\",male,57,1,0,PC 17569,146.5208,B78,C\\r\\n1209,2,\"Rogers, Mr. Reginald Harry\",male,19,0,0,28004,10.5,,S\\r\\n1210,3,\"Jonsson, Mr. Nils Hilding\",male,27,0,0,350408,7.8542,,S\\r\\n1211,2,\"Jefferys, Mr. Ernest Wilfred\",male,22,2,0,C.A. 31029,31.5,,S\\r\\n1212,3,\"Andersson, Mr. Johan Samuel\",male,26,0,0,347075,7.775,,S\\r\\n1213,3,\"Krekorian, Mr. Neshan\",male,25,0,0,2654,7.2292,F E57,C\\r\\n1214,2,\"Nesson, Mr. Israel\",male,26,0,0,244368,13,F2,S\\r\\n1215,1,\"Rowe, Mr. Alfred G\",male,33,0,0,113790,26.55,,S\\r\\n1216,1,\"Kreuchen, Miss. Emilie\",female,39,0,0,24160,211.3375,,S\\r\\n1217,3,\"Assam, Mr. Ali\",male,23,0,0,SOTON/O.Q. 3101309,7.05,,S\\r\\n1218,2,\"Becker, Miss. Ruth Elizabeth\",female,12,2,1,230136,39,F4,S\\r\\n1219,1,\"Rosenshine, Mr. George (Mr George Thorne\"\")\"\"\",male,46,0,0,PC 17585,79.2,,C\\r\\n1220,2,\"Clarke, Mr. Charles Valentine\",male,29,1,0,2003,26,,S\\r\\n1221,2,\"Enander, Mr. Ingvar\",male,21,0,0,236854,13,,S\\r\\n1222,2,\"Davies, Mrs. John Morgan (Elizabeth Agnes Mary White) \",female,48,0,2,C.A. 33112,36.75,,S\\r\\n1223,1,\"Dulles, Mr. William Crothers\",male,39,0,0,PC 17580,29.7,A18,C\\r\\n1224,3,\"Thomas, Mr. Tannous\",male,,0,0,2684,7.225,,C\\r\\n1225,3,\"Nakid, Mrs. Said (Waika Mary\"\" Mowad)\"\"\",female,19,1,1,2653,15.7417,,C\\r\\n1226,3,\"Cor, Mr. Ivan\",male,27,0,0,349229,7.8958,,S\\r\\n1227,1,\"Maguire, Mr. John Edward\",male,30,0,0,110469,26,C106,S\\r\\n1228,2,\"de Brito, Mr. Jose Joaquim\",male,32,0,0,244360,13,,S\\r\\n1229,3,\"Elias, Mr. Joseph\",male,39,0,2,2675,7.2292,,C\\r\\n1230,2,\"Denbury, Mr. Herbert\",male,25,0,0,C.A. 31029,31.5,,S\\r\\n1231,3,\"Betros, Master. Seman\",male,,0,0,2622,7.2292,,C\\r\\n1232,2,\"Fillbrook, Mr. Joseph Charles\",male,18,0,0,C.A. 15185,10.5,,S\\r\\n1233,3,\"Lundstrom, Mr. Thure Edvin\",male,32,0,0,350403,7.5792,,S\\r\\n1234,3,\"Sage, Mr. John George\",male,,1,9,CA. 2343,69.55,,S\\r\\n1235,1,\"Cardeza, Mrs. James Warburton Martinez (Charlotte Wardle Drake)\",female,58,0,1,PC 17755,512.3292,B51 B53 B55,C\\r\\n1236,3,\"van Billiard, Master. James William\",male,,1,1,A/5. 851,14.5,,S\\r\\n1237,3,\"Abelseth, Miss. Karen Marie\",female,16,0,0,348125,7.65,,S\\r\\n1238,2,\"Botsford, Mr. William Hull\",male,26,0,0,237670,13,,S\\r\\n1239,3,\"Whabee, Mrs. George Joseph (Shawneene Abi-Saab)\",female,38,0,0,2688,7.2292,,C\\r\\n1240,2,\"Giles, Mr. Ralph\",male,24,0,0,248726,13.5,,S\\r\\n1241,2,\"Walcroft, Miss. Nellie\",female,31,0,0,F.C.C. 13528,21,,S\\r\\n1242,1,\"Greenfield, Mrs. Leo David (Blanche Strouse)\",female,45,0,1,PC 17759,63.3583,D10 D12,C\\r\\n1243,2,\"Stokes, Mr. Philip Joseph\",male,25,0,0,F.C.C. 13540,10.5,,S\\r\\n1244,2,\"Dibden, Mr. William\",male,18,0,0,S.O.C. 14879,73.5,,S\\r\\n1245,2,\"Herman, Mr. Samuel\",male,49,1,2,220845,65,,S\\r\\n1246,3,\"Dean, Miss. Elizabeth Gladys Millvina\"\"\"\"\",female,0.17,1,2,C.A. 2315,20.575,,S\\r\\n1247,1,\"Julian, Mr. Henry Forbes\",male,50,0,0,113044,26,E60,S\\r\\n1248,1,\"Brown, Mrs. John Murray (Caroline Lane Lamson)\",female,59,2,0,11769,51.4792,C101,S\\r\\n1249,3,\"Lockyer, Mr. Edward\",male,,0,0,1222,7.8792,,S\\r\\n1250,3,\"O\\'Keefe, Mr. Patrick\",male,,0,0,368402,7.75,,Q\\r\\n1251,3,\"Lindell, Mrs. Edvard Bengtsson (Elin Gerda Persson)\",female,30,1,0,349910,15.55,,S\\r\\n1252,3,\"Sage, Master. William Henry\",male,14.5,8,2,CA. 2343,69.55,,S\\r\\n1253,2,\"Mallet, Mrs. Albert (Antoinette Magnin)\",female,24,1,1,S.C./PARIS 2079,37.0042,,C\\r\\n1254,2,\"Ware, Mrs. John James (Florence Louise Long)\",female,31,0,0,CA 31352,21,,S\\r\\n1255,3,\"Strilic, Mr. Ivan\",male,27,0,0,315083,8.6625,,S\\r\\n1256,1,\"Harder, Mrs. George Achilles (Dorothy Annan)\",female,25,1,0,11765,55.4417,E50,C\\r\\n1257,3,\"Sage, Mrs. John (Annie Bullen)\",female,,1,9,CA. 2343,69.55,,S\\r\\n1258,3,\"Caram, Mr. Joseph\",male,,1,0,2689,14.4583,,C\\r\\n1259,3,\"Riihivouri, Miss. Susanna Juhantytar Sanni\"\"\"\"\",female,22,0,0,3101295,39.6875,,S\\r\\n1260,1,\"Gibson, Mrs. Leonard (Pauline C Boeson)\",female,45,0,1,112378,59.4,,C\\r\\n1261,2,\"Pallas y Castello, Mr. Emilio\",male,29,0,0,SC/PARIS 2147,13.8583,,C\\r\\n1262,2,\"Giles, Mr. Edgar\",male,21,1,0,28133,11.5,,S\\r\\n1263,1,\"Wilson, Miss. Helen Alice\",female,31,0,0,16966,134.5,E39 E41,C\\r\\n1264,1,\"Ismay, Mr. Joseph Bruce\",male,49,0,0,112058,0,B52 B54 B56,S\\r\\n1265,2,\"Harbeck, Mr. William H\",male,44,0,0,248746,13,,S\\r\\n1266,1,\"Dodge, Mrs. Washington (Ruth Vidaver)\",female,54,1,1,33638,81.8583,A34,S\\r\\n1267,1,\"Bowen, Miss. Grace Scott\",female,45,0,0,PC 17608,262.375,,C\\r\\n1268,3,\"Kink, Miss. Maria\",female,22,2,0,315152,8.6625,,S\\r\\n1269,2,\"Cotterill, Mr. Henry Harry\"\"\"\"\",male,21,0,0,29107,11.5,,S\\r\\n1270,1,\"Hipkins, Mr. William Edward\",male,55,0,0,680,50,C39,S\\r\\n1271,3,\"Asplund, Master. Carl Edgar\",male,5,4,2,347077,31.3875,,S\\r\\n1272,3,\"O\\'Connor, Mr. Patrick\",male,,0,0,366713,7.75,,Q\\r\\n1273,3,\"Foley, Mr. Joseph\",male,26,0,0,330910,7.8792,,Q\\r\\n1274,3,\"Risien, Mrs. Samuel (Emma)\",female,,0,0,364498,14.5,,S\\r\\n1275,3,\"McNamee, Mrs. Neal (Eileen O\\'Leary)\",female,19,1,0,376566,16.1,,S\\r\\n1276,2,\"Wheeler, Mr. Edwin Frederick\"\"\"\"\",male,,0,0,SC/PARIS 2159,12.875,,S\\r\\n1277,2,\"Herman, Miss. Kate\",female,24,1,2,220845,65,,S\\r\\n1278,3,\"Aronsson, Mr. Ernst Axel Algot\",male,24,0,0,349911,7.775,,S\\r\\n1279,2,\"Ashby, Mr. John\",male,57,0,0,244346,13,,S\\r\\n1280,3,\"Canavan, Mr. Patrick\",male,21,0,0,364858,7.75,,Q\\r\\n1281,3,\"Palsson, Master. Paul Folke\",male,6,3,1,349909,21.075,,S\\r\\n1282,1,\"Payne, Mr. Vivian Ponsonby\",male,23,0,0,12749,93.5,B24,S\\r\\n1283,1,\"Lines, Mrs. Ernest H (Elizabeth Lindsey James)\",female,51,0,1,PC 17592,39.4,D28,S\\r\\n1284,3,\"Abbott, Master. Eugene Joseph\",male,13,0,2,C.A. 2673,20.25,,S\\r\\n1285,2,\"Gilbert, Mr. William\",male,47,0,0,C.A. 30769,10.5,,S\\r\\n1286,3,\"Kink-Heilmann, Mr. Anton\",male,29,3,1,315153,22.025,,S\\r\\n1287,1,\"Smith, Mrs. Lucien Philip (Mary Eloise Hughes)\",female,18,1,0,13695,60,C31,S\\r\\n1288,3,\"Colbert, Mr. Patrick\",male,24,0,0,371109,7.25,,Q\\r\\n1289,1,\"Frolicher-Stehli, Mrs. Maxmillian (Margaretha Emerentia Stehli)\",female,48,1,1,13567,79.2,B41,C\\r\\n1290,3,\"Larsson-Rondberg, Mr. Edvard A\",male,22,0,0,347065,7.775,,S\\r\\n1291,3,\"Conlon, Mr. Thomas Henry\",male,31,0,0,21332,7.7333,,Q\\r\\n1292,1,\"Bonnell, Miss. Caroline\",female,30,0,0,36928,164.8667,C7,S\\r\\n1293,2,\"Gale, Mr. Harry\",male,38,1,0,28664,21,,S\\r\\n1294,1,\"Gibson, Miss. Dorothy Winifred\",female,22,0,1,112378,59.4,,C\\r\\n1295,1,\"Carrau, Mr. Jose Pedro\",male,17,0,0,113059,47.1,,S\\r\\n1296,1,\"Frauenthal, Mr. Isaac Gerald\",male,43,1,0,17765,27.7208,D40,C\\r\\n1297,2,\"Nourney, Mr. Alfred (Baron von Drachstedt\"\")\"\"\",male,20,0,0,SC/PARIS 2166,13.8625,D38,C\\r\\n1298,2,\"Ware, Mr. William Jeffery\",male,23,1,0,28666,10.5,,S\\r\\n1299,1,\"Widener, Mr. George Dunton\",male,50,1,1,113503,211.5,C80,C\\r\\n1300,3,\"Riordan, Miss. Johanna Hannah\"\"\"\"\",female,,0,0,334915,7.7208,,Q\\r\\n1301,3,\"Peacock, Miss. Treasteall\",female,3,1,1,SOTON/O.Q. 3101315,13.775,,S\\r\\n1302,3,\"Naughton, Miss. Hannah\",female,,0,0,365237,7.75,,Q\\r\\n1303,1,\"Minahan, Mrs. William Edward (Lillian E Thorpe)\",female,37,1,0,19928,90,C78,Q\\r\\n1304,3,\"Henriksson, Miss. Jenny Lovisa\",female,28,0,0,347086,7.775,,S\\r\\n1305,3,\"Spector, Mr. Woolf\",male,,0,0,A.5. 3236,8.05,,S\\r\\n1306,1,\"Oliva y Ocana, Dona. Fermina\",female,39,0,0,PC 17758,108.9,C105,C\\r\\n1307,3,\"Saether, Mr. Simon Sivertsen\",male,38.5,0,0,SOTON/O.Q. 3101262,7.25,,S\\r\\n1308,3,\"Ware, Mr. Frederick\",male,,0,0,359309,8.05,,S\\r\\n1309,3,\"Peter, Master. Michael J\",male,,1,1,2668,22.3583,,C\\r\\n',\n",
              " 'train.csv': b'PassengerId,Survived,Pclass,Name,Sex,Age,SibSp,Parch,Ticket,Fare,Cabin,Embarked\\r\\n1,0,3,\"Braund, Mr. Owen Harris\",male,22,1,0,A/5 21171,7.25,,S\\r\\n2,1,1,\"Cumings, Mrs. John Bradley (Florence Briggs Thayer)\",female,38,1,0,PC 17599,71.2833,C85,C\\r\\n3,1,3,\"Heikkinen, Miss. Laina\",female,26,0,0,STON/O2. 3101282,7.925,,S\\r\\n4,1,1,\"Futrelle, Mrs. Jacques Heath (Lily May Peel)\",female,35,1,0,113803,53.1,C123,S\\r\\n5,0,3,\"Allen, Mr. William Henry\",male,35,0,0,373450,8.05,,S\\r\\n6,0,3,\"Moran, Mr. James\",male,,0,0,330877,8.4583,,Q\\r\\n7,0,1,\"McCarthy, Mr. Timothy J\",male,54,0,0,17463,51.8625,E46,S\\r\\n8,0,3,\"Palsson, Master. Gosta Leonard\",male,2,3,1,349909,21.075,,S\\r\\n9,1,3,\"Johnson, Mrs. Oscar W (Elisabeth Vilhelmina Berg)\",female,27,0,2,347742,11.1333,,S\\r\\n10,1,2,\"Nasser, Mrs. Nicholas (Adele Achem)\",female,14,1,0,237736,30.0708,,C\\r\\n11,1,3,\"Sandstrom, Miss. Marguerite Rut\",female,4,1,1,PP 9549,16.7,G6,S\\r\\n12,1,1,\"Bonnell, Miss. Elizabeth\",female,58,0,0,113783,26.55,C103,S\\r\\n13,0,3,\"Saundercock, Mr. William Henry\",male,20,0,0,A/5. 2151,8.05,,S\\r\\n14,0,3,\"Andersson, Mr. Anders Johan\",male,39,1,5,347082,31.275,,S\\r\\n15,0,3,\"Vestrom, Miss. Hulda Amanda Adolfina\",female,14,0,0,350406,7.8542,,S\\r\\n16,1,2,\"Hewlett, Mrs. (Mary D Kingcome) \",female,55,0,0,248706,16,,S\\r\\n17,0,3,\"Rice, Master. Eugene\",male,2,4,1,382652,29.125,,Q\\r\\n18,1,2,\"Williams, Mr. Charles Eugene\",male,,0,0,244373,13,,S\\r\\n19,0,3,\"Vander Planke, Mrs. Julius (Emelia Maria Vandemoortele)\",female,31,1,0,345763,18,,S\\r\\n20,1,3,\"Masselmani, Mrs. Fatima\",female,,0,0,2649,7.225,,C\\r\\n21,0,2,\"Fynney, Mr. Joseph J\",male,35,0,0,239865,26,,S\\r\\n22,1,2,\"Beesley, Mr. Lawrence\",male,34,0,0,248698,13,D56,S\\r\\n23,1,3,\"McGowan, Miss. Anna \"\"Annie\"\"\",female,15,0,0,330923,8.0292,,Q\\r\\n24,1,1,\"Sloper, Mr. William Thompson\",male,28,0,0,113788,35.5,A6,S\\r\\n25,0,3,\"Palsson, Miss. Torborg Danira\",female,8,3,1,349909,21.075,,S\\r\\n26,1,3,\"Asplund, Mrs. Carl Oscar (Selma Augusta Emilia Johansson)\",female,38,1,5,347077,31.3875,,S\\r\\n27,0,3,\"Emir, Mr. Farred Chehab\",male,,0,0,2631,7.225,,C\\r\\n28,0,1,\"Fortune, Mr. Charles Alexander\",male,19,3,2,19950,263,C23 C25 C27,S\\r\\n29,1,3,\"O\\'Dwyer, Miss. Ellen \"\"Nellie\"\"\",female,,0,0,330959,7.8792,,Q\\r\\n30,0,3,\"Todoroff, Mr. Lalio\",male,,0,0,349216,7.8958,,S\\r\\n31,0,1,\"Uruchurtu, Don. Manuel E\",male,40,0,0,PC 17601,27.7208,,C\\r\\n32,1,1,\"Spencer, Mrs. William Augustus (Marie Eugenie)\",female,,1,0,PC 17569,146.5208,B78,C\\r\\n33,1,3,\"Glynn, Miss. Mary Agatha\",female,,0,0,335677,7.75,,Q\\r\\n34,0,2,\"Wheadon, Mr. Edward H\",male,66,0,0,C.A. 24579,10.5,,S\\r\\n35,0,1,\"Meyer, Mr. Edgar Joseph\",male,28,1,0,PC 17604,82.1708,,C\\r\\n36,0,1,\"Holverson, Mr. Alexander Oskar\",male,42,1,0,113789,52,,S\\r\\n37,1,3,\"Mamee, Mr. Hanna\",male,,0,0,2677,7.2292,,C\\r\\n38,0,3,\"Cann, Mr. Ernest Charles\",male,21,0,0,A./5. 2152,8.05,,S\\r\\n39,0,3,\"Vander Planke, Miss. Augusta Maria\",female,18,2,0,345764,18,,S\\r\\n40,1,3,\"Nicola-Yarred, Miss. Jamila\",female,14,1,0,2651,11.2417,,C\\r\\n41,0,3,\"Ahlin, Mrs. Johan (Johanna Persdotter Larsson)\",female,40,1,0,7546,9.475,,S\\r\\n42,0,2,\"Turpin, Mrs. William John Robert (Dorothy Ann Wonnacott)\",female,27,1,0,11668,21,,S\\r\\n43,0,3,\"Kraeff, Mr. Theodor\",male,,0,0,349253,7.8958,,C\\r\\n44,1,2,\"Laroche, Miss. Simonne Marie Anne Andree\",female,3,1,2,SC/Paris 2123,41.5792,,C\\r\\n45,1,3,\"Devaney, Miss. Margaret Delia\",female,19,0,0,330958,7.8792,,Q\\r\\n46,0,3,\"Rogers, Mr. William John\",male,,0,0,S.C./A.4. 23567,8.05,,S\\r\\n47,0,3,\"Lennon, Mr. Denis\",male,,1,0,370371,15.5,,Q\\r\\n48,1,3,\"O\\'Driscoll, Miss. Bridget\",female,,0,0,14311,7.75,,Q\\r\\n49,0,3,\"Samaan, Mr. Youssef\",male,,2,0,2662,21.6792,,C\\r\\n50,0,3,\"Arnold-Franchi, Mrs. Josef (Josefine Franchi)\",female,18,1,0,349237,17.8,,S\\r\\n51,0,3,\"Panula, Master. Juha Niilo\",male,7,4,1,3101295,39.6875,,S\\r\\n52,0,3,\"Nosworthy, Mr. Richard Cater\",male,21,0,0,A/4. 39886,7.8,,S\\r\\n53,1,1,\"Harper, Mrs. Henry Sleeper (Myna Haxtun)\",female,49,1,0,PC 17572,76.7292,D33,C\\r\\n54,1,2,\"Faunthorpe, Mrs. Lizzie (Elizabeth Anne Wilkinson)\",female,29,1,0,2926,26,,S\\r\\n55,0,1,\"Ostby, Mr. Engelhart Cornelius\",male,65,0,1,113509,61.9792,B30,C\\r\\n56,1,1,\"Woolner, Mr. Hugh\",male,,0,0,19947,35.5,C52,S\\r\\n57,1,2,\"Rugg, Miss. Emily\",female,21,0,0,C.A. 31026,10.5,,S\\r\\n58,0,3,\"Novel, Mr. Mansouer\",male,28.5,0,0,2697,7.2292,,C\\r\\n59,1,2,\"West, Miss. Constance Mirium\",female,5,1,2,C.A. 34651,27.75,,S\\r\\n60,0,3,\"Goodwin, Master. William Frederick\",male,11,5,2,CA 2144,46.9,,S\\r\\n61,0,3,\"Sirayanian, Mr. Orsen\",male,22,0,0,2669,7.2292,,C\\r\\n62,1,1,\"Icard, Miss. Amelie\",female,38,0,0,113572,80,B28,\\r\\n63,0,1,\"Harris, Mr. Henry Birkhardt\",male,45,1,0,36973,83.475,C83,S\\r\\n64,0,3,\"Skoog, Master. Harald\",male,4,3,2,347088,27.9,,S\\r\\n65,0,1,\"Stewart, Mr. Albert A\",male,,0,0,PC 17605,27.7208,,C\\r\\n66,1,3,\"Moubarek, Master. Gerios\",male,,1,1,2661,15.2458,,C\\r\\n67,1,2,\"Nye, Mrs. (Elizabeth Ramell)\",female,29,0,0,C.A. 29395,10.5,F33,S\\r\\n68,0,3,\"Crease, Mr. Ernest James\",male,19,0,0,S.P. 3464,8.1583,,S\\r\\n69,1,3,\"Andersson, Miss. Erna Alexandra\",female,17,4,2,3101281,7.925,,S\\r\\n70,0,3,\"Kink, Mr. Vincenz\",male,26,2,0,315151,8.6625,,S\\r\\n71,0,2,\"Jenkin, Mr. Stephen Curnow\",male,32,0,0,C.A. 33111,10.5,,S\\r\\n72,0,3,\"Goodwin, Miss. Lillian Amy\",female,16,5,2,CA 2144,46.9,,S\\r\\n73,0,2,\"Hood, Mr. Ambrose Jr\",male,21,0,0,S.O.C. 14879,73.5,,S\\r\\n74,0,3,\"Chronopoulos, Mr. Apostolos\",male,26,1,0,2680,14.4542,,C\\r\\n75,1,3,\"Bing, Mr. Lee\",male,32,0,0,1601,56.4958,,S\\r\\n76,0,3,\"Moen, Mr. Sigurd Hansen\",male,25,0,0,348123,7.65,F G73,S\\r\\n77,0,3,\"Staneff, Mr. Ivan\",male,,0,0,349208,7.8958,,S\\r\\n78,0,3,\"Moutal, Mr. Rahamin Haim\",male,,0,0,374746,8.05,,S\\r\\n79,1,2,\"Caldwell, Master. Alden Gates\",male,0.83,0,2,248738,29,,S\\r\\n80,1,3,\"Dowdell, Miss. Elizabeth\",female,30,0,0,364516,12.475,,S\\r\\n81,0,3,\"Waelens, Mr. Achille\",male,22,0,0,345767,9,,S\\r\\n82,1,3,\"Sheerlinck, Mr. Jan Baptist\",male,29,0,0,345779,9.5,,S\\r\\n83,1,3,\"McDermott, Miss. Brigdet Delia\",female,,0,0,330932,7.7875,,Q\\r\\n84,0,1,\"Carrau, Mr. Francisco M\",male,28,0,0,113059,47.1,,S\\r\\n85,1,2,\"Ilett, Miss. Bertha\",female,17,0,0,SO/C 14885,10.5,,S\\r\\n86,1,3,\"Backstrom, Mrs. Karl Alfred (Maria Mathilda Gustafsson)\",female,33,3,0,3101278,15.85,,S\\r\\n87,0,3,\"Ford, Mr. William Neal\",male,16,1,3,W./C. 6608,34.375,,S\\r\\n88,0,3,\"Slocovski, Mr. Selman Francis\",male,,0,0,SOTON/OQ 392086,8.05,,S\\r\\n89,1,1,\"Fortune, Miss. Mabel Helen\",female,23,3,2,19950,263,C23 C25 C27,S\\r\\n90,0,3,\"Celotti, Mr. Francesco\",male,24,0,0,343275,8.05,,S\\r\\n91,0,3,\"Christmann, Mr. Emil\",male,29,0,0,343276,8.05,,S\\r\\n92,0,3,\"Andreasson, Mr. Paul Edvin\",male,20,0,0,347466,7.8542,,S\\r\\n93,0,1,\"Chaffee, Mr. Herbert Fuller\",male,46,1,0,W.E.P. 5734,61.175,E31,S\\r\\n94,0,3,\"Dean, Mr. Bertram Frank\",male,26,1,2,C.A. 2315,20.575,,S\\r\\n95,0,3,\"Coxon, Mr. Daniel\",male,59,0,0,364500,7.25,,S\\r\\n96,0,3,\"Shorney, Mr. Charles Joseph\",male,,0,0,374910,8.05,,S\\r\\n97,0,1,\"Goldschmidt, Mr. George B\",male,71,0,0,PC 17754,34.6542,A5,C\\r\\n98,1,1,\"Greenfield, Mr. William Bertram\",male,23,0,1,PC 17759,63.3583,D10 D12,C\\r\\n99,1,2,\"Doling, Mrs. John T (Ada Julia Bone)\",female,34,0,1,231919,23,,S\\r\\n100,0,2,\"Kantor, Mr. Sinai\",male,34,1,0,244367,26,,S\\r\\n101,0,3,\"Petranec, Miss. Matilda\",female,28,0,0,349245,7.8958,,S\\r\\n102,0,3,\"Petroff, Mr. Pastcho (\"\"Pentcho\"\")\",male,,0,0,349215,7.8958,,S\\r\\n103,0,1,\"White, Mr. Richard Frasar\",male,21,0,1,35281,77.2875,D26,S\\r\\n104,0,3,\"Johansson, Mr. Gustaf Joel\",male,33,0,0,7540,8.6542,,S\\r\\n105,0,3,\"Gustafsson, Mr. Anders Vilhelm\",male,37,2,0,3101276,7.925,,S\\r\\n106,0,3,\"Mionoff, Mr. Stoytcho\",male,28,0,0,349207,7.8958,,S\\r\\n107,1,3,\"Salkjelsvik, Miss. Anna Kristine\",female,21,0,0,343120,7.65,,S\\r\\n108,1,3,\"Moss, Mr. Albert Johan\",male,,0,0,312991,7.775,,S\\r\\n109,0,3,\"Rekic, Mr. Tido\",male,38,0,0,349249,7.8958,,S\\r\\n110,1,3,\"Moran, Miss. Bertha\",female,,1,0,371110,24.15,,Q\\r\\n111,0,1,\"Porter, Mr. Walter Chamberlain\",male,47,0,0,110465,52,C110,S\\r\\n112,0,3,\"Zabour, Miss. Hileni\",female,14.5,1,0,2665,14.4542,,C\\r\\n113,0,3,\"Barton, Mr. David John\",male,22,0,0,324669,8.05,,S\\r\\n114,0,3,\"Jussila, Miss. Katriina\",female,20,1,0,4136,9.825,,S\\r\\n115,0,3,\"Attalah, Miss. Malake\",female,17,0,0,2627,14.4583,,C\\r\\n116,0,3,\"Pekoniemi, Mr. Edvard\",male,21,0,0,STON/O 2. 3101294,7.925,,S\\r\\n117,0,3,\"Connors, Mr. Patrick\",male,70.5,0,0,370369,7.75,,Q\\r\\n118,0,2,\"Turpin, Mr. William John Robert\",male,29,1,0,11668,21,,S\\r\\n119,0,1,\"Baxter, Mr. Quigg Edmond\",male,24,0,1,PC 17558,247.5208,B58 B60,C\\r\\n120,0,3,\"Andersson, Miss. Ellis Anna Maria\",female,2,4,2,347082,31.275,,S\\r\\n121,0,2,\"Hickman, Mr. Stanley George\",male,21,2,0,S.O.C. 14879,73.5,,S\\r\\n122,0,3,\"Moore, Mr. Leonard Charles\",male,,0,0,A4. 54510,8.05,,S\\r\\n123,0,2,\"Nasser, Mr. Nicholas\",male,32.5,1,0,237736,30.0708,,C\\r\\n124,1,2,\"Webber, Miss. Susan\",female,32.5,0,0,27267,13,E101,S\\r\\n125,0,1,\"White, Mr. Percival Wayland\",male,54,0,1,35281,77.2875,D26,S\\r\\n126,1,3,\"Nicola-Yarred, Master. Elias\",male,12,1,0,2651,11.2417,,C\\r\\n127,0,3,\"McMahon, Mr. Martin\",male,,0,0,370372,7.75,,Q\\r\\n128,1,3,\"Madsen, Mr. Fridtjof Arne\",male,24,0,0,C 17369,7.1417,,S\\r\\n129,1,3,\"Peter, Miss. Anna\",female,,1,1,2668,22.3583,F E69,C\\r\\n130,0,3,\"Ekstrom, Mr. Johan\",male,45,0,0,347061,6.975,,S\\r\\n131,0,3,\"Drazenoic, Mr. Jozef\",male,33,0,0,349241,7.8958,,C\\r\\n132,0,3,\"Coelho, Mr. Domingos Fernandeo\",male,20,0,0,SOTON/O.Q. 3101307,7.05,,S\\r\\n133,0,3,\"Robins, Mrs. Alexander A (Grace Charity Laury)\",female,47,1,0,A/5. 3337,14.5,,S\\r\\n134,1,2,\"Weisz, Mrs. Leopold (Mathilde Francoise Pede)\",female,29,1,0,228414,26,,S\\r\\n135,0,2,\"Sobey, Mr. Samuel James Hayden\",male,25,0,0,C.A. 29178,13,,S\\r\\n136,0,2,\"Richard, Mr. Emile\",male,23,0,0,SC/PARIS 2133,15.0458,,C\\r\\n137,1,1,\"Newsom, Miss. Helen Monypeny\",female,19,0,2,11752,26.2833,D47,S\\r\\n138,0,1,\"Futrelle, Mr. Jacques Heath\",male,37,1,0,113803,53.1,C123,S\\r\\n139,0,3,\"Osen, Mr. Olaf Elon\",male,16,0,0,7534,9.2167,,S\\r\\n140,0,1,\"Giglio, Mr. Victor\",male,24,0,0,PC 17593,79.2,B86,C\\r\\n141,0,3,\"Boulos, Mrs. Joseph (Sultana)\",female,,0,2,2678,15.2458,,C\\r\\n142,1,3,\"Nysten, Miss. Anna Sofia\",female,22,0,0,347081,7.75,,S\\r\\n143,1,3,\"Hakkarainen, Mrs. Pekka Pietari (Elin Matilda Dolck)\",female,24,1,0,STON/O2. 3101279,15.85,,S\\r\\n144,0,3,\"Burke, Mr. Jeremiah\",male,19,0,0,365222,6.75,,Q\\r\\n145,0,2,\"Andrew, Mr. Edgardo Samuel\",male,18,0,0,231945,11.5,,S\\r\\n146,0,2,\"Nicholls, Mr. Joseph Charles\",male,19,1,1,C.A. 33112,36.75,,S\\r\\n147,1,3,\"Andersson, Mr. August Edvard (\"\"Wennerstrom\"\")\",male,27,0,0,350043,7.7958,,S\\r\\n148,0,3,\"Ford, Miss. Robina Maggie \"\"Ruby\"\"\",female,9,2,2,W./C. 6608,34.375,,S\\r\\n149,0,2,\"Navratil, Mr. Michel (\"\"Louis M Hoffman\"\")\",male,36.5,0,2,230080,26,F2,S\\r\\n150,0,2,\"Byles, Rev. Thomas Roussel Davids\",male,42,0,0,244310,13,,S\\r\\n151,0,2,\"Bateman, Rev. Robert James\",male,51,0,0,S.O.P. 1166,12.525,,S\\r\\n152,1,1,\"Pears, Mrs. Thomas (Edith Wearne)\",female,22,1,0,113776,66.6,C2,S\\r\\n153,0,3,\"Meo, Mr. Alfonzo\",male,55.5,0,0,A.5. 11206,8.05,,S\\r\\n154,0,3,\"van Billiard, Mr. Austin Blyler\",male,40.5,0,2,A/5. 851,14.5,,S\\r\\n155,0,3,\"Olsen, Mr. Ole Martin\",male,,0,0,Fa 265302,7.3125,,S\\r\\n156,0,1,\"Williams, Mr. Charles Duane\",male,51,0,1,PC 17597,61.3792,,C\\r\\n157,1,3,\"Gilnagh, Miss. Katherine \"\"Katie\"\"\",female,16,0,0,35851,7.7333,,Q\\r\\n158,0,3,\"Corn, Mr. Harry\",male,30,0,0,SOTON/OQ 392090,8.05,,S\\r\\n159,0,3,\"Smiljanic, Mr. Mile\",male,,0,0,315037,8.6625,,S\\r\\n160,0,3,\"Sage, Master. Thomas Henry\",male,,8,2,CA. 2343,69.55,,S\\r\\n161,0,3,\"Cribb, Mr. John Hatfield\",male,44,0,1,371362,16.1,,S\\r\\n162,1,2,\"Watt, Mrs. James (Elizabeth \"\"Bessie\"\" Inglis Milne)\",female,40,0,0,C.A. 33595,15.75,,S\\r\\n163,0,3,\"Bengtsson, Mr. John Viktor\",male,26,0,0,347068,7.775,,S\\r\\n164,0,3,\"Calic, Mr. Jovo\",male,17,0,0,315093,8.6625,,S\\r\\n165,0,3,\"Panula, Master. Eino Viljami\",male,1,4,1,3101295,39.6875,,S\\r\\n166,1,3,\"Goldsmith, Master. Frank John William \"\"Frankie\"\"\",male,9,0,2,363291,20.525,,S\\r\\n167,1,1,\"Chibnall, Mrs. (Edith Martha Bowerman)\",female,,0,1,113505,55,E33,S\\r\\n168,0,3,\"Skoog, Mrs. William (Anna Bernhardina Karlsson)\",female,45,1,4,347088,27.9,,S\\r\\n169,0,1,\"Baumann, Mr. John D\",male,,0,0,PC 17318,25.925,,S\\r\\n170,0,3,\"Ling, Mr. Lee\",male,28,0,0,1601,56.4958,,S\\r\\n171,0,1,\"Van der hoef, Mr. Wyckoff\",male,61,0,0,111240,33.5,B19,S\\r\\n172,0,3,\"Rice, Master. Arthur\",male,4,4,1,382652,29.125,,Q\\r\\n173,1,3,\"Johnson, Miss. Eleanor Ileen\",female,1,1,1,347742,11.1333,,S\\r\\n174,0,3,\"Sivola, Mr. Antti Wilhelm\",male,21,0,0,STON/O 2. 3101280,7.925,,S\\r\\n175,0,1,\"Smith, Mr. James Clinch\",male,56,0,0,17764,30.6958,A7,C\\r\\n176,0,3,\"Klasen, Mr. Klas Albin\",male,18,1,1,350404,7.8542,,S\\r\\n177,0,3,\"Lefebre, Master. Henry Forbes\",male,,3,1,4133,25.4667,,S\\r\\n178,0,1,\"Isham, Miss. Ann Elizabeth\",female,50,0,0,PC 17595,28.7125,C49,C\\r\\n179,0,2,\"Hale, Mr. Reginald\",male,30,0,0,250653,13,,S\\r\\n180,0,3,\"Leonard, Mr. Lionel\",male,36,0,0,LINE,0,,S\\r\\n181,0,3,\"Sage, Miss. Constance Gladys\",female,,8,2,CA. 2343,69.55,,S\\r\\n182,0,2,\"Pernot, Mr. Rene\",male,,0,0,SC/PARIS 2131,15.05,,C\\r\\n183,0,3,\"Asplund, Master. Clarence Gustaf Hugo\",male,9,4,2,347077,31.3875,,S\\r\\n184,1,2,\"Becker, Master. Richard F\",male,1,2,1,230136,39,F4,S\\r\\n185,1,3,\"Kink-Heilmann, Miss. Luise Gretchen\",female,4,0,2,315153,22.025,,S\\r\\n186,0,1,\"Rood, Mr. Hugh Roscoe\",male,,0,0,113767,50,A32,S\\r\\n187,1,3,\"O\\'Brien, Mrs. Thomas (Johanna \"\"Hannah\"\" Godfrey)\",female,,1,0,370365,15.5,,Q\\r\\n188,1,1,\"Romaine, Mr. Charles Hallace (\"\"Mr C Rolmane\"\")\",male,45,0,0,111428,26.55,,S\\r\\n189,0,3,\"Bourke, Mr. John\",male,40,1,1,364849,15.5,,Q\\r\\n190,0,3,\"Turcin, Mr. Stjepan\",male,36,0,0,349247,7.8958,,S\\r\\n191,1,2,\"Pinsky, Mrs. (Rosa)\",female,32,0,0,234604,13,,S\\r\\n192,0,2,\"Carbines, Mr. William\",male,19,0,0,28424,13,,S\\r\\n193,1,3,\"Andersen-Jensen, Miss. Carla Christine Nielsine\",female,19,1,0,350046,7.8542,,S\\r\\n194,1,2,\"Navratil, Master. Michel M\",male,3,1,1,230080,26,F2,S\\r\\n195,1,1,\"Brown, Mrs. James Joseph (Margaret Tobin)\",female,44,0,0,PC 17610,27.7208,B4,C\\r\\n196,1,1,\"Lurette, Miss. Elise\",female,58,0,0,PC 17569,146.5208,B80,C\\r\\n197,0,3,\"Mernagh, Mr. Robert\",male,,0,0,368703,7.75,,Q\\r\\n198,0,3,\"Olsen, Mr. Karl Siegwart Andreas\",male,42,0,1,4579,8.4042,,S\\r\\n199,1,3,\"Madigan, Miss. Margaret \"\"Maggie\"\"\",female,,0,0,370370,7.75,,Q\\r\\n200,0,2,\"Yrois, Miss. Henriette (\"\"Mrs Harbeck\"\")\",female,24,0,0,248747,13,,S\\r\\n201,0,3,\"Vande Walle, Mr. Nestor Cyriel\",male,28,0,0,345770,9.5,,S\\r\\n202,0,3,\"Sage, Mr. Frederick\",male,,8,2,CA. 2343,69.55,,S\\r\\n203,0,3,\"Johanson, Mr. Jakob Alfred\",male,34,0,0,3101264,6.4958,,S\\r\\n204,0,3,\"Youseff, Mr. Gerious\",male,45.5,0,0,2628,7.225,,C\\r\\n205,1,3,\"Cohen, Mr. Gurshon \"\"Gus\"\"\",male,18,0,0,A/5 3540,8.05,,S\\r\\n206,0,3,\"Strom, Miss. Telma Matilda\",female,2,0,1,347054,10.4625,G6,S\\r\\n207,0,3,\"Backstrom, Mr. Karl Alfred\",male,32,1,0,3101278,15.85,,S\\r\\n208,1,3,\"Albimona, Mr. Nassef Cassem\",male,26,0,0,2699,18.7875,,C\\r\\n209,1,3,\"Carr, Miss. Helen \"\"Ellen\"\"\",female,16,0,0,367231,7.75,,Q\\r\\n210,1,1,\"Blank, Mr. Henry\",male,40,0,0,112277,31,A31,C\\r\\n211,0,3,\"Ali, Mr. Ahmed\",male,24,0,0,SOTON/O.Q. 3101311,7.05,,S\\r\\n212,1,2,\"Cameron, Miss. Clear Annie\",female,35,0,0,F.C.C. 13528,21,,S\\r\\n213,0,3,\"Perkin, Mr. John Henry\",male,22,0,0,A/5 21174,7.25,,S\\r\\n214,0,2,\"Givard, Mr. Hans Kristensen\",male,30,0,0,250646,13,,S\\r\\n215,0,3,\"Kiernan, Mr. Philip\",male,,1,0,367229,7.75,,Q\\r\\n216,1,1,\"Newell, Miss. Madeleine\",female,31,1,0,35273,113.275,D36,C\\r\\n217,1,3,\"Honkanen, Miss. Eliina\",female,27,0,0,STON/O2. 3101283,7.925,,S\\r\\n218,0,2,\"Jacobsohn, Mr. Sidney Samuel\",male,42,1,0,243847,27,,S\\r\\n219,1,1,\"Bazzani, Miss. Albina\",female,32,0,0,11813,76.2917,D15,C\\r\\n220,0,2,\"Harris, Mr. Walter\",male,30,0,0,W/C 14208,10.5,,S\\r\\n221,1,3,\"Sunderland, Mr. Victor Francis\",male,16,0,0,SOTON/OQ 392089,8.05,,S\\r\\n222,0,2,\"Bracken, Mr. James H\",male,27,0,0,220367,13,,S\\r\\n223,0,3,\"Green, Mr. George Henry\",male,51,0,0,21440,8.05,,S\\r\\n224,0,3,\"Nenkoff, Mr. Christo\",male,,0,0,349234,7.8958,,S\\r\\n225,1,1,\"Hoyt, Mr. Frederick Maxfield\",male,38,1,0,19943,90,C93,S\\r\\n226,0,3,\"Berglund, Mr. Karl Ivar Sven\",male,22,0,0,PP 4348,9.35,,S\\r\\n227,1,2,\"Mellors, Mr. William John\",male,19,0,0,SW/PP 751,10.5,,S\\r\\n228,0,3,\"Lovell, Mr. John Hall (\"\"Henry\"\")\",male,20.5,0,0,A/5 21173,7.25,,S\\r\\n229,0,2,\"Fahlstrom, Mr. Arne Jonas\",male,18,0,0,236171,13,,S\\r\\n230,0,3,\"Lefebre, Miss. Mathilde\",female,,3,1,4133,25.4667,,S\\r\\n231,1,1,\"Harris, Mrs. Henry Birkhardt (Irene Wallach)\",female,35,1,0,36973,83.475,C83,S\\r\\n232,0,3,\"Larsson, Mr. Bengt Edvin\",male,29,0,0,347067,7.775,,S\\r\\n233,0,2,\"Sjostedt, Mr. Ernst Adolf\",male,59,0,0,237442,13.5,,S\\r\\n234,1,3,\"Asplund, Miss. Lillian Gertrud\",female,5,4,2,347077,31.3875,,S\\r\\n235,0,2,\"Leyson, Mr. Robert William Norman\",male,24,0,0,C.A. 29566,10.5,,S\\r\\n236,0,3,\"Harknett, Miss. Alice Phoebe\",female,,0,0,W./C. 6609,7.55,,S\\r\\n237,0,2,\"Hold, Mr. Stephen\",male,44,1,0,26707,26,,S\\r\\n238,1,2,\"Collyer, Miss. Marjorie \"\"Lottie\"\"\",female,8,0,2,C.A. 31921,26.25,,S\\r\\n239,0,2,\"Pengelly, Mr. Frederick William\",male,19,0,0,28665,10.5,,S\\r\\n240,0,2,\"Hunt, Mr. George Henry\",male,33,0,0,SCO/W 1585,12.275,,S\\r\\n241,0,3,\"Zabour, Miss. Thamine\",female,,1,0,2665,14.4542,,C\\r\\n242,1,3,\"Murphy, Miss. Katherine \"\"Kate\"\"\",female,,1,0,367230,15.5,,Q\\r\\n243,0,2,\"Coleridge, Mr. Reginald Charles\",male,29,0,0,W./C. 14263,10.5,,S\\r\\n244,0,3,\"Maenpaa, Mr. Matti Alexanteri\",male,22,0,0,STON/O 2. 3101275,7.125,,S\\r\\n245,0,3,\"Attalah, Mr. Sleiman\",male,30,0,0,2694,7.225,,C\\r\\n246,0,1,\"Minahan, Dr. William Edward\",male,44,2,0,19928,90,C78,Q\\r\\n247,0,3,\"Lindahl, Miss. Agda Thorilda Viktoria\",female,25,0,0,347071,7.775,,S\\r\\n248,1,2,\"Hamalainen, Mrs. William (Anna)\",female,24,0,2,250649,14.5,,S\\r\\n249,1,1,\"Beckwith, Mr. Richard Leonard\",male,37,1,1,11751,52.5542,D35,S\\r\\n250,0,2,\"Carter, Rev. Ernest Courtenay\",male,54,1,0,244252,26,,S\\r\\n251,0,3,\"Reed, Mr. James George\",male,,0,0,362316,7.25,,S\\r\\n252,0,3,\"Strom, Mrs. Wilhelm (Elna Matilda Persson)\",female,29,1,1,347054,10.4625,G6,S\\r\\n253,0,1,\"Stead, Mr. William Thomas\",male,62,0,0,113514,26.55,C87,S\\r\\n254,0,3,\"Lobb, Mr. William Arthur\",male,30,1,0,A/5. 3336,16.1,,S\\r\\n255,0,3,\"Rosblom, Mrs. Viktor (Helena Wilhelmina)\",female,41,0,2,370129,20.2125,,S\\r\\n256,1,3,\"Touma, Mrs. Darwis (Hanne Youssef Razi)\",female,29,0,2,2650,15.2458,,C\\r\\n257,1,1,\"Thorne, Mrs. Gertrude Maybelle\",female,,0,0,PC 17585,79.2,,C\\r\\n258,1,1,\"Cherry, Miss. Gladys\",female,30,0,0,110152,86.5,B77,S\\r\\n259,1,1,\"Ward, Miss. Anna\",female,35,0,0,PC 17755,512.3292,,C\\r\\n260,1,2,\"Parrish, Mrs. (Lutie Davis)\",female,50,0,1,230433,26,,S\\r\\n261,0,3,\"Smith, Mr. Thomas\",male,,0,0,384461,7.75,,Q\\r\\n262,1,3,\"Asplund, Master. Edvin Rojj Felix\",male,3,4,2,347077,31.3875,,S\\r\\n263,0,1,\"Taussig, Mr. Emil\",male,52,1,1,110413,79.65,E67,S\\r\\n264,0,1,\"Harrison, Mr. William\",male,40,0,0,112059,0,B94,S\\r\\n265,0,3,\"Henry, Miss. Delia\",female,,0,0,382649,7.75,,Q\\r\\n266,0,2,\"Reeves, Mr. David\",male,36,0,0,C.A. 17248,10.5,,S\\r\\n267,0,3,\"Panula, Mr. Ernesti Arvid\",male,16,4,1,3101295,39.6875,,S\\r\\n268,1,3,\"Persson, Mr. Ernst Ulrik\",male,25,1,0,347083,7.775,,S\\r\\n269,1,1,\"Graham, Mrs. William Thompson (Edith Junkins)\",female,58,0,1,PC 17582,153.4625,C125,S\\r\\n270,1,1,\"Bissette, Miss. Amelia\",female,35,0,0,PC 17760,135.6333,C99,S\\r\\n271,0,1,\"Cairns, Mr. Alexander\",male,,0,0,113798,31,,S\\r\\n272,1,3,\"Tornquist, Mr. William Henry\",male,25,0,0,LINE,0,,S\\r\\n273,1,2,\"Mellinger, Mrs. (Elizabeth Anne Maidment)\",female,41,0,1,250644,19.5,,S\\r\\n274,0,1,\"Natsch, Mr. Charles H\",male,37,0,1,PC 17596,29.7,C118,C\\r\\n275,1,3,\"Healy, Miss. Hanora \"\"Nora\"\"\",female,,0,0,370375,7.75,,Q\\r\\n276,1,1,\"Andrews, Miss. Kornelia Theodosia\",female,63,1,0,13502,77.9583,D7,S\\r\\n277,0,3,\"Lindblom, Miss. Augusta Charlotta\",female,45,0,0,347073,7.75,,S\\r\\n278,0,2,\"Parkes, Mr. Francis \"\"Frank\"\"\",male,,0,0,239853,0,,S\\r\\n279,0,3,\"Rice, Master. Eric\",male,7,4,1,382652,29.125,,Q\\r\\n280,1,3,\"Abbott, Mrs. Stanton (Rosa Hunt)\",female,35,1,1,C.A. 2673,20.25,,S\\r\\n281,0,3,\"Duane, Mr. Frank\",male,65,0,0,336439,7.75,,Q\\r\\n282,0,3,\"Olsson, Mr. Nils Johan Goransson\",male,28,0,0,347464,7.8542,,S\\r\\n283,0,3,\"de Pelsmaeker, Mr. Alfons\",male,16,0,0,345778,9.5,,S\\r\\n284,1,3,\"Dorking, Mr. Edward Arthur\",male,19,0,0,A/5. 10482,8.05,,S\\r\\n285,0,1,\"Smith, Mr. Richard William\",male,,0,0,113056,26,A19,S\\r\\n286,0,3,\"Stankovic, Mr. Ivan\",male,33,0,0,349239,8.6625,,C\\r\\n287,1,3,\"de Mulder, Mr. Theodore\",male,30,0,0,345774,9.5,,S\\r\\n288,0,3,\"Naidenoff, Mr. Penko\",male,22,0,0,349206,7.8958,,S\\r\\n289,1,2,\"Hosono, Mr. Masabumi\",male,42,0,0,237798,13,,S\\r\\n290,1,3,\"Connolly, Miss. Kate\",female,22,0,0,370373,7.75,,Q\\r\\n291,1,1,\"Barber, Miss. Ellen \"\"Nellie\"\"\",female,26,0,0,19877,78.85,,S\\r\\n292,1,1,\"Bishop, Mrs. Dickinson H (Helen Walton)\",female,19,1,0,11967,91.0792,B49,C\\r\\n293,0,2,\"Levy, Mr. Rene Jacques\",male,36,0,0,SC/Paris 2163,12.875,D,C\\r\\n294,0,3,\"Haas, Miss. Aloisia\",female,24,0,0,349236,8.85,,S\\r\\n295,0,3,\"Mineff, Mr. Ivan\",male,24,0,0,349233,7.8958,,S\\r\\n296,0,1,\"Lewy, Mr. Ervin G\",male,,0,0,PC 17612,27.7208,,C\\r\\n297,0,3,\"Hanna, Mr. Mansour\",male,23.5,0,0,2693,7.2292,,C\\r\\n298,0,1,\"Allison, Miss. Helen Loraine\",female,2,1,2,113781,151.55,C22 C26,S\\r\\n299,1,1,\"Saalfeld, Mr. Adolphe\",male,,0,0,19988,30.5,C106,S\\r\\n300,1,1,\"Baxter, Mrs. James (Helene DeLaudeniere Chaput)\",female,50,0,1,PC 17558,247.5208,B58 B60,C\\r\\n301,1,3,\"Kelly, Miss. Anna Katherine \"\"Annie Kate\"\"\",female,,0,0,9234,7.75,,Q\\r\\n302,1,3,\"McCoy, Mr. Bernard\",male,,2,0,367226,23.25,,Q\\r\\n303,0,3,\"Johnson, Mr. William Cahoone Jr\",male,19,0,0,LINE,0,,S\\r\\n304,1,2,\"Keane, Miss. Nora A\",female,,0,0,226593,12.35,E101,Q\\r\\n305,0,3,\"Williams, Mr. Howard Hugh \"\"Harry\"\"\",male,,0,0,A/5 2466,8.05,,S\\r\\n306,1,1,\"Allison, Master. Hudson Trevor\",male,0.92,1,2,113781,151.55,C22 C26,S\\r\\n307,1,1,\"Fleming, Miss. Margaret\",female,,0,0,17421,110.8833,,C\\r\\n308,1,1,\"Penasco y Castellana, Mrs. Victor de Satode (Maria Josefa Perez de Soto y Vallejo)\",female,17,1,0,PC 17758,108.9,C65,C\\r\\n309,0,2,\"Abelson, Mr. Samuel\",male,30,1,0,P/PP 3381,24,,C\\r\\n310,1,1,\"Francatelli, Miss. Laura Mabel\",female,30,0,0,PC 17485,56.9292,E36,C\\r\\n311,1,1,\"Hays, Miss. Margaret Bechstein\",female,24,0,0,11767,83.1583,C54,C\\r\\n312,1,1,\"Ryerson, Miss. Emily Borie\",female,18,2,2,PC 17608,262.375,B57 B59 B63 B66,C\\r\\n313,0,2,\"Lahtinen, Mrs. William (Anna Sylfven)\",female,26,1,1,250651,26,,S\\r\\n314,0,3,\"Hendekovic, Mr. Ignjac\",male,28,0,0,349243,7.8958,,S\\r\\n315,0,2,\"Hart, Mr. Benjamin\",male,43,1,1,F.C.C. 13529,26.25,,S\\r\\n316,1,3,\"Nilsson, Miss. Helmina Josefina\",female,26,0,0,347470,7.8542,,S\\r\\n317,1,2,\"Kantor, Mrs. Sinai (Miriam Sternin)\",female,24,1,0,244367,26,,S\\r\\n318,0,2,\"Moraweck, Dr. Ernest\",male,54,0,0,29011,14,,S\\r\\n319,1,1,\"Wick, Miss. Mary Natalie\",female,31,0,2,36928,164.8667,C7,S\\r\\n320,1,1,\"Spedden, Mrs. Frederic Oakley (Margaretta Corning Stone)\",female,40,1,1,16966,134.5,E34,C\\r\\n321,0,3,\"Dennis, Mr. Samuel\",male,22,0,0,A/5 21172,7.25,,S\\r\\n322,0,3,\"Danoff, Mr. Yoto\",male,27,0,0,349219,7.8958,,S\\r\\n323,1,2,\"Slayter, Miss. Hilda Mary\",female,30,0,0,234818,12.35,,Q\\r\\n324,1,2,\"Caldwell, Mrs. Albert Francis (Sylvia Mae Harbaugh)\",female,22,1,1,248738,29,,S\\r\\n325,0,3,\"Sage, Mr. George John Jr\",male,,8,2,CA. 2343,69.55,,S\\r\\n326,1,1,\"Young, Miss. Marie Grice\",female,36,0,0,PC 17760,135.6333,C32,C\\r\\n327,0,3,\"Nysveen, Mr. Johan Hansen\",male,61,0,0,345364,6.2375,,S\\r\\n328,1,2,\"Ball, Mrs. (Ada E Hall)\",female,36,0,0,28551,13,D,S\\r\\n329,1,3,\"Goldsmith, Mrs. Frank John (Emily Alice Brown)\",female,31,1,1,363291,20.525,,S\\r\\n330,1,1,\"Hippach, Miss. Jean Gertrude\",female,16,0,1,111361,57.9792,B18,C\\r\\n331,1,3,\"McCoy, Miss. Agnes\",female,,2,0,367226,23.25,,Q\\r\\n332,0,1,\"Partner, Mr. Austen\",male,45.5,0,0,113043,28.5,C124,S\\r\\n333,0,1,\"Graham, Mr. George Edward\",male,38,0,1,PC 17582,153.4625,C91,S\\r\\n334,0,3,\"Vander Planke, Mr. Leo Edmondus\",male,16,2,0,345764,18,,S\\r\\n335,1,1,\"Frauenthal, Mrs. Henry William (Clara Heinsheimer)\",female,,1,0,PC 17611,133.65,,S\\r\\n336,0,3,\"Denkoff, Mr. Mitto\",male,,0,0,349225,7.8958,,S\\r\\n337,0,1,\"Pears, Mr. Thomas Clinton\",male,29,1,0,113776,66.6,C2,S\\r\\n338,1,1,\"Burns, Miss. Elizabeth Margaret\",female,41,0,0,16966,134.5,E40,C\\r\\n339,1,3,\"Dahl, Mr. Karl Edwart\",male,45,0,0,7598,8.05,,S\\r\\n340,0,1,\"Blackwell, Mr. Stephen Weart\",male,45,0,0,113784,35.5,T,S\\r\\n341,1,2,\"Navratil, Master. Edmond Roger\",male,2,1,1,230080,26,F2,S\\r\\n342,1,1,\"Fortune, Miss. Alice Elizabeth\",female,24,3,2,19950,263,C23 C25 C27,S\\r\\n343,0,2,\"Collander, Mr. Erik Gustaf\",male,28,0,0,248740,13,,S\\r\\n344,0,2,\"Sedgwick, Mr. Charles Frederick Waddington\",male,25,0,0,244361,13,,S\\r\\n345,0,2,\"Fox, Mr. Stanley Hubert\",male,36,0,0,229236,13,,S\\r\\n346,1,2,\"Brown, Miss. Amelia \"\"Mildred\"\"\",female,24,0,0,248733,13,F33,S\\r\\n347,1,2,\"Smith, Miss. Marion Elsie\",female,40,0,0,31418,13,,S\\r\\n348,1,3,\"Davison, Mrs. Thomas Henry (Mary E Finck)\",female,,1,0,386525,16.1,,S\\r\\n349,1,3,\"Coutts, Master. William Loch \"\"William\"\"\",male,3,1,1,C.A. 37671,15.9,,S\\r\\n350,0,3,\"Dimic, Mr. Jovan\",male,42,0,0,315088,8.6625,,S\\r\\n351,0,3,\"Odahl, Mr. Nils Martin\",male,23,0,0,7267,9.225,,S\\r\\n352,0,1,\"Williams-Lambert, Mr. Fletcher Fellows\",male,,0,0,113510,35,C128,S\\r\\n353,0,3,\"Elias, Mr. Tannous\",male,15,1,1,2695,7.2292,,C\\r\\n354,0,3,\"Arnold-Franchi, Mr. Josef\",male,25,1,0,349237,17.8,,S\\r\\n355,0,3,\"Yousif, Mr. Wazli\",male,,0,0,2647,7.225,,C\\r\\n356,0,3,\"Vanden Steen, Mr. Leo Peter\",male,28,0,0,345783,9.5,,S\\r\\n357,1,1,\"Bowerman, Miss. Elsie Edith\",female,22,0,1,113505,55,E33,S\\r\\n358,0,2,\"Funk, Miss. Annie Clemmer\",female,38,0,0,237671,13,,S\\r\\n359,1,3,\"McGovern, Miss. Mary\",female,,0,0,330931,7.8792,,Q\\r\\n360,1,3,\"Mockler, Miss. Helen Mary \"\"Ellie\"\"\",female,,0,0,330980,7.8792,,Q\\r\\n361,0,3,\"Skoog, Mr. Wilhelm\",male,40,1,4,347088,27.9,,S\\r\\n362,0,2,\"del Carlo, Mr. Sebastiano\",male,29,1,0,SC/PARIS 2167,27.7208,,C\\r\\n363,0,3,\"Barbara, Mrs. (Catherine David)\",female,45,0,1,2691,14.4542,,C\\r\\n364,0,3,\"Asim, Mr. Adola\",male,35,0,0,SOTON/O.Q. 3101310,7.05,,S\\r\\n365,0,3,\"O\\'Brien, Mr. Thomas\",male,,1,0,370365,15.5,,Q\\r\\n366,0,3,\"Adahl, Mr. Mauritz Nils Martin\",male,30,0,0,C 7076,7.25,,S\\r\\n367,1,1,\"Warren, Mrs. Frank Manley (Anna Sophia Atkinson)\",female,60,1,0,110813,75.25,D37,C\\r\\n368,1,3,\"Moussa, Mrs. (Mantoura Boulos)\",female,,0,0,2626,7.2292,,C\\r\\n369,1,3,\"Jermyn, Miss. Annie\",female,,0,0,14313,7.75,,Q\\r\\n370,1,1,\"Aubart, Mme. Leontine Pauline\",female,24,0,0,PC 17477,69.3,B35,C\\r\\n371,1,1,\"Harder, Mr. George Achilles\",male,25,1,0,11765,55.4417,E50,C\\r\\n372,0,3,\"Wiklund, Mr. Jakob Alfred\",male,18,1,0,3101267,6.4958,,S\\r\\n373,0,3,\"Beavan, Mr. William Thomas\",male,19,0,0,323951,8.05,,S\\r\\n374,0,1,\"Ringhini, Mr. Sante\",male,22,0,0,PC 17760,135.6333,,C\\r\\n375,0,3,\"Palsson, Miss. Stina Viola\",female,3,3,1,349909,21.075,,S\\r\\n376,1,1,\"Meyer, Mrs. Edgar Joseph (Leila Saks)\",female,,1,0,PC 17604,82.1708,,C\\r\\n377,1,3,\"Landergren, Miss. Aurora Adelia\",female,22,0,0,C 7077,7.25,,S\\r\\n378,0,1,\"Widener, Mr. Harry Elkins\",male,27,0,2,113503,211.5,C82,C\\r\\n379,0,3,\"Betros, Mr. Tannous\",male,20,0,0,2648,4.0125,,C\\r\\n380,0,3,\"Gustafsson, Mr. Karl Gideon\",male,19,0,0,347069,7.775,,S\\r\\n381,1,1,\"Bidois, Miss. Rosalie\",female,42,0,0,PC 17757,227.525,,C\\r\\n382,1,3,\"Nakid, Miss. Maria (\"\"Mary\"\")\",female,1,0,2,2653,15.7417,,C\\r\\n383,0,3,\"Tikkanen, Mr. Juho\",male,32,0,0,STON/O 2. 3101293,7.925,,S\\r\\n384,1,1,\"Holverson, Mrs. Alexander Oskar (Mary Aline Towner)\",female,35,1,0,113789,52,,S\\r\\n385,0,3,\"Plotcharsky, Mr. Vasil\",male,,0,0,349227,7.8958,,S\\r\\n386,0,2,\"Davies, Mr. Charles Henry\",male,18,0,0,S.O.C. 14879,73.5,,S\\r\\n387,0,3,\"Goodwin, Master. Sidney Leonard\",male,1,5,2,CA 2144,46.9,,S\\r\\n388,1,2,\"Buss, Miss. Kate\",female,36,0,0,27849,13,,S\\r\\n389,0,3,\"Sadlier, Mr. Matthew\",male,,0,0,367655,7.7292,,Q\\r\\n390,1,2,\"Lehmann, Miss. Bertha\",female,17,0,0,SC 1748,12,,C\\r\\n391,1,1,\"Carter, Mr. William Ernest\",male,36,1,2,113760,120,B96 B98,S\\r\\n392,1,3,\"Jansson, Mr. Carl Olof\",male,21,0,0,350034,7.7958,,S\\r\\n393,0,3,\"Gustafsson, Mr. Johan Birger\",male,28,2,0,3101277,7.925,,S\\r\\n394,1,1,\"Newell, Miss. Marjorie\",female,23,1,0,35273,113.275,D36,C\\r\\n395,1,3,\"Sandstrom, Mrs. Hjalmar (Agnes Charlotta Bengtsson)\",female,24,0,2,PP 9549,16.7,G6,S\\r\\n396,0,3,\"Johansson, Mr. Erik\",male,22,0,0,350052,7.7958,,S\\r\\n397,0,3,\"Olsson, Miss. Elina\",female,31,0,0,350407,7.8542,,S\\r\\n398,0,2,\"McKane, Mr. Peter David\",male,46,0,0,28403,26,,S\\r\\n399,0,2,\"Pain, Dr. Alfred\",male,23,0,0,244278,10.5,,S\\r\\n400,1,2,\"Trout, Mrs. William H (Jessie L)\",female,28,0,0,240929,12.65,,S\\r\\n401,1,3,\"Niskanen, Mr. Juha\",male,39,0,0,STON/O 2. 3101289,7.925,,S\\r\\n402,0,3,\"Adams, Mr. John\",male,26,0,0,341826,8.05,,S\\r\\n403,0,3,\"Jussila, Miss. Mari Aina\",female,21,1,0,4137,9.825,,S\\r\\n404,0,3,\"Hakkarainen, Mr. Pekka Pietari\",male,28,1,0,STON/O2. 3101279,15.85,,S\\r\\n405,0,3,\"Oreskovic, Miss. Marija\",female,20,0,0,315096,8.6625,,S\\r\\n406,0,2,\"Gale, Mr. Shadrach\",male,34,1,0,28664,21,,S\\r\\n407,0,3,\"Widegren, Mr. Carl/Charles Peter\",male,51,0,0,347064,7.75,,S\\r\\n408,1,2,\"Richards, Master. William Rowe\",male,3,1,1,29106,18.75,,S\\r\\n409,0,3,\"Birkeland, Mr. Hans Martin Monsen\",male,21,0,0,312992,7.775,,S\\r\\n410,0,3,\"Lefebre, Miss. Ida\",female,,3,1,4133,25.4667,,S\\r\\n411,0,3,\"Sdycoff, Mr. Todor\",male,,0,0,349222,7.8958,,S\\r\\n412,0,3,\"Hart, Mr. Henry\",male,,0,0,394140,6.8583,,Q\\r\\n413,1,1,\"Minahan, Miss. Daisy E\",female,33,1,0,19928,90,C78,Q\\r\\n414,0,2,\"Cunningham, Mr. Alfred Fleming\",male,,0,0,239853,0,,S\\r\\n415,1,3,\"Sundman, Mr. Johan Julian\",male,44,0,0,STON/O 2. 3101269,7.925,,S\\r\\n416,0,3,\"Meek, Mrs. Thomas (Annie Louise Rowley)\",female,,0,0,343095,8.05,,S\\r\\n417,1,2,\"Drew, Mrs. James Vivian (Lulu Thorne Christian)\",female,34,1,1,28220,32.5,,S\\r\\n418,1,2,\"Silven, Miss. Lyyli Karoliina\",female,18,0,2,250652,13,,S\\r\\n419,0,2,\"Matthews, Mr. William John\",male,30,0,0,28228,13,,S\\r\\n420,0,3,\"Van Impe, Miss. Catharina\",female,10,0,2,345773,24.15,,S\\r\\n421,0,3,\"Gheorgheff, Mr. Stanio\",male,,0,0,349254,7.8958,,C\\r\\n422,0,3,\"Charters, Mr. David\",male,21,0,0,A/5. 13032,7.7333,,Q\\r\\n423,0,3,\"Zimmerman, Mr. Leo\",male,29,0,0,315082,7.875,,S\\r\\n424,0,3,\"Danbom, Mrs. Ernst Gilbert (Anna Sigrid Maria Brogren)\",female,28,1,1,347080,14.4,,S\\r\\n425,0,3,\"Rosblom, Mr. Viktor Richard\",male,18,1,1,370129,20.2125,,S\\r\\n426,0,3,\"Wiseman, Mr. Phillippe\",male,,0,0,A/4. 34244,7.25,,S\\r\\n427,1,2,\"Clarke, Mrs. Charles V (Ada Maria Winfield)\",female,28,1,0,2003,26,,S\\r\\n428,1,2,\"Phillips, Miss. Kate Florence (\"\"Mrs Kate Louise Phillips Marshall\"\")\",female,19,0,0,250655,26,,S\\r\\n429,0,3,\"Flynn, Mr. James\",male,,0,0,364851,7.75,,Q\\r\\n430,1,3,\"Pickard, Mr. Berk (Berk Trembisky)\",male,32,0,0,SOTON/O.Q. 392078,8.05,E10,S\\r\\n431,1,1,\"Bjornstrom-Steffansson, Mr. Mauritz Hakan\",male,28,0,0,110564,26.55,C52,S\\r\\n432,1,3,\"Thorneycroft, Mrs. Percival (Florence Kate White)\",female,,1,0,376564,16.1,,S\\r\\n433,1,2,\"Louch, Mrs. Charles Alexander (Alice Adelaide Slow)\",female,42,1,0,SC/AH 3085,26,,S\\r\\n434,0,3,\"Kallio, Mr. Nikolai Erland\",male,17,0,0,STON/O 2. 3101274,7.125,,S\\r\\n435,0,1,\"Silvey, Mr. William Baird\",male,50,1,0,13507,55.9,E44,S\\r\\n436,1,1,\"Carter, Miss. Lucile Polk\",female,14,1,2,113760,120,B96 B98,S\\r\\n437,0,3,\"Ford, Miss. Doolina Margaret \"\"Daisy\"\"\",female,21,2,2,W./C. 6608,34.375,,S\\r\\n438,1,2,\"Richards, Mrs. Sidney (Emily Hocking)\",female,24,2,3,29106,18.75,,S\\r\\n439,0,1,\"Fortune, Mr. Mark\",male,64,1,4,19950,263,C23 C25 C27,S\\r\\n440,0,2,\"Kvillner, Mr. Johan Henrik Johannesson\",male,31,0,0,C.A. 18723,10.5,,S\\r\\n441,1,2,\"Hart, Mrs. Benjamin (Esther Ada Bloomfield)\",female,45,1,1,F.C.C. 13529,26.25,,S\\r\\n442,0,3,\"Hampe, Mr. Leon\",male,20,0,0,345769,9.5,,S\\r\\n443,0,3,\"Petterson, Mr. Johan Emil\",male,25,1,0,347076,7.775,,S\\r\\n444,1,2,\"Reynaldo, Ms. Encarnacion\",female,28,0,0,230434,13,,S\\r\\n445,1,3,\"Johannesen-Bratthammer, Mr. Bernt\",male,,0,0,65306,8.1125,,S\\r\\n446,1,1,\"Dodge, Master. Washington\",male,4,0,2,33638,81.8583,A34,S\\r\\n447,1,2,\"Mellinger, Miss. Madeleine Violet\",female,13,0,1,250644,19.5,,S\\r\\n448,1,1,\"Seward, Mr. Frederic Kimber\",male,34,0,0,113794,26.55,,S\\r\\n449,1,3,\"Baclini, Miss. Marie Catherine\",female,5,2,1,2666,19.2583,,C\\r\\n450,1,1,\"Peuchen, Major. Arthur Godfrey\",male,52,0,0,113786,30.5,C104,S\\r\\n451,0,2,\"West, Mr. Edwy Arthur\",male,36,1,2,C.A. 34651,27.75,,S\\r\\n452,0,3,\"Hagland, Mr. Ingvald Olai Olsen\",male,,1,0,65303,19.9667,,S\\r\\n453,0,1,\"Foreman, Mr. Benjamin Laventall\",male,30,0,0,113051,27.75,C111,C\\r\\n454,1,1,\"Goldenberg, Mr. Samuel L\",male,49,1,0,17453,89.1042,C92,C\\r\\n455,0,3,\"Peduzzi, Mr. Joseph\",male,,0,0,A/5 2817,8.05,,S\\r\\n456,1,3,\"Jalsevac, Mr. Ivan\",male,29,0,0,349240,7.8958,,C\\r\\n457,0,1,\"Millet, Mr. Francis Davis\",male,65,0,0,13509,26.55,E38,S\\r\\n458,1,1,\"Kenyon, Mrs. Frederick R (Marion)\",female,,1,0,17464,51.8625,D21,S\\r\\n459,1,2,\"Toomey, Miss. Ellen\",female,50,0,0,F.C.C. 13531,10.5,,S\\r\\n460,0,3,\"O\\'Connor, Mr. Maurice\",male,,0,0,371060,7.75,,Q\\r\\n461,1,1,\"Anderson, Mr. Harry\",male,48,0,0,19952,26.55,E12,S\\r\\n462,0,3,\"Morley, Mr. William\",male,34,0,0,364506,8.05,,S\\r\\n463,0,1,\"Gee, Mr. Arthur H\",male,47,0,0,111320,38.5,E63,S\\r\\n464,0,2,\"Milling, Mr. Jacob Christian\",male,48,0,0,234360,13,,S\\r\\n465,0,3,\"Maisner, Mr. Simon\",male,,0,0,A/S 2816,8.05,,S\\r\\n466,0,3,\"Goncalves, Mr. Manuel Estanslas\",male,38,0,0,SOTON/O.Q. 3101306,7.05,,S\\r\\n467,0,2,\"Campbell, Mr. William\",male,,0,0,239853,0,,S\\r\\n468,0,1,\"Smart, Mr. John Montgomery\",male,56,0,0,113792,26.55,,S\\r\\n469,0,3,\"Scanlan, Mr. James\",male,,0,0,36209,7.725,,Q\\r\\n470,1,3,\"Baclini, Miss. Helene Barbara\",female,0.75,2,1,2666,19.2583,,C\\r\\n471,0,3,\"Keefe, Mr. Arthur\",male,,0,0,323592,7.25,,S\\r\\n472,0,3,\"Cacic, Mr. Luka\",male,38,0,0,315089,8.6625,,S\\r\\n473,1,2,\"West, Mrs. Edwy Arthur (Ada Mary Worth)\",female,33,1,2,C.A. 34651,27.75,,S\\r\\n474,1,2,\"Jerwan, Mrs. Amin S (Marie Marthe Thuillard)\",female,23,0,0,SC/AH Basle 541,13.7917,D,C\\r\\n475,0,3,\"Strandberg, Miss. Ida Sofia\",female,22,0,0,7553,9.8375,,S\\r\\n476,0,1,\"Clifford, Mr. George Quincy\",male,,0,0,110465,52,A14,S\\r\\n477,0,2,\"Renouf, Mr. Peter Henry\",male,34,1,0,31027,21,,S\\r\\n478,0,3,\"Braund, Mr. Lewis Richard\",male,29,1,0,3460,7.0458,,S\\r\\n479,0,3,\"Karlsson, Mr. Nils August\",male,22,0,0,350060,7.5208,,S\\r\\n480,1,3,\"Hirvonen, Miss. Hildur E\",female,2,0,1,3101298,12.2875,,S\\r\\n481,0,3,\"Goodwin, Master. Harold Victor\",male,9,5,2,CA 2144,46.9,,S\\r\\n482,0,2,\"Frost, Mr. Anthony Wood \"\"Archie\"\"\",male,,0,0,239854,0,,S\\r\\n483,0,3,\"Rouse, Mr. Richard Henry\",male,50,0,0,A/5 3594,8.05,,S\\r\\n484,1,3,\"Turkula, Mrs. (Hedwig)\",female,63,0,0,4134,9.5875,,S\\r\\n485,1,1,\"Bishop, Mr. Dickinson H\",male,25,1,0,11967,91.0792,B49,C\\r\\n486,0,3,\"Lefebre, Miss. Jeannie\",female,,3,1,4133,25.4667,,S\\r\\n487,1,1,\"Hoyt, Mrs. Frederick Maxfield (Jane Anne Forby)\",female,35,1,0,19943,90,C93,S\\r\\n488,0,1,\"Kent, Mr. Edward Austin\",male,58,0,0,11771,29.7,B37,C\\r\\n489,0,3,\"Somerton, Mr. Francis William\",male,30,0,0,A.5. 18509,8.05,,S\\r\\n490,1,3,\"Coutts, Master. Eden Leslie \"\"Neville\"\"\",male,9,1,1,C.A. 37671,15.9,,S\\r\\n491,0,3,\"Hagland, Mr. Konrad Mathias Reiersen\",male,,1,0,65304,19.9667,,S\\r\\n492,0,3,\"Windelov, Mr. Einar\",male,21,0,0,SOTON/OQ 3101317,7.25,,S\\r\\n493,0,1,\"Molson, Mr. Harry Markland\",male,55,0,0,113787,30.5,C30,S\\r\\n494,0,1,\"Artagaveytia, Mr. Ramon\",male,71,0,0,PC 17609,49.5042,,C\\r\\n495,0,3,\"Stanley, Mr. Edward Roland\",male,21,0,0,A/4 45380,8.05,,S\\r\\n496,0,3,\"Yousseff, Mr. Gerious\",male,,0,0,2627,14.4583,,C\\r\\n497,1,1,\"Eustis, Miss. Elizabeth Mussey\",female,54,1,0,36947,78.2667,D20,C\\r\\n498,0,3,\"Shellard, Mr. Frederick William\",male,,0,0,C.A. 6212,15.1,,S\\r\\n499,0,1,\"Allison, Mrs. Hudson J C (Bessie Waldo Daniels)\",female,25,1,2,113781,151.55,C22 C26,S\\r\\n500,0,3,\"Svensson, Mr. Olof\",male,24,0,0,350035,7.7958,,S\\r\\n501,0,3,\"Calic, Mr. Petar\",male,17,0,0,315086,8.6625,,S\\r\\n502,0,3,\"Canavan, Miss. Mary\",female,21,0,0,364846,7.75,,Q\\r\\n503,0,3,\"O\\'Sullivan, Miss. Bridget Mary\",female,,0,0,330909,7.6292,,Q\\r\\n504,0,3,\"Laitinen, Miss. Kristina Sofia\",female,37,0,0,4135,9.5875,,S\\r\\n505,1,1,\"Maioni, Miss. Roberta\",female,16,0,0,110152,86.5,B79,S\\r\\n506,0,1,\"Penasco y Castellana, Mr. Victor de Satode\",male,18,1,0,PC 17758,108.9,C65,C\\r\\n507,1,2,\"Quick, Mrs. Frederick Charles (Jane Richards)\",female,33,0,2,26360,26,,S\\r\\n508,1,1,\"Bradley, Mr. George (\"\"George Arthur Brayton\"\")\",male,,0,0,111427,26.55,,S\\r\\n509,0,3,\"Olsen, Mr. Henry Margido\",male,28,0,0,C 4001,22.525,,S\\r\\n510,1,3,\"Lang, Mr. Fang\",male,26,0,0,1601,56.4958,,S\\r\\n511,1,3,\"Daly, Mr. Eugene Patrick\",male,29,0,0,382651,7.75,,Q\\r\\n512,0,3,\"Webber, Mr. James\",male,,0,0,SOTON/OQ 3101316,8.05,,S\\r\\n513,1,1,\"McGough, Mr. James Robert\",male,36,0,0,PC 17473,26.2875,E25,S\\r\\n514,1,1,\"Rothschild, Mrs. Martin (Elizabeth L. Barrett)\",female,54,1,0,PC 17603,59.4,,C\\r\\n515,0,3,\"Coleff, Mr. Satio\",male,24,0,0,349209,7.4958,,S\\r\\n516,0,1,\"Walker, Mr. William Anderson\",male,47,0,0,36967,34.0208,D46,S\\r\\n517,1,2,\"Lemore, Mrs. (Amelia Milley)\",female,34,0,0,C.A. 34260,10.5,F33,S\\r\\n518,0,3,\"Ryan, Mr. Patrick\",male,,0,0,371110,24.15,,Q\\r\\n519,1,2,\"Angle, Mrs. William A (Florence \"\"Mary\"\" Agnes Hughes)\",female,36,1,0,226875,26,,S\\r\\n520,0,3,\"Pavlovic, Mr. Stefo\",male,32,0,0,349242,7.8958,,S\\r\\n521,1,1,\"Perreault, Miss. Anne\",female,30,0,0,12749,93.5,B73,S\\r\\n522,0,3,\"Vovk, Mr. Janko\",male,22,0,0,349252,7.8958,,S\\r\\n523,0,3,\"Lahoud, Mr. Sarkis\",male,,0,0,2624,7.225,,C\\r\\n524,1,1,\"Hippach, Mrs. Louis Albert (Ida Sophia Fischer)\",female,44,0,1,111361,57.9792,B18,C\\r\\n525,0,3,\"Kassem, Mr. Fared\",male,,0,0,2700,7.2292,,C\\r\\n526,0,3,\"Farrell, Mr. James\",male,40.5,0,0,367232,7.75,,Q\\r\\n527,1,2,\"Ridsdale, Miss. Lucy\",female,50,0,0,W./C. 14258,10.5,,S\\r\\n528,0,1,\"Farthing, Mr. John\",male,,0,0,PC 17483,221.7792,C95,S\\r\\n529,0,3,\"Salonen, Mr. Johan Werner\",male,39,0,0,3101296,7.925,,S\\r\\n530,0,2,\"Hocking, Mr. Richard George\",male,23,2,1,29104,11.5,,S\\r\\n531,1,2,\"Quick, Miss. Phyllis May\",female,2,1,1,26360,26,,S\\r\\n532,0,3,\"Toufik, Mr. Nakli\",male,,0,0,2641,7.2292,,C\\r\\n533,0,3,\"Elias, Mr. Joseph Jr\",male,17,1,1,2690,7.2292,,C\\r\\n534,1,3,\"Peter, Mrs. Catherine (Catherine Rizk)\",female,,0,2,2668,22.3583,,C\\r\\n535,0,3,\"Cacic, Miss. Marija\",female,30,0,0,315084,8.6625,,S\\r\\n536,1,2,\"Hart, Miss. Eva Miriam\",female,7,0,2,F.C.C. 13529,26.25,,S\\r\\n537,0,1,\"Butt, Major. Archibald Willingham\",male,45,0,0,113050,26.55,B38,S\\r\\n538,1,1,\"LeRoy, Miss. Bertha\",female,30,0,0,PC 17761,106.425,,C\\r\\n539,0,3,\"Risien, Mr. Samuel Beard\",male,,0,0,364498,14.5,,S\\r\\n540,1,1,\"Frolicher, Miss. Hedwig Margaritha\",female,22,0,2,13568,49.5,B39,C\\r\\n541,1,1,\"Crosby, Miss. Harriet R\",female,36,0,2,WE/P 5735,71,B22,S\\r\\n542,0,3,\"Andersson, Miss. Ingeborg Constanzia\",female,9,4,2,347082,31.275,,S\\r\\n543,0,3,\"Andersson, Miss. Sigrid Elisabeth\",female,11,4,2,347082,31.275,,S\\r\\n544,1,2,\"Beane, Mr. Edward\",male,32,1,0,2908,26,,S\\r\\n545,0,1,\"Douglas, Mr. Walter Donald\",male,50,1,0,PC 17761,106.425,C86,C\\r\\n546,0,1,\"Nicholson, Mr. Arthur Ernest\",male,64,0,0,693,26,,S\\r\\n547,1,2,\"Beane, Mrs. Edward (Ethel Clarke)\",female,19,1,0,2908,26,,S\\r\\n548,1,2,\"Padro y Manent, Mr. Julian\",male,,0,0,SC/PARIS 2146,13.8625,,C\\r\\n549,0,3,\"Goldsmith, Mr. Frank John\",male,33,1,1,363291,20.525,,S\\r\\n550,1,2,\"Davies, Master. John Morgan Jr\",male,8,1,1,C.A. 33112,36.75,,S\\r\\n551,1,1,\"Thayer, Mr. John Borland Jr\",male,17,0,2,17421,110.8833,C70,C\\r\\n552,0,2,\"Sharp, Mr. Percival James R\",male,27,0,0,244358,26,,S\\r\\n553,0,3,\"O\\'Brien, Mr. Timothy\",male,,0,0,330979,7.8292,,Q\\r\\n554,1,3,\"Leeni, Mr. Fahim (\"\"Philip Zenni\"\")\",male,22,0,0,2620,7.225,,C\\r\\n555,1,3,\"Ohman, Miss. Velin\",female,22,0,0,347085,7.775,,S\\r\\n556,0,1,\"Wright, Mr. George\",male,62,0,0,113807,26.55,,S\\r\\n557,1,1,\"Duff Gordon, Lady. (Lucille Christiana Sutherland) (\"\"Mrs Morgan\"\")\",female,48,1,0,11755,39.6,A16,C\\r\\n558,0,1,\"Robbins, Mr. Victor\",male,,0,0,PC 17757,227.525,,C\\r\\n559,1,1,\"Taussig, Mrs. Emil (Tillie Mandelbaum)\",female,39,1,1,110413,79.65,E67,S\\r\\n560,1,3,\"de Messemaeker, Mrs. Guillaume Joseph (Emma)\",female,36,1,0,345572,17.4,,S\\r\\n561,0,3,\"Morrow, Mr. Thomas Rowan\",male,,0,0,372622,7.75,,Q\\r\\n562,0,3,\"Sivic, Mr. Husein\",male,40,0,0,349251,7.8958,,S\\r\\n563,0,2,\"Norman, Mr. Robert Douglas\",male,28,0,0,218629,13.5,,S\\r\\n564,0,3,\"Simmons, Mr. John\",male,,0,0,SOTON/OQ 392082,8.05,,S\\r\\n565,0,3,\"Meanwell, Miss. (Marion Ogden)\",female,,0,0,SOTON/O.Q. 392087,8.05,,S\\r\\n566,0,3,\"Davies, Mr. Alfred J\",male,24,2,0,A/4 48871,24.15,,S\\r\\n567,0,3,\"Stoytcheff, Mr. Ilia\",male,19,0,0,349205,7.8958,,S\\r\\n568,0,3,\"Palsson, Mrs. Nils (Alma Cornelia Berglund)\",female,29,0,4,349909,21.075,,S\\r\\n569,0,3,\"Doharr, Mr. Tannous\",male,,0,0,2686,7.2292,,C\\r\\n570,1,3,\"Jonsson, Mr. Carl\",male,32,0,0,350417,7.8542,,S\\r\\n571,1,2,\"Harris, Mr. George\",male,62,0,0,S.W./PP 752,10.5,,S\\r\\n572,1,1,\"Appleton, Mrs. Edward Dale (Charlotte Lamson)\",female,53,2,0,11769,51.4792,C101,S\\r\\n573,1,1,\"Flynn, Mr. John Irwin (\"\"Irving\"\")\",male,36,0,0,PC 17474,26.3875,E25,S\\r\\n574,1,3,\"Kelly, Miss. Mary\",female,,0,0,14312,7.75,,Q\\r\\n575,0,3,\"Rush, Mr. Alfred George John\",male,16,0,0,A/4. 20589,8.05,,S\\r\\n576,0,3,\"Patchett, Mr. George\",male,19,0,0,358585,14.5,,S\\r\\n577,1,2,\"Garside, Miss. Ethel\",female,34,0,0,243880,13,,S\\r\\n578,1,1,\"Silvey, Mrs. William Baird (Alice Munger)\",female,39,1,0,13507,55.9,E44,S\\r\\n579,0,3,\"Caram, Mrs. Joseph (Maria Elias)\",female,,1,0,2689,14.4583,,C\\r\\n580,1,3,\"Jussila, Mr. Eiriik\",male,32,0,0,STON/O 2. 3101286,7.925,,S\\r\\n581,1,2,\"Christy, Miss. Julie Rachel\",female,25,1,1,237789,30,,S\\r\\n582,1,1,\"Thayer, Mrs. John Borland (Marian Longstreth Morris)\",female,39,1,1,17421,110.8833,C68,C\\r\\n583,0,2,\"Downton, Mr. William James\",male,54,0,0,28403,26,,S\\r\\n584,0,1,\"Ross, Mr. John Hugo\",male,36,0,0,13049,40.125,A10,C\\r\\n585,0,3,\"Paulner, Mr. Uscher\",male,,0,0,3411,8.7125,,C\\r\\n586,1,1,\"Taussig, Miss. Ruth\",female,18,0,2,110413,79.65,E68,S\\r\\n587,0,2,\"Jarvis, Mr. John Denzil\",male,47,0,0,237565,15,,S\\r\\n588,1,1,\"Frolicher-Stehli, Mr. Maxmillian\",male,60,1,1,13567,79.2,B41,C\\r\\n589,0,3,\"Gilinski, Mr. Eliezer\",male,22,0,0,14973,8.05,,S\\r\\n590,0,3,\"Murdlin, Mr. Joseph\",male,,0,0,A./5. 3235,8.05,,S\\r\\n591,0,3,\"Rintamaki, Mr. Matti\",male,35,0,0,STON/O 2. 3101273,7.125,,S\\r\\n592,1,1,\"Stephenson, Mrs. Walter Bertram (Martha Eustis)\",female,52,1,0,36947,78.2667,D20,C\\r\\n593,0,3,\"Elsbury, Mr. William James\",male,47,0,0,A/5 3902,7.25,,S\\r\\n594,0,3,\"Bourke, Miss. Mary\",female,,0,2,364848,7.75,,Q\\r\\n595,0,2,\"Chapman, Mr. John Henry\",male,37,1,0,SC/AH 29037,26,,S\\r\\n596,0,3,\"Van Impe, Mr. Jean Baptiste\",male,36,1,1,345773,24.15,,S\\r\\n597,1,2,\"Leitch, Miss. Jessie Wills\",female,,0,0,248727,33,,S\\r\\n598,0,3,\"Johnson, Mr. Alfred\",male,49,0,0,LINE,0,,S\\r\\n599,0,3,\"Boulos, Mr. Hanna\",male,,0,0,2664,7.225,,C\\r\\n600,1,1,\"Duff Gordon, Sir. Cosmo Edmund (\"\"Mr Morgan\"\")\",male,49,1,0,PC 17485,56.9292,A20,C\\r\\n601,1,2,\"Jacobsohn, Mrs. Sidney Samuel (Amy Frances Christy)\",female,24,2,1,243847,27,,S\\r\\n602,0,3,\"Slabenoff, Mr. Petco\",male,,0,0,349214,7.8958,,S\\r\\n603,0,1,\"Harrington, Mr. Charles H\",male,,0,0,113796,42.4,,S\\r\\n604,0,3,\"Torber, Mr. Ernst William\",male,44,0,0,364511,8.05,,S\\r\\n605,1,1,\"Homer, Mr. Harry (\"\"Mr E Haven\"\")\",male,35,0,0,111426,26.55,,C\\r\\n606,0,3,\"Lindell, Mr. Edvard Bengtsson\",male,36,1,0,349910,15.55,,S\\r\\n607,0,3,\"Karaic, Mr. Milan\",male,30,0,0,349246,7.8958,,S\\r\\n608,1,1,\"Daniel, Mr. Robert Williams\",male,27,0,0,113804,30.5,,S\\r\\n609,1,2,\"Laroche, Mrs. Joseph (Juliette Marie Louise Lafargue)\",female,22,1,2,SC/Paris 2123,41.5792,,C\\r\\n610,1,1,\"Shutes, Miss. Elizabeth W\",female,40,0,0,PC 17582,153.4625,C125,S\\r\\n611,0,3,\"Andersson, Mrs. Anders Johan (Alfrida Konstantia Brogren)\",female,39,1,5,347082,31.275,,S\\r\\n612,0,3,\"Jardin, Mr. Jose Neto\",male,,0,0,SOTON/O.Q. 3101305,7.05,,S\\r\\n613,1,3,\"Murphy, Miss. Margaret Jane\",female,,1,0,367230,15.5,,Q\\r\\n614,0,3,\"Horgan, Mr. John\",male,,0,0,370377,7.75,,Q\\r\\n615,0,3,\"Brocklebank, Mr. William Alfred\",male,35,0,0,364512,8.05,,S\\r\\n616,1,2,\"Herman, Miss. Alice\",female,24,1,2,220845,65,,S\\r\\n617,0,3,\"Danbom, Mr. Ernst Gilbert\",male,34,1,1,347080,14.4,,S\\r\\n618,0,3,\"Lobb, Mrs. William Arthur (Cordelia K Stanlick)\",female,26,1,0,A/5. 3336,16.1,,S\\r\\n619,1,2,\"Becker, Miss. Marion Louise\",female,4,2,1,230136,39,F4,S\\r\\n620,0,2,\"Gavey, Mr. Lawrence\",male,26,0,0,31028,10.5,,S\\r\\n621,0,3,\"Yasbeck, Mr. Antoni\",male,27,1,0,2659,14.4542,,C\\r\\n622,1,1,\"Kimball, Mr. Edwin Nelson Jr\",male,42,1,0,11753,52.5542,D19,S\\r\\n623,1,3,\"Nakid, Mr. Sahid\",male,20,1,1,2653,15.7417,,C\\r\\n624,0,3,\"Hansen, Mr. Henry Damsgaard\",male,21,0,0,350029,7.8542,,S\\r\\n625,0,3,\"Bowen, Mr. David John \"\"Dai\"\"\",male,21,0,0,54636,16.1,,S\\r\\n626,0,1,\"Sutton, Mr. Frederick\",male,61,0,0,36963,32.3208,D50,S\\r\\n627,0,2,\"Kirkland, Rev. Charles Leonard\",male,57,0,0,219533,12.35,,Q\\r\\n628,1,1,\"Longley, Miss. Gretchen Fiske\",female,21,0,0,13502,77.9583,D9,S\\r\\n629,0,3,\"Bostandyeff, Mr. Guentcho\",male,26,0,0,349224,7.8958,,S\\r\\n630,0,3,\"O\\'Connell, Mr. Patrick D\",male,,0,0,334912,7.7333,,Q\\r\\n631,1,1,\"Barkworth, Mr. Algernon Henry Wilson\",male,80,0,0,27042,30,A23,S\\r\\n632,0,3,\"Lundahl, Mr. Johan Svensson\",male,51,0,0,347743,7.0542,,S\\r\\n633,1,1,\"Stahelin-Maeglin, Dr. Max\",male,32,0,0,13214,30.5,B50,C\\r\\n634,0,1,\"Parr, Mr. William Henry Marsh\",male,,0,0,112052,0,,S\\r\\n635,0,3,\"Skoog, Miss. Mabel\",female,9,3,2,347088,27.9,,S\\r\\n636,1,2,\"Davis, Miss. Mary\",female,28,0,0,237668,13,,S\\r\\n637,0,3,\"Leinonen, Mr. Antti Gustaf\",male,32,0,0,STON/O 2. 3101292,7.925,,S\\r\\n638,0,2,\"Collyer, Mr. Harvey\",male,31,1,1,C.A. 31921,26.25,,S\\r\\n639,0,3,\"Panula, Mrs. Juha (Maria Emilia Ojala)\",female,41,0,5,3101295,39.6875,,S\\r\\n640,0,3,\"Thorneycroft, Mr. Percival\",male,,1,0,376564,16.1,,S\\r\\n641,0,3,\"Jensen, Mr. Hans Peder\",male,20,0,0,350050,7.8542,,S\\r\\n642,1,1,\"Sagesser, Mlle. Emma\",female,24,0,0,PC 17477,69.3,B35,C\\r\\n643,0,3,\"Skoog, Miss. Margit Elizabeth\",female,2,3,2,347088,27.9,,S\\r\\n644,1,3,\"Foo, Mr. Choong\",male,,0,0,1601,56.4958,,S\\r\\n645,1,3,\"Baclini, Miss. Eugenie\",female,0.75,2,1,2666,19.2583,,C\\r\\n646,1,1,\"Harper, Mr. Henry Sleeper\",male,48,1,0,PC 17572,76.7292,D33,C\\r\\n647,0,3,\"Cor, Mr. Liudevit\",male,19,0,0,349231,7.8958,,S\\r\\n648,1,1,\"Simonius-Blumer, Col. Oberst Alfons\",male,56,0,0,13213,35.5,A26,C\\r\\n649,0,3,\"Willey, Mr. Edward\",male,,0,0,S.O./P.P. 751,7.55,,S\\r\\n650,1,3,\"Stanley, Miss. Amy Zillah Elsie\",female,23,0,0,CA. 2314,7.55,,S\\r\\n651,0,3,\"Mitkoff, Mr. Mito\",male,,0,0,349221,7.8958,,S\\r\\n652,1,2,\"Doling, Miss. Elsie\",female,18,0,1,231919,23,,S\\r\\n653,0,3,\"Kalvik, Mr. Johannes Halvorsen\",male,21,0,0,8475,8.4333,,S\\r\\n654,1,3,\"O\\'Leary, Miss. Hanora \"\"Norah\"\"\",female,,0,0,330919,7.8292,,Q\\r\\n655,0,3,\"Hegarty, Miss. Hanora \"\"Nora\"\"\",female,18,0,0,365226,6.75,,Q\\r\\n656,0,2,\"Hickman, Mr. Leonard Mark\",male,24,2,0,S.O.C. 14879,73.5,,S\\r\\n657,0,3,\"Radeff, Mr. Alexander\",male,,0,0,349223,7.8958,,S\\r\\n658,0,3,\"Bourke, Mrs. John (Catherine)\",female,32,1,1,364849,15.5,,Q\\r\\n659,0,2,\"Eitemiller, Mr. George Floyd\",male,23,0,0,29751,13,,S\\r\\n660,0,1,\"Newell, Mr. Arthur Webster\",male,58,0,2,35273,113.275,D48,C\\r\\n661,1,1,\"Frauenthal, Dr. Henry William\",male,50,2,0,PC 17611,133.65,,S\\r\\n662,0,3,\"Badt, Mr. Mohamed\",male,40,0,0,2623,7.225,,C\\r\\n663,0,1,\"Colley, Mr. Edward Pomeroy\",male,47,0,0,5727,25.5875,E58,S\\r\\n664,0,3,\"Coleff, Mr. Peju\",male,36,0,0,349210,7.4958,,S\\r\\n665,1,3,\"Lindqvist, Mr. Eino William\",male,20,1,0,STON/O 2. 3101285,7.925,,S\\r\\n666,0,2,\"Hickman, Mr. Lewis\",male,32,2,0,S.O.C. 14879,73.5,,S\\r\\n667,0,2,\"Butler, Mr. Reginald Fenton\",male,25,0,0,234686,13,,S\\r\\n668,0,3,\"Rommetvedt, Mr. Knud Paust\",male,,0,0,312993,7.775,,S\\r\\n669,0,3,\"Cook, Mr. Jacob\",male,43,0,0,A/5 3536,8.05,,S\\r\\n670,1,1,\"Taylor, Mrs. Elmer Zebley (Juliet Cummins Wright)\",female,,1,0,19996,52,C126,S\\r\\n671,1,2,\"Brown, Mrs. Thomas William Solomon (Elizabeth Catherine Ford)\",female,40,1,1,29750,39,,S\\r\\n672,0,1,\"Davidson, Mr. Thornton\",male,31,1,0,F.C. 12750,52,B71,S\\r\\n673,0,2,\"Mitchell, Mr. Henry Michael\",male,70,0,0,C.A. 24580,10.5,,S\\r\\n674,1,2,\"Wilhelms, Mr. Charles\",male,31,0,0,244270,13,,S\\r\\n675,0,2,\"Watson, Mr. Ennis Hastings\",male,,0,0,239856,0,,S\\r\\n676,0,3,\"Edvardsson, Mr. Gustaf Hjalmar\",male,18,0,0,349912,7.775,,S\\r\\n677,0,3,\"Sawyer, Mr. Frederick Charles\",male,24.5,0,0,342826,8.05,,S\\r\\n678,1,3,\"Turja, Miss. Anna Sofia\",female,18,0,0,4138,9.8417,,S\\r\\n679,0,3,\"Goodwin, Mrs. Frederick (Augusta Tyler)\",female,43,1,6,CA 2144,46.9,,S\\r\\n680,1,1,\"Cardeza, Mr. Thomas Drake Martinez\",male,36,0,1,PC 17755,512.3292,B51 B53 B55,C\\r\\n681,0,3,\"Peters, Miss. Katie\",female,,0,0,330935,8.1375,,Q\\r\\n682,1,1,\"Hassab, Mr. Hammad\",male,27,0,0,PC 17572,76.7292,D49,C\\r\\n683,0,3,\"Olsvigen, Mr. Thor Anderson\",male,20,0,0,6563,9.225,,S\\r\\n684,0,3,\"Goodwin, Mr. Charles Edward\",male,14,5,2,CA 2144,46.9,,S\\r\\n685,0,2,\"Brown, Mr. Thomas William Solomon\",male,60,1,1,29750,39,,S\\r\\n686,0,2,\"Laroche, Mr. Joseph Philippe Lemercier\",male,25,1,2,SC/Paris 2123,41.5792,,C\\r\\n687,0,3,\"Panula, Mr. Jaako Arnold\",male,14,4,1,3101295,39.6875,,S\\r\\n688,0,3,\"Dakic, Mr. Branko\",male,19,0,0,349228,10.1708,,S\\r\\n689,0,3,\"Fischer, Mr. Eberhard Thelander\",male,18,0,0,350036,7.7958,,S\\r\\n690,1,1,\"Madill, Miss. Georgette Alexandra\",female,15,0,1,24160,211.3375,B5,S\\r\\n691,1,1,\"Dick, Mr. Albert Adrian\",male,31,1,0,17474,57,B20,S\\r\\n692,1,3,\"Karun, Miss. Manca\",female,4,0,1,349256,13.4167,,C\\r\\n693,1,3,\"Lam, Mr. Ali\",male,,0,0,1601,56.4958,,S\\r\\n694,0,3,\"Saad, Mr. Khalil\",male,25,0,0,2672,7.225,,C\\r\\n695,0,1,\"Weir, Col. John\",male,60,0,0,113800,26.55,,S\\r\\n696,0,2,\"Chapman, Mr. Charles Henry\",male,52,0,0,248731,13.5,,S\\r\\n697,0,3,\"Kelly, Mr. James\",male,44,0,0,363592,8.05,,S\\r\\n698,1,3,\"Mullens, Miss. Katherine \"\"Katie\"\"\",female,,0,0,35852,7.7333,,Q\\r\\n699,0,1,\"Thayer, Mr. John Borland\",male,49,1,1,17421,110.8833,C68,C\\r\\n700,0,3,\"Humblen, Mr. Adolf Mathias Nicolai Olsen\",male,42,0,0,348121,7.65,F G63,S\\r\\n701,1,1,\"Astor, Mrs. John Jacob (Madeleine Talmadge Force)\",female,18,1,0,PC 17757,227.525,C62 C64,C\\r\\n702,1,1,\"Silverthorne, Mr. Spencer Victor\",male,35,0,0,PC 17475,26.2875,E24,S\\r\\n703,0,3,\"Barbara, Miss. Saiide\",female,18,0,1,2691,14.4542,,C\\r\\n704,0,3,\"Gallagher, Mr. Martin\",male,25,0,0,36864,7.7417,,Q\\r\\n705,0,3,\"Hansen, Mr. Henrik Juul\",male,26,1,0,350025,7.8542,,S\\r\\n706,0,2,\"Morley, Mr. Henry Samuel (\"\"Mr Henry Marshall\"\")\",male,39,0,0,250655,26,,S\\r\\n707,1,2,\"Kelly, Mrs. Florence \"\"Fannie\"\"\",female,45,0,0,223596,13.5,,S\\r\\n708,1,1,\"Calderhead, Mr. Edward Pennington\",male,42,0,0,PC 17476,26.2875,E24,S\\r\\n709,1,1,\"Cleaver, Miss. Alice\",female,22,0,0,113781,151.55,,S\\r\\n710,1,3,\"Moubarek, Master. Halim Gonios (\"\"William George\"\")\",male,,1,1,2661,15.2458,,C\\r\\n711,1,1,\"Mayne, Mlle. Berthe Antonine (\"\"Mrs de Villiers\"\")\",female,24,0,0,PC 17482,49.5042,C90,C\\r\\n712,0,1,\"Klaber, Mr. Herman\",male,,0,0,113028,26.55,C124,S\\r\\n713,1,1,\"Taylor, Mr. Elmer Zebley\",male,48,1,0,19996,52,C126,S\\r\\n714,0,3,\"Larsson, Mr. August Viktor\",male,29,0,0,7545,9.4833,,S\\r\\n715,0,2,\"Greenberg, Mr. Samuel\",male,52,0,0,250647,13,,S\\r\\n716,0,3,\"Soholt, Mr. Peter Andreas Lauritz Andersen\",male,19,0,0,348124,7.65,F G73,S\\r\\n717,1,1,\"Endres, Miss. Caroline Louise\",female,38,0,0,PC 17757,227.525,C45,C\\r\\n718,1,2,\"Troutt, Miss. Edwina Celia \"\"Winnie\"\"\",female,27,0,0,34218,10.5,E101,S\\r\\n719,0,3,\"McEvoy, Mr. Michael\",male,,0,0,36568,15.5,,Q\\r\\n720,0,3,\"Johnson, Mr. Malkolm Joackim\",male,33,0,0,347062,7.775,,S\\r\\n721,1,2,\"Harper, Miss. Annie Jessie \"\"Nina\"\"\",female,6,0,1,248727,33,,S\\r\\n722,0,3,\"Jensen, Mr. Svend Lauritz\",male,17,1,0,350048,7.0542,,S\\r\\n723,0,2,\"Gillespie, Mr. William Henry\",male,34,0,0,12233,13,,S\\r\\n724,0,2,\"Hodges, Mr. Henry Price\",male,50,0,0,250643,13,,S\\r\\n725,1,1,\"Chambers, Mr. Norman Campbell\",male,27,1,0,113806,53.1,E8,S\\r\\n726,0,3,\"Oreskovic, Mr. Luka\",male,20,0,0,315094,8.6625,,S\\r\\n727,1,2,\"Renouf, Mrs. Peter Henry (Lillian Jefferys)\",female,30,3,0,31027,21,,S\\r\\n728,1,3,\"Mannion, Miss. Margareth\",female,,0,0,36866,7.7375,,Q\\r\\n729,0,2,\"Bryhl, Mr. Kurt Arnold Gottfrid\",male,25,1,0,236853,26,,S\\r\\n730,0,3,\"Ilmakangas, Miss. Pieta Sofia\",female,25,1,0,STON/O2. 3101271,7.925,,S\\r\\n731,1,1,\"Allen, Miss. Elisabeth Walton\",female,29,0,0,24160,211.3375,B5,S\\r\\n732,0,3,\"Hassan, Mr. Houssein G N\",male,11,0,0,2699,18.7875,,C\\r\\n733,0,2,\"Knight, Mr. Robert J\",male,,0,0,239855,0,,S\\r\\n734,0,2,\"Berriman, Mr. William John\",male,23,0,0,28425,13,,S\\r\\n735,0,2,\"Troupiansky, Mr. Moses Aaron\",male,23,0,0,233639,13,,S\\r\\n736,0,3,\"Williams, Mr. Leslie\",male,28.5,0,0,54636,16.1,,S\\r\\n737,0,3,\"Ford, Mrs. Edward (Margaret Ann Watson)\",female,48,1,3,W./C. 6608,34.375,,S\\r\\n738,1,1,\"Lesurer, Mr. Gustave J\",male,35,0,0,PC 17755,512.3292,B101,C\\r\\n739,0,3,\"Ivanoff, Mr. Kanio\",male,,0,0,349201,7.8958,,S\\r\\n740,0,3,\"Nankoff, Mr. Minko\",male,,0,0,349218,7.8958,,S\\r\\n741,1,1,\"Hawksford, Mr. Walter James\",male,,0,0,16988,30,D45,S\\r\\n742,0,1,\"Cavendish, Mr. Tyrell William\",male,36,1,0,19877,78.85,C46,S\\r\\n743,1,1,\"Ryerson, Miss. Susan Parker \"\"Suzette\"\"\",female,21,2,2,PC 17608,262.375,B57 B59 B63 B66,C\\r\\n744,0,3,\"McNamee, Mr. Neal\",male,24,1,0,376566,16.1,,S\\r\\n745,1,3,\"Stranden, Mr. Juho\",male,31,0,0,STON/O 2. 3101288,7.925,,S\\r\\n746,0,1,\"Crosby, Capt. Edward Gifford\",male,70,1,1,WE/P 5735,71,B22,S\\r\\n747,0,3,\"Abbott, Mr. Rossmore Edward\",male,16,1,1,C.A. 2673,20.25,,S\\r\\n748,1,2,\"Sinkkonen, Miss. Anna\",female,30,0,0,250648,13,,S\\r\\n749,0,1,\"Marvin, Mr. Daniel Warner\",male,19,1,0,113773,53.1,D30,S\\r\\n750,0,3,\"Connaghton, Mr. Michael\",male,31,0,0,335097,7.75,,Q\\r\\n751,1,2,\"Wells, Miss. Joan\",female,4,1,1,29103,23,,S\\r\\n752,1,3,\"Moor, Master. Meier\",male,6,0,1,392096,12.475,E121,S\\r\\n753,0,3,\"Vande Velde, Mr. Johannes Joseph\",male,33,0,0,345780,9.5,,S\\r\\n754,0,3,\"Jonkoff, Mr. Lalio\",male,23,0,0,349204,7.8958,,S\\r\\n755,1,2,\"Herman, Mrs. Samuel (Jane Laver)\",female,48,1,2,220845,65,,S\\r\\n756,1,2,\"Hamalainen, Master. Viljo\",male,0.67,1,1,250649,14.5,,S\\r\\n757,0,3,\"Carlsson, Mr. August Sigfrid\",male,28,0,0,350042,7.7958,,S\\r\\n758,0,2,\"Bailey, Mr. Percy Andrew\",male,18,0,0,29108,11.5,,S\\r\\n759,0,3,\"Theobald, Mr. Thomas Leonard\",male,34,0,0,363294,8.05,,S\\r\\n760,1,1,\"Rothes, the Countess. of (Lucy Noel Martha Dyer-Edwards)\",female,33,0,0,110152,86.5,B77,S\\r\\n761,0,3,\"Garfirth, Mr. John\",male,,0,0,358585,14.5,,S\\r\\n762,0,3,\"Nirva, Mr. Iisakki Antino Aijo\",male,41,0,0,SOTON/O2 3101272,7.125,,S\\r\\n763,1,3,\"Barah, Mr. Hanna Assi\",male,20,0,0,2663,7.2292,,C\\r\\n764,1,1,\"Carter, Mrs. William Ernest (Lucile Polk)\",female,36,1,2,113760,120,B96 B98,S\\r\\n765,0,3,\"Eklund, Mr. Hans Linus\",male,16,0,0,347074,7.775,,S\\r\\n766,1,1,\"Hogeboom, Mrs. John C (Anna Andrews)\",female,51,1,0,13502,77.9583,D11,S\\r\\n767,0,1,\"Brewe, Dr. Arthur Jackson\",male,,0,0,112379,39.6,,C\\r\\n768,0,3,\"Mangan, Miss. Mary\",female,30.5,0,0,364850,7.75,,Q\\r\\n769,0,3,\"Moran, Mr. Daniel J\",male,,1,0,371110,24.15,,Q\\r\\n770,0,3,\"Gronnestad, Mr. Daniel Danielsen\",male,32,0,0,8471,8.3625,,S\\r\\n771,0,3,\"Lievens, Mr. Rene Aime\",male,24,0,0,345781,9.5,,S\\r\\n772,0,3,\"Jensen, Mr. Niels Peder\",male,48,0,0,350047,7.8542,,S\\r\\n773,0,2,\"Mack, Mrs. (Mary)\",female,57,0,0,S.O./P.P. 3,10.5,E77,S\\r\\n774,0,3,\"Elias, Mr. Dibo\",male,,0,0,2674,7.225,,C\\r\\n775,1,2,\"Hocking, Mrs. Elizabeth (Eliza Needs)\",female,54,1,3,29105,23,,S\\r\\n776,0,3,\"Myhrman, Mr. Pehr Fabian Oliver Malkolm\",male,18,0,0,347078,7.75,,S\\r\\n777,0,3,\"Tobin, Mr. Roger\",male,,0,0,383121,7.75,F38,Q\\r\\n778,1,3,\"Emanuel, Miss. Virginia Ethel\",female,5,0,0,364516,12.475,,S\\r\\n779,0,3,\"Kilgannon, Mr. Thomas J\",male,,0,0,36865,7.7375,,Q\\r\\n780,1,1,\"Robert, Mrs. Edward Scott (Elisabeth Walton McMillan)\",female,43,0,1,24160,211.3375,B3,S\\r\\n781,1,3,\"Ayoub, Miss. Banoura\",female,13,0,0,2687,7.2292,,C\\r\\n782,1,1,\"Dick, Mrs. Albert Adrian (Vera Gillespie)\",female,17,1,0,17474,57,B20,S\\r\\n783,0,1,\"Long, Mr. Milton Clyde\",male,29,0,0,113501,30,D6,S\\r\\n784,0,3,\"Johnston, Mr. Andrew G\",male,,1,2,W./C. 6607,23.45,,S\\r\\n785,0,3,\"Ali, Mr. William\",male,25,0,0,SOTON/O.Q. 3101312,7.05,,S\\r\\n786,0,3,\"Harmer, Mr. Abraham (David Lishin)\",male,25,0,0,374887,7.25,,S\\r\\n787,1,3,\"Sjoblom, Miss. Anna Sofia\",female,18,0,0,3101265,7.4958,,S\\r\\n788,0,3,\"Rice, Master. George Hugh\",male,8,4,1,382652,29.125,,Q\\r\\n789,1,3,\"Dean, Master. Bertram Vere\",male,1,1,2,C.A. 2315,20.575,,S\\r\\n790,0,1,\"Guggenheim, Mr. Benjamin\",male,46,0,0,PC 17593,79.2,B82 B84,C\\r\\n791,0,3,\"Keane, Mr. Andrew \"\"Andy\"\"\",male,,0,0,12460,7.75,,Q\\r\\n792,0,2,\"Gaskell, Mr. Alfred\",male,16,0,0,239865,26,,S\\r\\n793,0,3,\"Sage, Miss. Stella Anna\",female,,8,2,CA. 2343,69.55,,S\\r\\n794,0,1,\"Hoyt, Mr. William Fisher\",male,,0,0,PC 17600,30.6958,,C\\r\\n795,0,3,\"Dantcheff, Mr. Ristiu\",male,25,0,0,349203,7.8958,,S\\r\\n796,0,2,\"Otter, Mr. Richard\",male,39,0,0,28213,13,,S\\r\\n797,1,1,\"Leader, Dr. Alice (Farnham)\",female,49,0,0,17465,25.9292,D17,S\\r\\n798,1,3,\"Osman, Mrs. Mara\",female,31,0,0,349244,8.6833,,S\\r\\n799,0,3,\"Ibrahim Shawah, Mr. Yousseff\",male,30,0,0,2685,7.2292,,C\\r\\n800,0,3,\"Van Impe, Mrs. Jean Baptiste (Rosalie Paula Govaert)\",female,30,1,1,345773,24.15,,S\\r\\n801,0,2,\"Ponesell, Mr. Martin\",male,34,0,0,250647,13,,S\\r\\n802,1,2,\"Collyer, Mrs. Harvey (Charlotte Annie Tate)\",female,31,1,1,C.A. 31921,26.25,,S\\r\\n803,1,1,\"Carter, Master. William Thornton II\",male,11,1,2,113760,120,B96 B98,S\\r\\n804,1,3,\"Thomas, Master. Assad Alexander\",male,0.42,0,1,2625,8.5167,,C\\r\\n805,1,3,\"Hedman, Mr. Oskar Arvid\",male,27,0,0,347089,6.975,,S\\r\\n806,0,3,\"Johansson, Mr. Karl Johan\",male,31,0,0,347063,7.775,,S\\r\\n807,0,1,\"Andrews, Mr. Thomas Jr\",male,39,0,0,112050,0,A36,S\\r\\n808,0,3,\"Pettersson, Miss. Ellen Natalia\",female,18,0,0,347087,7.775,,S\\r\\n809,0,2,\"Meyer, Mr. August\",male,39,0,0,248723,13,,S\\r\\n810,1,1,\"Chambers, Mrs. Norman Campbell (Bertha Griggs)\",female,33,1,0,113806,53.1,E8,S\\r\\n811,0,3,\"Alexander, Mr. William\",male,26,0,0,3474,7.8875,,S\\r\\n812,0,3,\"Lester, Mr. James\",male,39,0,0,A/4 48871,24.15,,S\\r\\n813,0,2,\"Slemen, Mr. Richard James\",male,35,0,0,28206,10.5,,S\\r\\n814,0,3,\"Andersson, Miss. Ebba Iris Alfrida\",female,6,4,2,347082,31.275,,S\\r\\n815,0,3,\"Tomlin, Mr. Ernest Portage\",male,30.5,0,0,364499,8.05,,S\\r\\n816,0,1,\"Fry, Mr. Richard\",male,,0,0,112058,0,B102,S\\r\\n817,0,3,\"Heininen, Miss. Wendla Maria\",female,23,0,0,STON/O2. 3101290,7.925,,S\\r\\n818,0,2,\"Mallet, Mr. Albert\",male,31,1,1,S.C./PARIS 2079,37.0042,,C\\r\\n819,0,3,\"Holm, Mr. John Fredrik Alexander\",male,43,0,0,C 7075,6.45,,S\\r\\n820,0,3,\"Skoog, Master. Karl Thorsten\",male,10,3,2,347088,27.9,,S\\r\\n821,1,1,\"Hays, Mrs. Charles Melville (Clara Jennings Gregg)\",female,52,1,1,12749,93.5,B69,S\\r\\n822,1,3,\"Lulic, Mr. Nikola\",male,27,0,0,315098,8.6625,,S\\r\\n823,0,1,\"Reuchlin, Jonkheer. John George\",male,38,0,0,19972,0,,S\\r\\n824,1,3,\"Moor, Mrs. (Beila)\",female,27,0,1,392096,12.475,E121,S\\r\\n825,0,3,\"Panula, Master. Urho Abraham\",male,2,4,1,3101295,39.6875,,S\\r\\n826,0,3,\"Flynn, Mr. John\",male,,0,0,368323,6.95,,Q\\r\\n827,0,3,\"Lam, Mr. Len\",male,,0,0,1601,56.4958,,S\\r\\n828,1,2,\"Mallet, Master. Andre\",male,1,0,2,S.C./PARIS 2079,37.0042,,C\\r\\n829,1,3,\"McCormack, Mr. Thomas Joseph\",male,,0,0,367228,7.75,,Q\\r\\n830,1,1,\"Stone, Mrs. George Nelson (Martha Evelyn)\",female,62,0,0,113572,80,B28,\\r\\n831,1,3,\"Yasbeck, Mrs. Antoni (Selini Alexander)\",female,15,1,0,2659,14.4542,,C\\r\\n832,1,2,\"Richards, Master. George Sibley\",male,0.83,1,1,29106,18.75,,S\\r\\n833,0,3,\"Saad, Mr. Amin\",male,,0,0,2671,7.2292,,C\\r\\n834,0,3,\"Augustsson, Mr. Albert\",male,23,0,0,347468,7.8542,,S\\r\\n835,0,3,\"Allum, Mr. Owen George\",male,18,0,0,2223,8.3,,S\\r\\n836,1,1,\"Compton, Miss. Sara Rebecca\",female,39,1,1,PC 17756,83.1583,E49,C\\r\\n837,0,3,\"Pasic, Mr. Jakob\",male,21,0,0,315097,8.6625,,S\\r\\n838,0,3,\"Sirota, Mr. Maurice\",male,,0,0,392092,8.05,,S\\r\\n839,1,3,\"Chip, Mr. Chang\",male,32,0,0,1601,56.4958,,S\\r\\n840,1,1,\"Marechal, Mr. Pierre\",male,,0,0,11774,29.7,C47,C\\r\\n841,0,3,\"Alhomaki, Mr. Ilmari Rudolf\",male,20,0,0,SOTON/O2 3101287,7.925,,S\\r\\n842,0,2,\"Mudd, Mr. Thomas Charles\",male,16,0,0,S.O./P.P. 3,10.5,,S\\r\\n843,1,1,\"Serepeca, Miss. Augusta\",female,30,0,0,113798,31,,C\\r\\n844,0,3,\"Lemberopolous, Mr. Peter L\",male,34.5,0,0,2683,6.4375,,C\\r\\n845,0,3,\"Culumovic, Mr. Jeso\",male,17,0,0,315090,8.6625,,S\\r\\n846,0,3,\"Abbing, Mr. Anthony\",male,42,0,0,C.A. 5547,7.55,,S\\r\\n847,0,3,\"Sage, Mr. Douglas Bullen\",male,,8,2,CA. 2343,69.55,,S\\r\\n848,0,3,\"Markoff, Mr. Marin\",male,35,0,0,349213,7.8958,,C\\r\\n849,0,2,\"Harper, Rev. John\",male,28,0,1,248727,33,,S\\r\\n850,1,1,\"Goldenberg, Mrs. Samuel L (Edwiga Grabowska)\",female,,1,0,17453,89.1042,C92,C\\r\\n851,0,3,\"Andersson, Master. Sigvard Harald Elias\",male,4,4,2,347082,31.275,,S\\r\\n852,0,3,\"Svensson, Mr. Johan\",male,74,0,0,347060,7.775,,S\\r\\n853,0,3,\"Boulos, Miss. Nourelain\",female,9,1,1,2678,15.2458,,C\\r\\n854,1,1,\"Lines, Miss. Mary Conover\",female,16,0,1,PC 17592,39.4,D28,S\\r\\n855,0,2,\"Carter, Mrs. Ernest Courtenay (Lilian Hughes)\",female,44,1,0,244252,26,,S\\r\\n856,1,3,\"Aks, Mrs. Sam (Leah Rosen)\",female,18,0,1,392091,9.35,,S\\r\\n857,1,1,\"Wick, Mrs. George Dennick (Mary Hitchcock)\",female,45,1,1,36928,164.8667,,S\\r\\n858,1,1,\"Daly, Mr. Peter Denis \",male,51,0,0,113055,26.55,E17,S\\r\\n859,1,3,\"Baclini, Mrs. Solomon (Latifa Qurban)\",female,24,0,3,2666,19.2583,,C\\r\\n860,0,3,\"Razi, Mr. Raihed\",male,,0,0,2629,7.2292,,C\\r\\n861,0,3,\"Hansen, Mr. Claus Peter\",male,41,2,0,350026,14.1083,,S\\r\\n862,0,2,\"Giles, Mr. Frederick Edward\",male,21,1,0,28134,11.5,,S\\r\\n863,1,1,\"Swift, Mrs. Frederick Joel (Margaret Welles Barron)\",female,48,0,0,17466,25.9292,D17,S\\r\\n864,0,3,\"Sage, Miss. Dorothy Edith \"\"Dolly\"\"\",female,,8,2,CA. 2343,69.55,,S\\r\\n865,0,2,\"Gill, Mr. John William\",male,24,0,0,233866,13,,S\\r\\n866,1,2,\"Bystrom, Mrs. (Karolina)\",female,42,0,0,236852,13,,S\\r\\n867,1,2,\"Duran y More, Miss. Asuncion\",female,27,1,0,SC/PARIS 2149,13.8583,,C\\r\\n868,0,1,\"Roebling, Mr. Washington Augustus II\",male,31,0,0,PC 17590,50.4958,A24,S\\r\\n869,0,3,\"van Melkebeke, Mr. Philemon\",male,,0,0,345777,9.5,,S\\r\\n870,1,3,\"Johnson, Master. Harold Theodor\",male,4,1,1,347742,11.1333,,S\\r\\n871,0,3,\"Balkic, Mr. Cerin\",male,26,0,0,349248,7.8958,,S\\r\\n872,1,1,\"Beckwith, Mrs. Richard Leonard (Sallie Monypeny)\",female,47,1,1,11751,52.5542,D35,S\\r\\n873,0,1,\"Carlsson, Mr. Frans Olof\",male,33,0,0,695,5,B51 B53 B55,S\\r\\n874,0,3,\"Vander Cruyssen, Mr. Victor\",male,47,0,0,345765,9,,S\\r\\n875,1,2,\"Abelson, Mrs. Samuel (Hannah Wizosky)\",female,28,1,0,P/PP 3381,24,,C\\r\\n876,1,3,\"Najib, Miss. Adele Kiamie \"\"Jane\"\"\",female,15,0,0,2667,7.225,,C\\r\\n877,0,3,\"Gustafsson, Mr. Alfred Ossian\",male,20,0,0,7534,9.8458,,S\\r\\n878,0,3,\"Petroff, Mr. Nedelio\",male,19,0,0,349212,7.8958,,S\\r\\n879,0,3,\"Laleff, Mr. Kristo\",male,,0,0,349217,7.8958,,S\\r\\n880,1,1,\"Potter, Mrs. Thomas Jr (Lily Alexenia Wilson)\",female,56,0,1,11767,83.1583,C50,C\\r\\n881,1,2,\"Shelley, Mrs. William (Imanita Parrish Hall)\",female,25,0,1,230433,26,,S\\r\\n882,0,3,\"Markun, Mr. Johann\",male,33,0,0,349257,7.8958,,S\\r\\n883,0,3,\"Dahlberg, Miss. Gerda Ulrika\",female,22,0,0,7552,10.5167,,S\\r\\n884,0,2,\"Banfield, Mr. Frederick James\",male,28,0,0,C.A./SOTON 34068,10.5,,S\\r\\n885,0,3,\"Sutehall, Mr. Henry Jr\",male,25,0,0,SOTON/OQ 392076,7.05,,S\\r\\n886,0,3,\"Rice, Mrs. William (Margaret Norton)\",female,39,0,5,382652,29.125,,Q\\r\\n887,0,2,\"Montvila, Rev. Juozas\",male,27,0,0,211536,13,,S\\r\\n888,1,1,\"Graham, Miss. Margaret Edith\",female,19,0,0,112053,30,B42,S\\r\\n889,0,3,\"Johnston, Miss. Catherine Helen \"\"Carrie\"\"\",female,,1,2,W./C. 6607,23.45,,S\\r\\n890,1,1,\"Behr, Mr. Karl Howell\",male,26,0,0,111369,30,C148,C\\r\\n891,0,3,\"Dooley, Mr. Patrick\",male,32,0,0,370376,7.75,,Q\\r\\n'}"
            ]
          },
          "metadata": {
            "tags": []
          },
          "execution_count": 64
        }
      ]
    },
    {
      "cell_type": "code",
      "metadata": {
        "id": "1QiiQ_V3w3wr",
        "colab_type": "code",
        "outputId": "7b659b7e-fc75-4783-a3d4-326e2e3693ed",
        "colab": {
          "base_uri": "https://localhost:8080/",
          "height": 253
        }
      },
      "source": [
        "submit = pd.read_csv('gender_submission.csv', index_col='PassengerId')\n",
        "print(submit.shape)\n",
        "submit.head()"
      ],
      "execution_count": 65,
      "outputs": [
        {
          "output_type": "stream",
          "text": [
            "(418, 1)\n"
          ],
          "name": "stdout"
        },
        {
          "output_type": "execute_result",
          "data": {
            "text/html": [
              "<div>\n",
              "<style scoped>\n",
              "    .dataframe tbody tr th:only-of-type {\n",
              "        vertical-align: middle;\n",
              "    }\n",
              "\n",
              "    .dataframe tbody tr th {\n",
              "        vertical-align: top;\n",
              "    }\n",
              "\n",
              "    .dataframe thead th {\n",
              "        text-align: right;\n",
              "    }\n",
              "</style>\n",
              "<table border=\"1\" class=\"dataframe\">\n",
              "  <thead>\n",
              "    <tr style=\"text-align: right;\">\n",
              "      <th></th>\n",
              "      <th>Survived</th>\n",
              "    </tr>\n",
              "    <tr>\n",
              "      <th>PassengerId</th>\n",
              "      <th></th>\n",
              "    </tr>\n",
              "  </thead>\n",
              "  <tbody>\n",
              "    <tr>\n",
              "      <th>892</th>\n",
              "      <td>0</td>\n",
              "    </tr>\n",
              "    <tr>\n",
              "      <th>893</th>\n",
              "      <td>1</td>\n",
              "    </tr>\n",
              "    <tr>\n",
              "      <th>894</th>\n",
              "      <td>0</td>\n",
              "    </tr>\n",
              "    <tr>\n",
              "      <th>895</th>\n",
              "      <td>0</td>\n",
              "    </tr>\n",
              "    <tr>\n",
              "      <th>896</th>\n",
              "      <td>1</td>\n",
              "    </tr>\n",
              "  </tbody>\n",
              "</table>\n",
              "</div>"
            ],
            "text/plain": [
              "             Survived\n",
              "PassengerId          \n",
              "892                 0\n",
              "893                 1\n",
              "894                 0\n",
              "895                 0\n",
              "896                 1"
            ]
          },
          "metadata": {
            "tags": []
          },
          "execution_count": 65
        }
      ]
    },
    {
      "cell_type": "code",
      "metadata": {
        "id": "OL9XNXe4z3ri",
        "colab_type": "code",
        "colab": {}
      },
      "source": [
        "submit['Survived'] = model.predict(X_test)"
      ],
      "execution_count": 0,
      "outputs": []
    },
    {
      "cell_type": "code",
      "metadata": {
        "id": "Gn-d45yW0P9P",
        "colab_type": "code",
        "colab": {}
      },
      "source": [
        "submit.to_csv(\"submit.csv\")"
      ],
      "execution_count": 0,
      "outputs": []
    },
    {
      "cell_type": "code",
      "metadata": {
        "id": "VLbGrgzP01bv",
        "colab_type": "code",
        "colab": {}
      },
      "source": [
        "files.download(\"submit.csv\")"
      ],
      "execution_count": 0,
      "outputs": []
    },
    {
      "cell_type": "code",
      "metadata": {
        "id": "6Bk8sy8I07c7",
        "colab_type": "code",
        "outputId": "aac3534e-8403-45c6-fe82-e66def6aa069",
        "colab": {
          "base_uri": "https://localhost:8080/",
          "height": 35
        }
      },
      "source": [
        "train['Name'][1].split(\",\")[1].split(\".\")[0]"
      ],
      "execution_count": 69,
      "outputs": [
        {
          "output_type": "execute_result",
          "data": {
            "text/plain": [
              "' Mr'"
            ]
          },
          "metadata": {
            "tags": []
          },
          "execution_count": 69
        }
      ]
    },
    {
      "cell_type": "code",
      "metadata": {
        "id": "ODb1dpmEHQkA",
        "colab_type": "code",
        "colab": {}
      },
      "source": [
        "def title(name):\n",
        "  return name.split(\",\")[1].split(\".\")[0]\n"
      ],
      "execution_count": 0,
      "outputs": []
    },
    {
      "cell_type": "code",
      "metadata": {
        "id": "cE8NwgJqHb6t",
        "colab_type": "code",
        "colab": {}
      },
      "source": [
        "train['Title'] = train['Name'].apply(title)"
      ],
      "execution_count": 0,
      "outputs": []
    },
    {
      "cell_type": "code",
      "metadata": {
        "id": "uol3eu3PHldS",
        "colab_type": "code",
        "outputId": "f454233a-ccfb-4f5d-dc22-493c01295a8d",
        "colab": {
          "base_uri": "https://localhost:8080/",
          "height": 235
        }
      },
      "source": [
        "train[['Name','Title']].head()"
      ],
      "execution_count": 0,
      "outputs": [
        {
          "output_type": "execute_result",
          "data": {
            "text/html": [
              "<div>\n",
              "<style scoped>\n",
              "    .dataframe tbody tr th:only-of-type {\n",
              "        vertical-align: middle;\n",
              "    }\n",
              "\n",
              "    .dataframe tbody tr th {\n",
              "        vertical-align: top;\n",
              "    }\n",
              "\n",
              "    .dataframe thead th {\n",
              "        text-align: right;\n",
              "    }\n",
              "</style>\n",
              "<table border=\"1\" class=\"dataframe\">\n",
              "  <thead>\n",
              "    <tr style=\"text-align: right;\">\n",
              "      <th></th>\n",
              "      <th>Name</th>\n",
              "      <th>Title</th>\n",
              "    </tr>\n",
              "    <tr>\n",
              "      <th>PassengerId</th>\n",
              "      <th></th>\n",
              "      <th></th>\n",
              "    </tr>\n",
              "  </thead>\n",
              "  <tbody>\n",
              "    <tr>\n",
              "      <th>1</th>\n",
              "      <td>Braund, Mr. Owen Harris</td>\n",
              "      <td>Mr</td>\n",
              "    </tr>\n",
              "    <tr>\n",
              "      <th>2</th>\n",
              "      <td>Cumings, Mrs. John Bradley (Florence Briggs Th...</td>\n",
              "      <td>Mrs</td>\n",
              "    </tr>\n",
              "    <tr>\n",
              "      <th>3</th>\n",
              "      <td>Heikkinen, Miss. Laina</td>\n",
              "      <td>Miss</td>\n",
              "    </tr>\n",
              "    <tr>\n",
              "      <th>4</th>\n",
              "      <td>Futrelle, Mrs. Jacques Heath (Lily May Peel)</td>\n",
              "      <td>Mrs</td>\n",
              "    </tr>\n",
              "    <tr>\n",
              "      <th>5</th>\n",
              "      <td>Allen, Mr. William Henry</td>\n",
              "      <td>Mr</td>\n",
              "    </tr>\n",
              "  </tbody>\n",
              "</table>\n",
              "</div>"
            ],
            "text/plain": [
              "                                                          Name  Title\n",
              "PassengerId                                                          \n",
              "1                                      Braund, Mr. Owen Harris     Mr\n",
              "2            Cumings, Mrs. John Bradley (Florence Briggs Th...    Mrs\n",
              "3                                       Heikkinen, Miss. Laina   Miss\n",
              "4                 Futrelle, Mrs. Jacques Heath (Lily May Peel)    Mrs\n",
              "5                                     Allen, Mr. William Henry     Mr"
            ]
          },
          "metadata": {
            "tags": []
          },
          "execution_count": 64
        }
      ]
    },
    {
      "cell_type": "code",
      "metadata": {
        "id": "UErUCzUqHrvf",
        "colab_type": "code",
        "colab": {}
      },
      "source": [
        ""
      ],
      "execution_count": 0,
      "outputs": []
    }
  ]
}